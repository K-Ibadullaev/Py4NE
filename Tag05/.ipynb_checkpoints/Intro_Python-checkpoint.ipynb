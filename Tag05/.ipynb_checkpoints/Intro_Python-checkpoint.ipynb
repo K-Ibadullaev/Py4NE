{
 "cells": [
  {
   "cell_type": "markdown",
   "metadata": {
    "ipub": {
     "titlepage": {
      "author": "MSc. Roy Morgenstern",
      "email": "roy.morgenstern@ifgt.tu-freiberg.de",
      "institution": [
       "TU Bergakademie Freiberg",
       "Institut für Geotechnik"
      ],
      "logo": "../images/Logo_FM_neu.png",
      "title": "Introduction into Python for geotechnical engineers"
     }
    },
    "slideshow": {
     "slide_type": "slide"
    }
   },
   "source": [
    "# Introduction into Python for geotechnical engineers\n",
    "\n",
    "***Outline for today***\n",
    "\n",
    "1. Python - What is it and how to get it?\n",
    "2. Programming paradigms\n",
    "3. Basic programming tasks\n",
    "4. Object oriented programming\n",
    "5. Scientific programming\n",
    "6. Special tasks"
   ]
  },
  {
   "cell_type": "markdown",
   "metadata": {
    "slideshow": {
     "slide_type": "slide"
    }
   },
   "source": [
    "## Python - What is it and how to get it?\n",
    "\n",
    "* original developed by Guido van Rossum (1991)\n",
    "* high-level programming language\n",
    "* general-purpose programming\n",
    "* ***easy to learn & easy to use***\n",
    "\n",
    "<img width=300px src=\"images/python-logo-master-v3-TM-flattened.png\" />"
   ]
  },
  {
   "cell_type": "markdown",
   "metadata": {
    "slideshow": {
     "slide_type": "subslide"
    }
   },
   "source": [
    "### Python versions\n",
    "\n",
    "Two major versions in the wild:\n",
    "\n",
    "* Python 2.7.x ***!!! not longer supported !!!***\n",
    "* Python 3.6/7/8.x\n",
    "\n",
    "Not fully compatible and different standard library.\n",
    "\n",
    "All supported versions: [https://devguide.python.org/devcycle/](https://devguide.python.org/devcycle/)"
   ]
  },
  {
   "cell_type": "markdown",
   "metadata": {
    "slideshow": {
     "slide_type": "subslide"
    }
   },
   "source": [
    "### Python implementations\n",
    "\n",
    "Python language is interpreted (contrary to compiled languages as C, C++, Fortran, ...).\n",
    "\n",
    "The interpreter itself for:\n",
    "\n",
    "* Linux-Systems: `python2` or `python3`\n",
    "* Windows-Systems: `python.exe`\n",
    "\n",
    "Reference implementation:\n",
    "\n",
    "***CPython***\n",
    "\n",
    "Others:\n",
    "\n",
    "* Jython\n",
    "* IronPython\n",
    "* PyPy"
   ]
  },
  {
   "cell_type": "markdown",
   "metadata": {
    "slideshow": {
     "slide_type": "subslide"
    }
   },
   "source": [
    "### Anaconda - A Python-Distribution\n",
    "\n",
    "Various ways to get a running Python-Interpreter on Windows:\n",
    "\n",
    "* Download install package from [https://www.python.org/downloads/](https://www.python.org/downloads/)\n",
    "* Download via Windows Store (e.g. [https://www.microsoft.com/store/productId/9MSSZTT1N39L](https://www.microsoft.com/store/productId/9MSSZTT1N39L))\n",
    "* Download a Linux-System and run it via WSL (Windows Subsystem for Linux, e.g. [https://www.microsoft.com/store/productId/9NBLGGH4MSV6](https://www.microsoft.com/store/productId/9NBLGGH4MSV6))\n",
    "* ***Install a Python-Distribution (like Anaconda)*** [https://www.anaconda.com/distribution/](https://www.anaconda.com/distribution/)\n",
    "\n",
    "<img width=300px src=\"images/cropped-Anaconda_horizontal_RGB-1-600x102.png\" />"
   ]
  },
  {
   "cell_type": "markdown",
   "metadata": {
    "slideshow": {
     "slide_type": "subslide"
    }
   },
   "source": [
    "### Anaconda - A Python-Distribution\n",
    "\n",
    "* package manager for Python and R\n",
    "* includes Python-Interpreter\n",
    "* includes all necessary packages for data-analysis and scientific data processing\n",
    "* easy to set-up and doesn't require admin rights\n",
    "\n",
    "Highlights:\n",
    "\n",
    "* Data processing: numpy, scipy, pandas\n",
    "* Visualization: matplotlib, seaborn, vtk\n",
    "* Cloud: jupyter\n",
    "* Documentation: pandoc\n",
    "* HPC: cython, mpi4py\n",
    "* GUIs: pyqt, tkinter\n",
    "* IDE: Spyder"
   ]
  },
  {
   "cell_type": "markdown",
   "metadata": {
    "slideshow": {
     "slide_type": "slide"
    }
   },
   "source": [
    "## Programming paradigms\n",
    "\n",
    "Several available / supported:\n",
    "\n",
    "* imperative\n",
    "* structural\n",
    "* procedural\n",
    "* modular\n",
    "* functional\n",
    "* object-oriented\n",
    "\n"
   ]
  },
  {
   "cell_type": "markdown",
   "metadata": {
    "slideshow": {
     "slide_type": "subslide"
    }
   },
   "source": [
    "### Imperative programming\n",
    "\n",
    "* a set of statements will modify a programs state"
   ]
  },
  {
   "cell_type": "code",
   "execution_count": 1,
   "metadata": {
    "slideshow": {
     "slide_type": "fragment"
    }
   },
   "outputs": [
    {
     "name": "stdout",
     "output_type": "stream",
     "text": [
      "3.0 * 4.5 = 13.5\n",
      "13.5 ** 2 = 182.2\n"
     ]
    }
   ],
   "source": [
    "# comments start with '#'\n",
    "# python does not now special floating types like C, only float\n",
    "# python does not now special integer types like C, only int\n",
    "a = 3.0  # dynamic typing --> float\n",
    "b = 4.5  # dynamic typing --> float\n",
    "\n",
    "c = a*b  # --> float\n",
    "d = 2  # dynamic typing --> int\n",
    "e = c**d  # power ** not ^\n",
    "\n",
    "print('%.1f * %.1f = %.1f' % (a, b, c))  # my favorite type of output\n",
    "print('%.1f ** %d = %.1f' % (c, d, e))"
   ]
  },
  {
   "cell_type": "markdown",
   "metadata": {
    "slideshow": {
     "slide_type": "subslide"
    }
   },
   "source": [
    "### Structural programming\n",
    "\n",
    "* control the flow of the program\n",
    "* if ... elif ... else\n",
    "* while & for\n",
    "\n",
    "Alignment of statements:\n",
    "\n",
    "```python\n",
    "a = 4 # int\n",
    "if a < 10: # : is necessary\n",
    "    # intentiation is necessary and should be everywhere the same\n",
    "    print('OK 😊') # utf-8 is natively supported\n",
    "else: # else is optional\n",
    "    print('Not OK 😥')\n",
    "```"
   ]
  },
  {
   "cell_type": "code",
   "execution_count": 2,
   "metadata": {
    "slideshow": {
     "slide_type": "subslide"
    }
   },
   "outputs": [
    {
     "name": "stdout",
     "output_type": "stream",
     "text": [
      "OK 😊\n"
     ]
    }
   ],
   "source": [
    "a = 4\n",
    "if a < 10:\n",
    "    print('OK 😊')\n",
    "elif a > 10 and a < 20:\n",
    "    print('Not OK 😥')\n",
    "else:\n",
    "    print('either the special number 10 😉 or greater equal 20')"
   ]
  },
  {
   "cell_type": "markdown",
   "metadata": {
    "slideshow": {
     "slide_type": "subslide"
    }
   },
   "source": [
    "### Structural programming\n",
    "\n",
    "Two loop types:\n",
    "\n",
    "* for\n",
    "* while"
   ]
  },
  {
   "cell_type": "code",
   "execution_count": 3,
   "metadata": {
    "slideshow": {
     "slide_type": "subslide"
    }
   },
   "outputs": [
    {
     "name": "stdout",
     "output_type": "stream",
     "text": [
      "0 1 2 3 4 \n",
      "0 1 2 3 4 \n",
      "0 1 2 3 4 \n"
     ]
    }
   ],
   "source": [
    "# for loop\n",
    "for i in range(5): # numbers from 0 to 4, max. numbers of iterations known\n",
    "    print(i, end=' ')\n",
    "\n",
    "print('')\n",
    "\n",
    "# while loop 1\n",
    "i = 0\n",
    "while i < 5: # pre-test-loop\n",
    "    print(i, end=' ')\n",
    "    i+=1\n",
    "\n",
    "print('')\n",
    "\n",
    "# while loop 2\n",
    "i = 0\n",
    "while True: # pre-test-loop, infinite loop\n",
    "    print(i, end=' ')\n",
    "    i+=1\n",
    "    \n",
    "    if i > 4:\n",
    "        break\n",
    "\n",
    "print('')"
   ]
  },
  {
   "cell_type": "markdown",
   "metadata": {
    "slideshow": {
     "slide_type": "subslide"
    }
   },
   "source": [
    "### Procedural programming\n",
    "\n",
    "Functions solving special problems"
   ]
  },
  {
   "cell_type": "code",
   "execution_count": 4,
   "metadata": {
    "slideshow": {
     "slide_type": "subslide"
    }
   },
   "outputs": [
    {
     "name": "stdout",
     "output_type": "stream",
     "text": [
      "2 3 5 7 11 13 17 19 23 29 31 37 41 43 47 53 59 61 67 71 73 79 83 89 97 \n",
      "2 3 5 7 11 13 17 19 23 29 31 37 41 43 47 53 59 61 67 71 73 79 83 89 97 101 103 107 109 113 127 131 137 139 149 151 157 163 167 173 179 181 191 193 197 199 211 223 227 229 233 239 241 251 257 263 269 271 277 281 283 293 307 311 313 317 331 337 347 349 353 359 367 373 379 383 389 397 401 409 419 421 431 433 439 443 449 457 461 463 467 479 487 491 499 \n"
     ]
    }
   ],
   "source": [
    "import numpy as np # numpy module for large arrays\n",
    "\n",
    "# see: https://en.wikipedia.org/wiki/Sieve_of_Eratosthenes\n",
    "def sieve_eratosthenes(N):\n",
    "    # sieve of eratosthenes for calculating prime numbers\n",
    "    \n",
    "    crossed = np.zeros((N+1,), dtype=bool)\n",
    "    \n",
    "    for i in range(2, int(np.sqrt(N))):\n",
    "        if not crossed[i]:\n",
    "            print('%d ' % i, end='')\n",
    "            \n",
    "            for j in range(i*i, N, i):\n",
    "                crossed[j] = True\n",
    "    \n",
    "    for i in range(int(np.sqrt(N)) + 1, N):\n",
    "        if not crossed[i]:\n",
    "            print('%d ' % i, end='')\n",
    "    \n",
    "    print('')\n",
    "\n",
    "# call function\n",
    "sieve_eratosthenes(100)\n",
    "sieve_eratosthenes(500)"
   ]
  },
  {
   "cell_type": "markdown",
   "metadata": {
    "slideshow": {
     "slide_type": "subslide"
    }
   },
   "source": [
    "### Modular programming\n",
    "\n",
    "Special designed modules solving problems:\n",
    "\n",
    "* Standard-Library: `import math`, `import sys`, `import os`, `import socket`, `import zipfile`, ...\n",
    "* Special libraries: `import numpy`, `import scipy`, `import matplotlib.pyplot`\n",
    "\n",
    "Modules need to be **imported** before usage!\n",
    "\n",
    "* plain import `import math`\n",
    "* named import `from math import sqrt, sin, cos`\n",
    "* alias import `import numpy as np`, `import matplotlib.pyplot as plt`, `import scipy.signal as sig`\n",
    "\n",
    "Writing own module:\n",
    "\n",
    "1. write code that should be inside the module in a seperate file (e.g. functions, classes, definitions, ...)\n",
    "2. save the file as `<modulename>.py`\n",
    "3. import the module into your code as `import <modulename>`\n",
    "4. You're done! 😃"
   ]
  },
  {
   "cell_type": "markdown",
   "metadata": {
    "slideshow": {
     "slide_type": "subslide"
    }
   },
   "source": [
    "### Functional programming\n",
    "\n",
    "Programming is done not with statements, it's done with the declaration of functions!\n",
    "\n",
    "Variables == Functions which return constant value ..."
   ]
  },
  {
   "cell_type": "code",
   "execution_count": 5,
   "metadata": {
    "slideshow": {
     "slide_type": "fragment"
    }
   },
   "outputs": [
    {
     "name": "stdout",
     "output_type": "stream",
     "text": [
      "Base area : 50.26548245743669\n",
      "Shell area: 301.59289474462014\n",
      "Volume    : 603.1857894892403\n"
     ]
    }
   ],
   "source": [
    "import math\n",
    "\n",
    "x = lambda: 4  # constant variable as functional code\n",
    "\n",
    "Abase = lambda r: math.pi * r**2  # base area cylinder\n",
    "AM = lambda r, h: 2*math.pi * r * h # shell area cylinder\n",
    "\n",
    "Vz = lambda r, h: Abase(r) * h # cylindrical volume\n",
    "\n",
    "print('Base area :', Abase(x()))\n",
    "print('Shell area:', AM(x(), 12))\n",
    "print('Volume    :', Vz(x(), 12))"
   ]
  },
  {
   "cell_type": "markdown",
   "metadata": {
    "slideshow": {
     "slide_type": "subslide"
    }
   },
   "source": [
    "### Object-oriented programming\n",
    "\n",
    "The user writes special classes, which solve special problems.\n",
    "\n",
    "Can also be a complex class hirachy:"
   ]
  },
  {
   "cell_type": "code",
   "execution_count": 6,
   "metadata": {
    "slideshow": {
     "slide_type": "subslide"
    }
   },
   "outputs": [],
   "source": [
    "# simple class is defined with\n",
    "\n",
    "class Vehicle:\n",
    "    # no real private data\n",
    "    # visibility as in C++ is determined with member declaration\n",
    "    # __ private members\n",
    "    # _ protected members\n",
    "    # public members\n",
    "    def __init__(self, mass): # class constructor\n",
    "        self._mass = mass # protected class value\n",
    "        self._vel = 0.0\n",
    "    \n",
    "    @property # read-only property mass\n",
    "    def Mass(self):\n",
    "        return self._mass\n",
    "    \n",
    "    @property # property as decorators\n",
    "    def Velocity(self):\n",
    "        return self._vel\n",
    "    \n",
    "    def accel(self):\n",
    "        self._vel += 1\n",
    "        \n",
    "    def deccel(self):\n",
    "        self._vel -= 1\n",
    "    \n",
    "    def stop(self):\n",
    "        self._vel = 0.0"
   ]
  },
  {
   "cell_type": "code",
   "execution_count": 7,
   "metadata": {
    "slideshow": {
     "slide_type": "subslide"
    }
   },
   "outputs": [
    {
     "name": "stdout",
     "output_type": "stream",
     "text": [
      "<__main__.Vehicle object at 0x7f8f514a95f8>\n",
      "Accel: 1.0\n",
      "Stop : 0.0\n"
     ]
    }
   ],
   "source": [
    "# usage of the class\n",
    "\n",
    "vec = Vehicle(1000)\n",
    "vec.accel()\n",
    "print(vec)\n",
    "print('Accel:', vec.Velocity)\n",
    "vec.stop()\n",
    "print('Stop :', vec.Velocity)"
   ]
  },
  {
   "cell_type": "code",
   "execution_count": 8,
   "metadata": {
    "slideshow": {
     "slide_type": "subslide"
    }
   },
   "outputs": [
    {
     "name": "stdout",
     "output_type": "stream",
     "text": [
      "Accel: 1.75\n",
      "Stop : 0.0\n",
      "A    : 1.75\n"
     ]
    }
   ],
   "source": [
    "# derived classes\n",
    "\n",
    "class Car(Vehicle):\n",
    "    def __init__(self, mass, a=1.5):\n",
    "        Vehicle.__init__(self, mass)\n",
    "        self.__a = a # private class member, not accessible in derived classes\n",
    "        \n",
    "    def accel(self):\n",
    "        self._vel += self.__a\n",
    "        \n",
    "    def deccel(self):\n",
    "        self._vel -= self.__a\n",
    "        \n",
    "    def __get_a(self):\n",
    "        return self.__a\n",
    "    \n",
    "    def __set_a(self, a):\n",
    "        self.__a = a\n",
    "        \n",
    "    Acceleration = property(__get_a, __set_a) # getter, setter, deleter, doc\n",
    "\n",
    "# usage:\n",
    "\n",
    "car = Car(1500, 1.75)\n",
    "car.accel()\n",
    "print('Accel:', car.Velocity)\n",
    "car.stop()\n",
    "print('Stop :', car.Velocity)\n",
    "print('A    :', car.Acceleration)"
   ]
  },
  {
   "cell_type": "markdown",
   "metadata": {
    "slideshow": {
     "slide_type": "subslide"
    }
   },
   "source": [
    "### Where do I get help?\n",
    "\n",
    "* Language documentation: [https://docs.python.org/3/](https://docs.python.org/3/)\n",
    "* Python tutorial: [https://docs.python.org/3/tutorial/](https://docs.python.org/3/tutorial/)\n",
    "* Books (available online at our university library):\n",
    "    * Joshi, P., Hearty, J., Sjardin, B., Massaron, L., & Boschetti, A. (2016). Python: Real World Machine Learning. Packt Publishing Ltd.\n",
    "    * Linge, S., & Langtangen, H. P. (2020). Programming for Computations-Python: A Gentle Introduction to Numerical Simulations with Python 3.6 (p. 332). Springer.\n",
    "    * Stephenson, B. (2016). The Python Workbook. SPRINGER INTERNATIONAL PU.\n",
    "* Documentation for several projects / packages\n",
    "    * Numpy reference: [https://docs.scipy.org/doc/numpy/reference/](https://docs.scipy.org/doc/numpy/reference/)\n",
    "    * Scipy reference: [https://docs.scipy.org/doc/scipy/reference/](https://docs.scipy.org/doc/scipy/reference/)\n",
    "    * Matplotlib: [https://matplotlib.org/contents.html](https://matplotlib.org/contents.html)\n",
    "    * Pandas: [https://pandas.pydata.org/pandas-docs/stable/](https://pandas.pydata.org/pandas-docs/stable/)"
   ]
  },
  {
   "cell_type": "markdown",
   "metadata": {
    "slideshow": {
     "slide_type": "slide"
    }
   },
   "source": [
    "## Basic programming tasks\n",
    "\n",
    "### Screen-Output"
   ]
  },
  {
   "cell_type": "code",
   "execution_count": 9,
   "metadata": {
    "slideshow": {
     "slide_type": "fragment"
    }
   },
   "outputs": [
    {
     "name": "stdout",
     "output_type": "stream",
     "text": [
      "Hello World!\n"
     ]
    }
   ],
   "source": [
    "print('Hello World!')"
   ]
  },
  {
   "cell_type": "markdown",
   "metadata": {
    "slideshow": {
     "slide_type": "fragment"
    }
   },
   "source": [
    "Output data and variables:"
   ]
  },
  {
   "cell_type": "code",
   "execution_count": 10,
   "metadata": {
    "slideshow": {
     "slide_type": "fragment"
    }
   },
   "outputs": [
    {
     "name": "stdout",
     "output_type": "stream",
     "text": [
      "4.0 3 Test [4.0, 3, 'Test'] (4.0, 3, 'Test')\n",
      "4.00; 3; Test\n"
     ]
    }
   ],
   "source": [
    "a = 4.0\n",
    "b = 3\n",
    "c = 'Test'\n",
    "d = [a, b, c] # list, mutable\n",
    "d1 = (a, b, c) # tuple, non-mutable\n",
    "\n",
    "print(a, b, c, d, d1) # very simple\n",
    "print(\"%.2f; %d; %s\" % (a, b, c)) # c-formatted output"
   ]
  },
  {
   "cell_type": "markdown",
   "metadata": {
    "slideshow": {
     "slide_type": "subslide"
    }
   },
   "source": [
    "### Theory: Mutable and Non-Mutable datatypes\n",
    "\n",
    "Python is **interpreted** language:\n",
    "\n",
    "* compiler / interpreter determining datatype at runtime\n",
    "* datatype can be changed at runtime for one variable (e.g. from float to int, float to class object, ...)\n",
    "* memory allocation is done automatically\n",
    "* Garbage Collector (GC) `import gc`"
   ]
  },
  {
   "cell_type": "code",
   "execution_count": 11,
   "metadata": {
    "slideshow": {
     "slide_type": "fragment"
    }
   },
   "outputs": [
    {
     "name": "stdout",
     "output_type": "stream",
     "text": [
      "140253499851352\n",
      "140253499851352\n"
     ]
    }
   ],
   "source": [
    "a = 3.0\n",
    "print(id(a)) # id gets the pointer to the memory block of one variable\n",
    "b = a\n",
    "print(id(b))"
   ]
  },
  {
   "cell_type": "code",
   "execution_count": 12,
   "metadata": {
    "slideshow": {
     "slide_type": "fragment"
    }
   },
   "outputs": [
    {
     "name": "stdout",
     "output_type": "stream",
     "text": [
      "140253499851352\n",
      "140253499851784\n"
     ]
    }
   ],
   "source": [
    "b = 4.9\n",
    "print(id(a))\n",
    "print(id(b))"
   ]
  },
  {
   "cell_type": "code",
   "execution_count": 13,
   "metadata": {
    "slideshow": {
     "slide_type": "subslide"
    }
   },
   "outputs": [
    {
     "name": "stdout",
     "output_type": "stream",
     "text": [
      "3 4 6  id(140253530084616)\n",
      "3 4 6  id(140253520823280)\n",
      "3 4 6 8  id(140253530084616)\n",
      "3 4 6 8  id(140253499329656)\n"
     ]
    }
   ],
   "source": [
    "# lists and tuples\n",
    "lis = [3, 4, 6] # lists are mutable\n",
    "tup = (3, 4, 6) # tuples are non-mutable\n",
    "\n",
    "# lists and tuples can usually be used the same way\n",
    "def print_arr(arr):\n",
    "    for i in range(len(arr)): # just loop over the array elements\n",
    "        print(arr[i], end=' ')\n",
    "    print(' id(%d)' % id(arr))\n",
    "\n",
    "print_arr(lis)\n",
    "print_arr(tup)\n",
    "\n",
    "# change list and tuple\n",
    "lis.append(8)\n",
    "# will not work: tup.append(8)\n",
    "tup = tup + (8,) # instead we need to do something like this\n",
    "\n",
    "print_arr(lis)\n",
    "print_arr(tup)"
   ]
  },
  {
   "cell_type": "markdown",
   "metadata": {
    "slideshow": {
     "slide_type": "subslide"
    }
   },
   "source": [
    "### Reading and writing files"
   ]
  },
  {
   "cell_type": "code",
   "execution_count": 14,
   "metadata": {
    "slideshow": {
     "slide_type": "fragment"
    }
   },
   "outputs": [],
   "source": [
    "# write plain ASCII file\n",
    "fid = open('file.txt', 'w')\n",
    "fid.write('Hello World!\\n')\n",
    "fid.close() # do not forget to close the file"
   ]
  },
  {
   "cell_type": "code",
   "execution_count": 15,
   "metadata": {
    "slideshow": {
     "slide_type": "fragment"
    }
   },
   "outputs": [],
   "source": [
    "# pythonic way: using context managers\n",
    "with open('file.txt', 'w') as fid:\n",
    "    fid.write('Hello Context!\\n') # context managers automatically closes the file when exiting / at failure"
   ]
  },
  {
   "cell_type": "code",
   "execution_count": 16,
   "metadata": {
    "slideshow": {
     "slide_type": "fragment"
    }
   },
   "outputs": [
    {
     "name": "stdout",
     "output_type": "stream",
     "text": [
      "Hello Context!\n",
      "\n"
     ]
    }
   ],
   "source": [
    "# reading in:\n",
    "with open('file.txt') as fid:\n",
    "    for line in fid.readlines():\n",
    "        print(line)\n"
   ]
  },
  {
   "cell_type": "code",
   "execution_count": 17,
   "metadata": {
    "slideshow": {
     "slide_type": "subslide"
    }
   },
   "outputs": [
    {
     "name": "stdout",
     "output_type": "stream",
     "text": [
      "Exists!\n"
     ]
    }
   ],
   "source": [
    "# check if the files exist:\n",
    "import os.path as op\n",
    "\n",
    "file_to_check = 'file1.txt'\n",
    "if op.exists(file_to_check):\n",
    "    # file exists, append\n",
    "    print('Exists!')\n",
    "    with open(file_to_check, 'w+') as fid:\n",
    "        fid.write('Hello Exists!\\n')\n",
    "else:\n",
    "    # file does not exist, create them\n",
    "    print('Not Exists!')\n",
    "    with open(file_to_check, 'w') as fid:\n",
    "        fid.write('Hello Not Exists!\\n')"
   ]
  },
  {
   "cell_type": "code",
   "execution_count": 18,
   "metadata": {
    "slideshow": {
     "slide_type": "subslide"
    }
   },
   "outputs": [
    {
     "name": "stdout",
     "output_type": "stream",
     "text": [
      "'ascii' codec can't encode characters in position 0-2: ordinal not in range(128)\n"
     ]
    }
   ],
   "source": [
    "# use different encoding when saving files\n",
    "with open('encoding.txt', 'w', encoding='utf-8') as fid:\n",
    "    fid.write('😀😀😀\\n')\n",
    "try:\n",
    "    with open('encoding_no.txt', 'w', encoding='ascii') as fid:\n",
    "        fid.write('😀😀😀\\n')\n",
    "except Exception as ex:\n",
    "    print(ex)"
   ]
  },
  {
   "cell_type": "code",
   "execution_count": 19,
   "metadata": {
    "slideshow": {
     "slide_type": "subslide"
    }
   },
   "outputs": [
    {
     "name": "stdout",
     "output_type": "stream",
     "text": [
      "[1, 2, 3, 4, 5, 6, 7, 8, 9, 10]\n"
     ]
    }
   ],
   "source": [
    "# reading and writing binary data\n",
    "data = bytearray([1, 2, 3, 4, 5, 6, 7, 8, 9, 10])\n",
    "with open('binfile.bin', 'wb') as fid:\n",
    "    fid.write(data)\n",
    "\n",
    "with open('binfile.bin', 'rb') as fid:\n",
    "    print(list(fid.read()))"
   ]
  },
  {
   "cell_type": "markdown",
   "metadata": {
    "slideshow": {
     "slide_type": "subslide"
    }
   },
   "source": [
    "### Implemented data-types"
   ]
  },
  {
   "cell_type": "code",
   "execution_count": 20,
   "metadata": {
    "slideshow": {
     "slide_type": "fragment"
    }
   },
   "outputs": [
    {
     "name": "stdout",
     "output_type": "stream",
     "text": [
      "Roy Morgenstern has written test1 with mark 1.3\n",
      "Alexandra Morgenstern has written test2 with mark 1.3\n",
      "Heinz Konietzky has written test3 with mark 1.0\n",
      "Martin Herbst has written test4 with mark 1.7\n",
      "average: 1.3\n"
     ]
    }
   ],
   "source": [
    "# implemented data-types:\n",
    "# int, float, bool, str\n",
    "# list [], tuple (), dict {}\n",
    "\n",
    "sample_for_dict = {'test1': {'Name': 'Morgenstern','GivenName': 'Roy', 'points': [20, 10 , 5], 'mark': 1.3},\n",
    "                   'test2': {'Name': 'Morgenstern', 'GivenName': 'Alexandra', 'points': [18, 11 , 4], 'mark': 1.3},\n",
    "                   'test3': {'Name': 'Konietzky', 'GivenName': 'Heinz', 'points': [20, 12 , 5], 'mark': 1.0},\n",
    "                   'test4': {'Name': 'Herbst', 'GivenName': 'Martin', 'points': [15, 12 , 5], 'mark': 1.7}}\n",
    "\n",
    "d = 0.0\n",
    "for key, value in sample_for_dict.items():\n",
    "    # loop over items\n",
    "    print('%s %s has written %s with mark %.1f' % (value['GivenName'], value['Name'], key, value['mark']))\n",
    "    d += value['mark']\n",
    "\n",
    "print('average: %.1f' % (d/len(sample_for_dict)))"
   ]
  },
  {
   "cell_type": "markdown",
   "metadata": {
    "slideshow": {
     "slide_type": "slide"
    }
   },
   "source": [
    "## Object oriented programming\n",
    "\n",
    "**!!! everything in Python is an Object !!!**\n",
    "\n",
    "including:\n",
    "\n",
    "* basic datatypes (int, float, bool, string, ...)\n",
    "* lists, tuples, dictionaries, maps, filter, reductions, zips, enumerations, ranges, ...\n",
    "* functions\n",
    "* lambdas\n",
    "* ...\n",
    "\n"
   ]
  },
  {
   "cell_type": "code",
   "execution_count": 21,
   "metadata": {
    "slideshow": {
     "slide_type": "fragment"
    }
   },
   "outputs": [
    {
     "name": "stdout",
     "output_type": "stream",
     "text": [
      "<class 'int'>\n",
      "<class 'float'>\n",
      "<class 'range'>\n"
     ]
    }
   ],
   "source": [
    "print(int)\n",
    "print(float)\n",
    "print(range)"
   ]
  },
  {
   "cell_type": "code",
   "execution_count": 22,
   "metadata": {
    "slideshow": {
     "slide_type": "subslide"
    }
   },
   "outputs": [
    {
     "name": "stdout",
     "output_type": "stream",
     "text": [
      "Help on function func in module __main__:\n",
      "\n",
      "func(a, b)\n",
      "\n",
      "~~~~~~~~~~~~~~~~~~~~\n",
      "['__annotations__', '__call__', '__class__', '__closure__', '__code__', '__defaults__', '__delattr__', '__dict__', '__dir__', '__doc__', '__eq__', '__format__', '__ge__', '__get__', '__getattribute__', '__globals__', '__gt__', '__hash__', '__init__', '__init_subclass__', '__kwdefaults__', '__le__', '__lt__', '__module__', '__name__', '__ne__', '__new__', '__qualname__', '__reduce__', '__reduce_ex__', '__repr__', '__setattr__', '__sizeof__', '__str__', '__subclasshook__']\n",
      "~~~~~~~~~~~~~~~~~~~~\n",
      "Help on function func in module __main__:\n",
      "\n",
      "func(a, b)\n",
      "    returns sum of a and b\n",
      "\n"
     ]
    }
   ],
   "source": [
    "def func(a, b):\n",
    "    return a + b\n",
    "\n",
    "help(func) # python integrated help-system,\n",
    "           # prints documentation of each element\n",
    "           # stored in __doc__ attribute\n",
    "print('~'*20)\n",
    "\n",
    "print(dir(func)) # list all elements / attributes of func-object\n",
    "func.__doc__ = 'returns sum of a and b' # overwrite __doc__ attribute\n",
    "\n",
    "print('~'*20)\n",
    "help(func)"
   ]
  },
  {
   "cell_type": "markdown",
   "metadata": {
    "slideshow": {
     "slide_type": "subslide"
    }
   },
   "source": [
    "### functions vs. func-objects"
   ]
  },
  {
   "cell_type": "code",
   "execution_count": 23,
   "metadata": {
    "slideshow": {
     "slide_type": "fragment"
    }
   },
   "outputs": [
    {
     "name": "stdout",
     "output_type": "stream",
     "text": [
      "8\n",
      "<function func at 0x7f8f50027400>\n",
      "9\n",
      "-1\n"
     ]
    }
   ],
   "source": [
    "print(func(3, 5)) # calling the function and printing the output\n",
    "print(func) # using the defined function func as function-objects\n",
    "\n",
    "# magic:\n",
    "def adder(a, b):\n",
    "    return a + b\n",
    "\n",
    "def subber(a, b):\n",
    "    return a - b\n",
    "\n",
    "def work(x, y, worker):\n",
    "    return worker(x, y)\n",
    "    \n",
    "print(work(4, 5, adder))\n",
    "print(work(4, 5, subber))"
   ]
  },
  {
   "cell_type": "markdown",
   "metadata": {
    "slideshow": {
     "slide_type": "subslide"
    }
   },
   "source": [
    "### Using objects\n",
    "\n",
    "When using Python we are already working with a huge object-system"
   ]
  },
  {
   "cell_type": "code",
   "execution_count": 24,
   "metadata": {
    "slideshow": {
     "slide_type": "fragment"
    }
   },
   "outputs": [],
   "source": [
    "with open('file1.txt', 'w') as fid: # with: ContextManager-class,\n",
    "                                    # fid: python-file-object\n",
    "    fid.write('Hello Object oriented programming ... ! 😲')\n",
    "    # accessing public member function write of python\n",
    "    # file object to write unicode string-object"
   ]
  },
  {
   "cell_type": "code",
   "execution_count": 25,
   "metadata": {
    "slideshow": {
     "slide_type": "fragment"
    }
   },
   "outputs": [
    {
     "data": {
      "text/plain": [
       "<matplotlib.figure.Figure at 0x7f8f514a9400>"
      ]
     },
     "metadata": {},
     "output_type": "display_data"
    }
   ],
   "source": [
    "import numpy as np # module numpy alias-import (module is also a class)\n",
    "import matplotlib.pyplot as plt # sub-module pyplot alias-import\n",
    "t = np.linspace(0, 2*np.pi, 1000) # t class numpy.array\n",
    "a = np.sin(t) # a class numpy.array\n",
    "plt.figure(figsize=(4, 3)) # access figure-member of module plt\n",
    "plt.plot(t, a)\n",
    "plt.show();"
   ]
  },
  {
   "cell_type": "markdown",
   "metadata": {
    "slideshow": {
     "slide_type": "subslide"
    }
   },
   "source": [
    "### Writing new objects - writing classes\n",
    "\n",
    "Working with an example:\n",
    "\n",
    "***Geotechnical FOS Manager for Room and Pillar Mining***\n",
    "\n",
    "Factor of Safety: $FOS = \\frac{\\sigma_G}{\\sigma_L}$\n",
    "\n",
    "Definitions for $\\sigma_L$ ($p=\\rho \\cdot g \\cdot H$):\n",
    "\n",
    "* Long rooms: $\\sigma_L = \\left(1+\\frac{b_K}{2a}\\right)\\cdot p$\n",
    "* Quadratic pillars: $\\sigma_L = \\left(\\frac{2a + b_K}{2a}\\right)^2\\cdot p$\n",
    "* Rectangular pillars: $\\sigma_L = \\left(\\frac{(2a + b_K)\\cdot (2b + b_D)}{4ab}\\right)\\cdot p$"
   ]
  },
  {
   "cell_type": "code",
   "execution_count": 26,
   "metadata": {
    "slideshow": {
     "slide_type": "subslide"
    }
   },
   "outputs": [],
   "source": [
    "class FOSManagerLR: # Base class\n",
    "    # FOS estimation for long room pillars\n",
    "    def __init__(self, over_dens, depth, a, bk, grav=9.81): # constructor\n",
    "        # ref to obj , required parameters    , optional parameters\n",
    "        # protected members to store class data\n",
    "        self._over_dens = over_dens\n",
    "        self._depth = depth\n",
    "        self._a = a\n",
    "        self._bk = bk\n",
    "        self._grav = grav\n",
    "        self._p = over_dens*depth*grav\n",
    "        self._L = 1 + bk/(2*a)\n",
    "    \n",
    "    @property # decorators, read-only property\n",
    "    def SigmaL(self):\n",
    "        return self._L*self._p\n",
    "    \n",
    "    @property # decorators, read-only property\n",
    "    def P(self):\n",
    "        return self._p\n",
    "    \n",
    "    @property # decorators, read-only property\n",
    "    def L(self):\n",
    "        return self._L\n",
    "    \n",
    "    @property # decorators, read-only property\n",
    "    def V(self):\n",
    "        return 1.0/self._L * 100\n",
    "    \n",
    "    def estimate_failure(self, sigma_g):\n",
    "        # public member function\n",
    "        return sigma_g / (self._L*self._p)\n",
    "        "
   ]
  },
  {
   "cell_type": "code",
   "execution_count": 27,
   "metadata": {
    "slideshow": {
     "slide_type": "subslide"
    }
   },
   "outputs": [],
   "source": [
    "class FOSManagerQuad(FOSManagerLR): # derived class\n",
    "    def __init__(self, over_dens, depth, a, bk, grav=9.81): # constructor\n",
    "        FOSManagerLR.__init__(self, over_dens, depth, a, bk, grav) # call base class constructor\n",
    "        \n",
    "        self._L = ((2*self._a + self._bk)/(2*self._a))**2\n",
    "        \n",
    "class FOSManagerRect(FOSManagerLR): # derived class\n",
    "    def __init__(self, over_dens, depth, a, bk, b, bd, grav=9.81): # constructor\n",
    "        FOSManagerLR.__init__(self, over_dens, depth, a, bk, grav) # call base class constructor\n",
    "        \n",
    "        self._b = b\n",
    "        self._bd = bd\n",
    "        \n",
    "        self._L = ((2*self._a + self._bk)*\n",
    "                   (2*self._b + self._bd))/\\\n",
    "                  (4*self._a*self._b)"
   ]
  },
  {
   "cell_type": "markdown",
   "metadata": {
    "slideshow": {
     "slide_type": "subslide"
    }
   },
   "source": [
    "***Examining load of pillar***\n",
    "\n",
    "Empirical approaches:\n",
    "\n",
    "* <s>Hardy & Agapito (1977):</s> $\\sigma_G = UCS\\cdot \\left(\\frac{V_s}{V_p}\\right)^{0.188} \\cdot \\left(\\frac{V_P H_s}{H_pW_s}\\right)^{0.833}$\n",
    "* Bieniawski (1983): $\\sigma_G = UCS\\cdot \\left(0.64 + 0.36\\frac{W_p}{H_p}\\right)$\n",
    "* Obert & Duvall (1967): $\\sigma_G = UCS\\cdot \\left(0.778 + 0.22\\frac{W_p}{H_p}\\right)$\n",
    "* Salomon & Munro (1967): $\\sigma_G = UCS\\cdot \\frac{W_p^{0.46}}{H_p^{0.66}}$\n",
    "* Esterhuizen et al. (2008): $\\sigma_G = 0.65\\cdot UCS\\cdot \\frac{W_p^{0.30}}{H_p^{0.59}}$"
   ]
  },
  {
   "cell_type": "code",
   "execution_count": 28,
   "metadata": {
    "slideshow": {
     "slide_type": "subslide"
    }
   },
   "outputs": [
    {
     "name": "stdout",
     "output_type": "stream",
     "text": [
      "Bienawski (1983): 3.578\n",
      "Obert & Duvall (1967): 3.455\n",
      "Salomon & Munro (1967): 2.928\n",
      "Esterhuizen et al. (2008): 2.533\n"
     ]
    }
   ],
   "source": [
    "bienawski = lambda UCS, Wp, Hp: UCS * (0.64 + 0.36*(Wp/Hp))\n",
    "obert_duvall = lambda UCS, Wp, Hp: UCS * (0.788 + 0.22*(Wp/Hp))\n",
    "salomon_munro = lambda UCS, Wp, Hp: UCS * Wp**0.46 / Hp**0.66\n",
    "esterhuizen = lambda UCS, Wp, Hp: UCS * Wp**0.30 / Hp**0.59\n",
    "\n",
    "approaches = {'Bienawski (1983)': bienawski,\n",
    "              'Obert & Duvall (1967)': obert_duvall,\n",
    "              'Salomon & Munro (1967)': salomon_munro,\n",
    "              'Esterhuizen et al. (2008)': esterhuizen}\n",
    "\n",
    "UCS = 80.0e6 # MPa\n",
    "H = 500.0 # m\n",
    "rho = 2700.0 # kg /m³\n",
    "a = Wp = 4.0\n",
    "bk = Hp = 3.0\n",
    "\n",
    "fom = FOSManagerQuad(rho, H, a, bk) # usage of FOS Manager derived class\n",
    "\n",
    "for app, func in approaches.items():\n",
    "    sg = func(UCS, Wp, Hp)\n",
    "    print('%s: %.3f' % (app, fom.estimate_failure(sg)))"
   ]
  },
  {
   "cell_type": "markdown",
   "metadata": {
    "slideshow": {
     "slide_type": "slide"
    }
   },
   "source": [
    "## Scientific programming\n",
    "\n",
    "### Using Python as Computer-Algebra-System\n",
    "\n",
    "* special package available `import sympy`\n",
    "* defining mathematical functions or algebraic systems in code\n",
    "* using **Symbols** for calculation\n",
    "* varios operations possible (e.g. integrate, differentiate, limit, solve, ...)\n",
    "\n",
    "Documentation: [https://docs.sympy.org/latest/index.html](https://docs.sympy.org/latest/index.html)"
   ]
  },
  {
   "cell_type": "code",
   "execution_count": 29,
   "metadata": {
    "slideshow": {
     "slide_type": "fragment"
    }
   },
   "outputs": [
    {
     "data": {
      "image/png": "[encoded data removed]",
      "text/latex": [
       "$$a x + \\frac{b x}{- a + x} - b$$"
      ],
      "text/plain": [
       "       b⋅x      \n",
       "a⋅x + ────── - b\n",
       "      -a + x    "
      ]
     },
     "execution_count": 29,
     "metadata": {},
     "output_type": "execute_result"
    }
   ],
   "source": [
    "import sympy as sp # import necessary module\n",
    "sp.init_printing()\n",
    "# defining symbols\n",
    "x, a, b = sp.symbols('x, a, b', real=True) # with assumtions of real-valued symbols\n",
    "f = a*x + b*x/(x - a) - b # defining simple function\n",
    "# sp.pprint(f) # pretty-printing f(x)\n",
    "# in Jupyter also Latex-Output is possible:\n",
    "f"
   ]
  },
  {
   "cell_type": "code",
   "execution_count": 30,
   "metadata": {
    "slideshow": {
     "slide_type": "subslide"
    }
   },
   "outputs": [
    {
     "data": {
      "image/png": "[encoded data removed]",
      "text/latex": [
       "$$\\left [ \\frac{a}{2} - \\frac{1}{2} \\sqrt{a^{2} - 4 b}, \\quad \\frac{a}{2} + \\frac{1}{2} \\sqrt{a^{2} - 4 b}\\right ]$$"
      ],
      "text/plain": [
       "⎡       __________         __________⎤\n",
       "⎢      ╱  2               ╱  2       ⎥\n",
       "⎢a   ╲╱  a  - 4⋅b   a   ╲╱  a  - 4⋅b ⎥\n",
       "⎢─ - ─────────────, ─ + ─────────────⎥\n",
       "⎣2         2        2         2      ⎦"
      ]
     },
     "execution_count": 30,
     "metadata": {},
     "output_type": "execute_result"
    }
   ],
   "source": [
    "# solve for roots\n",
    "sp.solve(f, x)"
   ]
  },
  {
   "cell_type": "code",
   "execution_count": 31,
   "metadata": {
    "slideshow": {
     "slide_type": "subslide"
    }
   },
   "outputs": [
    {
     "data": {
      "image/png": "[encoded data removed]",
      "text/latex": [
       "$$a - \\frac{b x}{\\left(- a + x\\right)^{2}} + \\frac{b}{- a + x}$$"
      ],
      "text/plain": [
       "       b⋅x        b   \n",
       "a - ───────── + ──────\n",
       "            2   -a + x\n",
       "    (-a + x)          "
      ]
     },
     "execution_count": 31,
     "metadata": {},
     "output_type": "execute_result"
    }
   ],
   "source": [
    "# differentiate\n",
    "f1 = f.diff(x)\n",
    "f1"
   ]
  },
  {
   "cell_type": "code",
   "execution_count": 32,
   "metadata": {
    "slideshow": {
     "slide_type": "fragment"
    }
   },
   "outputs": [
    {
     "data": {
      "image/png": "[encoded data removed]",
      "text/latex": [
       "$$a b \\log{\\left (- a + x \\right )} + \\frac{a x^{2}}{2}$$"
      ],
      "text/plain": [
       "                     2\n",
       "                  a⋅x \n",
       "a⋅b⋅log(-a + x) + ────\n",
       "                   2  "
      ]
     },
     "execution_count": 32,
     "metadata": {},
     "output_type": "execute_result"
    }
   ],
   "source": [
    "# and integrate again\n",
    "F = f.integrate(x)\n",
    "F"
   ]
  },
  {
   "cell_type": "code",
   "execution_count": 33,
   "metadata": {
    "slideshow": {
     "slide_type": "fragment"
    }
   },
   "outputs": [
    {
     "data": {
      "image/png": "[encoded data removed]",
      "text/latex": [
       "$$a^{2} b \\log{\\left (- a \\right )} - a^{2} b \\log{\\left (- a + 2 \\right )} + 2 a b \\log{\\left (- a + 2 \\right )} - 2 a b + \\frac{4 a}{3}$$"
      ],
      "text/plain": [
       " 2              2                                             4⋅a\n",
       "a ⋅b⋅log(-a) - a ⋅b⋅log(-a + 2) + 2⋅a⋅b⋅log(-a + 2) - 2⋅a⋅b + ───\n",
       "                                                               3 "
      ]
     },
     "execution_count": 33,
     "metadata": {},
     "output_type": "execute_result"
    }
   ],
   "source": [
    "Fabs = f.integrate(x, (x, 0, 2))\n",
    "Fabs"
   ]
  },
  {
   "cell_type": "code",
   "execution_count": 34,
   "metadata": {
    "slideshow": {
     "slide_type": "subslide"
    }
   },
   "outputs": [
    {
     "data": {
      "image/png": "[encoded data removed]",
      "text/plain": [
       "<matplotlib.figure.Figure at 0x7f8f321a39e8>"
      ]
     },
     "metadata": {},
     "output_type": "display_data"
    }
   ],
   "source": [
    "# make callable python-functions from sympy-definitions\n",
    "f_func = sp.lambdify((x, a, b), f)\n",
    "f1_func = sp.lambdify((x, a, b), f1)\n",
    "F_func = sp.lambdify((x, a, b), F)\n",
    "\n",
    "a, b = 4.0, 3.0\n",
    "x = np.linspace(a + 1, a*b)\n",
    "plt.plot(x, f_func(x, a, b), label='f')\n",
    "plt.plot(x, f1_func(x, a, b), label='f1')\n",
    "plt.plot(x, F_func(x, a, b), label='F')\n",
    "plt.legend(); # ; supress output in jupyter"
   ]
  },
  {
   "cell_type": "markdown",
   "metadata": {
    "slideshow": {
     "slide_type": "subslide"
    }
   },
   "source": [
    "### Using Python for Numerics\n",
    "\n",
    "* special packages available for numerical data processing:\n",
    "    * Base: numpy - basic linear algebra processing, implemented in C and Fortran\n",
    "    * Extension: scipy - based on numpy and supports various features (e.g. clustering, FFT, ODEs, interpolation, advanced IO, optimization, image processing, signal procesing, spatial analysis, statistics, ...), implemented in C and Fortran\n",
    "    * Pandas: works with numpy, special library for data analysis (especially for large datasets, big data), implemented in C and Fortran\n",
    "* usally not needed to write numerical algorithms by hand\n",
    "* use the implemented ones, well tested and optimized"
   ]
  },
  {
   "cell_type": "code",
   "execution_count": 35,
   "metadata": {
    "slideshow": {
     "slide_type": "subslide"
    }
   },
   "outputs": [
    {
     "data": {
      "image/png": "[encoded data removed]",
      "text/plain": [
       "<matplotlib.figure.Figure at 0x7f8f321a3860>"
      ]
     },
     "metadata": {},
     "output_type": "display_data"
    }
   ],
   "source": [
    "# \"Hello World\" example\n",
    "import numpy as np # usually the most common imports\n",
    "import scipy as sc\n",
    "import matplotlib.pyplot as plt\n",
    "\n",
    "step0 = 1.5\n",
    "x = np.arange(-5, 5+step0, step0) # evenly spaced vector in interval [-5, 5]\n",
    "y = np.arange(-5, 5+step0, step0)\n",
    "xx, yy = np.meshgrid(x, y) # matrices storing edge-points for x and y grids\n",
    "\n",
    "# a 2d function\n",
    "zz = xx**2 + xx*2*yy - 2*xx + 2.0\n",
    "\n",
    "plt.figure()\n",
    "plt.imshow(zz, interpolation=None)\n",
    "plt.colorbar();"
   ]
  },
  {
   "cell_type": "code",
   "execution_count": 36,
   "metadata": {
    "slideshow": {
     "slide_type": "subslide"
    }
   },
   "outputs": [
    {
     "name": "stdout",
     "output_type": "stream",
     "text": [
      "Interpolating routine \"linear\": 1.75611e-31\n",
      "Interpolating routine \"cubic\": 8.24443e-17\n",
      "Interpolating routine \"quintic\": 2.41225e-16\n"
     ]
    }
   ],
   "source": [
    "# interpolate to finer grid\n",
    "from scipy.interpolate import interp2d\n",
    "step1 = 0.5\n",
    "xi = np.arange(-5, 5+step0, step1) # evenly spaced vector in interval [-5, 5]\n",
    "yi = np.arange(-5, 5+step0, step1)\n",
    "xxi, yyi = np.meshgrid(xi, yi)\n",
    "zzi = xxi**2 + xxi*2*yyi - 2*xxi + 2.0 # the real value\n",
    "\n",
    "intdi = {}\n",
    "for interp in ['linear', 'cubic', 'quintic']:\n",
    "    # interpolating functions of different kinds\n",
    "    fi = interp2d(x, y, zz, kind=interp)\n",
    "    intdi.update({interp: fi})\n",
    "    err = np.linalg.norm(zzi - fi(xi, yi), ord=-2) # smallest singular value\n",
    "    print('Interpolating routine \"%s\": %.5e' % (interp, err))"
   ]
  },
  {
   "cell_type": "code",
   "execution_count": 37,
   "metadata": {
    "slideshow": {
     "slide_type": "subslide"
    }
   },
   "outputs": [
    {
     "data": {
      "image/png": "[encoded data removed]",
      "text/plain": [
       "<matplotlib.figure.Figure at 0x7f8f31ed2c88>"
      ]
     },
     "metadata": {},
     "output_type": "display_data"
    }
   ],
   "source": [
    "plt.figure()\n",
    "plt.subplot(221)\n",
    "plt.title('orig')\n",
    "plt.imshow(zz, interpolation=None)\n",
    "plt.colorbar()\n",
    "\n",
    "i = 2\n",
    "for k, v in intdi.items():\n",
    "    plt.subplot(2, 2, i)\n",
    "    plt.title(k)\n",
    "    plt.imshow(v(xi, yi), interpolation=None)\n",
    "    plt.colorbar()\n",
    "    i+=1\n",
    "plt.tight_layout()"
   ]
  },
  {
   "cell_type": "markdown",
   "metadata": {
    "slideshow": {
     "slide_type": "subslide"
    }
   },
   "source": [
    "### Real-World problem: Gridding data\n",
    "\n",
    "* usually data is not equal sampled\n",
    "* algorithms usually grid-based (matrix-based)\n",
    "* gridding data is requested"
   ]
  },
  {
   "cell_type": "code",
   "execution_count": 38,
   "metadata": {
    "slideshow": {
     "slide_type": "fragment"
    }
   },
   "outputs": [],
   "source": [
    "# create random dataset\n",
    "size = 1000\n",
    "x = np.random.randint(-size, size, size=size//3) # random x and y coordinates\n",
    "y = np.random.randint(-size, size, size=size//3)\n",
    "data = np.random.randint(-50, 20, size=size//3) # random hydraulic heads"
   ]
  },
  {
   "cell_type": "code",
   "execution_count": 39,
   "metadata": {
    "slideshow": {
     "slide_type": "subslide"
    }
   },
   "outputs": [
    {
     "data": {
      "image/png": "[encoded data removed]",
      "text/plain": [
       "<matplotlib.figure.Figure at 0x7f8f31e49e10>"
      ]
     },
     "metadata": {},
     "output_type": "display_data"
    }
   ],
   "source": [
    "plt.figure(figsize=(4, 4))\n",
    "plt.tricontourf(x, y, data, cmap='terrain', vmin=-50, vmax=20)\n",
    "plt.colorbar()\n",
    "plt.scatter(x, y, s=3, c='k')\n",
    "plt.xlabel('x')\n",
    "plt.ylabel('y');"
   ]
  },
  {
   "cell_type": "code",
   "execution_count": 40,
   "metadata": {
    "slideshow": {
     "slide_type": "subslide"
    }
   },
   "outputs": [
    {
     "data": {
      "image/png": "[encoded data removed]",
      "text/plain": [
       "<matplotlib.figure.Figure at 0x7f8f2aaaf908>"
      ]
     },
     "metadata": {},
     "output_type": "display_data"
    }
   ],
   "source": [
    "dxy = 100 # step size\n",
    "xi = np.arange(-size, size+dxy, dxy) # gridding positions xi and yi\n",
    "yi = np.arange(-size, size+dxy, dxy)\n",
    "xxi, yyi = np.meshgrid(xi, yi)\n",
    "\n",
    "from scipy.interpolate import griddata\n",
    "\n",
    "plt.figure(figsize=(12, 4))\n",
    "for i, k in enumerate(['nearest', 'linear', 'cubic']):\n",
    "    plt.subplot(1, 3, i+1)\n",
    "    plt.contourf(xxi, yyi, griddata((x, y), data, (xxi, yyi), method=k), cmap='terrain', vmin=-50, vmax=20)\n",
    "    plt.colorbar()\n",
    "    plt.title(k)\n",
    "plt.tight_layout()"
   ]
  },
  {
   "cell_type": "code",
   "execution_count": 41,
   "metadata": {
    "slideshow": {
     "slide_type": "subslide"
    }
   },
   "outputs": [
    {
     "data": {
      "image/png": "[encoded data removed]",
      "text/plain": [
       "<matplotlib.figure.Figure at 0x7f8f3220ae80>"
      ]
     },
     "metadata": {},
     "output_type": "display_data"
    }
   ],
   "source": [
    "dxy = 250 # step size\n",
    "xi = np.arange(-size, size+dxy, dxy) # gridding positions xi and yi\n",
    "yi = np.arange(-size, size+dxy, dxy)\n",
    "xxi, yyi = np.meshgrid(xi, yi)\n",
    "\n",
    "from scipy.interpolate import griddata\n",
    "\n",
    "plt.figure(figsize=(12, 4))\n",
    "for i, k in enumerate(['nearest', 'linear', 'cubic']):\n",
    "    plt.subplot(1, 3, i+1)\n",
    "    plt.contourf(xxi, yyi, griddata((x, y), data, (xxi, yyi), method=k), cmap='terrain', vmin=-50, vmax=20)\n",
    "    plt.colorbar()\n",
    "    plt.title(k)\n",
    "plt.tight_layout()"
   ]
  },
  {
   "cell_type": "markdown",
   "metadata": {
    "slideshow": {
     "slide_type": "subslide"
    }
   },
   "source": [
    "### Real-World problem: Optimization of Room-and-Pillar layout\n",
    "\n",
    "* problems for finding a suitable layout for a room-and-pillar mining\n",
    "* Factor-of-Safety (FOS) ~ 2.5\n",
    "* just as an approximation with empirical relations\n",
    "\n",
    "* using our previously defined classes `FOSManager`\n",
    "\n",
    "See for optimization methods: [https://docs.scipy.org/doc/scipy/reference/tutorial/optimize.html](https://docs.scipy.org/doc/scipy/reference/tutorial/optimize.html)"
   ]
  },
  {
   "cell_type": "code",
   "execution_count": 42,
   "metadata": {
    "slideshow": {
     "slide_type": "subslide"
    }
   },
   "outputs": [],
   "source": [
    "from scipy.optimize import least_squares, minimize # simple optimization routine that minimize scalar\n",
    "UCS = 80e6 # UCS value of the material\n",
    "H = 500.0 # m\n",
    "rho = 2700.0 # kg /m³\n",
    "FOS_target = 2.5 # targeted FOS value\n",
    "re = [] # empty list to store results of each optimization step\n",
    "\n",
    "def opti_fun(x, FOS_target, approach): # optimization function\n",
    "    a, bk, Hp = x # unpack values\n",
    "    # optimization parameters: pillar width a, chamber with bk, pillar height Hp, target FOS FOS_target\n",
    "    fom = FOSManagerQuad(rho, H, a, bk) # usage of FOS Manager derived class, global vars rho and H, local vars a, bk\n",
    "    if approach in approaches:\n",
    "        func = approaches[approach]\n",
    "    else:\n",
    "        func = bienawski\n",
    "    Wp = a # access local var a\n",
    "    sg = func(UCS, Wp, Hp)\n",
    "    fos = fom.estimate_failure(sg)\n",
    "    err = abs(fos - FOS_target)\n",
    "    re.append([a, bk, Hp, fos, err])\n",
    "    return err # return error estimate, single number"
   ]
  },
  {
   "cell_type": "code",
   "execution_count": 43,
   "metadata": {
    "slideshow": {
     "slide_type": "subslide"
    }
   },
   "outputs": [
    {
     "name": "stdout",
     "output_type": "stream",
     "text": [
      "`gtol` termination condition is satisfied.\n",
      "Function evaluations 4, initial cost 1.7067e-02, final cost 8.5590e-19, first-order optimality 1.12e-09.\n"
     ]
    }
   ],
   "source": [
    "# assuming rectangular shaped pillar\n",
    "# starting estimates\n",
    "aWp0 = 3.0\n",
    "bk0 = 3.0\n",
    "Hp0 = 3.0\n",
    "\n",
    "# subjected to bounds\n",
    "aWpb = (2, 10) # pillar and room lengths\n",
    "bkb = (2, 10)\n",
    "Hpb = (3, 5) # pillar and romm height subjected to machine layout\n",
    "\n",
    "res = least_squares(opti_fun, x0=(aWp0, bk0, Hp0),\n",
    "                    args=(FOS_target, 'bienawski'),\n",
    "                    bounds=([aWpb[0], bkb[0], Hpb[0]], [aWpb[1], bkb[1], Hpb[1]]),\n",
    "                    verbose=1)"
   ]
  },
  {
   "cell_type": "code",
   "execution_count": 44,
   "metadata": {
    "slideshow": {
     "slide_type": "subslide"
    }
   },
   "outputs": [
    {
     "data": {
      "text/plain": [
       " active_mask: array([0, 0, 0])\n",
       "        cost: 8.5590363957478317e-19\n",
       "         fun: array([  1.30836053e-09])\n",
       "        grad: array([  1.17562424e-09,   6.45602668e-10,   3.05318356e-10])\n",
       "         jac: array([[ 0.89854762,  0.49344401,  0.2333595 ]])\n",
       "     message: '`gtol` termination condition is satisfied.'\n",
       "        nfev: 4\n",
       "        njev: 4\n",
       "  optimality: 1.1171621764319125e-09\n",
       "      status: 1\n",
       "     success: True\n",
       "           x: array([ 2.95027147,  3.22540224,  3.03477515])"
      ]
     },
     "execution_count": 44,
     "metadata": {},
     "output_type": "execute_result"
    }
   ],
   "source": [
    "res"
   ]
  },
  {
   "cell_type": "code",
   "execution_count": 45,
   "metadata": {
    "slideshow": {
     "slide_type": "subslide"
    }
   },
   "outputs": [
    {
     "data": {
      "image/png": "[encoded data removed]",
      "text/plain": [
       "<matplotlib.figure.Figure at 0x7f8f31eeedd8>"
      ]
     },
     "metadata": {},
     "output_type": "display_data"
    }
   ],
   "source": [
    "re = np.array(re)\n",
    "plt.figure()\n",
    "for idx, k, m in zip((-2, 0, 1, 2), ('FOS', 'a', 'bk', 'Hp'), (1, 2, 3, 4)):\n",
    "    plt.subplot(2, 2, m)\n",
    "    plt.plot(re[:, idx])\n",
    "    plt.xlabel('IT')\n",
    "    plt.ylabel(k)\n",
    "\n",
    "plt.tight_layout()"
   ]
  },
  {
   "cell_type": "code",
   "execution_count": 46,
   "metadata": {
    "slideshow": {
     "slide_type": "subslide"
    }
   },
   "outputs": [
    {
     "data": {
      "text/plain": [
       "     fun: 2.5950441795430379e-09\n",
       "     jac: array([ 0.40001993,  0.56762741,  0.29027714])\n",
       " message: 'Converged (|x_n-x_(n-1)| ~= 0)'\n",
       "    nfev: 55\n",
       "     nit: 2\n",
       "  status: 2\n",
       " success: True\n",
       "       x: array([ 2.85828766,  3.092021  ,  3.00310571])"
      ]
     },
     "execution_count": 46,
     "metadata": {},
     "output_type": "execute_result"
    }
   ],
   "source": [
    "# simple minimize function\n",
    "re = []\n",
    "res = minimize(opti_fun, x0=(aWp0, bk0, Hp0),\n",
    "               args=(FOS_target, 'bienawski'),\n",
    "               method='TNC', tol=1e-16,\n",
    "               bounds=(aWpb, bkb, Hpb))\n",
    "res"
   ]
  },
  {
   "cell_type": "code",
   "execution_count": 47,
   "metadata": {
    "slideshow": {
     "slide_type": "subslide"
    }
   },
   "outputs": [
    {
     "data": {
      "image/png": "[encoded data removed]",
      "text/plain": [
       "<matplotlib.figure.Figure at 0x7f8f2ad70978>"
      ]
     },
     "metadata": {},
     "output_type": "display_data"
    }
   ],
   "source": [
    "re = np.array(re)\n",
    "plt.figure()\n",
    "\n",
    "for idx, k, m in zip((-2, 0, 1, 2), ('FOS', 'a', 'bk', 'Hp'), (1, 2, 3, 4)):\n",
    "    plt.subplot(2, 2, m)\n",
    "    plt.plot(re[:, idx])\n",
    "    plt.xlabel('IT')\n",
    "    plt.ylabel(k)\n",
    "\n",
    "plt.tight_layout()"
   ]
  },
  {
   "cell_type": "code",
   "execution_count": 48,
   "metadata": {
    "slideshow": {
     "slide_type": "subslide"
    }
   },
   "outputs": [
    {
     "name": "stdout",
     "output_type": "stream",
     "text": [
      "differential_evolution step 1: f(x)= 0.0371029\n",
      "differential_evolution step 2: f(x)= 0.00919213\n",
      "differential_evolution step 3: f(x)= 0.00919213\n",
      "differential_evolution step 4: f(x)= 0.00919213\n",
      "differential_evolution step 5: f(x)= 0.00919213\n",
      "differential_evolution step 6: f(x)= 0.00548227\n",
      "differential_evolution step 7: f(x)= 0.00548227\n",
      "differential_evolution step 8: f(x)= 0.00548227\n",
      "differential_evolution step 9: f(x)= 0.00548227\n",
      "differential_evolution step 10: f(x)= 0.00548227\n",
      "differential_evolution step 11: f(x)= 6.47249e-05\n",
      "differential_evolution step 12: f(x)= 6.47249e-05\n",
      "differential_evolution step 13: f(x)= 6.47249e-05\n",
      "differential_evolution step 14: f(x)= 6.47249e-05\n",
      "differential_evolution step 15: f(x)= 6.47249e-05\n",
      "differential_evolution step 16: f(x)= 6.47249e-05\n",
      "differential_evolution step 17: f(x)= 6.47249e-05\n",
      "differential_evolution step 18: f(x)= 6.47249e-05\n",
      "differential_evolution step 19: f(x)= 6.47249e-05\n",
      "differential_evolution step 20: f(x)= 6.47249e-05\n",
      "differential_evolution step 21: f(x)= 6.47249e-05\n",
      "differential_evolution step 22: f(x)= 6.47249e-05\n",
      "differential_evolution step 23: f(x)= 6.47249e-05\n",
      "differential_evolution step 24: f(x)= 6.47249e-05\n",
      "differential_evolution step 25: f(x)= 6.47249e-05\n",
      "differential_evolution step 26: f(x)= 6.47249e-05\n",
      "differential_evolution step 27: f(x)= 5.96018e-05\n",
      "differential_evolution step 28: f(x)= 5.64435e-06\n",
      "differential_evolution step 29: f(x)= 5.64435e-06\n",
      "differential_evolution step 30: f(x)= 5.64435e-06\n",
      "differential_evolution step 31: f(x)= 5.64435e-06\n",
      "differential_evolution step 32: f(x)= 5.64435e-06\n",
      "differential_evolution step 33: f(x)= 5.64435e-06\n",
      "differential_evolution step 34: f(x)= 3.49682e-06\n",
      "differential_evolution step 35: f(x)= 3.49682e-06\n",
      "differential_evolution step 36: f(x)= 3.49682e-06\n",
      "differential_evolution step 37: f(x)= 3.49682e-06\n",
      "differential_evolution step 38: f(x)= 3.49682e-06\n",
      "differential_evolution step 39: f(x)= 9.73542e-07\n",
      "differential_evolution step 40: f(x)= 4.96403e-07\n",
      "differential_evolution step 41: f(x)= 4.96403e-07\n",
      "differential_evolution step 42: f(x)= 4.96403e-07\n",
      "differential_evolution step 43: f(x)= 4.03011e-07\n",
      "differential_evolution step 44: f(x)= 8.55159e-08\n",
      "differential_evolution step 45: f(x)= 8.55159e-08\n",
      "differential_evolution step 46: f(x)= 8.55159e-08\n",
      "differential_evolution step 47: f(x)= 8.55159e-08\n",
      "differential_evolution step 48: f(x)= 8.55159e-08\n",
      "differential_evolution step 49: f(x)= 8.55159e-08\n",
      "differential_evolution step 50: f(x)= 8.55159e-08\n",
      "differential_evolution step 51: f(x)= 8.55159e-08\n",
      "differential_evolution step 52: f(x)= 8.55159e-08\n",
      "differential_evolution step 53: f(x)= 2.14184e-09\n",
      "differential_evolution step 54: f(x)= 2.14184e-09\n",
      "differential_evolution step 55: f(x)= 2.14184e-09\n",
      "differential_evolution step 56: f(x)= 2.14184e-09\n",
      "differential_evolution step 57: f(x)= 2.14184e-09\n",
      "differential_evolution step 58: f(x)= 2.14184e-09\n",
      "differential_evolution step 59: f(x)= 2.14184e-09\n",
      "differential_evolution step 60: f(x)= 2.14184e-09\n",
      "differential_evolution step 61: f(x)= 2.14184e-09\n",
      "differential_evolution step 62: f(x)= 2.14184e-09\n",
      "differential_evolution step 63: f(x)= 2.14184e-09\n",
      "differential_evolution step 64: f(x)= 2.14184e-09\n",
      "differential_evolution step 65: f(x)= 2.14184e-09\n",
      "differential_evolution step 66: f(x)= 2.14184e-09\n",
      "differential_evolution step 67: f(x)= 2.14184e-09\n",
      "differential_evolution step 68: f(x)= 1.41339e-09\n",
      "differential_evolution step 69: f(x)= 1.41339e-09\n",
      "differential_evolution step 70: f(x)= 1.41339e-09\n",
      "differential_evolution step 71: f(x)= 1.39217e-09\n",
      "differential_evolution step 72: f(x)= 1.39217e-09\n",
      "differential_evolution step 73: f(x)= 4.29841e-10\n",
      "differential_evolution step 74: f(x)= 3.26687e-10\n",
      "differential_evolution step 75: f(x)= 3.26687e-10\n",
      "differential_evolution step 76: f(x)= 3.26687e-10\n",
      "differential_evolution step 77: f(x)= 3.26687e-10\n",
      "differential_evolution step 78: f(x)= 3.26687e-10\n",
      "differential_evolution step 79: f(x)= 3.26687e-10\n",
      "differential_evolution step 80: f(x)= 3.26687e-10\n",
      "differential_evolution step 81: f(x)= 6.01408e-11\n",
      "differential_evolution step 82: f(x)= 6.01408e-11\n",
      "differential_evolution step 83: f(x)= 6.01408e-11\n",
      "differential_evolution step 84: f(x)= 6.01408e-11\n",
      "differential_evolution step 85: f(x)= 4.51204e-11\n",
      "differential_evolution step 86: f(x)= 4.51204e-11\n",
      "differential_evolution step 87: f(x)= 2.47393e-11\n",
      "differential_evolution step 88: f(x)= 7.45892e-12\n",
      "differential_evolution step 89: f(x)= 7.45892e-12\n",
      "differential_evolution step 90: f(x)= 7.45892e-12\n",
      "differential_evolution step 91: f(x)= 7.45892e-12\n",
      "differential_evolution step 92: f(x)= 7.45892e-12\n",
      "differential_evolution step 93: f(x)= 7.45892e-12\n",
      "differential_evolution step 94: f(x)= 7.45892e-12\n",
      "differential_evolution step 95: f(x)= 2.3439e-12\n",
      "differential_evolution step 96: f(x)= 2.3439e-12\n",
      "differential_evolution step 97: f(x)= 2.3439e-12\n",
      "differential_evolution step 98: f(x)= 2.3439e-12\n",
      "differential_evolution step 99: f(x)= 2.3439e-12\n",
      "differential_evolution step 100: f(x)= 2.3439e-12\n",
      "differential_evolution step 101: f(x)= 2.3439e-12\n",
      "differential_evolution step 102: f(x)= 2.3439e-12\n",
      "differential_evolution step 103: f(x)= 1.93534e-12\n",
      "differential_evolution step 104: f(x)= 1.93534e-12\n",
      "differential_evolution step 105: f(x)= 1.93534e-12\n",
      "differential_evolution step 106: f(x)= 1.93534e-12\n",
      "differential_evolution step 107: f(x)= 1.93534e-12\n",
      "differential_evolution step 108: f(x)= 8.54872e-13\n",
      "differential_evolution step 109: f(x)= 8.1668e-13\n",
      "differential_evolution step 110: f(x)= 3.83693e-13\n",
      "differential_evolution step 111: f(x)= 8.34888e-14\n",
      "differential_evolution step 112: f(x)= 8.34888e-14\n",
      "differential_evolution step 113: f(x)= 8.34888e-14\n",
      "differential_evolution step 114: f(x)= 8.34888e-14\n",
      "differential_evolution step 115: f(x)= 8.34888e-14\n",
      "differential_evolution step 116: f(x)= 5.19584e-14\n",
      "differential_evolution step 117: f(x)= 5.19584e-14\n",
      "differential_evolution step 118: f(x)= 5.19584e-14\n",
      "differential_evolution step 119: f(x)= 5.19584e-14\n",
      "differential_evolution step 120: f(x)= 1.19904e-14\n",
      "differential_evolution step 121: f(x)= 1.19904e-14\n",
      "differential_evolution step 122: f(x)= 1.19904e-14\n",
      "differential_evolution step 123: f(x)= 1.19904e-14\n",
      "differential_evolution step 124: f(x)= 1.19904e-14\n",
      "differential_evolution step 125: f(x)= 1.19904e-14\n",
      "differential_evolution step 126: f(x)= 1.19904e-14\n",
      "differential_evolution step 127: f(x)= 1.19904e-14\n",
      "differential_evolution step 128: f(x)= 1.19904e-14\n",
      "differential_evolution step 129: f(x)= 4.44089e-16\n",
      "differential_evolution step 130: f(x)= 4.44089e-16\n",
      "differential_evolution step 131: f(x)= 4.44089e-16\n",
      "differential_evolution step 132: f(x)= 4.44089e-16\n",
      "differential_evolution step 133: f(x)= 4.44089e-16\n",
      "differential_evolution step 134: f(x)= 4.44089e-16\n",
      "differential_evolution step 135: f(x)= 4.44089e-16\n",
      "differential_evolution step 136: f(x)= 4.44089e-16\n",
      "differential_evolution step 137: f(x)= 4.44089e-16\n",
      "differential_evolution step 138: f(x)= 4.44089e-16\n",
      "differential_evolution step 139: f(x)= 4.44089e-16\n",
      "differential_evolution step 140: f(x)= 4.44089e-16\n",
      "differential_evolution step 141: f(x)= 4.44089e-16\n",
      "differential_evolution step 142: f(x)= 4.44089e-16\n",
      "differential_evolution step 143: f(x)= 4.44089e-16\n",
      "differential_evolution step 144: f(x)= 4.44089e-16\n",
      "differential_evolution step 145: f(x)= 4.44089e-16\n",
      "differential_evolution step 146: f(x)= 4.44089e-16\n",
      "differential_evolution step 147: f(x)= 4.44089e-16\n",
      "differential_evolution step 148: f(x)= 4.44089e-16\n",
      "differential_evolution step 149: f(x)= 4.44089e-16\n",
      "differential_evolution step 150: f(x)= 4.44089e-16\n",
      "differential_evolution step 151: f(x)= 4.44089e-16\n",
      "differential_evolution step 152: f(x)= 4.44089e-16\n",
      "differential_evolution step 153: f(x)= 4.44089e-16\n",
      "differential_evolution step 154: f(x)= 4.44089e-16\n",
      "differential_evolution step 155: f(x)= 0\n",
      "differential_evolution step 156: f(x)= 0\n",
      "differential_evolution step 157: f(x)= 0\n",
      "differential_evolution step 158: f(x)= 0\n",
      "differential_evolution step 159: f(x)= 0\n",
      "differential_evolution step 160: f(x)= 0\n",
      "differential_evolution step 161: f(x)= 0\n",
      "differential_evolution step 162: f(x)= 0\n",
      "differential_evolution step 163: f(x)= 0\n",
      "differential_evolution step 164: f(x)= 0\n",
      "differential_evolution step 165: f(x)= 0\n",
      "differential_evolution step 166: f(x)= 0\n",
      "differential_evolution step 167: f(x)= 0\n",
      "differential_evolution step 168: f(x)= 0\n",
      "differential_evolution step 169: f(x)= 0\n",
      "differential_evolution step 170: f(x)= 0\n",
      "differential_evolution step 171: f(x)= 0\n",
      "differential_evolution step 172: f(x)= 0\n",
      "differential_evolution step 173: f(x)= 0\n",
      "differential_evolution step 174: f(x)= 0\n",
      "differential_evolution step 175: f(x)= 0\n",
      "differential_evolution step 176: f(x)= 0\n",
      "differential_evolution step 177: f(x)= 0\n",
      "differential_evolution step 178: f(x)= 0\n",
      "differential_evolution step 179: f(x)= 0\n",
      "differential_evolution step 180: f(x)= 0\n",
      "differential_evolution step 181: f(x)= 0\n",
      "differential_evolution step 182: f(x)= 0\n",
      "differential_evolution step 183: f(x)= 0\n",
      "differential_evolution step 184: f(x)= 0\n",
      "differential_evolution step 185: f(x)= 0\n",
      "differential_evolution step 186: f(x)= 0\n",
      "differential_evolution step 187: f(x)= 0\n",
      "differential_evolution step 188: f(x)= 0\n",
      "differential_evolution step 189: f(x)= 0\n",
      "differential_evolution step 190: f(x)= 0\n",
      "differential_evolution step 191: f(x)= 0\n",
      "differential_evolution step 192: f(x)= 0\n",
      "differential_evolution step 193: f(x)= 0\n"
     ]
    }
   ],
   "source": [
    "# global optimization\n",
    "from scipy.optimize import differential_evolution\n",
    "re = []\n",
    "res = differential_evolution(opti_fun, args=(FOS_target, 'bienawski'),\n",
    "                             tol=1e-16, bounds=(aWpb, bkb, Hpb),\n",
    "                             disp=True)"
   ]
  },
  {
   "cell_type": "code",
   "execution_count": 49,
   "metadata": {
    "slideshow": {
     "slide_type": "subslide"
    }
   },
   "outputs": [
    {
     "data": {
      "text/plain": [
       "     fun: 0.0\n",
       " message: 'Optimization terminated successfully.'\n",
       "    nfev: 8814\n",
       "     nit: 193\n",
       " success: True\n",
       "       x: array([ 5.14000183,  6.47734573,  4.02517577])"
      ]
     },
     "execution_count": 49,
     "metadata": {},
     "output_type": "execute_result"
    }
   ],
   "source": [
    "res"
   ]
  },
  {
   "cell_type": "code",
   "execution_count": 50,
   "metadata": {
    "slideshow": {
     "slide_type": "subslide"
    }
   },
   "outputs": [
    {
     "data": {
      "image/png": "[encoded data removed]",
      "text/plain": [
       "<matplotlib.figure.Figure at 0x7f8f2acafac8>"
      ]
     },
     "metadata": {},
     "output_type": "display_data"
    }
   ],
   "source": [
    "re = np.array(re)\n",
    "plt.figure()\n",
    "\n",
    "for idx, k, m in zip((-2, 0, 1, 2), ('FOS', 'a', 'bk', 'Hp'), (1, 2, 3, 4)):\n",
    "    plt.subplot(2, 2, m)\n",
    "    plt.plot(re[:, idx])\n",
    "    plt.xlabel('IT')\n",
    "    plt.ylabel(k)\n",
    "\n",
    "plt.tight_layout()"
   ]
  },
  {
   "cell_type": "markdown",
   "metadata": {
    "slideshow": {
     "slide_type": "subslide"
    }
   },
   "source": [
    "### Theory: Selecting and iterating data\n",
    "\n",
    "* iteration is possible over various Python objects (e.g. list, tuple, dict-(key- and/or value-)views, numpy arrays, strings, ...\n",
    "* creating iteratable objects is possible:\n",
    "    * need to implement `__iter__`-attribute\n",
    "    * need to implement `__next__`-attribute\n",
    "* selecting of subset of data is possible - **slicing**"
   ]
  },
  {
   "cell_type": "code",
   "execution_count": 51,
   "metadata": {
    "slideshow": {
     "slide_type": "fragment"
    }
   },
   "outputs": [
    {
     "name": "stdout",
     "output_type": "stream",
     "text": [
      "[1, 2, 3, 4]\n",
      "[5, 6, 7, 8, 9]\n",
      "[1, 3, 5, 7, 9]\n",
      "[10, 9, 8, 7, 6, 5, 4, 3, 2, 1]\n",
      "H e l l o   I t e r a t i o n ! "
     ]
    }
   ],
   "source": [
    "l1 = [1, 2, 3, 4, 5, 6, 7, 8, 9, 10]\n",
    "\n",
    "# selecting data\n",
    "print(l1[0:4]) # selecting elements from index 0 to 4-1 from list l2\n",
    "print(l1[4:-1]) # selecting elements from index 4 to end-1 from list l2\n",
    "print(l1[::2]) # selecting every second element\n",
    "print(l1[::-1]) # reverse list\n",
    "\n",
    "for c in 'Hello Iteration!': # iterating over strings\n",
    "    print(c, end=' ')"
   ]
  },
  {
   "cell_type": "code",
   "execution_count": 52,
   "metadata": {
    "slideshow": {
     "slide_type": "subslide"
    }
   },
   "outputs": [
    {
     "name": "stdout",
     "output_type": "stream",
     "text": [
      "1; 2; 3; 4; 5; 6; 7; 8; 9; 10; \n",
      "1/ 3/ 5/ 7/ \n",
      "1.0| 1.4443| 1.8887| 2.334| 2.7773| 3.2227| 3.666| 4.1094| 4.5547| 5.0| "
     ]
    }
   ],
   "source": [
    "# iterating over iterables\n",
    "for elem in l1:\n",
    "    print(elem, end='; ')\n",
    "print()\n",
    "# iteration and selection\n",
    "for elem in l1[:-3:2]:\n",
    "    print(elem, end='/ ')\n",
    "print()\n",
    "import numpy as np\n",
    "x = np.linspace(1, 5, 10, dtype=np.float16)\n",
    "for xi in x:\n",
    "    print(xi, end='| ')"
   ]
  },
  {
   "cell_type": "code",
   "execution_count": 53,
   "metadata": {
    "slideshow": {
     "slide_type": "subslide"
    }
   },
   "outputs": [
    {
     "name": "stdout",
     "output_type": "stream",
     "text": [
      "[1, 2, 3, 4, 5]\n",
      "[ 1.          1.44433594  1.88867188  2.33398438  2.77734375  3.22265625\n",
      "  3.66601562  4.109375    4.5546875   5.        ]\n",
      "[  2.           2.88867188   3.77734375   4.66796875   5.5546875\n",
      "   6.4453125    7.33203125   8.21875      9.109375    10.        ]\n"
     ]
    }
   ],
   "source": [
    "# iteration and references\n",
    "l2 = [1, 2, 3, 4, 5]\n",
    "for item in l2:\n",
    "    item *= 2\n",
    "print(l2)\n",
    "\n",
    "x = np.linspace(1, 5, 10, dtype=np.float16)\n",
    "for xi in x:\n",
    "    xi *= 2\n",
    "print(x)\n",
    "\n",
    "# different:\n",
    "for i in range(len(x)):\n",
    "    x[i]*=2\n",
    "print(x)"
   ]
  },
  {
   "cell_type": "code",
   "execution_count": 54,
   "metadata": {
    "slideshow": {
     "slide_type": "subslide"
    }
   },
   "outputs": [
    {
     "data": {
      "image/png": "[encoded data removed]",
      "text/plain": [
       "<matplotlib.figure.Figure at 0x7f8f2a573400>"
      ]
     },
     "metadata": {},
     "output_type": "display_data"
    }
   ],
   "source": [
    "# selectively plotting data\n",
    "import numpy as np\n",
    "import matplotlib.pyplot as plt\n",
    "\n",
    "x = np.sort(np.random.uniform(0, 1, 50))\n",
    "y = np.random.uniform(0, 1, 50)\n",
    "idx = np.argwhere(x < 0.5) # returns boolean array\n",
    "plt.figure()\n",
    "plt.plot(x[idx], y[idx])\n",
    "plt.plot(x, y+1);"
   ]
  },
  {
   "cell_type": "markdown",
   "metadata": {
    "slideshow": {
     "slide_type": "subslide"
    }
   },
   "source": [
    "### Scientific visualization\n",
    "\n",
    "* usually done with `matplotlib`-package\n",
    "* various possibilities\n",
    "* line, contour, image, histogram, scatter and statistical plots and many more\n",
    "* semi-3d plots using 2d-backend\n",
    "\n",
    "\n",
    "* others: seaborn (statistical), pyvista (3D), vtk (3D)"
   ]
  },
  {
   "cell_type": "code",
   "execution_count": 55,
   "metadata": {
    "slideshow": {
     "slide_type": "subslide"
    }
   },
   "outputs": [
    {
     "data": {
      "image/png": "[encoded data removed]",
      "text/plain": [
       "<matplotlib.figure.Figure at 0x7f8f2a5657b8>"
      ]
     },
     "metadata": {},
     "output_type": "display_data"
    }
   ],
   "source": [
    "import numpy as np\n",
    "import matplotlib.pyplot as plt\n",
    "xdat = np.random.rand(50)\n",
    "ydat = np.random.rand(50)\n",
    "plt.figure() # open new figure MATLAB-like syntax\n",
    "plt.subplot(221) # open new subplot with 2x2 layout and subplot number 1 (upper left corner)\n",
    "plt.plot(np.sort(xdat), ydat, ls='--', c='r') # plot x and y data with dashed linestyle and red color\n",
    "plt.grid(ls='--') # plot grid\n",
    "plt.subplot(222) # upper right corner\n",
    "plt.scatter(xdat, ydat, s=15, marker='^') # scatter plot of x and y data with 'hat' markers in size 5\n",
    "plt.subplot(223)\n",
    "plt.hist((xdat, ydat), label=('xdata', 'ydata'), alpha=.6, bins=5) # histogram plot of two histograms with transparency\n",
    "plt.legend() # plot automatic legend, containing label information\n",
    "plt.subplot(224)\n",
    "plt.boxplot((xdat, ydat), showmeans=True, labels=('xdata', 'ydata'))\n",
    "plt.tight_layout() # automatically adjust subplots"
   ]
  },
  {
   "cell_type": "code",
   "execution_count": 56,
   "metadata": {
    "slideshow": {
     "slide_type": "subslide"
    }
   },
   "outputs": [
    {
     "data": {
      "image/png": "[encoded data removed]",
      "text/plain": [
       "<matplotlib.figure.Figure at 0x7f8f2ab94710>"
      ]
     },
     "metadata": {},
     "output_type": "display_data"
    }
   ],
   "source": [
    "# the same with axes objects: pythonic way\n",
    "fig, ((ax1, ax2), (ax3, ax4)) = plt.subplots(2, 2)\n",
    "ax1.plot(np.sort(xdat), ydat, ls='--', c='r')\n",
    "ax1.grid(ls='--')\n",
    "ax2.scatter(xdat, ydat, s=15, marker='^')\n",
    "ax3.hist((xdat, ydat), label=('xdata', 'ydata'), alpha=.6, bins=5)\n",
    "ax3.legend()\n",
    "ax4.boxplot((xdat, ydat), showmeans=True, labels=('xdata', 'ydata'))\n",
    "fig.tight_layout()"
   ]
  },
  {
   "cell_type": "markdown",
   "metadata": {
    "slideshow": {
     "slide_type": "subslide"
    }
   },
   "source": [
    "### Real-World problem: Visualizing laboratory / measurement data\n",
    "\n",
    "* usually stored in CSV, ASCII or Excel files (easy, structure human-readable)\n",
    "* some data in binary format (bit more difficult, structure and datatypes must be known)\n",
    "\n",
    "\n",
    "* CSV, Text and Excel files can be read via:\n",
    "    * `numpy.fromfile`, `numpy.loadtxt`, `numpy.genfromtxt`, ...\n",
    "    * `pandas.read_csv`, `pandas.read_excel`, ... (also other possible formats: JSON, HDF, SQL, ...)\n",
    "* Binary data can be read via:\n",
    "    * `numpy.load` (numpy-Format, \\*.npy, \\*.npz), `numpy.fromfile`\n",
    "    * `scipy.loadmat` (MATLAB-files \\*.mat)"
   ]
  },
  {
   "cell_type": "markdown",
   "metadata": {
    "slideshow": {
     "slide_type": "subslide"
    }
   },
   "source": [
    "#### Scenario 1: Reading UCS-data from Excel sheets\n",
    "\n",
    "... using Pandas"
   ]
  },
  {
   "cell_type": "code",
   "execution_count": 57,
   "metadata": {
    "slideshow": {
     "slide_type": "fragment"
    }
   },
   "outputs": [
    {
     "name": "stdout",
     "output_type": "stream",
     "text": [
      "['Probe (1)', 'Probe (2)', 'Probe (3)', 'Probe (4)', 'Probe (5)', 'Probe (6)', 'Probe (7)', 'Probe (8)', 'Probe (9)', 'Probe (10)']\n"
     ]
    }
   ],
   "source": [
    "import pandas as pd\n",
    "\n",
    "excf = './data/gneis_lab.xlsx' # filename\n",
    "# the most flexible approach\n",
    "excelfile = pd.ExcelFile(excf)\n",
    "print(excelfile.sheet_names)"
   ]
  },
  {
   "cell_type": "code",
   "execution_count": 58,
   "metadata": {
    "slideshow": {
     "slide_type": "subslide"
    }
   },
   "outputs": [
    {
     "data": {
      "text/html": [
       "<div>\n",
       "<style scoped>\n",
       "    .dataframe tbody tr th:only-of-type {\n",
       "        vertical-align: middle;\n",
       "    }\n",
       "\n",
       "    .dataframe tbody tr th {\n",
       "        vertical-align: top;\n",
       "    }\n",
       "\n",
       "    .dataframe thead tr th {\n",
       "        text-align: left;\n",
       "    }\n",
       "</style>\n",
       "<table border=\"1\" class=\"dataframe\">\n",
       "  <thead>\n",
       "    <tr>\n",
       "      <th>Zeit</th>\n",
       "      <th>Kraft</th>\n",
       "      <th>Weg</th>\n",
       "      <th>L- Dehnung</th>\n",
       "      <th>L- Dehnung A</th>\n",
       "      <th>L- Dehnung B</th>\n",
       "      <th>L- Dehnung C</th>\n",
       "      <th>Ax-Spannung</th>\n",
       "      <th>L-Dehnung</th>\n",
       "    </tr>\n",
       "    <tr>\n",
       "      <th>s</th>\n",
       "      <th>kN</th>\n",
       "      <th>mm</th>\n",
       "      <th>mm</th>\n",
       "      <th>mm</th>\n",
       "      <th>mm</th>\n",
       "      <th>mm</th>\n",
       "      <th>MPa</th>\n",
       "      <th>-</th>\n",
       "    </tr>\n",
       "  </thead>\n",
       "  <tbody>\n",
       "    <tr>\n",
       "      <th>0.0</th>\n",
       "      <td>0.0</td>\n",
       "      <td>0.00</td>\n",
       "      <td>0.000</td>\n",
       "      <td>0.000</td>\n",
       "      <td>0.000</td>\n",
       "      <td>0.000</td>\n",
       "      <td>0.00</td>\n",
       "      <td>0.000000</td>\n",
       "    </tr>\n",
       "    <tr>\n",
       "      <th>0.1</th>\n",
       "      <td>10.0</td>\n",
       "      <td>0.00</td>\n",
       "      <td>0.000</td>\n",
       "      <td>0.000</td>\n",
       "      <td>0.000</td>\n",
       "      <td>0.000</td>\n",
       "      <td>5.09</td>\n",
       "      <td>0.000000</td>\n",
       "    </tr>\n",
       "    <tr>\n",
       "      <th>0.8</th>\n",
       "      <td>11.2</td>\n",
       "      <td>0.01</td>\n",
       "      <td>0.002</td>\n",
       "      <td>0.002</td>\n",
       "      <td>0.002</td>\n",
       "      <td>0.002</td>\n",
       "      <td>5.70</td>\n",
       "      <td>0.000039</td>\n",
       "    </tr>\n",
       "    <tr>\n",
       "      <th>0.9</th>\n",
       "      <td>11.4</td>\n",
       "      <td>0.01</td>\n",
       "      <td>0.002</td>\n",
       "      <td>0.002</td>\n",
       "      <td>0.002</td>\n",
       "      <td>0.003</td>\n",
       "      <td>5.81</td>\n",
       "      <td>0.000039</td>\n",
       "    </tr>\n",
       "    <tr>\n",
       "      <th>1.0</th>\n",
       "      <td>11.9</td>\n",
       "      <td>0.01</td>\n",
       "      <td>0.002</td>\n",
       "      <td>0.002</td>\n",
       "      <td>0.002</td>\n",
       "      <td>0.003</td>\n",
       "      <td>6.06</td>\n",
       "      <td>0.000039</td>\n",
       "    </tr>\n",
       "  </tbody>\n",
       "</table>\n",
       "</div>"
      ],
      "text/plain": [
       "Zeit Kraft   Weg L- Dehnung L- Dehnung A L- Dehnung B L- Dehnung C  \\\n",
       "s       kN    mm         mm           mm           mm           mm   \n",
       "0.0    0.0  0.00      0.000        0.000        0.000        0.000   \n",
       "0.1   10.0  0.00      0.000        0.000        0.000        0.000   \n",
       "0.8   11.2  0.01      0.002        0.002        0.002        0.002   \n",
       "0.9   11.4  0.01      0.002        0.002        0.002        0.003   \n",
       "1.0   11.9  0.01      0.002        0.002        0.002        0.003   \n",
       "\n",
       "Zeit Ax-Spannung L-Dehnung  \n",
       "s            MPa         -  \n",
       "0.0         0.00  0.000000  \n",
       "0.1         5.09  0.000000  \n",
       "0.8         5.70  0.000039  \n",
       "0.9         5.81  0.000039  \n",
       "1.0         6.06  0.000039  "
      ]
     },
     "execution_count": 58,
     "metadata": {},
     "output_type": "execute_result"
    }
   ],
   "source": [
    "# parse first sheet into a pandas DataFrame\n",
    "df = excelfile.parse(excelfile.sheet_names[0], skiprows=1, header=[0,1])\n",
    "# lets have a look at the data\n",
    "df.head()"
   ]
  },
  {
   "cell_type": "code",
   "execution_count": 59,
   "metadata": {
    "slideshow": {
     "slide_type": "subslide"
    }
   },
   "outputs": [
    {
     "data": {
      "image/png": "[encoded data removed]",
      "text/plain": [
       "<matplotlib.figure.Figure at 0x7f8f2aa9ca90>"
      ]
     },
     "metadata": {},
     "output_type": "display_data"
    }
   ],
   "source": [
    "# plot everything into one plot\n",
    "import matplotlib.pyplot as plt\n",
    "plt.figure() # open new figure\n",
    "for sheet in excelfile.sheet_names:\n",
    "    df = excelfile.parse(sheet, skiprows=1, header=[0,1])\n",
    "    plt.plot(df['L-Dehnung'], df['Ax-Spannung'], label=sheet)\n",
    "plt.legend(loc=2)\n",
    "plt.xlabel('Strain')\n",
    "plt.ylabel('Stress in MPa')\n",
    "plt.grid()"
   ]
  },
  {
   "cell_type": "markdown",
   "metadata": {
    "slideshow": {
     "slide_type": "subslide"
    }
   },
   "source": [
    "#### Scenario 2: Reading seismic data from binary (SU)-data\n",
    "\n",
    "* SU format: 240 byte header + trace\n",
    "* number of samples per trace $ns$ in header at byte 115, sampling rate $\\Delta t$ at byte 117\n",
    "* SU-Reference: [https://github.com/JohnWStockwellJr/SeisUnix/wiki/Seismic-Unix-data-format](https://github.com/JohnWStockwellJr/SeisUnix/wiki/Seismic-Unix-data-format)"
   ]
  },
  {
   "cell_type": "code",
   "execution_count": 60,
   "metadata": {
    "slideshow": {
     "slide_type": "subslide"
    }
   },
   "outputs": [
    {
     "data": {
      "image/png": "[encoded data removed]",
      "text/plain": [
       "<matplotlib.figure.Figure at 0x7f8f31ef86a0>"
      ]
     },
     "metadata": {},
     "output_type": "display_data"
    }
   ],
   "source": [
    "import numpy as np\n",
    "import matplotlib.pyplot as plt\n",
    "sudata = './data/ozdata.10.su' # file is encoded in big-endian\n",
    "plt.figure()\n",
    "with open(sudata, 'rb') as f: # using python file objects\n",
    "    f.seek(-1, 2) ; eof = f.tell() ; f.seek(0,0) # get file size\n",
    "    while(f.tell() < eof-240):\n",
    "        tracl = int.from_bytes(f.read(4), byteorder='big') # read 4 bytes --> int; trace number\n",
    "        f.seek(115 - 5, 1) # seek to byte 115 in header omitting previously read bytes\n",
    "        ns = int.from_bytes(f.read(2), byteorder='big') # bytes 115 - 116; samples\n",
    "        dt = int.from_bytes(f.read(2), byteorder='big') / 1e6 # bytes 117 - 118; mu-sec\n",
    "        f.seek(240-118, 1) # seek to start of trace\n",
    "        trace = np.fromfile(f, dtype='>f4', count=ns)\n",
    "        if len(trace) == ns:\n",
    "            plt.plot(np.linspace(0, dt*ns, ns), tracl+trace/trace.max(), c='k')"
   ]
  },
  {
   "cell_type": "markdown",
   "metadata": {
    "slideshow": {
     "slide_type": "slide"
    }
   },
   "source": [
    "## Special tasks\n",
    "\n",
    "What we have not spoken about:\n",
    "\n",
    "* Multithreading\n",
    "* Runtime analysis\n",
    "* Code optimization"
   ]
  },
  {
   "cell_type": "markdown",
   "metadata": {
    "slideshow": {
     "slide_type": "fragment"
    }
   },
   "source": [
    "### Multithreading\n",
    "\n",
    "* `import threading`\n",
    "* very complex\n",
    "* programmer need to take care about:\n",
    "    * synchronization of threads\n",
    "    * locking of globally available elements (variable access-on-write, file-identifiers, sockets, streams, ...)\n",
    "* !!! Errors ***WILL*** occur !!!"
   ]
  },
  {
   "cell_type": "markdown",
   "metadata": {
    "slideshow": {
     "slide_type": "subslide"
    }
   },
   "source": [
    "### Runtime analysis (Profiling)\n",
    "\n",
    "* various possibilities:\n",
    "    * simple: time measurement of one task using `import time`, `import timeit`\n",
    "    * profiling of functions using `import cProfile`: detailed analysis\n",
    "* finding of time-critical tasks\n",
    "* when found:\n",
    "    * ***doing nothing!***\n",
    "    * consider replacement of already available library functions\n",
    "    * using numpy and scipy-functions\n",
    "    * rewriting code in C or Fortran and call them via `import ctypes` or `import numpy.f2py`\n",
    "    * rewriting code to ***Cython*** != CPython"
   ]
  },
  {
   "cell_type": "markdown",
   "metadata": {
    "slideshow": {
     "slide_type": "subslide"
    }
   },
   "source": [
    "### Code Optimization using cython\n",
    "\n",
    "Cython is:\n",
    "\n",
    "* a special language similar to C for writing Python-like code\n",
    "* compiled into processor-specific code and linked against Python (not interpreted!)\n",
    "* using Cython-functions like normal Python-functions\n",
    "\n",
    "What you need:\n",
    "\n",
    "* a working compatible C-Compiler\n",
    "    * MSVC in the correct version (Windows)\n",
    "    * gcc in the correct version on Linux\n",
    "    * clang in the correct version on MacOS\n",
    "* Cython-package"
   ]
  },
  {
   "cell_type": "markdown",
   "metadata": {
    "slideshow": {
     "slide_type": "subslide"
    }
   },
   "source": [
    "### Example: Monte-Carlo-Approximation of Pi\n",
    "\n",
    "Approximation of $\\pi$ can be done with following algorithm:\n",
    "\n",
    "* randomly placing $N$ dots in a unit square\n",
    "* count dots, which fall into a quater of a unit circle\n",
    "* will lead to $\\frac{\\pi}{4}$\n",
    "* for $N \\rightarrow \\infty$\n",
    "\n",
    "<img src=\"images/Pi_statistisch.png\" width=300px />"
   ]
  },
  {
   "cell_type": "code",
   "execution_count": 61,
   "metadata": {
    "slideshow": {
     "slide_type": "subslide"
    }
   },
   "outputs": [
    {
     "name": "stdout",
     "output_type": "stream",
     "text": [
      "Pi with 1000000 iterations: 3.14064000 (0.208509sec)\n",
      "Timeit with 50 runs  : 0.198341sec\n"
     ]
    }
   ],
   "source": [
    "# python-implementation\n",
    "import time\n",
    "import timeit\n",
    "import random\n",
    "\n",
    "def mc_pi(N: int = 1000000):\n",
    "    in_ = 0\n",
    "    for i in range(N):\n",
    "        x = random.random()\n",
    "        y = random.random()\n",
    "        if x*x + y*y < 1:\n",
    "            in_ += 1\n",
    "    return float(4*in_)/N\n",
    "\n",
    "N = 1000000\n",
    "t1 = time.perf_counter()\n",
    "pi = mc_pi(N)\n",
    "print('Pi with %d iterations: %.8f (%.6fsec)' % (N, pi, time.perf_counter() - t1))\n",
    "print('Timeit with 50 runs  : %.6fsec' %\n",
    "      (timeit.timeit('mc_pi(N)', setup='from __main__ import mc_pi, N', number=50)/50))"
   ]
  },
  {
   "cell_type": "markdown",
   "metadata": {
    "slideshow": {
     "slide_type": "subslide"
    }
   },
   "source": [
    "### Setup Cython\n",
    "\n",
    "* various build-related files need to be set up correctly:\n",
    "    * \\*.pyxbld with pyximport\n",
    "    * setup.py on plain cython\n",
    "* compiler need to be specified:\n",
    "    * usually MSCV on Windows\n",
    "    * gcc on Linux\n",
    "    * clang on MacOS\n",
    "* versions shoud be the same"
   ]
  },
  {
   "cell_type": "code",
   "execution_count": 3,
   "metadata": {
    "slideshow": {
     "slide_type": "subslide"
    }
   },
   "outputs": [
    {
     "name": "stdout",
     "output_type": "stream",
     "text": [
      "3.7.7 (default, Mar 23 2020, 23:19:08) [MSC v.1916 64 bit (AMD64)]\n"
     ]
    }
   ],
   "source": [
    "import sys\n",
    "import subprocess\n",
    "import platform\n",
    "import shlex\n",
    "print(sys.version)\n",
    "# compilers need to be in search path\n",
    "compilers = {'Linux': 'gcc --version', 'Windows': 'cl.exe', 'Darwin': 'clang --version'}\n",
    "try:\n",
    "    print(subprocess.check_output(shlex.split(compilers[platform.system()])).decode('ascii'))\n",
    "except:\n",
    "    pass\n",
    "# In Jupyter you need to load the Cython-Magics and you're done! 😊\n",
    "%load_ext Cython"
   ]
  },
  {
   "cell_type": "code",
   "execution_count": 4,
   "metadata": {
    "slideshow": {
     "slide_type": "subslide"
    }
   },
   "outputs": [
    {
     "data": {
      "text/html": [
       "<!DOCTYPE html>\n",
       "<!-- Generated by Cython 0.29.15 -->\n",
       "<html>\n",
       "<head>\n",
       "    <meta http-equiv=\"Content-Type\" content=\"text/html; charset=utf-8\" />\n",
       "    <title>Cython: _cython_magic_6b22d7a9d0c2128bc96cda6352a93188.pyx</title>\n",
       "    <style type=\"text/css\">\n",
       "    \n",
       "body.cython { font-family: courier; font-size: 12; }\n",
       "\n",
       ".cython.tag  {  }\n",
       ".cython.line { margin: 0em }\n",
       ".cython.code { font-size: 9; color: #444444; display: none; margin: 0px 0px 0px 8px; border-left: 8px none; }\n",
       "\n",
       ".cython.line .run { background-color: #B0FFB0; }\n",
       ".cython.line .mis { background-color: #FFB0B0; }\n",
       ".cython.code.run  { border-left: 8px solid #B0FFB0; }\n",
       ".cython.code.mis  { border-left: 8px solid #FFB0B0; }\n",
       "\n",
       ".cython.code .py_c_api  { color: red; }\n",
       ".cython.code .py_macro_api  { color: #FF7000; }\n",
       ".cython.code .pyx_c_api  { color: #FF3000; }\n",
       ".cython.code .pyx_macro_api  { color: #FF7000; }\n",
       ".cython.code .refnanny  { color: #FFA000; }\n",
       ".cython.code .trace  { color: #FFA000; }\n",
       ".cython.code .error_goto  { color: #FFA000; }\n",
       "\n",
       ".cython.code .coerce  { color: #008000; border: 1px dotted #008000 }\n",
       ".cython.code .py_attr { color: #FF0000; font-weight: bold; }\n",
       ".cython.code .c_attr  { color: #0000FF; }\n",
       ".cython.code .py_call { color: #FF0000; font-weight: bold; }\n",
       ".cython.code .c_call  { color: #0000FF; }\n",
       "\n",
       ".cython.score-0 {background-color: #FFFFff;}\n",
       ".cython.score-1 {background-color: #FFFFe7;}\n",
       ".cython.score-2 {background-color: #FFFFd4;}\n",
       ".cython.score-3 {background-color: #FFFFc4;}\n",
       ".cython.score-4 {background-color: #FFFFb6;}\n",
       ".cython.score-5 {background-color: #FFFFaa;}\n",
       ".cython.score-6 {background-color: #FFFF9f;}\n",
       ".cython.score-7 {background-color: #FFFF96;}\n",
       ".cython.score-8 {background-color: #FFFF8d;}\n",
       ".cython.score-9 {background-color: #FFFF86;}\n",
       ".cython.score-10 {background-color: #FFFF7f;}\n",
       ".cython.score-11 {background-color: #FFFF79;}\n",
       ".cython.score-12 {background-color: #FFFF73;}\n",
       ".cython.score-13 {background-color: #FFFF6e;}\n",
       ".cython.score-14 {background-color: #FFFF6a;}\n",
       ".cython.score-15 {background-color: #FFFF66;}\n",
       ".cython.score-16 {background-color: #FFFF62;}\n",
       ".cython.score-17 {background-color: #FFFF5e;}\n",
       ".cython.score-18 {background-color: #FFFF5b;}\n",
       ".cython.score-19 {background-color: #FFFF57;}\n",
       ".cython.score-20 {background-color: #FFFF55;}\n",
       ".cython.score-21 {background-color: #FFFF52;}\n",
       ".cython.score-22 {background-color: #FFFF4f;}\n",
       ".cython.score-23 {background-color: #FFFF4d;}\n",
       ".cython.score-24 {background-color: #FFFF4b;}\n",
       ".cython.score-25 {background-color: #FFFF48;}\n",
       ".cython.score-26 {background-color: #FFFF46;}\n",
       ".cython.score-27 {background-color: #FFFF44;}\n",
       ".cython.score-28 {background-color: #FFFF43;}\n",
       ".cython.score-29 {background-color: #FFFF41;}\n",
       ".cython.score-30 {background-color: #FFFF3f;}\n",
       ".cython.score-31 {background-color: #FFFF3e;}\n",
       ".cython.score-32 {background-color: #FFFF3c;}\n",
       ".cython.score-33 {background-color: #FFFF3b;}\n",
       ".cython.score-34 {background-color: #FFFF39;}\n",
       ".cython.score-35 {background-color: #FFFF38;}\n",
       ".cython.score-36 {background-color: #FFFF37;}\n",
       ".cython.score-37 {background-color: #FFFF36;}\n",
       ".cython.score-38 {background-color: #FFFF35;}\n",
       ".cython.score-39 {background-color: #FFFF34;}\n",
       ".cython.score-40 {background-color: #FFFF33;}\n",
       ".cython.score-41 {background-color: #FFFF32;}\n",
       ".cython.score-42 {background-color: #FFFF31;}\n",
       ".cython.score-43 {background-color: #FFFF30;}\n",
       ".cython.score-44 {background-color: #FFFF2f;}\n",
       ".cython.score-45 {background-color: #FFFF2e;}\n",
       ".cython.score-46 {background-color: #FFFF2d;}\n",
       ".cython.score-47 {background-color: #FFFF2c;}\n",
       ".cython.score-48 {background-color: #FFFF2b;}\n",
       ".cython.score-49 {background-color: #FFFF2b;}\n",
       ".cython.score-50 {background-color: #FFFF2a;}\n",
       ".cython.score-51 {background-color: #FFFF29;}\n",
       ".cython.score-52 {background-color: #FFFF29;}\n",
       ".cython.score-53 {background-color: #FFFF28;}\n",
       ".cython.score-54 {background-color: #FFFF27;}\n",
       ".cython.score-55 {background-color: #FFFF27;}\n",
       ".cython.score-56 {background-color: #FFFF26;}\n",
       ".cython.score-57 {background-color: #FFFF26;}\n",
       ".cython.score-58 {background-color: #FFFF25;}\n",
       ".cython.score-59 {background-color: #FFFF24;}\n",
       ".cython.score-60 {background-color: #FFFF24;}\n",
       ".cython.score-61 {background-color: #FFFF23;}\n",
       ".cython.score-62 {background-color: #FFFF23;}\n",
       ".cython.score-63 {background-color: #FFFF22;}\n",
       ".cython.score-64 {background-color: #FFFF22;}\n",
       ".cython.score-65 {background-color: #FFFF22;}\n",
       ".cython.score-66 {background-color: #FFFF21;}\n",
       ".cython.score-67 {background-color: #FFFF21;}\n",
       ".cython.score-68 {background-color: #FFFF20;}\n",
       ".cython.score-69 {background-color: #FFFF20;}\n",
       ".cython.score-70 {background-color: #FFFF1f;}\n",
       ".cython.score-71 {background-color: #FFFF1f;}\n",
       ".cython.score-72 {background-color: #FFFF1f;}\n",
       ".cython.score-73 {background-color: #FFFF1e;}\n",
       ".cython.score-74 {background-color: #FFFF1e;}\n",
       ".cython.score-75 {background-color: #FFFF1e;}\n",
       ".cython.score-76 {background-color: #FFFF1d;}\n",
       ".cython.score-77 {background-color: #FFFF1d;}\n",
       ".cython.score-78 {background-color: #FFFF1c;}\n",
       ".cython.score-79 {background-color: #FFFF1c;}\n",
       ".cython.score-80 {background-color: #FFFF1c;}\n",
       ".cython.score-81 {background-color: #FFFF1c;}\n",
       ".cython.score-82 {background-color: #FFFF1b;}\n",
       ".cython.score-83 {background-color: #FFFF1b;}\n",
       ".cython.score-84 {background-color: #FFFF1b;}\n",
       ".cython.score-85 {background-color: #FFFF1a;}\n",
       ".cython.score-86 {background-color: #FFFF1a;}\n",
       ".cython.score-87 {background-color: #FFFF1a;}\n",
       ".cython.score-88 {background-color: #FFFF1a;}\n",
       ".cython.score-89 {background-color: #FFFF19;}\n",
       ".cython.score-90 {background-color: #FFFF19;}\n",
       ".cython.score-91 {background-color: #FFFF19;}\n",
       ".cython.score-92 {background-color: #FFFF19;}\n",
       ".cython.score-93 {background-color: #FFFF18;}\n",
       ".cython.score-94 {background-color: #FFFF18;}\n",
       ".cython.score-95 {background-color: #FFFF18;}\n",
       ".cython.score-96 {background-color: #FFFF18;}\n",
       ".cython.score-97 {background-color: #FFFF17;}\n",
       ".cython.score-98 {background-color: #FFFF17;}\n",
       ".cython.score-99 {background-color: #FFFF17;}\n",
       ".cython.score-100 {background-color: #FFFF17;}\n",
       ".cython.score-101 {background-color: #FFFF16;}\n",
       ".cython.score-102 {background-color: #FFFF16;}\n",
       ".cython.score-103 {background-color: #FFFF16;}\n",
       ".cython.score-104 {background-color: #FFFF16;}\n",
       ".cython.score-105 {background-color: #FFFF16;}\n",
       ".cython.score-106 {background-color: #FFFF15;}\n",
       ".cython.score-107 {background-color: #FFFF15;}\n",
       ".cython.score-108 {background-color: #FFFF15;}\n",
       ".cython.score-109 {background-color: #FFFF15;}\n",
       ".cython.score-110 {background-color: #FFFF15;}\n",
       ".cython.score-111 {background-color: #FFFF15;}\n",
       ".cython.score-112 {background-color: #FFFF14;}\n",
       ".cython.score-113 {background-color: #FFFF14;}\n",
       ".cython.score-114 {background-color: #FFFF14;}\n",
       ".cython.score-115 {background-color: #FFFF14;}\n",
       ".cython.score-116 {background-color: #FFFF14;}\n",
       ".cython.score-117 {background-color: #FFFF14;}\n",
       ".cython.score-118 {background-color: #FFFF13;}\n",
       ".cython.score-119 {background-color: #FFFF13;}\n",
       ".cython.score-120 {background-color: #FFFF13;}\n",
       ".cython.score-121 {background-color: #FFFF13;}\n",
       ".cython.score-122 {background-color: #FFFF13;}\n",
       ".cython.score-123 {background-color: #FFFF13;}\n",
       ".cython.score-124 {background-color: #FFFF13;}\n",
       ".cython.score-125 {background-color: #FFFF12;}\n",
       ".cython.score-126 {background-color: #FFFF12;}\n",
       ".cython.score-127 {background-color: #FFFF12;}\n",
       ".cython.score-128 {background-color: #FFFF12;}\n",
       ".cython.score-129 {background-color: #FFFF12;}\n",
       ".cython.score-130 {background-color: #FFFF12;}\n",
       ".cython.score-131 {background-color: #FFFF12;}\n",
       ".cython.score-132 {background-color: #FFFF11;}\n",
       ".cython.score-133 {background-color: #FFFF11;}\n",
       ".cython.score-134 {background-color: #FFFF11;}\n",
       ".cython.score-135 {background-color: #FFFF11;}\n",
       ".cython.score-136 {background-color: #FFFF11;}\n",
       ".cython.score-137 {background-color: #FFFF11;}\n",
       ".cython.score-138 {background-color: #FFFF11;}\n",
       ".cython.score-139 {background-color: #FFFF11;}\n",
       ".cython.score-140 {background-color: #FFFF11;}\n",
       ".cython.score-141 {background-color: #FFFF10;}\n",
       ".cython.score-142 {background-color: #FFFF10;}\n",
       ".cython.score-143 {background-color: #FFFF10;}\n",
       ".cython.score-144 {background-color: #FFFF10;}\n",
       ".cython.score-145 {background-color: #FFFF10;}\n",
       ".cython.score-146 {background-color: #FFFF10;}\n",
       ".cython.score-147 {background-color: #FFFF10;}\n",
       ".cython.score-148 {background-color: #FFFF10;}\n",
       ".cython.score-149 {background-color: #FFFF10;}\n",
       ".cython.score-150 {background-color: #FFFF0f;}\n",
       ".cython.score-151 {background-color: #FFFF0f;}\n",
       ".cython.score-152 {background-color: #FFFF0f;}\n",
       ".cython.score-153 {background-color: #FFFF0f;}\n",
       ".cython.score-154 {background-color: #FFFF0f;}\n",
       ".cython.score-155 {background-color: #FFFF0f;}\n",
       ".cython.score-156 {background-color: #FFFF0f;}\n",
       ".cython.score-157 {background-color: #FFFF0f;}\n",
       ".cython.score-158 {background-color: #FFFF0f;}\n",
       ".cython.score-159 {background-color: #FFFF0f;}\n",
       ".cython.score-160 {background-color: #FFFF0f;}\n",
       ".cython.score-161 {background-color: #FFFF0e;}\n",
       ".cython.score-162 {background-color: #FFFF0e;}\n",
       ".cython.score-163 {background-color: #FFFF0e;}\n",
       ".cython.score-164 {background-color: #FFFF0e;}\n",
       ".cython.score-165 {background-color: #FFFF0e;}\n",
       ".cython.score-166 {background-color: #FFFF0e;}\n",
       ".cython.score-167 {background-color: #FFFF0e;}\n",
       ".cython.score-168 {background-color: #FFFF0e;}\n",
       ".cython.score-169 {background-color: #FFFF0e;}\n",
       ".cython.score-170 {background-color: #FFFF0e;}\n",
       ".cython.score-171 {background-color: #FFFF0e;}\n",
       ".cython.score-172 {background-color: #FFFF0e;}\n",
       ".cython.score-173 {background-color: #FFFF0d;}\n",
       ".cython.score-174 {background-color: #FFFF0d;}\n",
       ".cython.score-175 {background-color: #FFFF0d;}\n",
       ".cython.score-176 {background-color: #FFFF0d;}\n",
       ".cython.score-177 {background-color: #FFFF0d;}\n",
       ".cython.score-178 {background-color: #FFFF0d;}\n",
       ".cython.score-179 {background-color: #FFFF0d;}\n",
       ".cython.score-180 {background-color: #FFFF0d;}\n",
       ".cython.score-181 {background-color: #FFFF0d;}\n",
       ".cython.score-182 {background-color: #FFFF0d;}\n",
       ".cython.score-183 {background-color: #FFFF0d;}\n",
       ".cython.score-184 {background-color: #FFFF0d;}\n",
       ".cython.score-185 {background-color: #FFFF0d;}\n",
       ".cython.score-186 {background-color: #FFFF0d;}\n",
       ".cython.score-187 {background-color: #FFFF0c;}\n",
       ".cython.score-188 {background-color: #FFFF0c;}\n",
       ".cython.score-189 {background-color: #FFFF0c;}\n",
       ".cython.score-190 {background-color: #FFFF0c;}\n",
       ".cython.score-191 {background-color: #FFFF0c;}\n",
       ".cython.score-192 {background-color: #FFFF0c;}\n",
       ".cython.score-193 {background-color: #FFFF0c;}\n",
       ".cython.score-194 {background-color: #FFFF0c;}\n",
       ".cython.score-195 {background-color: #FFFF0c;}\n",
       ".cython.score-196 {background-color: #FFFF0c;}\n",
       ".cython.score-197 {background-color: #FFFF0c;}\n",
       ".cython.score-198 {background-color: #FFFF0c;}\n",
       ".cython.score-199 {background-color: #FFFF0c;}\n",
       ".cython.score-200 {background-color: #FFFF0c;}\n",
       ".cython.score-201 {background-color: #FFFF0c;}\n",
       ".cython.score-202 {background-color: #FFFF0c;}\n",
       ".cython.score-203 {background-color: #FFFF0b;}\n",
       ".cython.score-204 {background-color: #FFFF0b;}\n",
       ".cython.score-205 {background-color: #FFFF0b;}\n",
       ".cython.score-206 {background-color: #FFFF0b;}\n",
       ".cython.score-207 {background-color: #FFFF0b;}\n",
       ".cython.score-208 {background-color: #FFFF0b;}\n",
       ".cython.score-209 {background-color: #FFFF0b;}\n",
       ".cython.score-210 {background-color: #FFFF0b;}\n",
       ".cython.score-211 {background-color: #FFFF0b;}\n",
       ".cython.score-212 {background-color: #FFFF0b;}\n",
       ".cython.score-213 {background-color: #FFFF0b;}\n",
       ".cython.score-214 {background-color: #FFFF0b;}\n",
       ".cython.score-215 {background-color: #FFFF0b;}\n",
       ".cython.score-216 {background-color: #FFFF0b;}\n",
       ".cython.score-217 {background-color: #FFFF0b;}\n",
       ".cython.score-218 {background-color: #FFFF0b;}\n",
       ".cython.score-219 {background-color: #FFFF0b;}\n",
       ".cython.score-220 {background-color: #FFFF0b;}\n",
       ".cython.score-221 {background-color: #FFFF0b;}\n",
       ".cython.score-222 {background-color: #FFFF0a;}\n",
       ".cython.score-223 {background-color: #FFFF0a;}\n",
       ".cython.score-224 {background-color: #FFFF0a;}\n",
       ".cython.score-225 {background-color: #FFFF0a;}\n",
       ".cython.score-226 {background-color: #FFFF0a;}\n",
       ".cython.score-227 {background-color: #FFFF0a;}\n",
       ".cython.score-228 {background-color: #FFFF0a;}\n",
       ".cython.score-229 {background-color: #FFFF0a;}\n",
       ".cython.score-230 {background-color: #FFFF0a;}\n",
       ".cython.score-231 {background-color: #FFFF0a;}\n",
       ".cython.score-232 {background-color: #FFFF0a;}\n",
       ".cython.score-233 {background-color: #FFFF0a;}\n",
       ".cython.score-234 {background-color: #FFFF0a;}\n",
       ".cython.score-235 {background-color: #FFFF0a;}\n",
       ".cython.score-236 {background-color: #FFFF0a;}\n",
       ".cython.score-237 {background-color: #FFFF0a;}\n",
       ".cython.score-238 {background-color: #FFFF0a;}\n",
       ".cython.score-239 {background-color: #FFFF0a;}\n",
       ".cython.score-240 {background-color: #FFFF0a;}\n",
       ".cython.score-241 {background-color: #FFFF0a;}\n",
       ".cython.score-242 {background-color: #FFFF0a;}\n",
       ".cython.score-243 {background-color: #FFFF0a;}\n",
       ".cython.score-244 {background-color: #FFFF0a;}\n",
       ".cython.score-245 {background-color: #FFFF0a;}\n",
       ".cython.score-246 {background-color: #FFFF09;}\n",
       ".cython.score-247 {background-color: #FFFF09;}\n",
       ".cython.score-248 {background-color: #FFFF09;}\n",
       ".cython.score-249 {background-color: #FFFF09;}\n",
       ".cython.score-250 {background-color: #FFFF09;}\n",
       ".cython.score-251 {background-color: #FFFF09;}\n",
       ".cython.score-252 {background-color: #FFFF09;}\n",
       ".cython.score-253 {background-color: #FFFF09;}\n",
       ".cython.score-254 {background-color: #FFFF09;}\n",
       ".cython .hll { background-color: #ffffcc }\n",
       ".cython  { background: #f8f8f8; }\n",
       ".cython .c { color: #408080; font-style: italic } /* Comment */\n",
       ".cython .err { border: 1px solid #FF0000 } /* Error */\n",
       ".cython .k { color: #008000; font-weight: bold } /* Keyword */\n",
       ".cython .o { color: #666666 } /* Operator */\n",
       ".cython .ch { color: #408080; font-style: italic } /* Comment.Hashbang */\n",
       ".cython .cm { color: #408080; font-style: italic } /* Comment.Multiline */\n",
       ".cython .cp { color: #BC7A00 } /* Comment.Preproc */\n",
       ".cython .cpf { color: #408080; font-style: italic } /* Comment.PreprocFile */\n",
       ".cython .c1 { color: #408080; font-style: italic } /* Comment.Single */\n",
       ".cython .cs { color: #408080; font-style: italic } /* Comment.Special */\n",
       ".cython .gd { color: #A00000 } /* Generic.Deleted */\n",
       ".cython .ge { font-style: italic } /* Generic.Emph */\n",
       ".cython .gr { color: #FF0000 } /* Generic.Error */\n",
       ".cython .gh { color: #000080; font-weight: bold } /* Generic.Heading */\n",
       ".cython .gi { color: #00A000 } /* Generic.Inserted */\n",
       ".cython .go { color: #888888 } /* Generic.Output */\n",
       ".cython .gp { color: #000080; font-weight: bold } /* Generic.Prompt */\n",
       ".cython .gs { font-weight: bold } /* Generic.Strong */\n",
       ".cython .gu { color: #800080; font-weight: bold } /* Generic.Subheading */\n",
       ".cython .gt { color: #0044DD } /* Generic.Traceback */\n",
       ".cython .kc { color: #008000; font-weight: bold } /* Keyword.Constant */\n",
       ".cython .kd { color: #008000; font-weight: bold } /* Keyword.Declaration */\n",
       ".cython .kn { color: #008000; font-weight: bold } /* Keyword.Namespace */\n",
       ".cython .kp { color: #008000 } /* Keyword.Pseudo */\n",
       ".cython .kr { color: #008000; font-weight: bold } /* Keyword.Reserved */\n",
       ".cython .kt { color: #B00040 } /* Keyword.Type */\n",
       ".cython .m { color: #666666 } /* Literal.Number */\n",
       ".cython .s { color: #BA2121 } /* Literal.String */\n",
       ".cython .na { color: #7D9029 } /* Name.Attribute */\n",
       ".cython .nb { color: #008000 } /* Name.Builtin */\n",
       ".cython .nc { color: #0000FF; font-weight: bold } /* Name.Class */\n",
       ".cython .no { color: #880000 } /* Name.Constant */\n",
       ".cython .nd { color: #AA22FF } /* Name.Decorator */\n",
       ".cython .ni { color: #999999; font-weight: bold } /* Name.Entity */\n",
       ".cython .ne { color: #D2413A; font-weight: bold } /* Name.Exception */\n",
       ".cython .nf { color: #0000FF } /* Name.Function */\n",
       ".cython .nl { color: #A0A000 } /* Name.Label */\n",
       ".cython .nn { color: #0000FF; font-weight: bold } /* Name.Namespace */\n",
       ".cython .nt { color: #008000; font-weight: bold } /* Name.Tag */\n",
       ".cython .nv { color: #19177C } /* Name.Variable */\n",
       ".cython .ow { color: #AA22FF; font-weight: bold } /* Operator.Word */\n",
       ".cython .w { color: #bbbbbb } /* Text.Whitespace */\n",
       ".cython .mb { color: #666666 } /* Literal.Number.Bin */\n",
       ".cython .mf { color: #666666 } /* Literal.Number.Float */\n",
       ".cython .mh { color: #666666 } /* Literal.Number.Hex */\n",
       ".cython .mi { color: #666666 } /* Literal.Number.Integer */\n",
       ".cython .mo { color: #666666 } /* Literal.Number.Oct */\n",
       ".cython .sa { color: #BA2121 } /* Literal.String.Affix */\n",
       ".cython .sb { color: #BA2121 } /* Literal.String.Backtick */\n",
       ".cython .sc { color: #BA2121 } /* Literal.String.Char */\n",
       ".cython .dl { color: #BA2121 } /* Literal.String.Delimiter */\n",
       ".cython .sd { color: #BA2121; font-style: italic } /* Literal.String.Doc */\n",
       ".cython .s2 { color: #BA2121 } /* Literal.String.Double */\n",
       ".cython .se { color: #BB6622; font-weight: bold } /* Literal.String.Escape */\n",
       ".cython .sh { color: #BA2121 } /* Literal.String.Heredoc */\n",
       ".cython .si { color: #BB6688; font-weight: bold } /* Literal.String.Interpol */\n",
       ".cython .sx { color: #008000 } /* Literal.String.Other */\n",
       ".cython .sr { color: #BB6688 } /* Literal.String.Regex */\n",
       ".cython .s1 { color: #BA2121 } /* Literal.String.Single */\n",
       ".cython .ss { color: #19177C } /* Literal.String.Symbol */\n",
       ".cython .bp { color: #008000 } /* Name.Builtin.Pseudo */\n",
       ".cython .fm { color: #0000FF } /* Name.Function.Magic */\n",
       ".cython .vc { color: #19177C } /* Name.Variable.Class */\n",
       ".cython .vg { color: #19177C } /* Name.Variable.Global */\n",
       ".cython .vi { color: #19177C } /* Name.Variable.Instance */\n",
       ".cython .vm { color: #19177C } /* Name.Variable.Magic */\n",
       ".cython .il { color: #666666 } /* Literal.Number.Integer.Long */\n",
       "    </style>\n",
       "</head>\n",
       "<body class=\"cython\">\n",
       "<p><span style=\"border-bottom: solid 1px grey;\">Generated by Cython 0.29.15</span></p>\n",
       "<p>\n",
       "    <span style=\"background-color: #FFFF00\">Yellow lines</span> hint at Python interaction.<br />\n",
       "    Click on a line that starts with a \"<code>+</code>\" to see the C code that Cython generated for it.\n",
       "</p>\n",
       "<div class=\"cython\"><pre class=\"cython line score-8\" onclick=\"(function(s){s.display=s.display==='block'?'none':'block'})(this.nextElementSibling.style)\">+<span class=\"\">01</span>: <span class=\"c\"># output an annotated version of the code</span></pre>\n",
       "<pre class='cython code score-8 '>  __pyx_t_1 = <span class='pyx_c_api'>__Pyx_PyDict_NewPresized</span>(0);<span class='error_goto'> if (unlikely(!__pyx_t_1)) __PYX_ERR(0, 1, __pyx_L1_error)</span>\n",
       "  <span class='refnanny'>__Pyx_GOTREF</span>(__pyx_t_1);\n",
       "  if (<span class='py_c_api'>PyDict_SetItem</span>(__pyx_d, __pyx_n_s_test, __pyx_t_1) &lt; 0) <span class='error_goto'>__PYX_ERR(0, 1, __pyx_L1_error)</span>\n",
       "  <span class='pyx_macro_api'>__Pyx_DECREF</span>(__pyx_t_1); __pyx_t_1 = 0;\n",
       "</pre><pre class=\"cython line score-8\" onclick=\"(function(s){s.display=s.display==='block'?'none':'block'})(this.nextElementSibling.style)\">+<span class=\"\">02</span>: <span class=\"k\">import</span> <span class=\"nn\">numpy</span> <span class=\"k\">as</span> <span class=\"nn\">np</span></pre>\n",
       "<pre class='cython code score-8 '>  __pyx_t_1 = <span class='pyx_c_api'>__Pyx_Import</span>(__pyx_n_s_numpy, 0, 0);<span class='error_goto'> if (unlikely(!__pyx_t_1)) __PYX_ERR(0, 2, __pyx_L1_error)</span>\n",
       "  <span class='refnanny'>__Pyx_GOTREF</span>(__pyx_t_1);\n",
       "  if (<span class='py_c_api'>PyDict_SetItem</span>(__pyx_d, __pyx_n_s_np, __pyx_t_1) &lt; 0) <span class='error_goto'>__PYX_ERR(0, 2, __pyx_L1_error)</span>\n",
       "  <span class='pyx_macro_api'>__Pyx_DECREF</span>(__pyx_t_1); __pyx_t_1 = 0;\n",
       "</pre><pre class=\"cython line score-0\">&#xA0;<span class=\"\">03</span>: <span class=\"k\">cimport</span> <span class=\"nn\">numpy</span> <span class=\"k\">as</span> <span class=\"nn\">np</span> <span class=\"c\"># import c-bindings of numpy</span></pre>\n",
       "<pre class=\"cython line score-41\" onclick=\"(function(s){s.display=s.display==='block'?'none':'block'})(this.nextElementSibling.style)\">+<span class=\"\">04</span>: <span class=\"k\">def</span> <span class=\"nf\">mc_pi1</span><span class=\"p\">(</span><span class=\"nb\">long</span> <span class=\"n\">N</span> <span class=\"o\">=</span> <span class=\"mf\">1000000</span><span class=\"p\">):</span> <span class=\"c\"># cython code 1</span></pre>\n",
       "<pre class='cython code score-41 '>/* Python wrapper */\n",
       "static PyObject *__pyx_pw_46_cython_magic_6b22d7a9d0c2128bc96cda6352a93188_1mc_pi1(PyObject *__pyx_self, PyObject *__pyx_args, PyObject *__pyx_kwds); /*proto*/\n",
       "static PyMethodDef __pyx_mdef_46_cython_magic_6b22d7a9d0c2128bc96cda6352a93188_1mc_pi1 = {\"mc_pi1\", (PyCFunction)(void*)(PyCFunctionWithKeywords)__pyx_pw_46_cython_magic_6b22d7a9d0c2128bc96cda6352a93188_1mc_pi1, METH_VARARGS|METH_KEYWORDS, 0};\n",
       "static PyObject *__pyx_pw_46_cython_magic_6b22d7a9d0c2128bc96cda6352a93188_1mc_pi1(PyObject *__pyx_self, PyObject *__pyx_args, PyObject *__pyx_kwds) {\n",
       "  long __pyx_v_N;\n",
       "  PyObject *__pyx_r = 0;\n",
       "  <span class='refnanny'>__Pyx_RefNannyDeclarations</span>\n",
       "  <span class='refnanny'>__Pyx_RefNannySetupContext</span>(\"mc_pi1 (wrapper)\", 0);\n",
       "  {\n",
       "    static PyObject **__pyx_pyargnames[] = {&amp;__pyx_n_s_N,0};\n",
       "    PyObject* values[1] = {0};\n",
       "    if (unlikely(__pyx_kwds)) {\n",
       "      Py_ssize_t kw_args;\n",
       "      const Py_ssize_t pos_args = <span class='py_macro_api'>PyTuple_GET_SIZE</span>(__pyx_args);\n",
       "      switch (pos_args) {\n",
       "        case  1: values[0] = <span class='py_macro_api'>PyTuple_GET_ITEM</span>(__pyx_args, 0);\n",
       "        CYTHON_FALLTHROUGH;\n",
       "        case  0: break;\n",
       "        default: goto __pyx_L5_argtuple_error;\n",
       "      }\n",
       "      kw_args = <span class='py_c_api'>PyDict_Size</span>(__pyx_kwds);\n",
       "      switch (pos_args) {\n",
       "        case  0:\n",
       "        if (kw_args &gt; 0) {\n",
       "          PyObject* value = <span class='pyx_c_api'>__Pyx_PyDict_GetItemStr</span>(__pyx_kwds, __pyx_n_s_N);\n",
       "          if (value) { values[0] = value; kw_args--; }\n",
       "        }\n",
       "      }\n",
       "      if (unlikely(kw_args &gt; 0)) {\n",
       "        if (unlikely(<span class='pyx_c_api'>__Pyx_ParseOptionalKeywords</span>(__pyx_kwds, __pyx_pyargnames, 0, values, pos_args, \"mc_pi1\") &lt; 0)) <span class='error_goto'>__PYX_ERR(0, 4, __pyx_L3_error)</span>\n",
       "      }\n",
       "    } else {\n",
       "      switch (<span class='py_macro_api'>PyTuple_GET_SIZE</span>(__pyx_args)) {\n",
       "        case  1: values[0] = <span class='py_macro_api'>PyTuple_GET_ITEM</span>(__pyx_args, 0);\n",
       "        CYTHON_FALLTHROUGH;\n",
       "        case  0: break;\n",
       "        default: goto __pyx_L5_argtuple_error;\n",
       "      }\n",
       "    }\n",
       "    if (values[0]) {\n",
       "      __pyx_v_N = <span class='pyx_c_api'>__Pyx_PyInt_As_long</span>(values[0]); if (unlikely((__pyx_v_N == (long)-1) &amp;&amp; <span class='py_c_api'>PyErr_Occurred</span>())) <span class='error_goto'>__PYX_ERR(0, 4, __pyx_L3_error)</span>\n",
       "    } else {\n",
       "      __pyx_v_N = ((long)0xF4240);\n",
       "    }\n",
       "  }\n",
       "  goto __pyx_L4_argument_unpacking_done;\n",
       "  __pyx_L5_argtuple_error:;\n",
       "  <span class='pyx_c_api'>__Pyx_RaiseArgtupleInvalid</span>(\"mc_pi1\", 0, 0, 1, <span class='py_macro_api'>PyTuple_GET_SIZE</span>(__pyx_args)); <span class='error_goto'>__PYX_ERR(0, 4, __pyx_L3_error)</span>\n",
       "  __pyx_L3_error:;\n",
       "  <span class='pyx_c_api'>__Pyx_AddTraceback</span>(\"_cython_magic_6b22d7a9d0c2128bc96cda6352a93188.mc_pi1\", __pyx_clineno, __pyx_lineno, __pyx_filename);\n",
       "  <span class='refnanny'>__Pyx_RefNannyFinishContext</span>();\n",
       "  return NULL;\n",
       "  __pyx_L4_argument_unpacking_done:;\n",
       "  __pyx_r = __pyx_pf_46_cython_magic_6b22d7a9d0c2128bc96cda6352a93188_mc_pi1(__pyx_self, __pyx_v_N);\n",
       "\n",
       "  /* function exit code */\n",
       "  <span class='refnanny'>__Pyx_RefNannyFinishContext</span>();\n",
       "  return __pyx_r;\n",
       "}\n",
       "\n",
       "static PyObject *__pyx_pf_46_cython_magic_6b22d7a9d0c2128bc96cda6352a93188_mc_pi1(CYTHON_UNUSED PyObject *__pyx_self, long __pyx_v_N) {\n",
       "  CYTHON_UNUSED long __pyx_v_i;\n",
       "  long __pyx_v_in_;\n",
       "  double __pyx_v_x;\n",
       "  double __pyx_v_y;\n",
       "  PyObject *__pyx_r = NULL;\n",
       "  <span class='refnanny'>__Pyx_RefNannyDeclarations</span>\n",
       "  <span class='refnanny'>__Pyx_RefNannySetupContext</span>(\"mc_pi1\", 0);\n",
       "/* … */\n",
       "  /* function exit code */\n",
       "  __pyx_L1_error:;\n",
       "  <span class='pyx_macro_api'>__Pyx_XDECREF</span>(__pyx_t_4);\n",
       "  <span class='pyx_macro_api'>__Pyx_XDECREF</span>(__pyx_t_5);\n",
       "  <span class='pyx_macro_api'>__Pyx_XDECREF</span>(__pyx_t_6);\n",
       "  <span class='pyx_c_api'>__Pyx_AddTraceback</span>(\"_cython_magic_6b22d7a9d0c2128bc96cda6352a93188.mc_pi1\", __pyx_clineno, __pyx_lineno, __pyx_filename);\n",
       "  __pyx_r = NULL;\n",
       "  __pyx_L0:;\n",
       "  <span class='refnanny'>__Pyx_XGIVEREF</span>(__pyx_r);\n",
       "  <span class='refnanny'>__Pyx_RefNannyFinishContext</span>();\n",
       "  return __pyx_r;\n",
       "}\n",
       "/* … */\n",
       "  __pyx_tuple__8 = <span class='py_c_api'>PyTuple_Pack</span>(5, __pyx_n_s_N, __pyx_n_s_i, __pyx_n_s_in, __pyx_n_s_x, __pyx_n_s_y);<span class='error_goto'> if (unlikely(!__pyx_tuple__8)) __PYX_ERR(0, 4, __pyx_L1_error)</span>\n",
       "  <span class='refnanny'>__Pyx_GOTREF</span>(__pyx_tuple__8);\n",
       "  <span class='refnanny'>__Pyx_GIVEREF</span>(__pyx_tuple__8);\n",
       "/* … */\n",
       "  __pyx_t_1 = PyCFunction_NewEx(&amp;__pyx_mdef_46_cython_magic_6b22d7a9d0c2128bc96cda6352a93188_1mc_pi1, NULL, __pyx_n_s_cython_magic_6b22d7a9d0c2128bc9);<span class='error_goto'> if (unlikely(!__pyx_t_1)) __PYX_ERR(0, 4, __pyx_L1_error)</span>\n",
       "  <span class='refnanny'>__Pyx_GOTREF</span>(__pyx_t_1);\n",
       "  if (<span class='py_c_api'>PyDict_SetItem</span>(__pyx_d, __pyx_n_s_mc_pi1, __pyx_t_1) &lt; 0) <span class='error_goto'>__PYX_ERR(0, 4, __pyx_L1_error)</span>\n",
       "  <span class='pyx_macro_api'>__Pyx_DECREF</span>(__pyx_t_1); __pyx_t_1 = 0;\n",
       "</pre><pre class=\"cython line score-0\" onclick=\"(function(s){s.display=s.display==='block'?'none':'block'})(this.nextElementSibling.style)\">+<span class=\"\">05</span>:     <span class=\"k\">cdef</span> <span class=\"kt\">long</span> <span class=\"nf\">i</span><span class=\"p\">,</span> <span class=\"nf\">in_</span><span class=\"o\">=</span><span class=\"mf\">0</span></pre>\n",
       "<pre class='cython code score-0 '>  __pyx_v_in_ = 0;\n",
       "</pre><pre class=\"cython line score-0\">&#xA0;<span class=\"\">06</span>:     <span class=\"k\">cdef</span> <span class=\"kt\">double</span> <span class=\"nf\">x</span><span class=\"p\">,</span> <span class=\"nf\">y</span></pre>\n",
       "<pre class=\"cython line score-0\" onclick=\"(function(s){s.display=s.display==='block'?'none':'block'})(this.nextElementSibling.style)\">+<span class=\"\">07</span>:     <span class=\"k\">for</span> <span class=\"n\">i</span> <span class=\"ow\">in</span> <span class=\"nb\">range</span><span class=\"p\">(</span><span class=\"n\">N</span><span class=\"p\">):</span></pre>\n",
       "<pre class='cython code score-0 '>  __pyx_t_1 = __pyx_v_N;\n",
       "  __pyx_t_2 = __pyx_t_1;\n",
       "  for (__pyx_t_3 = 0; __pyx_t_3 &lt; __pyx_t_2; __pyx_t_3+=1) {\n",
       "    __pyx_v_i = __pyx_t_3;\n",
       "</pre><pre class=\"cython line score-35\" onclick=\"(function(s){s.display=s.display==='block'?'none':'block'})(this.nextElementSibling.style)\">+<span class=\"\">08</span>:         <span class=\"n\">x</span> <span class=\"o\">=</span> <span class=\"n\">np</span><span class=\"o\">.</span><span class=\"n\">random</span><span class=\"o\">.</span><span class=\"n\">random</span><span class=\"p\">()</span></pre>\n",
       "<pre class='cython code score-35 '>    <span class='pyx_c_api'>__Pyx_GetModuleGlobalName</span>(__pyx_t_5, __pyx_n_s_np);<span class='error_goto'> if (unlikely(!__pyx_t_5)) __PYX_ERR(0, 8, __pyx_L1_error)</span>\n",
       "    <span class='refnanny'>__Pyx_GOTREF</span>(__pyx_t_5);\n",
       "    __pyx_t_6 = <span class='pyx_c_api'>__Pyx_PyObject_GetAttrStr</span>(__pyx_t_5, __pyx_n_s_random);<span class='error_goto'> if (unlikely(!__pyx_t_6)) __PYX_ERR(0, 8, __pyx_L1_error)</span>\n",
       "    <span class='refnanny'>__Pyx_GOTREF</span>(__pyx_t_6);\n",
       "    <span class='pyx_macro_api'>__Pyx_DECREF</span>(__pyx_t_5); __pyx_t_5 = 0;\n",
       "    __pyx_t_5 = <span class='pyx_c_api'>__Pyx_PyObject_GetAttrStr</span>(__pyx_t_6, __pyx_n_s_random);<span class='error_goto'> if (unlikely(!__pyx_t_5)) __PYX_ERR(0, 8, __pyx_L1_error)</span>\n",
       "    <span class='refnanny'>__Pyx_GOTREF</span>(__pyx_t_5);\n",
       "    <span class='pyx_macro_api'>__Pyx_DECREF</span>(__pyx_t_6); __pyx_t_6 = 0;\n",
       "    __pyx_t_6 = NULL;\n",
       "    if (CYTHON_UNPACK_METHODS &amp;&amp; likely(<span class='py_c_api'>PyMethod_Check</span>(__pyx_t_5))) {\n",
       "      __pyx_t_6 = <span class='py_macro_api'>PyMethod_GET_SELF</span>(__pyx_t_5);\n",
       "      if (likely(__pyx_t_6)) {\n",
       "        PyObject* function = <span class='py_macro_api'>PyMethod_GET_FUNCTION</span>(__pyx_t_5);\n",
       "        <span class='pyx_macro_api'>__Pyx_INCREF</span>(__pyx_t_6);\n",
       "        <span class='pyx_macro_api'>__Pyx_INCREF</span>(function);\n",
       "        <span class='pyx_macro_api'>__Pyx_DECREF_SET</span>(__pyx_t_5, function);\n",
       "      }\n",
       "    }\n",
       "    __pyx_t_4 = (__pyx_t_6) ? <span class='pyx_c_api'>__Pyx_PyObject_CallOneArg</span>(__pyx_t_5, __pyx_t_6) : <span class='pyx_c_api'>__Pyx_PyObject_CallNoArg</span>(__pyx_t_5);\n",
       "    <span class='pyx_macro_api'>__Pyx_XDECREF</span>(__pyx_t_6); __pyx_t_6 = 0;\n",
       "    if (unlikely(!__pyx_t_4)) <span class='error_goto'>__PYX_ERR(0, 8, __pyx_L1_error)</span>\n",
       "    <span class='refnanny'>__Pyx_GOTREF</span>(__pyx_t_4);\n",
       "    <span class='pyx_macro_api'>__Pyx_DECREF</span>(__pyx_t_5); __pyx_t_5 = 0;\n",
       "    __pyx_t_7 = __pyx_<span class='py_c_api'>PyFloat_AsDouble</span>(__pyx_t_4); if (unlikely((__pyx_t_7 == (double)-1) &amp;&amp; <span class='py_c_api'>PyErr_Occurred</span>())) <span class='error_goto'>__PYX_ERR(0, 8, __pyx_L1_error)</span>\n",
       "    <span class='pyx_macro_api'>__Pyx_DECREF</span>(__pyx_t_4); __pyx_t_4 = 0;\n",
       "    __pyx_v_x = __pyx_t_7;\n",
       "</pre><pre class=\"cython line score-35\" onclick=\"(function(s){s.display=s.display==='block'?'none':'block'})(this.nextElementSibling.style)\">+<span class=\"\">09</span>:         <span class=\"n\">y</span> <span class=\"o\">=</span> <span class=\"n\">np</span><span class=\"o\">.</span><span class=\"n\">random</span><span class=\"o\">.</span><span class=\"n\">random</span><span class=\"p\">()</span></pre>\n",
       "<pre class='cython code score-35 '>    <span class='pyx_c_api'>__Pyx_GetModuleGlobalName</span>(__pyx_t_5, __pyx_n_s_np);<span class='error_goto'> if (unlikely(!__pyx_t_5)) __PYX_ERR(0, 9, __pyx_L1_error)</span>\n",
       "    <span class='refnanny'>__Pyx_GOTREF</span>(__pyx_t_5);\n",
       "    __pyx_t_6 = <span class='pyx_c_api'>__Pyx_PyObject_GetAttrStr</span>(__pyx_t_5, __pyx_n_s_random);<span class='error_goto'> if (unlikely(!__pyx_t_6)) __PYX_ERR(0, 9, __pyx_L1_error)</span>\n",
       "    <span class='refnanny'>__Pyx_GOTREF</span>(__pyx_t_6);\n",
       "    <span class='pyx_macro_api'>__Pyx_DECREF</span>(__pyx_t_5); __pyx_t_5 = 0;\n",
       "    __pyx_t_5 = <span class='pyx_c_api'>__Pyx_PyObject_GetAttrStr</span>(__pyx_t_6, __pyx_n_s_random);<span class='error_goto'> if (unlikely(!__pyx_t_5)) __PYX_ERR(0, 9, __pyx_L1_error)</span>\n",
       "    <span class='refnanny'>__Pyx_GOTREF</span>(__pyx_t_5);\n",
       "    <span class='pyx_macro_api'>__Pyx_DECREF</span>(__pyx_t_6); __pyx_t_6 = 0;\n",
       "    __pyx_t_6 = NULL;\n",
       "    if (CYTHON_UNPACK_METHODS &amp;&amp; likely(<span class='py_c_api'>PyMethod_Check</span>(__pyx_t_5))) {\n",
       "      __pyx_t_6 = <span class='py_macro_api'>PyMethod_GET_SELF</span>(__pyx_t_5);\n",
       "      if (likely(__pyx_t_6)) {\n",
       "        PyObject* function = <span class='py_macro_api'>PyMethod_GET_FUNCTION</span>(__pyx_t_5);\n",
       "        <span class='pyx_macro_api'>__Pyx_INCREF</span>(__pyx_t_6);\n",
       "        <span class='pyx_macro_api'>__Pyx_INCREF</span>(function);\n",
       "        <span class='pyx_macro_api'>__Pyx_DECREF_SET</span>(__pyx_t_5, function);\n",
       "      }\n",
       "    }\n",
       "    __pyx_t_4 = (__pyx_t_6) ? <span class='pyx_c_api'>__Pyx_PyObject_CallOneArg</span>(__pyx_t_5, __pyx_t_6) : <span class='pyx_c_api'>__Pyx_PyObject_CallNoArg</span>(__pyx_t_5);\n",
       "    <span class='pyx_macro_api'>__Pyx_XDECREF</span>(__pyx_t_6); __pyx_t_6 = 0;\n",
       "    if (unlikely(!__pyx_t_4)) <span class='error_goto'>__PYX_ERR(0, 9, __pyx_L1_error)</span>\n",
       "    <span class='refnanny'>__Pyx_GOTREF</span>(__pyx_t_4);\n",
       "    <span class='pyx_macro_api'>__Pyx_DECREF</span>(__pyx_t_5); __pyx_t_5 = 0;\n",
       "    __pyx_t_7 = __pyx_<span class='py_c_api'>PyFloat_AsDouble</span>(__pyx_t_4); if (unlikely((__pyx_t_7 == (double)-1) &amp;&amp; <span class='py_c_api'>PyErr_Occurred</span>())) <span class='error_goto'>__PYX_ERR(0, 9, __pyx_L1_error)</span>\n",
       "    <span class='pyx_macro_api'>__Pyx_DECREF</span>(__pyx_t_4); __pyx_t_4 = 0;\n",
       "    __pyx_v_y = __pyx_t_7;\n",
       "</pre><pre class=\"cython line score-0\" onclick=\"(function(s){s.display=s.display==='block'?'none':'block'})(this.nextElementSibling.style)\">+<span class=\"\">10</span>:         <span class=\"k\">if</span> <span class=\"n\">x</span><span class=\"o\">*</span><span class=\"n\">x</span> <span class=\"o\">+</span> <span class=\"n\">y</span><span class=\"o\">*</span><span class=\"n\">y</span> <span class=\"o\">&lt;</span> <span class=\"mf\">1.0</span><span class=\"p\">:</span></pre>\n",
       "<pre class='cython code score-0 '>    __pyx_t_8 = ((((__pyx_v_x * __pyx_v_x) + (__pyx_v_y * __pyx_v_y)) &lt; 1.0) != 0);\n",
       "    if (__pyx_t_8) {\n",
       "/* … */\n",
       "    }\n",
       "  }\n",
       "</pre><pre class=\"cython line score-0\" onclick=\"(function(s){s.display=s.display==='block'?'none':'block'})(this.nextElementSibling.style)\">+<span class=\"\">11</span>:             <span class=\"n\">in_</span><span class=\"o\">+=</span><span class=\"mf\">1</span></pre>\n",
       "<pre class='cython code score-0 '>      __pyx_v_in_ = (__pyx_v_in_ + 1);\n",
       "</pre><pre class=\"cython line score-11\" onclick=\"(function(s){s.display=s.display==='block'?'none':'block'})(this.nextElementSibling.style)\">+<span class=\"\">12</span>:     <span class=\"k\">return</span> <span class=\"p\">(</span><span class=\"mf\">4.0</span><span class=\"o\">*</span><span class=\"n\">in_</span><span class=\"p\">)</span><span class=\"o\">/</span><span class=\"n\">N</span></pre>\n",
       "<pre class='cython code score-11 '>  <span class='pyx_macro_api'>__Pyx_XDECREF</span>(__pyx_r);\n",
       "  __pyx_t_7 = (4.0 * __pyx_v_in_);\n",
       "  if (unlikely(__pyx_v_N == 0)) {\n",
       "    <span class='py_c_api'>PyErr_SetString</span>(PyExc_ZeroDivisionError, \"float division\");\n",
       "    <span class='error_goto'>__PYX_ERR(0, 12, __pyx_L1_error)</span>\n",
       "  }\n",
       "  __pyx_t_4 = <span class='py_c_api'>PyFloat_FromDouble</span>((__pyx_t_7 / ((double)__pyx_v_N)));<span class='error_goto'> if (unlikely(!__pyx_t_4)) __PYX_ERR(0, 12, __pyx_L1_error)</span>\n",
       "  <span class='refnanny'>__Pyx_GOTREF</span>(__pyx_t_4);\n",
       "  __pyx_r = __pyx_t_4;\n",
       "  __pyx_t_4 = 0;\n",
       "  goto __pyx_L0;\n",
       "</pre></div></body></html>"
      ],
      "text/plain": [
       "<IPython.core.display.HTML object>"
      ]
     },
     "execution_count": 4,
     "metadata": {},
     "output_type": "execute_result"
    }
   ],
   "source": [
    "%%cython -a\n",
    "# output an annotated version of the code\n",
    "import numpy as np\n",
    "cimport numpy as np # import c-bindings of numpy\n",
    "def mc_pi1(long N = 1000000): # cython code 1\n",
    "    cdef long i, in_=0\n",
    "    cdef double x, y\n",
    "    for i in range(N):\n",
    "        x = np.random.random()\n",
    "        y = np.random.random()\n",
    "        if x*x + y*y < 1.0:\n",
    "            in_+=1\n",
    "    return (4.0*in_)/N"
   ]
  },
  {
   "cell_type": "code",
   "execution_count": 64,
   "metadata": {
    "slideshow": {
     "slide_type": "subslide"
    }
   },
   "outputs": [
    {
     "name": "stdout",
     "output_type": "stream",
     "text": [
      "Pi with 1000000 iterations: 3.14155600 (0.436344sec)\n",
      "Timeit with 50 runs  : 0.434828sec\n"
     ]
    }
   ],
   "source": [
    "N = 1000000\n",
    "t1 = time.perf_counter()\n",
    "pi = mc_pi1(N)\n",
    "print('Pi with %d iterations: %.8f (%.6fsec)' % (N, pi, time.perf_counter() - t1))\n",
    "print('Timeit with 50 runs  : %.6fsec' %\n",
    "      (timeit.timeit('mc_pi1(N)', setup='from __main__ import mc_pi1, N', number=50)/50))"
   ]
  },
  {
   "cell_type": "code",
   "execution_count": 80,
   "metadata": {
    "slideshow": {
     "slide_type": "subslide"
    }
   },
   "outputs": [
    {
     "data": {
      "text/html": [
       "<!DOCTYPE html>\n",
       "<!-- Generated by Cython 0.26.1 -->\n",
       "<html>\n",
       "<head>\n",
       "    <meta http-equiv=\"Content-Type\" content=\"text/html; charset=utf-8\" />\n",
       "    <title>Cython: _cython_magic_4fe452d7d812111b844f206d1d542a34.pyx</title>\n",
       "    <style type=\"text/css\">\n",
       "    \n",
       "body.cython { font-family: courier; font-size: 12; }\n",
       "\n",
       ".cython.tag  {  }\n",
       ".cython.line { margin: 0em }\n",
       ".cython.code { font-size: 9; color: #444444; display: none; margin: 0px 0px 0px 8px; border-left: 8px none; }\n",
       "\n",
       ".cython.line .run { background-color: #B0FFB0; }\n",
       ".cython.line .mis { background-color: #FFB0B0; }\n",
       ".cython.code.run  { border-left: 8px solid #B0FFB0; }\n",
       ".cython.code.mis  { border-left: 8px solid #FFB0B0; }\n",
       "\n",
       ".cython.code .py_c_api  { color: red; }\n",
       ".cython.code .py_macro_api  { color: #FF7000; }\n",
       ".cython.code .pyx_c_api  { color: #FF3000; }\n",
       ".cython.code .pyx_macro_api  { color: #FF7000; }\n",
       ".cython.code .refnanny  { color: #FFA000; }\n",
       ".cython.code .trace  { color: #FFA000; }\n",
       ".cython.code .error_goto  { color: #FFA000; }\n",
       "\n",
       ".cython.code .coerce  { color: #008000; border: 1px dotted #008000 }\n",
       ".cython.code .py_attr { color: #FF0000; font-weight: bold; }\n",
       ".cython.code .c_attr  { color: #0000FF; }\n",
       ".cython.code .py_call { color: #FF0000; font-weight: bold; }\n",
       ".cython.code .c_call  { color: #0000FF; }\n",
       "\n",
       ".cython.score-0 {background-color: #FFFFff;}\n",
       ".cython.score-1 {background-color: #FFFFe7;}\n",
       ".cython.score-2 {background-color: #FFFFd4;}\n",
       ".cython.score-3 {background-color: #FFFFc4;}\n",
       ".cython.score-4 {background-color: #FFFFb6;}\n",
       ".cython.score-5 {background-color: #FFFFaa;}\n",
       ".cython.score-6 {background-color: #FFFF9f;}\n",
       ".cython.score-7 {background-color: #FFFF96;}\n",
       ".cython.score-8 {background-color: #FFFF8d;}\n",
       ".cython.score-9 {background-color: #FFFF86;}\n",
       ".cython.score-10 {background-color: #FFFF7f;}\n",
       ".cython.score-11 {background-color: #FFFF79;}\n",
       ".cython.score-12 {background-color: #FFFF73;}\n",
       ".cython.score-13 {background-color: #FFFF6e;}\n",
       ".cython.score-14 {background-color: #FFFF6a;}\n",
       ".cython.score-15 {background-color: #FFFF66;}\n",
       ".cython.score-16 {background-color: #FFFF62;}\n",
       ".cython.score-17 {background-color: #FFFF5e;}\n",
       ".cython.score-18 {background-color: #FFFF5b;}\n",
       ".cython.score-19 {background-color: #FFFF57;}\n",
       ".cython.score-20 {background-color: #FFFF55;}\n",
       ".cython.score-21 {background-color: #FFFF52;}\n",
       ".cython.score-22 {background-color: #FFFF4f;}\n",
       ".cython.score-23 {background-color: #FFFF4d;}\n",
       ".cython.score-24 {background-color: #FFFF4b;}\n",
       ".cython.score-25 {background-color: #FFFF48;}\n",
       ".cython.score-26 {background-color: #FFFF46;}\n",
       ".cython.score-27 {background-color: #FFFF44;}\n",
       ".cython.score-28 {background-color: #FFFF43;}\n",
       ".cython.score-29 {background-color: #FFFF41;}\n",
       ".cython.score-30 {background-color: #FFFF3f;}\n",
       ".cython.score-31 {background-color: #FFFF3e;}\n",
       ".cython.score-32 {background-color: #FFFF3c;}\n",
       ".cython.score-33 {background-color: #FFFF3b;}\n",
       ".cython.score-34 {background-color: #FFFF39;}\n",
       ".cython.score-35 {background-color: #FFFF38;}\n",
       ".cython.score-36 {background-color: #FFFF37;}\n",
       ".cython.score-37 {background-color: #FFFF36;}\n",
       ".cython.score-38 {background-color: #FFFF35;}\n",
       ".cython.score-39 {background-color: #FFFF34;}\n",
       ".cython.score-40 {background-color: #FFFF33;}\n",
       ".cython.score-41 {background-color: #FFFF32;}\n",
       ".cython.score-42 {background-color: #FFFF31;}\n",
       ".cython.score-43 {background-color: #FFFF30;}\n",
       ".cython.score-44 {background-color: #FFFF2f;}\n",
       ".cython.score-45 {background-color: #FFFF2e;}\n",
       ".cython.score-46 {background-color: #FFFF2d;}\n",
       ".cython.score-47 {background-color: #FFFF2c;}\n",
       ".cython.score-48 {background-color: #FFFF2b;}\n",
       ".cython.score-49 {background-color: #FFFF2b;}\n",
       ".cython.score-50 {background-color: #FFFF2a;}\n",
       ".cython.score-51 {background-color: #FFFF29;}\n",
       ".cython.score-52 {background-color: #FFFF29;}\n",
       ".cython.score-53 {background-color: #FFFF28;}\n",
       ".cython.score-54 {background-color: #FFFF27;}\n",
       ".cython.score-55 {background-color: #FFFF27;}\n",
       ".cython.score-56 {background-color: #FFFF26;}\n",
       ".cython.score-57 {background-color: #FFFF26;}\n",
       ".cython.score-58 {background-color: #FFFF25;}\n",
       ".cython.score-59 {background-color: #FFFF24;}\n",
       ".cython.score-60 {background-color: #FFFF24;}\n",
       ".cython.score-61 {background-color: #FFFF23;}\n",
       ".cython.score-62 {background-color: #FFFF23;}\n",
       ".cython.score-63 {background-color: #FFFF22;}\n",
       ".cython.score-64 {background-color: #FFFF22;}\n",
       ".cython.score-65 {background-color: #FFFF22;}\n",
       ".cython.score-66 {background-color: #FFFF21;}\n",
       ".cython.score-67 {background-color: #FFFF21;}\n",
       ".cython.score-68 {background-color: #FFFF20;}\n",
       ".cython.score-69 {background-color: #FFFF20;}\n",
       ".cython.score-70 {background-color: #FFFF1f;}\n",
       ".cython.score-71 {background-color: #FFFF1f;}\n",
       ".cython.score-72 {background-color: #FFFF1f;}\n",
       ".cython.score-73 {background-color: #FFFF1e;}\n",
       ".cython.score-74 {background-color: #FFFF1e;}\n",
       ".cython.score-75 {background-color: #FFFF1e;}\n",
       ".cython.score-76 {background-color: #FFFF1d;}\n",
       ".cython.score-77 {background-color: #FFFF1d;}\n",
       ".cython.score-78 {background-color: #FFFF1c;}\n",
       ".cython.score-79 {background-color: #FFFF1c;}\n",
       ".cython.score-80 {background-color: #FFFF1c;}\n",
       ".cython.score-81 {background-color: #FFFF1c;}\n",
       ".cython.score-82 {background-color: #FFFF1b;}\n",
       ".cython.score-83 {background-color: #FFFF1b;}\n",
       ".cython.score-84 {background-color: #FFFF1b;}\n",
       ".cython.score-85 {background-color: #FFFF1a;}\n",
       ".cython.score-86 {background-color: #FFFF1a;}\n",
       ".cython.score-87 {background-color: #FFFF1a;}\n",
       ".cython.score-88 {background-color: #FFFF1a;}\n",
       ".cython.score-89 {background-color: #FFFF19;}\n",
       ".cython.score-90 {background-color: #FFFF19;}\n",
       ".cython.score-91 {background-color: #FFFF19;}\n",
       ".cython.score-92 {background-color: #FFFF19;}\n",
       ".cython.score-93 {background-color: #FFFF18;}\n",
       ".cython.score-94 {background-color: #FFFF18;}\n",
       ".cython.score-95 {background-color: #FFFF18;}\n",
       ".cython.score-96 {background-color: #FFFF18;}\n",
       ".cython.score-97 {background-color: #FFFF17;}\n",
       ".cython.score-98 {background-color: #FFFF17;}\n",
       ".cython.score-99 {background-color: #FFFF17;}\n",
       ".cython.score-100 {background-color: #FFFF17;}\n",
       ".cython.score-101 {background-color: #FFFF16;}\n",
       ".cython.score-102 {background-color: #FFFF16;}\n",
       ".cython.score-103 {background-color: #FFFF16;}\n",
       ".cython.score-104 {background-color: #FFFF16;}\n",
       ".cython.score-105 {background-color: #FFFF16;}\n",
       ".cython.score-106 {background-color: #FFFF15;}\n",
       ".cython.score-107 {background-color: #FFFF15;}\n",
       ".cython.score-108 {background-color: #FFFF15;}\n",
       ".cython.score-109 {background-color: #FFFF15;}\n",
       ".cython.score-110 {background-color: #FFFF15;}\n",
       ".cython.score-111 {background-color: #FFFF15;}\n",
       ".cython.score-112 {background-color: #FFFF14;}\n",
       ".cython.score-113 {background-color: #FFFF14;}\n",
       ".cython.score-114 {background-color: #FFFF14;}\n",
       ".cython.score-115 {background-color: #FFFF14;}\n",
       ".cython.score-116 {background-color: #FFFF14;}\n",
       ".cython.score-117 {background-color: #FFFF14;}\n",
       ".cython.score-118 {background-color: #FFFF13;}\n",
       ".cython.score-119 {background-color: #FFFF13;}\n",
       ".cython.score-120 {background-color: #FFFF13;}\n",
       ".cython.score-121 {background-color: #FFFF13;}\n",
       ".cython.score-122 {background-color: #FFFF13;}\n",
       ".cython.score-123 {background-color: #FFFF13;}\n",
       ".cython.score-124 {background-color: #FFFF13;}\n",
       ".cython.score-125 {background-color: #FFFF12;}\n",
       ".cython.score-126 {background-color: #FFFF12;}\n",
       ".cython.score-127 {background-color: #FFFF12;}\n",
       ".cython.score-128 {background-color: #FFFF12;}\n",
       ".cython.score-129 {background-color: #FFFF12;}\n",
       ".cython.score-130 {background-color: #FFFF12;}\n",
       ".cython.score-131 {background-color: #FFFF12;}\n",
       ".cython.score-132 {background-color: #FFFF11;}\n",
       ".cython.score-133 {background-color: #FFFF11;}\n",
       ".cython.score-134 {background-color: #FFFF11;}\n",
       ".cython.score-135 {background-color: #FFFF11;}\n",
       ".cython.score-136 {background-color: #FFFF11;}\n",
       ".cython.score-137 {background-color: #FFFF11;}\n",
       ".cython.score-138 {background-color: #FFFF11;}\n",
       ".cython.score-139 {background-color: #FFFF11;}\n",
       ".cython.score-140 {background-color: #FFFF11;}\n",
       ".cython.score-141 {background-color: #FFFF10;}\n",
       ".cython.score-142 {background-color: #FFFF10;}\n",
       ".cython.score-143 {background-color: #FFFF10;}\n",
       ".cython.score-144 {background-color: #FFFF10;}\n",
       ".cython.score-145 {background-color: #FFFF10;}\n",
       ".cython.score-146 {background-color: #FFFF10;}\n",
       ".cython.score-147 {background-color: #FFFF10;}\n",
       ".cython.score-148 {background-color: #FFFF10;}\n",
       ".cython.score-149 {background-color: #FFFF10;}\n",
       ".cython.score-150 {background-color: #FFFF0f;}\n",
       ".cython.score-151 {background-color: #FFFF0f;}\n",
       ".cython.score-152 {background-color: #FFFF0f;}\n",
       ".cython.score-153 {background-color: #FFFF0f;}\n",
       ".cython.score-154 {background-color: #FFFF0f;}\n",
       ".cython.score-155 {background-color: #FFFF0f;}\n",
       ".cython.score-156 {background-color: #FFFF0f;}\n",
       ".cython.score-157 {background-color: #FFFF0f;}\n",
       ".cython.score-158 {background-color: #FFFF0f;}\n",
       ".cython.score-159 {background-color: #FFFF0f;}\n",
       ".cython.score-160 {background-color: #FFFF0f;}\n",
       ".cython.score-161 {background-color: #FFFF0e;}\n",
       ".cython.score-162 {background-color: #FFFF0e;}\n",
       ".cython.score-163 {background-color: #FFFF0e;}\n",
       ".cython.score-164 {background-color: #FFFF0e;}\n",
       ".cython.score-165 {background-color: #FFFF0e;}\n",
       ".cython.score-166 {background-color: #FFFF0e;}\n",
       ".cython.score-167 {background-color: #FFFF0e;}\n",
       ".cython.score-168 {background-color: #FFFF0e;}\n",
       ".cython.score-169 {background-color: #FFFF0e;}\n",
       ".cython.score-170 {background-color: #FFFF0e;}\n",
       ".cython.score-171 {background-color: #FFFF0e;}\n",
       ".cython.score-172 {background-color: #FFFF0e;}\n",
       ".cython.score-173 {background-color: #FFFF0d;}\n",
       ".cython.score-174 {background-color: #FFFF0d;}\n",
       ".cython.score-175 {background-color: #FFFF0d;}\n",
       ".cython.score-176 {background-color: #FFFF0d;}\n",
       ".cython.score-177 {background-color: #FFFF0d;}\n",
       ".cython.score-178 {background-color: #FFFF0d;}\n",
       ".cython.score-179 {background-color: #FFFF0d;}\n",
       ".cython.score-180 {background-color: #FFFF0d;}\n",
       ".cython.score-181 {background-color: #FFFF0d;}\n",
       ".cython.score-182 {background-color: #FFFF0d;}\n",
       ".cython.score-183 {background-color: #FFFF0d;}\n",
       ".cython.score-184 {background-color: #FFFF0d;}\n",
       ".cython.score-185 {background-color: #FFFF0d;}\n",
       ".cython.score-186 {background-color: #FFFF0d;}\n",
       ".cython.score-187 {background-color: #FFFF0c;}\n",
       ".cython.score-188 {background-color: #FFFF0c;}\n",
       ".cython.score-189 {background-color: #FFFF0c;}\n",
       ".cython.score-190 {background-color: #FFFF0c;}\n",
       ".cython.score-191 {background-color: #FFFF0c;}\n",
       ".cython.score-192 {background-color: #FFFF0c;}\n",
       ".cython.score-193 {background-color: #FFFF0c;}\n",
       ".cython.score-194 {background-color: #FFFF0c;}\n",
       ".cython.score-195 {background-color: #FFFF0c;}\n",
       ".cython.score-196 {background-color: #FFFF0c;}\n",
       ".cython.score-197 {background-color: #FFFF0c;}\n",
       ".cython.score-198 {background-color: #FFFF0c;}\n",
       ".cython.score-199 {background-color: #FFFF0c;}\n",
       ".cython.score-200 {background-color: #FFFF0c;}\n",
       ".cython.score-201 {background-color: #FFFF0c;}\n",
       ".cython.score-202 {background-color: #FFFF0c;}\n",
       ".cython.score-203 {background-color: #FFFF0b;}\n",
       ".cython.score-204 {background-color: #FFFF0b;}\n",
       ".cython.score-205 {background-color: #FFFF0b;}\n",
       ".cython.score-206 {background-color: #FFFF0b;}\n",
       ".cython.score-207 {background-color: #FFFF0b;}\n",
       ".cython.score-208 {background-color: #FFFF0b;}\n",
       ".cython.score-209 {background-color: #FFFF0b;}\n",
       ".cython.score-210 {background-color: #FFFF0b;}\n",
       ".cython.score-211 {background-color: #FFFF0b;}\n",
       ".cython.score-212 {background-color: #FFFF0b;}\n",
       ".cython.score-213 {background-color: #FFFF0b;}\n",
       ".cython.score-214 {background-color: #FFFF0b;}\n",
       ".cython.score-215 {background-color: #FFFF0b;}\n",
       ".cython.score-216 {background-color: #FFFF0b;}\n",
       ".cython.score-217 {background-color: #FFFF0b;}\n",
       ".cython.score-218 {background-color: #FFFF0b;}\n",
       ".cython.score-219 {background-color: #FFFF0b;}\n",
       ".cython.score-220 {background-color: #FFFF0b;}\n",
       ".cython.score-221 {background-color: #FFFF0b;}\n",
       ".cython.score-222 {background-color: #FFFF0a;}\n",
       ".cython.score-223 {background-color: #FFFF0a;}\n",
       ".cython.score-224 {background-color: #FFFF0a;}\n",
       ".cython.score-225 {background-color: #FFFF0a;}\n",
       ".cython.score-226 {background-color: #FFFF0a;}\n",
       ".cython.score-227 {background-color: #FFFF0a;}\n",
       ".cython.score-228 {background-color: #FFFF0a;}\n",
       ".cython.score-229 {background-color: #FFFF0a;}\n",
       ".cython.score-230 {background-color: #FFFF0a;}\n",
       ".cython.score-231 {background-color: #FFFF0a;}\n",
       ".cython.score-232 {background-color: #FFFF0a;}\n",
       ".cython.score-233 {background-color: #FFFF0a;}\n",
       ".cython.score-234 {background-color: #FFFF0a;}\n",
       ".cython.score-235 {background-color: #FFFF0a;}\n",
       ".cython.score-236 {background-color: #FFFF0a;}\n",
       ".cython.score-237 {background-color: #FFFF0a;}\n",
       ".cython.score-238 {background-color: #FFFF0a;}\n",
       ".cython.score-239 {background-color: #FFFF0a;}\n",
       ".cython.score-240 {background-color: #FFFF0a;}\n",
       ".cython.score-241 {background-color: #FFFF0a;}\n",
       ".cython.score-242 {background-color: #FFFF0a;}\n",
       ".cython.score-243 {background-color: #FFFF0a;}\n",
       ".cython.score-244 {background-color: #FFFF0a;}\n",
       ".cython.score-245 {background-color: #FFFF0a;}\n",
       ".cython.score-246 {background-color: #FFFF09;}\n",
       ".cython.score-247 {background-color: #FFFF09;}\n",
       ".cython.score-248 {background-color: #FFFF09;}\n",
       ".cython.score-249 {background-color: #FFFF09;}\n",
       ".cython.score-250 {background-color: #FFFF09;}\n",
       ".cython.score-251 {background-color: #FFFF09;}\n",
       ".cython.score-252 {background-color: #FFFF09;}\n",
       ".cython.score-253 {background-color: #FFFF09;}\n",
       ".cython.score-254 {background-color: #FFFF09;}\n",
       ".cython .hll { background-color: #ffffcc }\n",
       ".cython  { background: #f8f8f8; }\n",
       ".cython .c { color: #408080; font-style: italic } /* Comment */\n",
       ".cython .err { border: 1px solid #FF0000 } /* Error */\n",
       ".cython .k { color: #008000; font-weight: bold } /* Keyword */\n",
       ".cython .o { color: #666666 } /* Operator */\n",
       ".cython .ch { color: #408080; font-style: italic } /* Comment.Hashbang */\n",
       ".cython .cm { color: #408080; font-style: italic } /* Comment.Multiline */\n",
       ".cython .cp { color: #BC7A00 } /* Comment.Preproc */\n",
       ".cython .cpf { color: #408080; font-style: italic } /* Comment.PreprocFile */\n",
       ".cython .c1 { color: #408080; font-style: italic } /* Comment.Single */\n",
       ".cython .cs { color: #408080; font-style: italic } /* Comment.Special */\n",
       ".cython .gd { color: #A00000 } /* Generic.Deleted */\n",
       ".cython .ge { font-style: italic } /* Generic.Emph */\n",
       ".cython .gr { color: #FF0000 } /* Generic.Error */\n",
       ".cython .gh { color: #000080; font-weight: bold } /* Generic.Heading */\n",
       ".cython .gi { color: #00A000 } /* Generic.Inserted */\n",
       ".cython .go { color: #888888 } /* Generic.Output */\n",
       ".cython .gp { color: #000080; font-weight: bold } /* Generic.Prompt */\n",
       ".cython .gs { font-weight: bold } /* Generic.Strong */\n",
       ".cython .gu { color: #800080; font-weight: bold } /* Generic.Subheading */\n",
       ".cython .gt { color: #0044DD } /* Generic.Traceback */\n",
       ".cython .kc { color: #008000; font-weight: bold } /* Keyword.Constant */\n",
       ".cython .kd { color: #008000; font-weight: bold } /* Keyword.Declaration */\n",
       ".cython .kn { color: #008000; font-weight: bold } /* Keyword.Namespace */\n",
       ".cython .kp { color: #008000 } /* Keyword.Pseudo */\n",
       ".cython .kr { color: #008000; font-weight: bold } /* Keyword.Reserved */\n",
       ".cython .kt { color: #B00040 } /* Keyword.Type */\n",
       ".cython .m { color: #666666 } /* Literal.Number */\n",
       ".cython .s { color: #BA2121 } /* Literal.String */\n",
       ".cython .na { color: #7D9029 } /* Name.Attribute */\n",
       ".cython .nb { color: #008000 } /* Name.Builtin */\n",
       ".cython .nc { color: #0000FF; font-weight: bold } /* Name.Class */\n",
       ".cython .no { color: #880000 } /* Name.Constant */\n",
       ".cython .nd { color: #AA22FF } /* Name.Decorator */\n",
       ".cython .ni { color: #999999; font-weight: bold } /* Name.Entity */\n",
       ".cython .ne { color: #D2413A; font-weight: bold } /* Name.Exception */\n",
       ".cython .nf { color: #0000FF } /* Name.Function */\n",
       ".cython .nl { color: #A0A000 } /* Name.Label */\n",
       ".cython .nn { color: #0000FF; font-weight: bold } /* Name.Namespace */\n",
       ".cython .nt { color: #008000; font-weight: bold } /* Name.Tag */\n",
       ".cython .nv { color: #19177C } /* Name.Variable */\n",
       ".cython .ow { color: #AA22FF; font-weight: bold } /* Operator.Word */\n",
       ".cython .w { color: #bbbbbb } /* Text.Whitespace */\n",
       ".cython .mb { color: #666666 } /* Literal.Number.Bin */\n",
       ".cython .mf { color: #666666 } /* Literal.Number.Float */\n",
       ".cython .mh { color: #666666 } /* Literal.Number.Hex */\n",
       ".cython .mi { color: #666666 } /* Literal.Number.Integer */\n",
       ".cython .mo { color: #666666 } /* Literal.Number.Oct */\n",
       ".cython .sa { color: #BA2121 } /* Literal.String.Affix */\n",
       ".cython .sb { color: #BA2121 } /* Literal.String.Backtick */\n",
       ".cython .sc { color: #BA2121 } /* Literal.String.Char */\n",
       ".cython .dl { color: #BA2121 } /* Literal.String.Delimiter */\n",
       ".cython .sd { color: #BA2121; font-style: italic } /* Literal.String.Doc */\n",
       ".cython .s2 { color: #BA2121 } /* Literal.String.Double */\n",
       ".cython .se { color: #BB6622; font-weight: bold } /* Literal.String.Escape */\n",
       ".cython .sh { color: #BA2121 } /* Literal.String.Heredoc */\n",
       ".cython .si { color: #BB6688; font-weight: bold } /* Literal.String.Interpol */\n",
       ".cython .sx { color: #008000 } /* Literal.String.Other */\n",
       ".cython .sr { color: #BB6688 } /* Literal.String.Regex */\n",
       ".cython .s1 { color: #BA2121 } /* Literal.String.Single */\n",
       ".cython .ss { color: #19177C } /* Literal.String.Symbol */\n",
       ".cython .bp { color: #008000 } /* Name.Builtin.Pseudo */\n",
       ".cython .fm { color: #0000FF } /* Name.Function.Magic */\n",
       ".cython .vc { color: #19177C } /* Name.Variable.Class */\n",
       ".cython .vg { color: #19177C } /* Name.Variable.Global */\n",
       ".cython .vi { color: #19177C } /* Name.Variable.Instance */\n",
       ".cython .vm { color: #19177C } /* Name.Variable.Magic */\n",
       ".cython .il { color: #666666 } /* Literal.Number.Integer.Long */\n",
       "    </style>\n",
       "    <script>\n",
       "    function toggleDiv(id) {\n",
       "        theDiv = id.nextElementSibling\n",
       "        if (theDiv.style.display != 'block') theDiv.style.display = 'block';\n",
       "        else theDiv.style.display = 'none';\n",
       "    }\n",
       "    </script>\n",
       "</head>\n",
       "<body class=\"cython\">\n",
       "<p><span style=\"border-bottom: solid 1px grey;\">Generated by Cython 0.26.1</span></p>\n",
       "<p>\n",
       "    <span style=\"background-color: #FFFF00\">Yellow lines</span> hint at Python interaction.<br />\n",
       "    Click on a line that starts with a \"<code>+</code>\" to see the C code that Cython generated for it.\n",
       "</p>\n",
       "<div class=\"cython\"><pre class=\"cython line score-0\">&#xA0;<span class=\"\">01</span>: <span class=\"k\">from</span> <span class=\"nn\">libc.stdlib</span> <span class=\"k\">cimport</span> <span class=\"n\">rand</span><span class=\"p\">,</span> <span class=\"n\">RAND_MAX</span></pre>\n",
       "<pre class=\"cython line score-42\" onclick='toggleDiv(this)'>+<span class=\"\">02</span>: <span class=\"k\">def</span> <span class=\"nf\">mc_pi2</span><span class=\"p\">(</span><span class=\"nb\">long</span> <span class=\"n\">N</span> <span class=\"o\">=</span> <span class=\"mf\">10000000</span><span class=\"p\">):</span> <span class=\"c\"># cython code 2</span></pre>\n",
       "<pre class='cython code score-42 '>/* Python wrapper */\n",
       "static PyObject *__pyx_pw_46_cython_magic_4fe452d7d812111b844f206d1d542a34_1mc_pi2(PyObject *__pyx_self, PyObject *__pyx_args, PyObject *__pyx_kwds); /*proto*/\n",
       "static PyMethodDef __pyx_mdef_46_cython_magic_4fe452d7d812111b844f206d1d542a34_1mc_pi2 = {\"mc_pi2\", (PyCFunction)__pyx_pw_46_cython_magic_4fe452d7d812111b844f206d1d542a34_1mc_pi2, METH_VARARGS|METH_KEYWORDS, 0};\n",
       "static PyObject *__pyx_pw_46_cython_magic_4fe452d7d812111b844f206d1d542a34_1mc_pi2(PyObject *__pyx_self, PyObject *__pyx_args, PyObject *__pyx_kwds) {\n",
       "  long __pyx_v_N;\n",
       "  PyObject *__pyx_r = 0;\n",
       "  <span class='refnanny'>__Pyx_RefNannyDeclarations</span>\n",
       "  <span class='refnanny'>__Pyx_RefNannySetupContext</span>(\"mc_pi2 (wrapper)\", 0);\n",
       "  {\n",
       "    static PyObject **__pyx_pyargnames[] = {&amp;__pyx_n_s_N,0};\n",
       "    PyObject* values[1] = {0};\n",
       "    if (unlikely(__pyx_kwds)) {\n",
       "      Py_ssize_t kw_args;\n",
       "      const Py_ssize_t pos_args = <span class='py_macro_api'>PyTuple_GET_SIZE</span>(__pyx_args);\n",
       "      switch (pos_args) {\n",
       "        case  1: values[0] = <span class='py_macro_api'>PyTuple_GET_ITEM</span>(__pyx_args, 0);\n",
       "        CYTHON_FALLTHROUGH;\n",
       "        case  0: break;\n",
       "        default: goto __pyx_L5_argtuple_error;\n",
       "      }\n",
       "      kw_args = <span class='py_c_api'>PyDict_Size</span>(__pyx_kwds);\n",
       "      switch (pos_args) {\n",
       "        case  0:\n",
       "        if (kw_args &gt; 0) {\n",
       "          PyObject* value = <span class='py_c_api'>PyDict_GetItem</span>(__pyx_kwds, __pyx_n_s_N);\n",
       "          if (value) { values[0] = value; kw_args--; }\n",
       "        }\n",
       "      }\n",
       "      if (unlikely(kw_args &gt; 0)) {\n",
       "        if (unlikely(<span class='pyx_c_api'>__Pyx_ParseOptionalKeywords</span>(__pyx_kwds, __pyx_pyargnames, 0, values, pos_args, \"mc_pi2\") &lt; 0)) <span class='error_goto'>__PYX_ERR(0, 2, __pyx_L3_error)</span>\n",
       "      }\n",
       "    } else {\n",
       "      switch (<span class='py_macro_api'>PyTuple_GET_SIZE</span>(__pyx_args)) {\n",
       "        case  1: values[0] = <span class='py_macro_api'>PyTuple_GET_ITEM</span>(__pyx_args, 0);\n",
       "        CYTHON_FALLTHROUGH;\n",
       "        case  0: break;\n",
       "        default: goto __pyx_L5_argtuple_error;\n",
       "      }\n",
       "    }\n",
       "    if (values[0]) {\n",
       "      __pyx_v_N = <span class='pyx_c_api'>__Pyx_PyInt_As_long</span>(values[0]); if (unlikely((__pyx_v_N == (long)-1) &amp;&amp; <span class='py_c_api'>PyErr_Occurred</span>())) <span class='error_goto'>__PYX_ERR(0, 2, __pyx_L3_error)</span>\n",
       "    } else {\n",
       "      __pyx_v_N = ((long)0x989680);\n",
       "    }\n",
       "  }\n",
       "  goto __pyx_L4_argument_unpacking_done;\n",
       "  __pyx_L5_argtuple_error:;\n",
       "  <span class='pyx_c_api'>__Pyx_RaiseArgtupleInvalid</span>(\"mc_pi2\", 0, 0, 1, <span class='py_macro_api'>PyTuple_GET_SIZE</span>(__pyx_args)); <span class='error_goto'>__PYX_ERR(0, 2, __pyx_L3_error)</span>\n",
       "  __pyx_L3_error:;\n",
       "  <span class='pyx_c_api'>__Pyx_AddTraceback</span>(\"_cython_magic_4fe452d7d812111b844f206d1d542a34.mc_pi2\", __pyx_clineno, __pyx_lineno, __pyx_filename);\n",
       "  <span class='refnanny'>__Pyx_RefNannyFinishContext</span>();\n",
       "  return NULL;\n",
       "  __pyx_L4_argument_unpacking_done:;\n",
       "  __pyx_r = __pyx_pf_46_cython_magic_4fe452d7d812111b844f206d1d542a34_mc_pi2(__pyx_self, __pyx_v_N);\n",
       "\n",
       "  /* function exit code */\n",
       "  <span class='refnanny'>__Pyx_RefNannyFinishContext</span>();\n",
       "  return __pyx_r;\n",
       "}\n",
       "\n",
       "static PyObject *__pyx_pf_46_cython_magic_4fe452d7d812111b844f206d1d542a34_mc_pi2(CYTHON_UNUSED PyObject *__pyx_self, long __pyx_v_N) {\n",
       "  long __pyx_v_in_;\n",
       "  CYTHON_UNUSED long __pyx_v_i;\n",
       "  double __pyx_v_x;\n",
       "  double __pyx_v_y;\n",
       "  PyObject *__pyx_r = NULL;\n",
       "  <span class='refnanny'>__Pyx_RefNannyDeclarations</span>\n",
       "  <span class='refnanny'>__Pyx_RefNannySetupContext</span>(\"mc_pi2\", 0);\n",
       "/* … */\n",
       "  /* function exit code */\n",
       "  __pyx_L1_error:;\n",
       "  <span class='pyx_macro_api'>__Pyx_XDECREF</span>(__pyx_t_6);\n",
       "  <span class='pyx_c_api'>__Pyx_AddTraceback</span>(\"_cython_magic_4fe452d7d812111b844f206d1d542a34.mc_pi2\", __pyx_clineno, __pyx_lineno, __pyx_filename);\n",
       "  __pyx_r = NULL;\n",
       "  __pyx_L0:;\n",
       "  <span class='refnanny'>__Pyx_XGIVEREF</span>(__pyx_r);\n",
       "  <span class='refnanny'>__Pyx_RefNannyFinishContext</span>();\n",
       "  return __pyx_r;\n",
       "}\n",
       "/* … */\n",
       "  __pyx_tuple_ = <span class='py_c_api'>PyTuple_Pack</span>(5, __pyx_n_s_N, __pyx_n_s_in, __pyx_n_s_i, __pyx_n_s_x, __pyx_n_s_y);<span class='error_goto'> if (unlikely(!__pyx_tuple_)) __PYX_ERR(0, 2, __pyx_L1_error)</span>\n",
       "  <span class='refnanny'>__Pyx_GOTREF</span>(__pyx_tuple_);\n",
       "  <span class='refnanny'>__Pyx_GIVEREF</span>(__pyx_tuple_);\n",
       "/* … */\n",
       "  __pyx_t_1 = PyCFunction_NewEx(&amp;__pyx_mdef_46_cython_magic_4fe452d7d812111b844f206d1d542a34_1mc_pi2, NULL, __pyx_n_s_cython_magic_4fe452d7d812111b84);<span class='error_goto'> if (unlikely(!__pyx_t_1)) __PYX_ERR(0, 2, __pyx_L1_error)</span>\n",
       "  <span class='refnanny'>__Pyx_GOTREF</span>(__pyx_t_1);\n",
       "  if (<span class='py_c_api'>PyDict_SetItem</span>(__pyx_d, __pyx_n_s_mc_pi2, __pyx_t_1) &lt; 0) <span class='error_goto'>__PYX_ERR(0, 2, __pyx_L1_error)</span>\n",
       "  <span class='pyx_macro_api'>__Pyx_DECREF</span>(__pyx_t_1); __pyx_t_1 = 0;\n",
       "</pre><pre class=\"cython line score-0\" onclick='toggleDiv(this)'>+<span class=\"\">03</span>:     <span class=\"k\">cdef</span> <span class=\"kt\">long</span> <span class=\"nf\">in_</span> <span class=\"o\">=</span> <span class=\"mf\">0</span></pre>\n",
       "<pre class='cython code score-0 '>  __pyx_v_in_ = 0;\n",
       "</pre><pre class=\"cython line score-0\">&#xA0;<span class=\"\">04</span>:     <span class=\"k\">cdef</span> <span class=\"kt\">long</span> <span class=\"nf\">i</span></pre>\n",
       "<pre class=\"cython line score-0\">&#xA0;<span class=\"\">05</span>:     <span class=\"k\">cdef</span> <span class=\"kt\">double</span> <span class=\"nf\">x</span><span class=\"p\">,</span> <span class=\"nf\">y</span></pre>\n",
       "<pre class=\"cython line score-0\" onclick='toggleDiv(this)'>+<span class=\"\">06</span>:     <span class=\"k\">for</span> <span class=\"n\">i</span> <span class=\"ow\">in</span> <span class=\"nb\">range</span><span class=\"p\">(</span><span class=\"n\">N</span><span class=\"p\">):</span></pre>\n",
       "<pre class='cython code score-0 '>  __pyx_t_1 = __pyx_v_N;\n",
       "  for (__pyx_t_2 = 0; __pyx_t_2 &lt; __pyx_t_1; __pyx_t_2+=1) {\n",
       "    __pyx_v_i = __pyx_t_2;\n",
       "</pre><pre class=\"cython line score-5\" onclick='toggleDiv(this)'>+<span class=\"\">07</span>:         <span class=\"n\">x</span> <span class=\"o\">=</span> <span class=\"n\">rand</span><span class=\"p\">()</span> <span class=\"o\">/</span> <span class=\"n\">RAND_MAX</span></pre>\n",
       "<pre class='cython code score-5 '>    __pyx_t_3 = rand();\n",
       "    if (unlikely(RAND_MAX == 0)) {\n",
       "      <span class='py_c_api'>PyErr_SetString</span>(PyExc_ZeroDivisionError, \"float division\");\n",
       "      <span class='error_goto'>__PYX_ERR(0, 7, __pyx_L1_error)</span>\n",
       "    }\n",
       "    __pyx_v_x = (((double)__pyx_t_3) / ((double)RAND_MAX));\n",
       "</pre><pre class=\"cython line score-5\" onclick='toggleDiv(this)'>+<span class=\"\">08</span>:         <span class=\"n\">y</span> <span class=\"o\">=</span> <span class=\"n\">rand</span><span class=\"p\">()</span> <span class=\"o\">/</span> <span class=\"n\">RAND_MAX</span></pre>\n",
       "<pre class='cython code score-5 '>    __pyx_t_3 = rand();\n",
       "    if (unlikely(RAND_MAX == 0)) {\n",
       "      <span class='py_c_api'>PyErr_SetString</span>(PyExc_ZeroDivisionError, \"float division\");\n",
       "      <span class='error_goto'>__PYX_ERR(0, 8, __pyx_L1_error)</span>\n",
       "    }\n",
       "    __pyx_v_y = (((double)__pyx_t_3) / ((double)RAND_MAX));\n",
       "</pre><pre class=\"cython line score-0\" onclick='toggleDiv(this)'>+<span class=\"\">09</span>:         <span class=\"k\">if</span> <span class=\"n\">x</span><span class=\"o\">*</span><span class=\"n\">x</span> <span class=\"o\">+</span> <span class=\"n\">y</span><span class=\"o\">*</span><span class=\"n\">y</span> <span class=\"o\">&lt;</span> <span class=\"mf\">1.0</span><span class=\"p\">:</span></pre>\n",
       "<pre class='cython code score-0 '>    __pyx_t_4 = ((((__pyx_v_x * __pyx_v_x) + (__pyx_v_y * __pyx_v_y)) &lt; 1.0) != 0);\n",
       "    if (__pyx_t_4) {\n",
       "/* … */\n",
       "    }\n",
       "  }\n",
       "</pre><pre class=\"cython line score-0\" onclick='toggleDiv(this)'>+<span class=\"\">10</span>:             <span class=\"n\">in_</span><span class=\"o\">+=</span><span class=\"mf\">1</span></pre>\n",
       "<pre class='cython code score-0 '>      __pyx_v_in_ = (__pyx_v_in_ + 1);\n",
       "</pre><pre class=\"cython line score-11\" onclick='toggleDiv(this)'>+<span class=\"\">11</span>:     <span class=\"k\">return</span> <span class=\"p\">(</span><span class=\"mf\">4.0</span><span class=\"o\">*</span><span class=\"n\">in_</span><span class=\"p\">)</span><span class=\"o\">/</span><span class=\"n\">N</span></pre>\n",
       "<pre class='cython code score-11 '>  <span class='pyx_macro_api'>__Pyx_XDECREF</span>(__pyx_r);\n",
       "  __pyx_t_5 = (4.0 * __pyx_v_in_);\n",
       "  if (unlikely(__pyx_v_N == 0)) {\n",
       "    <span class='py_c_api'>PyErr_SetString</span>(PyExc_ZeroDivisionError, \"float division\");\n",
       "    <span class='error_goto'>__PYX_ERR(0, 11, __pyx_L1_error)</span>\n",
       "  }\n",
       "  __pyx_t_6 = <span class='py_c_api'>PyFloat_FromDouble</span>((__pyx_t_5 / ((double)__pyx_v_N)));<span class='error_goto'> if (unlikely(!__pyx_t_6)) __PYX_ERR(0, 11, __pyx_L1_error)</span>\n",
       "  <span class='refnanny'>__Pyx_GOTREF</span>(__pyx_t_6);\n",
       "  __pyx_r = __pyx_t_6;\n",
       "  __pyx_t_6 = 0;\n",
       "  goto __pyx_L0;\n",
       "</pre></div></body></html>"
      ],
      "text/plain": [
       "<IPython.core.display.HTML object>"
      ]
     },
     "execution_count": 80,
     "metadata": {},
     "output_type": "execute_result"
    }
   ],
   "source": [
    "%%cython -a\n",
    "from libc.stdlib cimport rand, RAND_MAX\n",
    "def mc_pi2(long N = 10000000): # cython code 2\n",
    "    cdef long in_ = 0\n",
    "    cdef long i\n",
    "    cdef double x, y\n",
    "    for i in range(N):\n",
    "        x = rand() / RAND_MAX\n",
    "        y = rand() / RAND_MAX\n",
    "        if x*x + y*y < 1.0:\n",
    "            in_+=1\n",
    "    return (4.0*in_)/N"
   ]
  },
  {
   "cell_type": "code",
   "execution_count": 66,
   "metadata": {
    "slideshow": {
     "slide_type": "subslide"
    }
   },
   "outputs": [
    {
     "name": "stdout",
     "output_type": "stream",
     "text": [
      "Pi with 1000000 iterations: 3.14166800 (0.030010sec)\n",
      "Timeit with 50 runs  : 0.030105sec\n"
     ]
    }
   ],
   "source": [
    "N = 1000000\n",
    "t1 = time.perf_counter()\n",
    "pi = mc_pi2(N)\n",
    "print('Pi with %d iterations: %.8f (%.6fsec)' % (N, pi, time.perf_counter() - t1))\n",
    "print('Timeit with 50 runs  : %.6fsec' %\n",
    "      (timeit.timeit('mc_pi2(N)', setup='from __main__ import mc_pi2, N', number=50)/50))"
   ]
  },
  {
   "cell_type": "code",
   "execution_count": 81,
   "metadata": {
    "slideshow": {
     "slide_type": "subslide"
    }
   },
   "outputs": [
    {
     "data": {
      "text/html": [
       "<!DOCTYPE html>\n",
       "<!-- Generated by Cython 0.26.1 -->\n",
       "<html>\n",
       "<head>\n",
       "    <meta http-equiv=\"Content-Type\" content=\"text/html; charset=utf-8\" />\n",
       "    <title>Cython: _cython_magic_77e8c9f6233b50eaf3c98be3b679dd2f.pyx</title>\n",
       "    <style type=\"text/css\">\n",
       "    \n",
       "body.cython { font-family: courier; font-size: 12; }\n",
       "\n",
       ".cython.tag  {  }\n",
       ".cython.line { margin: 0em }\n",
       ".cython.code { font-size: 9; color: #444444; display: none; margin: 0px 0px 0px 8px; border-left: 8px none; }\n",
       "\n",
       ".cython.line .run { background-color: #B0FFB0; }\n",
       ".cython.line .mis { background-color: #FFB0B0; }\n",
       ".cython.code.run  { border-left: 8px solid #B0FFB0; }\n",
       ".cython.code.mis  { border-left: 8px solid #FFB0B0; }\n",
       "\n",
       ".cython.code .py_c_api  { color: red; }\n",
       ".cython.code .py_macro_api  { color: #FF7000; }\n",
       ".cython.code .pyx_c_api  { color: #FF3000; }\n",
       ".cython.code .pyx_macro_api  { color: #FF7000; }\n",
       ".cython.code .refnanny  { color: #FFA000; }\n",
       ".cython.code .trace  { color: #FFA000; }\n",
       ".cython.code .error_goto  { color: #FFA000; }\n",
       "\n",
       ".cython.code .coerce  { color: #008000; border: 1px dotted #008000 }\n",
       ".cython.code .py_attr { color: #FF0000; font-weight: bold; }\n",
       ".cython.code .c_attr  { color: #0000FF; }\n",
       ".cython.code .py_call { color: #FF0000; font-weight: bold; }\n",
       ".cython.code .c_call  { color: #0000FF; }\n",
       "\n",
       ".cython.score-0 {background-color: #FFFFff;}\n",
       ".cython.score-1 {background-color: #FFFFe7;}\n",
       ".cython.score-2 {background-color: #FFFFd4;}\n",
       ".cython.score-3 {background-color: #FFFFc4;}\n",
       ".cython.score-4 {background-color: #FFFFb6;}\n",
       ".cython.score-5 {background-color: #FFFFaa;}\n",
       ".cython.score-6 {background-color: #FFFF9f;}\n",
       ".cython.score-7 {background-color: #FFFF96;}\n",
       ".cython.score-8 {background-color: #FFFF8d;}\n",
       ".cython.score-9 {background-color: #FFFF86;}\n",
       ".cython.score-10 {background-color: #FFFF7f;}\n",
       ".cython.score-11 {background-color: #FFFF79;}\n",
       ".cython.score-12 {background-color: #FFFF73;}\n",
       ".cython.score-13 {background-color: #FFFF6e;}\n",
       ".cython.score-14 {background-color: #FFFF6a;}\n",
       ".cython.score-15 {background-color: #FFFF66;}\n",
       ".cython.score-16 {background-color: #FFFF62;}\n",
       ".cython.score-17 {background-color: #FFFF5e;}\n",
       ".cython.score-18 {background-color: #FFFF5b;}\n",
       ".cython.score-19 {background-color: #FFFF57;}\n",
       ".cython.score-20 {background-color: #FFFF55;}\n",
       ".cython.score-21 {background-color: #FFFF52;}\n",
       ".cython.score-22 {background-color: #FFFF4f;}\n",
       ".cython.score-23 {background-color: #FFFF4d;}\n",
       ".cython.score-24 {background-color: #FFFF4b;}\n",
       ".cython.score-25 {background-color: #FFFF48;}\n",
       ".cython.score-26 {background-color: #FFFF46;}\n",
       ".cython.score-27 {background-color: #FFFF44;}\n",
       ".cython.score-28 {background-color: #FFFF43;}\n",
       ".cython.score-29 {background-color: #FFFF41;}\n",
       ".cython.score-30 {background-color: #FFFF3f;}\n",
       ".cython.score-31 {background-color: #FFFF3e;}\n",
       ".cython.score-32 {background-color: #FFFF3c;}\n",
       ".cython.score-33 {background-color: #FFFF3b;}\n",
       ".cython.score-34 {background-color: #FFFF39;}\n",
       ".cython.score-35 {background-color: #FFFF38;}\n",
       ".cython.score-36 {background-color: #FFFF37;}\n",
       ".cython.score-37 {background-color: #FFFF36;}\n",
       ".cython.score-38 {background-color: #FFFF35;}\n",
       ".cython.score-39 {background-color: #FFFF34;}\n",
       ".cython.score-40 {background-color: #FFFF33;}\n",
       ".cython.score-41 {background-color: #FFFF32;}\n",
       ".cython.score-42 {background-color: #FFFF31;}\n",
       ".cython.score-43 {background-color: #FFFF30;}\n",
       ".cython.score-44 {background-color: #FFFF2f;}\n",
       ".cython.score-45 {background-color: #FFFF2e;}\n",
       ".cython.score-46 {background-color: #FFFF2d;}\n",
       ".cython.score-47 {background-color: #FFFF2c;}\n",
       ".cython.score-48 {background-color: #FFFF2b;}\n",
       ".cython.score-49 {background-color: #FFFF2b;}\n",
       ".cython.score-50 {background-color: #FFFF2a;}\n",
       ".cython.score-51 {background-color: #FFFF29;}\n",
       ".cython.score-52 {background-color: #FFFF29;}\n",
       ".cython.score-53 {background-color: #FFFF28;}\n",
       ".cython.score-54 {background-color: #FFFF27;}\n",
       ".cython.score-55 {background-color: #FFFF27;}\n",
       ".cython.score-56 {background-color: #FFFF26;}\n",
       ".cython.score-57 {background-color: #FFFF26;}\n",
       ".cython.score-58 {background-color: #FFFF25;}\n",
       ".cython.score-59 {background-color: #FFFF24;}\n",
       ".cython.score-60 {background-color: #FFFF24;}\n",
       ".cython.score-61 {background-color: #FFFF23;}\n",
       ".cython.score-62 {background-color: #FFFF23;}\n",
       ".cython.score-63 {background-color: #FFFF22;}\n",
       ".cython.score-64 {background-color: #FFFF22;}\n",
       ".cython.score-65 {background-color: #FFFF22;}\n",
       ".cython.score-66 {background-color: #FFFF21;}\n",
       ".cython.score-67 {background-color: #FFFF21;}\n",
       ".cython.score-68 {background-color: #FFFF20;}\n",
       ".cython.score-69 {background-color: #FFFF20;}\n",
       ".cython.score-70 {background-color: #FFFF1f;}\n",
       ".cython.score-71 {background-color: #FFFF1f;}\n",
       ".cython.score-72 {background-color: #FFFF1f;}\n",
       ".cython.score-73 {background-color: #FFFF1e;}\n",
       ".cython.score-74 {background-color: #FFFF1e;}\n",
       ".cython.score-75 {background-color: #FFFF1e;}\n",
       ".cython.score-76 {background-color: #FFFF1d;}\n",
       ".cython.score-77 {background-color: #FFFF1d;}\n",
       ".cython.score-78 {background-color: #FFFF1c;}\n",
       ".cython.score-79 {background-color: #FFFF1c;}\n",
       ".cython.score-80 {background-color: #FFFF1c;}\n",
       ".cython.score-81 {background-color: #FFFF1c;}\n",
       ".cython.score-82 {background-color: #FFFF1b;}\n",
       ".cython.score-83 {background-color: #FFFF1b;}\n",
       ".cython.score-84 {background-color: #FFFF1b;}\n",
       ".cython.score-85 {background-color: #FFFF1a;}\n",
       ".cython.score-86 {background-color: #FFFF1a;}\n",
       ".cython.score-87 {background-color: #FFFF1a;}\n",
       ".cython.score-88 {background-color: #FFFF1a;}\n",
       ".cython.score-89 {background-color: #FFFF19;}\n",
       ".cython.score-90 {background-color: #FFFF19;}\n",
       ".cython.score-91 {background-color: #FFFF19;}\n",
       ".cython.score-92 {background-color: #FFFF19;}\n",
       ".cython.score-93 {background-color: #FFFF18;}\n",
       ".cython.score-94 {background-color: #FFFF18;}\n",
       ".cython.score-95 {background-color: #FFFF18;}\n",
       ".cython.score-96 {background-color: #FFFF18;}\n",
       ".cython.score-97 {background-color: #FFFF17;}\n",
       ".cython.score-98 {background-color: #FFFF17;}\n",
       ".cython.score-99 {background-color: #FFFF17;}\n",
       ".cython.score-100 {background-color: #FFFF17;}\n",
       ".cython.score-101 {background-color: #FFFF16;}\n",
       ".cython.score-102 {background-color: #FFFF16;}\n",
       ".cython.score-103 {background-color: #FFFF16;}\n",
       ".cython.score-104 {background-color: #FFFF16;}\n",
       ".cython.score-105 {background-color: #FFFF16;}\n",
       ".cython.score-106 {background-color: #FFFF15;}\n",
       ".cython.score-107 {background-color: #FFFF15;}\n",
       ".cython.score-108 {background-color: #FFFF15;}\n",
       ".cython.score-109 {background-color: #FFFF15;}\n",
       ".cython.score-110 {background-color: #FFFF15;}\n",
       ".cython.score-111 {background-color: #FFFF15;}\n",
       ".cython.score-112 {background-color: #FFFF14;}\n",
       ".cython.score-113 {background-color: #FFFF14;}\n",
       ".cython.score-114 {background-color: #FFFF14;}\n",
       ".cython.score-115 {background-color: #FFFF14;}\n",
       ".cython.score-116 {background-color: #FFFF14;}\n",
       ".cython.score-117 {background-color: #FFFF14;}\n",
       ".cython.score-118 {background-color: #FFFF13;}\n",
       ".cython.score-119 {background-color: #FFFF13;}\n",
       ".cython.score-120 {background-color: #FFFF13;}\n",
       ".cython.score-121 {background-color: #FFFF13;}\n",
       ".cython.score-122 {background-color: #FFFF13;}\n",
       ".cython.score-123 {background-color: #FFFF13;}\n",
       ".cython.score-124 {background-color: #FFFF13;}\n",
       ".cython.score-125 {background-color: #FFFF12;}\n",
       ".cython.score-126 {background-color: #FFFF12;}\n",
       ".cython.score-127 {background-color: #FFFF12;}\n",
       ".cython.score-128 {background-color: #FFFF12;}\n",
       ".cython.score-129 {background-color: #FFFF12;}\n",
       ".cython.score-130 {background-color: #FFFF12;}\n",
       ".cython.score-131 {background-color: #FFFF12;}\n",
       ".cython.score-132 {background-color: #FFFF11;}\n",
       ".cython.score-133 {background-color: #FFFF11;}\n",
       ".cython.score-134 {background-color: #FFFF11;}\n",
       ".cython.score-135 {background-color: #FFFF11;}\n",
       ".cython.score-136 {background-color: #FFFF11;}\n",
       ".cython.score-137 {background-color: #FFFF11;}\n",
       ".cython.score-138 {background-color: #FFFF11;}\n",
       ".cython.score-139 {background-color: #FFFF11;}\n",
       ".cython.score-140 {background-color: #FFFF11;}\n",
       ".cython.score-141 {background-color: #FFFF10;}\n",
       ".cython.score-142 {background-color: #FFFF10;}\n",
       ".cython.score-143 {background-color: #FFFF10;}\n",
       ".cython.score-144 {background-color: #FFFF10;}\n",
       ".cython.score-145 {background-color: #FFFF10;}\n",
       ".cython.score-146 {background-color: #FFFF10;}\n",
       ".cython.score-147 {background-color: #FFFF10;}\n",
       ".cython.score-148 {background-color: #FFFF10;}\n",
       ".cython.score-149 {background-color: #FFFF10;}\n",
       ".cython.score-150 {background-color: #FFFF0f;}\n",
       ".cython.score-151 {background-color: #FFFF0f;}\n",
       ".cython.score-152 {background-color: #FFFF0f;}\n",
       ".cython.score-153 {background-color: #FFFF0f;}\n",
       ".cython.score-154 {background-color: #FFFF0f;}\n",
       ".cython.score-155 {background-color: #FFFF0f;}\n",
       ".cython.score-156 {background-color: #FFFF0f;}\n",
       ".cython.score-157 {background-color: #FFFF0f;}\n",
       ".cython.score-158 {background-color: #FFFF0f;}\n",
       ".cython.score-159 {background-color: #FFFF0f;}\n",
       ".cython.score-160 {background-color: #FFFF0f;}\n",
       ".cython.score-161 {background-color: #FFFF0e;}\n",
       ".cython.score-162 {background-color: #FFFF0e;}\n",
       ".cython.score-163 {background-color: #FFFF0e;}\n",
       ".cython.score-164 {background-color: #FFFF0e;}\n",
       ".cython.score-165 {background-color: #FFFF0e;}\n",
       ".cython.score-166 {background-color: #FFFF0e;}\n",
       ".cython.score-167 {background-color: #FFFF0e;}\n",
       ".cython.score-168 {background-color: #FFFF0e;}\n",
       ".cython.score-169 {background-color: #FFFF0e;}\n",
       ".cython.score-170 {background-color: #FFFF0e;}\n",
       ".cython.score-171 {background-color: #FFFF0e;}\n",
       ".cython.score-172 {background-color: #FFFF0e;}\n",
       ".cython.score-173 {background-color: #FFFF0d;}\n",
       ".cython.score-174 {background-color: #FFFF0d;}\n",
       ".cython.score-175 {background-color: #FFFF0d;}\n",
       ".cython.score-176 {background-color: #FFFF0d;}\n",
       ".cython.score-177 {background-color: #FFFF0d;}\n",
       ".cython.score-178 {background-color: #FFFF0d;}\n",
       ".cython.score-179 {background-color: #FFFF0d;}\n",
       ".cython.score-180 {background-color: #FFFF0d;}\n",
       ".cython.score-181 {background-color: #FFFF0d;}\n",
       ".cython.score-182 {background-color: #FFFF0d;}\n",
       ".cython.score-183 {background-color: #FFFF0d;}\n",
       ".cython.score-184 {background-color: #FFFF0d;}\n",
       ".cython.score-185 {background-color: #FFFF0d;}\n",
       ".cython.score-186 {background-color: #FFFF0d;}\n",
       ".cython.score-187 {background-color: #FFFF0c;}\n",
       ".cython.score-188 {background-color: #FFFF0c;}\n",
       ".cython.score-189 {background-color: #FFFF0c;}\n",
       ".cython.score-190 {background-color: #FFFF0c;}\n",
       ".cython.score-191 {background-color: #FFFF0c;}\n",
       ".cython.score-192 {background-color: #FFFF0c;}\n",
       ".cython.score-193 {background-color: #FFFF0c;}\n",
       ".cython.score-194 {background-color: #FFFF0c;}\n",
       ".cython.score-195 {background-color: #FFFF0c;}\n",
       ".cython.score-196 {background-color: #FFFF0c;}\n",
       ".cython.score-197 {background-color: #FFFF0c;}\n",
       ".cython.score-198 {background-color: #FFFF0c;}\n",
       ".cython.score-199 {background-color: #FFFF0c;}\n",
       ".cython.score-200 {background-color: #FFFF0c;}\n",
       ".cython.score-201 {background-color: #FFFF0c;}\n",
       ".cython.score-202 {background-color: #FFFF0c;}\n",
       ".cython.score-203 {background-color: #FFFF0b;}\n",
       ".cython.score-204 {background-color: #FFFF0b;}\n",
       ".cython.score-205 {background-color: #FFFF0b;}\n",
       ".cython.score-206 {background-color: #FFFF0b;}\n",
       ".cython.score-207 {background-color: #FFFF0b;}\n",
       ".cython.score-208 {background-color: #FFFF0b;}\n",
       ".cython.score-209 {background-color: #FFFF0b;}\n",
       ".cython.score-210 {background-color: #FFFF0b;}\n",
       ".cython.score-211 {background-color: #FFFF0b;}\n",
       ".cython.score-212 {background-color: #FFFF0b;}\n",
       ".cython.score-213 {background-color: #FFFF0b;}\n",
       ".cython.score-214 {background-color: #FFFF0b;}\n",
       ".cython.score-215 {background-color: #FFFF0b;}\n",
       ".cython.score-216 {background-color: #FFFF0b;}\n",
       ".cython.score-217 {background-color: #FFFF0b;}\n",
       ".cython.score-218 {background-color: #FFFF0b;}\n",
       ".cython.score-219 {background-color: #FFFF0b;}\n",
       ".cython.score-220 {background-color: #FFFF0b;}\n",
       ".cython.score-221 {background-color: #FFFF0b;}\n",
       ".cython.score-222 {background-color: #FFFF0a;}\n",
       ".cython.score-223 {background-color: #FFFF0a;}\n",
       ".cython.score-224 {background-color: #FFFF0a;}\n",
       ".cython.score-225 {background-color: #FFFF0a;}\n",
       ".cython.score-226 {background-color: #FFFF0a;}\n",
       ".cython.score-227 {background-color: #FFFF0a;}\n",
       ".cython.score-228 {background-color: #FFFF0a;}\n",
       ".cython.score-229 {background-color: #FFFF0a;}\n",
       ".cython.score-230 {background-color: #FFFF0a;}\n",
       ".cython.score-231 {background-color: #FFFF0a;}\n",
       ".cython.score-232 {background-color: #FFFF0a;}\n",
       ".cython.score-233 {background-color: #FFFF0a;}\n",
       ".cython.score-234 {background-color: #FFFF0a;}\n",
       ".cython.score-235 {background-color: #FFFF0a;}\n",
       ".cython.score-236 {background-color: #FFFF0a;}\n",
       ".cython.score-237 {background-color: #FFFF0a;}\n",
       ".cython.score-238 {background-color: #FFFF0a;}\n",
       ".cython.score-239 {background-color: #FFFF0a;}\n",
       ".cython.score-240 {background-color: #FFFF0a;}\n",
       ".cython.score-241 {background-color: #FFFF0a;}\n",
       ".cython.score-242 {background-color: #FFFF0a;}\n",
       ".cython.score-243 {background-color: #FFFF0a;}\n",
       ".cython.score-244 {background-color: #FFFF0a;}\n",
       ".cython.score-245 {background-color: #FFFF0a;}\n",
       ".cython.score-246 {background-color: #FFFF09;}\n",
       ".cython.score-247 {background-color: #FFFF09;}\n",
       ".cython.score-248 {background-color: #FFFF09;}\n",
       ".cython.score-249 {background-color: #FFFF09;}\n",
       ".cython.score-250 {background-color: #FFFF09;}\n",
       ".cython.score-251 {background-color: #FFFF09;}\n",
       ".cython.score-252 {background-color: #FFFF09;}\n",
       ".cython.score-253 {background-color: #FFFF09;}\n",
       ".cython.score-254 {background-color: #FFFF09;}\n",
       ".cython .hll { background-color: #ffffcc }\n",
       ".cython  { background: #f8f8f8; }\n",
       ".cython .c { color: #408080; font-style: italic } /* Comment */\n",
       ".cython .err { border: 1px solid #FF0000 } /* Error */\n",
       ".cython .k { color: #008000; font-weight: bold } /* Keyword */\n",
       ".cython .o { color: #666666 } /* Operator */\n",
       ".cython .ch { color: #408080; font-style: italic } /* Comment.Hashbang */\n",
       ".cython .cm { color: #408080; font-style: italic } /* Comment.Multiline */\n",
       ".cython .cp { color: #BC7A00 } /* Comment.Preproc */\n",
       ".cython .cpf { color: #408080; font-style: italic } /* Comment.PreprocFile */\n",
       ".cython .c1 { color: #408080; font-style: italic } /* Comment.Single */\n",
       ".cython .cs { color: #408080; font-style: italic } /* Comment.Special */\n",
       ".cython .gd { color: #A00000 } /* Generic.Deleted */\n",
       ".cython .ge { font-style: italic } /* Generic.Emph */\n",
       ".cython .gr { color: #FF0000 } /* Generic.Error */\n",
       ".cython .gh { color: #000080; font-weight: bold } /* Generic.Heading */\n",
       ".cython .gi { color: #00A000 } /* Generic.Inserted */\n",
       ".cython .go { color: #888888 } /* Generic.Output */\n",
       ".cython .gp { color: #000080; font-weight: bold } /* Generic.Prompt */\n",
       ".cython .gs { font-weight: bold } /* Generic.Strong */\n",
       ".cython .gu { color: #800080; font-weight: bold } /* Generic.Subheading */\n",
       ".cython .gt { color: #0044DD } /* Generic.Traceback */\n",
       ".cython .kc { color: #008000; font-weight: bold } /* Keyword.Constant */\n",
       ".cython .kd { color: #008000; font-weight: bold } /* Keyword.Declaration */\n",
       ".cython .kn { color: #008000; font-weight: bold } /* Keyword.Namespace */\n",
       ".cython .kp { color: #008000 } /* Keyword.Pseudo */\n",
       ".cython .kr { color: #008000; font-weight: bold } /* Keyword.Reserved */\n",
       ".cython .kt { color: #B00040 } /* Keyword.Type */\n",
       ".cython .m { color: #666666 } /* Literal.Number */\n",
       ".cython .s { color: #BA2121 } /* Literal.String */\n",
       ".cython .na { color: #7D9029 } /* Name.Attribute */\n",
       ".cython .nb { color: #008000 } /* Name.Builtin */\n",
       ".cython .nc { color: #0000FF; font-weight: bold } /* Name.Class */\n",
       ".cython .no { color: #880000 } /* Name.Constant */\n",
       ".cython .nd { color: #AA22FF } /* Name.Decorator */\n",
       ".cython .ni { color: #999999; font-weight: bold } /* Name.Entity */\n",
       ".cython .ne { color: #D2413A; font-weight: bold } /* Name.Exception */\n",
       ".cython .nf { color: #0000FF } /* Name.Function */\n",
       ".cython .nl { color: #A0A000 } /* Name.Label */\n",
       ".cython .nn { color: #0000FF; font-weight: bold } /* Name.Namespace */\n",
       ".cython .nt { color: #008000; font-weight: bold } /* Name.Tag */\n",
       ".cython .nv { color: #19177C } /* Name.Variable */\n",
       ".cython .ow { color: #AA22FF; font-weight: bold } /* Operator.Word */\n",
       ".cython .w { color: #bbbbbb } /* Text.Whitespace */\n",
       ".cython .mb { color: #666666 } /* Literal.Number.Bin */\n",
       ".cython .mf { color: #666666 } /* Literal.Number.Float */\n",
       ".cython .mh { color: #666666 } /* Literal.Number.Hex */\n",
       ".cython .mi { color: #666666 } /* Literal.Number.Integer */\n",
       ".cython .mo { color: #666666 } /* Literal.Number.Oct */\n",
       ".cython .sa { color: #BA2121 } /* Literal.String.Affix */\n",
       ".cython .sb { color: #BA2121 } /* Literal.String.Backtick */\n",
       ".cython .sc { color: #BA2121 } /* Literal.String.Char */\n",
       ".cython .dl { color: #BA2121 } /* Literal.String.Delimiter */\n",
       ".cython .sd { color: #BA2121; font-style: italic } /* Literal.String.Doc */\n",
       ".cython .s2 { color: #BA2121 } /* Literal.String.Double */\n",
       ".cython .se { color: #BB6622; font-weight: bold } /* Literal.String.Escape */\n",
       ".cython .sh { color: #BA2121 } /* Literal.String.Heredoc */\n",
       ".cython .si { color: #BB6688; font-weight: bold } /* Literal.String.Interpol */\n",
       ".cython .sx { color: #008000 } /* Literal.String.Other */\n",
       ".cython .sr { color: #BB6688 } /* Literal.String.Regex */\n",
       ".cython .s1 { color: #BA2121 } /* Literal.String.Single */\n",
       ".cython .ss { color: #19177C } /* Literal.String.Symbol */\n",
       ".cython .bp { color: #008000 } /* Name.Builtin.Pseudo */\n",
       ".cython .fm { color: #0000FF } /* Name.Function.Magic */\n",
       ".cython .vc { color: #19177C } /* Name.Variable.Class */\n",
       ".cython .vg { color: #19177C } /* Name.Variable.Global */\n",
       ".cython .vi { color: #19177C } /* Name.Variable.Instance */\n",
       ".cython .vm { color: #19177C } /* Name.Variable.Magic */\n",
       ".cython .il { color: #666666 } /* Literal.Number.Integer.Long */\n",
       "    </style>\n",
       "    <script>\n",
       "    function toggleDiv(id) {\n",
       "        theDiv = id.nextElementSibling\n",
       "        if (theDiv.style.display != 'block') theDiv.style.display = 'block';\n",
       "        else theDiv.style.display = 'none';\n",
       "    }\n",
       "    </script>\n",
       "</head>\n",
       "<body class=\"cython\">\n",
       "<p><span style=\"border-bottom: solid 1px grey;\">Generated by Cython 0.26.1</span></p>\n",
       "<p>\n",
       "    <span style=\"background-color: #FFFF00\">Yellow lines</span> hint at Python interaction.<br />\n",
       "    Click on a line that starts with a \"<code>+</code>\" to see the C code that Cython generated for it.\n",
       "</p>\n",
       "<div class=\"cython\"><pre class=\"cython line score-0\">&#xA0;<span class=\"\">01</span>: <span class=\"k\">import</span> <span class=\"nn\">cython</span></pre>\n",
       "<pre class=\"cython line score-0\">&#xA0;<span class=\"\">02</span>: <span class=\"k\">from</span> <span class=\"nn\">libc.stdlib</span> <span class=\"k\">cimport</span> <span class=\"n\">rand</span><span class=\"p\">,</span> <span class=\"n\">RAND_MAX</span></pre>\n",
       "<pre class=\"cython line score-0\">&#xA0;<span class=\"\">03</span>: <span class=\"nd\">@cython</span><span class=\"o\">.</span><span class=\"n\">boundscheck</span><span class=\"p\">(</span><span class=\"bp\">False</span><span class=\"p\">)</span></pre>\n",
       "<pre class=\"cython line score-42\" onclick='toggleDiv(this)'>+<span class=\"\">04</span>: <span class=\"k\">def</span> <span class=\"nf\">mc_pi3</span><span class=\"p\">(</span><span class=\"nb\">long</span> <span class=\"n\">N</span> <span class=\"o\">=</span> <span class=\"mf\">10000000</span><span class=\"p\">):</span> <span class=\"c\"># cython code 3</span></pre>\n",
       "<pre class='cython code score-42 '>/* Python wrapper */\n",
       "static PyObject *__pyx_pw_46_cython_magic_77e8c9f6233b50eaf3c98be3b679dd2f_1mc_pi3(PyObject *__pyx_self, PyObject *__pyx_args, PyObject *__pyx_kwds); /*proto*/\n",
       "static PyMethodDef __pyx_mdef_46_cython_magic_77e8c9f6233b50eaf3c98be3b679dd2f_1mc_pi3 = {\"mc_pi3\", (PyCFunction)__pyx_pw_46_cython_magic_77e8c9f6233b50eaf3c98be3b679dd2f_1mc_pi3, METH_VARARGS|METH_KEYWORDS, 0};\n",
       "static PyObject *__pyx_pw_46_cython_magic_77e8c9f6233b50eaf3c98be3b679dd2f_1mc_pi3(PyObject *__pyx_self, PyObject *__pyx_args, PyObject *__pyx_kwds) {\n",
       "  long __pyx_v_N;\n",
       "  PyObject *__pyx_r = 0;\n",
       "  <span class='refnanny'>__Pyx_RefNannyDeclarations</span>\n",
       "  <span class='refnanny'>__Pyx_RefNannySetupContext</span>(\"mc_pi3 (wrapper)\", 0);\n",
       "  {\n",
       "    static PyObject **__pyx_pyargnames[] = {&amp;__pyx_n_s_N,0};\n",
       "    PyObject* values[1] = {0};\n",
       "    if (unlikely(__pyx_kwds)) {\n",
       "      Py_ssize_t kw_args;\n",
       "      const Py_ssize_t pos_args = <span class='py_macro_api'>PyTuple_GET_SIZE</span>(__pyx_args);\n",
       "      switch (pos_args) {\n",
       "        case  1: values[0] = <span class='py_macro_api'>PyTuple_GET_ITEM</span>(__pyx_args, 0);\n",
       "        CYTHON_FALLTHROUGH;\n",
       "        case  0: break;\n",
       "        default: goto __pyx_L5_argtuple_error;\n",
       "      }\n",
       "      kw_args = <span class='py_c_api'>PyDict_Size</span>(__pyx_kwds);\n",
       "      switch (pos_args) {\n",
       "        case  0:\n",
       "        if (kw_args &gt; 0) {\n",
       "          PyObject* value = <span class='py_c_api'>PyDict_GetItem</span>(__pyx_kwds, __pyx_n_s_N);\n",
       "          if (value) { values[0] = value; kw_args--; }\n",
       "        }\n",
       "      }\n",
       "      if (unlikely(kw_args &gt; 0)) {\n",
       "        if (unlikely(<span class='pyx_c_api'>__Pyx_ParseOptionalKeywords</span>(__pyx_kwds, __pyx_pyargnames, 0, values, pos_args, \"mc_pi3\") &lt; 0)) <span class='error_goto'>__PYX_ERR(0, 4, __pyx_L3_error)</span>\n",
       "      }\n",
       "    } else {\n",
       "      switch (<span class='py_macro_api'>PyTuple_GET_SIZE</span>(__pyx_args)) {\n",
       "        case  1: values[0] = <span class='py_macro_api'>PyTuple_GET_ITEM</span>(__pyx_args, 0);\n",
       "        CYTHON_FALLTHROUGH;\n",
       "        case  0: break;\n",
       "        default: goto __pyx_L5_argtuple_error;\n",
       "      }\n",
       "    }\n",
       "    if (values[0]) {\n",
       "      __pyx_v_N = <span class='pyx_c_api'>__Pyx_PyInt_As_long</span>(values[0]); if (unlikely((__pyx_v_N == (long)-1) &amp;&amp; <span class='py_c_api'>PyErr_Occurred</span>())) <span class='error_goto'>__PYX_ERR(0, 4, __pyx_L3_error)</span>\n",
       "    } else {\n",
       "      __pyx_v_N = ((long)0x989680);\n",
       "    }\n",
       "  }\n",
       "  goto __pyx_L4_argument_unpacking_done;\n",
       "  __pyx_L5_argtuple_error:;\n",
       "  <span class='pyx_c_api'>__Pyx_RaiseArgtupleInvalid</span>(\"mc_pi3\", 0, 0, 1, <span class='py_macro_api'>PyTuple_GET_SIZE</span>(__pyx_args)); <span class='error_goto'>__PYX_ERR(0, 4, __pyx_L3_error)</span>\n",
       "  __pyx_L3_error:;\n",
       "  <span class='pyx_c_api'>__Pyx_AddTraceback</span>(\"_cython_magic_77e8c9f6233b50eaf3c98be3b679dd2f.mc_pi3\", __pyx_clineno, __pyx_lineno, __pyx_filename);\n",
       "  <span class='refnanny'>__Pyx_RefNannyFinishContext</span>();\n",
       "  return NULL;\n",
       "  __pyx_L4_argument_unpacking_done:;\n",
       "  __pyx_r = __pyx_pf_46_cython_magic_77e8c9f6233b50eaf3c98be3b679dd2f_mc_pi3(__pyx_self, __pyx_v_N);\n",
       "\n",
       "  /* function exit code */\n",
       "  <span class='refnanny'>__Pyx_RefNannyFinishContext</span>();\n",
       "  return __pyx_r;\n",
       "}\n",
       "\n",
       "static PyObject *__pyx_pf_46_cython_magic_77e8c9f6233b50eaf3c98be3b679dd2f_mc_pi3(CYTHON_UNUSED PyObject *__pyx_self, long __pyx_v_N) {\n",
       "  long __pyx_v_in_;\n",
       "  CYTHON_UNUSED long __pyx_v_i;\n",
       "  double __pyx_v_x;\n",
       "  double __pyx_v_y;\n",
       "  PyObject *__pyx_r = NULL;\n",
       "  <span class='refnanny'>__Pyx_RefNannyDeclarations</span>\n",
       "  <span class='refnanny'>__Pyx_RefNannySetupContext</span>(\"mc_pi3\", 0);\n",
       "/* … */\n",
       "  /* function exit code */\n",
       "  __pyx_L1_error:;\n",
       "  <span class='pyx_macro_api'>__Pyx_XDECREF</span>(__pyx_t_6);\n",
       "  <span class='pyx_c_api'>__Pyx_AddTraceback</span>(\"_cython_magic_77e8c9f6233b50eaf3c98be3b679dd2f.mc_pi3\", __pyx_clineno, __pyx_lineno, __pyx_filename);\n",
       "  __pyx_r = NULL;\n",
       "  __pyx_L0:;\n",
       "  <span class='refnanny'>__Pyx_XGIVEREF</span>(__pyx_r);\n",
       "  <span class='refnanny'>__Pyx_RefNannyFinishContext</span>();\n",
       "  return __pyx_r;\n",
       "}\n",
       "/* … */\n",
       "  __pyx_tuple_ = <span class='py_c_api'>PyTuple_Pack</span>(5, __pyx_n_s_N, __pyx_n_s_in, __pyx_n_s_i, __pyx_n_s_x, __pyx_n_s_y);<span class='error_goto'> if (unlikely(!__pyx_tuple_)) __PYX_ERR(0, 4, __pyx_L1_error)</span>\n",
       "  <span class='refnanny'>__Pyx_GOTREF</span>(__pyx_tuple_);\n",
       "  <span class='refnanny'>__Pyx_GIVEREF</span>(__pyx_tuple_);\n",
       "/* … */\n",
       "  __pyx_t_1 = PyCFunction_NewEx(&amp;__pyx_mdef_46_cython_magic_77e8c9f6233b50eaf3c98be3b679dd2f_1mc_pi3, NULL, __pyx_n_s_cython_magic_77e8c9f6233b50eaf3);<span class='error_goto'> if (unlikely(!__pyx_t_1)) __PYX_ERR(0, 4, __pyx_L1_error)</span>\n",
       "  <span class='refnanny'>__Pyx_GOTREF</span>(__pyx_t_1);\n",
       "  if (<span class='py_c_api'>PyDict_SetItem</span>(__pyx_d, __pyx_n_s_mc_pi3, __pyx_t_1) &lt; 0) <span class='error_goto'>__PYX_ERR(0, 4, __pyx_L1_error)</span>\n",
       "  <span class='pyx_macro_api'>__Pyx_DECREF</span>(__pyx_t_1); __pyx_t_1 = 0;\n",
       "</pre><pre class=\"cython line score-0\" onclick='toggleDiv(this)'>+<span class=\"\">05</span>:     <span class=\"k\">cdef</span> <span class=\"kt\">long</span> <span class=\"nf\">in_</span> <span class=\"o\">=</span> <span class=\"mf\">0</span></pre>\n",
       "<pre class='cython code score-0 '>  __pyx_v_in_ = 0;\n",
       "</pre><pre class=\"cython line score-0\">&#xA0;<span class=\"\">06</span>:     <span class=\"k\">cdef</span> <span class=\"kt\">long</span> <span class=\"nf\">i</span></pre>\n",
       "<pre class=\"cython line score-0\">&#xA0;<span class=\"\">07</span>:     <span class=\"k\">cdef</span> <span class=\"kt\">double</span> <span class=\"nf\">x</span><span class=\"p\">,</span> <span class=\"nf\">y</span></pre>\n",
       "<pre class=\"cython line score-0\" onclick='toggleDiv(this)'>+<span class=\"\">08</span>:     <span class=\"k\">for</span> <span class=\"n\">i</span> <span class=\"ow\">in</span> <span class=\"nb\">range</span><span class=\"p\">(</span><span class=\"n\">N</span><span class=\"p\">):</span></pre>\n",
       "<pre class='cython code score-0 '>  __pyx_t_1 = __pyx_v_N;\n",
       "  for (__pyx_t_2 = 0; __pyx_t_2 &lt; __pyx_t_1; __pyx_t_2+=1) {\n",
       "    __pyx_v_i = __pyx_t_2;\n",
       "</pre><pre class=\"cython line score-5\" onclick='toggleDiv(this)'>+<span class=\"\">09</span>:         <span class=\"n\">x</span> <span class=\"o\">=</span> <span class=\"n\">rand</span><span class=\"p\">()</span> <span class=\"o\">/</span> <span class=\"n\">RAND_MAX</span></pre>\n",
       "<pre class='cython code score-5 '>    __pyx_t_3 = rand();\n",
       "    if (unlikely(RAND_MAX == 0)) {\n",
       "      <span class='py_c_api'>PyErr_SetString</span>(PyExc_ZeroDivisionError, \"float division\");\n",
       "      <span class='error_goto'>__PYX_ERR(0, 9, __pyx_L1_error)</span>\n",
       "    }\n",
       "    __pyx_v_x = (((double)__pyx_t_3) / ((double)RAND_MAX));\n",
       "</pre><pre class=\"cython line score-5\" onclick='toggleDiv(this)'>+<span class=\"\">10</span>:         <span class=\"n\">y</span> <span class=\"o\">=</span> <span class=\"n\">rand</span><span class=\"p\">()</span> <span class=\"o\">/</span> <span class=\"n\">RAND_MAX</span></pre>\n",
       "<pre class='cython code score-5 '>    __pyx_t_3 = rand();\n",
       "    if (unlikely(RAND_MAX == 0)) {\n",
       "      <span class='py_c_api'>PyErr_SetString</span>(PyExc_ZeroDivisionError, \"float division\");\n",
       "      <span class='error_goto'>__PYX_ERR(0, 10, __pyx_L1_error)</span>\n",
       "    }\n",
       "    __pyx_v_y = (((double)__pyx_t_3) / ((double)RAND_MAX));\n",
       "</pre><pre class=\"cython line score-0\" onclick='toggleDiv(this)'>+<span class=\"\">11</span>:         <span class=\"k\">if</span> <span class=\"n\">x</span><span class=\"o\">*</span><span class=\"n\">x</span> <span class=\"o\">+</span> <span class=\"n\">y</span><span class=\"o\">*</span><span class=\"n\">y</span> <span class=\"o\">&lt;</span> <span class=\"mf\">1.0</span><span class=\"p\">:</span></pre>\n",
       "<pre class='cython code score-0 '>    __pyx_t_4 = ((((__pyx_v_x * __pyx_v_x) + (__pyx_v_y * __pyx_v_y)) &lt; 1.0) != 0);\n",
       "    if (__pyx_t_4) {\n",
       "/* … */\n",
       "    }\n",
       "  }\n",
       "</pre><pre class=\"cython line score-0\" onclick='toggleDiv(this)'>+<span class=\"\">12</span>:             <span class=\"n\">in_</span><span class=\"o\">+=</span><span class=\"mf\">1</span></pre>\n",
       "<pre class='cython code score-0 '>      __pyx_v_in_ = (__pyx_v_in_ + 1);\n",
       "</pre><pre class=\"cython line score-11\" onclick='toggleDiv(this)'>+<span class=\"\">13</span>:     <span class=\"k\">return</span> <span class=\"p\">(</span><span class=\"mf\">4.0</span><span class=\"o\">*</span><span class=\"n\">in_</span><span class=\"p\">)</span><span class=\"o\">/</span><span class=\"n\">N</span></pre>\n",
       "<pre class='cython code score-11 '>  <span class='pyx_macro_api'>__Pyx_XDECREF</span>(__pyx_r);\n",
       "  __pyx_t_5 = (4.0 * __pyx_v_in_);\n",
       "  if (unlikely(__pyx_v_N == 0)) {\n",
       "    <span class='py_c_api'>PyErr_SetString</span>(PyExc_ZeroDivisionError, \"float division\");\n",
       "    <span class='error_goto'>__PYX_ERR(0, 13, __pyx_L1_error)</span>\n",
       "  }\n",
       "  __pyx_t_6 = <span class='py_c_api'>PyFloat_FromDouble</span>((__pyx_t_5 / ((double)__pyx_v_N)));<span class='error_goto'> if (unlikely(!__pyx_t_6)) __PYX_ERR(0, 13, __pyx_L1_error)</span>\n",
       "  <span class='refnanny'>__Pyx_GOTREF</span>(__pyx_t_6);\n",
       "  __pyx_r = __pyx_t_6;\n",
       "  __pyx_t_6 = 0;\n",
       "  goto __pyx_L0;\n",
       "</pre></div></body></html>"
      ],
      "text/plain": [
       "<IPython.core.display.HTML object>"
      ]
     },
     "execution_count": 81,
     "metadata": {},
     "output_type": "execute_result"
    }
   ],
   "source": [
    "%%cython -a\n",
    "import cython\n",
    "from libc.stdlib cimport rand, RAND_MAX\n",
    "@cython.boundscheck(False)\n",
    "def mc_pi3(long N = 10000000): # cython code 3\n",
    "    cdef long in_ = 0\n",
    "    cdef long i\n",
    "    cdef double x, y\n",
    "    for i in range(N):\n",
    "        x = rand() / RAND_MAX\n",
    "        y = rand() / RAND_MAX\n",
    "        if x*x + y*y < 1.0:\n",
    "            in_+=1\n",
    "    return (4.0*in_)/N"
   ]
  },
  {
   "cell_type": "code",
   "execution_count": 68,
   "metadata": {
    "slideshow": {
     "slide_type": "subslide"
    }
   },
   "outputs": [
    {
     "name": "stdout",
     "output_type": "stream",
     "text": [
      "Pi with 1000000 iterations: 3.14131200 (0.031021sec)\n",
      "Timeit with 50 runs  : 0.030042sec\n"
     ]
    }
   ],
   "source": [
    "N = 1000000\n",
    "t1 = time.perf_counter()\n",
    "pi = mc_pi3(N)\n",
    "print('Pi with %d iterations: %.8f (%.6fsec)' % (N, pi, time.perf_counter() - t1))\n",
    "print('Timeit with 50 runs  : %.6fsec' %\n",
    "      (timeit.timeit('mc_pi3(N)', setup='from __main__ import mc_pi3, N', number=50)/50))"
   ]
  },
  {
   "cell_type": "markdown",
   "metadata": {
    "slideshow": {
     "slide_type": "subslide"
    }
   },
   "source": [
    "### Conclusion\n",
    "\n",
    "* Code optimizations using cython very easy\n",
    "* You need to know what you are doing\n",
    "* Knowlegde in system architecture is needed (C datatypes vs. Python datatypes)\n",
    "* Parallelization using OpenMP possible, but not platform-independent\n",
    "* Setup of Cython is easier in Linux (gcc already installed and configured), on Windows correct compiler version needed\n",
    "* usually a performance increase of factor 10 is possible"
   ]
  },
  {
   "cell_type": "code",
   "execution_count": null,
   "metadata": {},
   "outputs": [],
   "source": []
  }
 ],
 "metadata": {
  "celltoolbar": "Slideshow",
  "kernelspec": {
   "display_name": "Python 3 (ipykernel)",
   "language": "python",
   "name": "python3"
  },
  "language_info": {
   "codemirror_mode": {
    "name": "ipython",
    "version": 3
   },
   "file_extension": ".py",
   "mimetype": "text/x-python",
   "name": "python",
   "nbconvert_exporter": "python",
   "pygments_lexer": "ipython3",
   "version": "3.7.4"
  }
 },
 "nbformat": 4,
 "nbformat_minor": 4
}
