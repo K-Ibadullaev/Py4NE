{
 "cells": [
  {
   "cell_type": "markdown",
   "source": [
    "# Tafelübung Objektorientierung"
   ],
   "metadata": {}
  },
  {
   "cell_type": "code",
   "execution_count": 7,
   "source": [
    "class Motor:\r\n",
    "    def __init__(self, anzahl_zylinder: int, kraftstoff: str):\r\n",
    "        if type(anzahl_zylinder) is not int:\r\n",
    "            raise TypeError('Datentyp anzahl_zylinder falsch!')\r\n",
    "        self._az = anzahl_zylinder\r\n",
    "\r\n",
    "        self._kraftstofftyp = kraftstoff\r\n",
    "\r\n",
    "    @property\r\n",
    "    def AnzahlZylinder(self)->int:\r\n",
    "        return self._az\r\n",
    "\r\n",
    "    @property\r\n",
    "    def KraftstoffTyp(self)->str:\r\n",
    "        return self._kraftstofftyp\r\n",
    "\r\n",
    "class Fahrzeug:\r\n",
    "    # class Fahrzeug(object)\r\n",
    "    def __init__(self, m, maxv, motor: Motor):\r\n",
    "        self._m = m\r\n",
    "        self._maxv = maxv\r\n",
    "        self._v = 0.0\r\n",
    "        self._mot = motor\r\n",
    "    \r\n",
    "    def beschleunigen(self, x=5):\r\n",
    "        self._v += x\r\n",
    "        self._v = self._v if self._v < self._maxv else self._maxv\r\n",
    "        # if self._v < self._maxv:\r\n",
    "        #     self._v = self._v\r\n",
    "        # else:\r\n",
    "        #     self._v = self._maxv\r\n",
    "        # self._v = min(self._v, self._maxv)\r\n",
    "\r\n",
    "    def bremsen(self, x=5):\r\n",
    "        self._v -= x\r\n",
    "        self._v = max(self._v, -self._maxv / 4)\r\n",
    "\r\n",
    "    @property\r\n",
    "    def Velocity(self):\r\n",
    "        return self._v\r\n",
    "\r\n",
    "    def Mass(self):\r\n",
    "        return self._m\r\n",
    "\r\n",
    "    def getmaxv(self):\r\n",
    "        return self._maxv\r\n",
    "    \r\n",
    "    def setmaxv(self, mv):\r\n",
    "        self._maxv = mv\r\n",
    "\r\n",
    "    MaxV = property(getmaxv, setmaxv) # read and write property\r\n",
    "    MaxV1 = property(fset=setmaxv) # write-only-property\r\n",
    "\r\n",
    "m = 1500\r\n",
    "m1 = Motor(6, 'Benzin')\r\n",
    "m2 = Motor(8, 'Diesel')\r\n",
    "\r\n",
    "f1 = Fahrzeug(m, 180, m1)\r\n",
    "f1.beschleunigen(10)\r\n",
    "f1.bremsen(5)\r\n",
    "\r\n",
    "f1.beschleunigen(200)\r\n",
    "f1.MaxV = 220\r\n",
    "\r\n",
    "f1.beschleunigen(10)\r\n",
    "\r\n",
    "print('Masse f1: %d' % f1.Mass())\r\n",
    "print('v f1:     %.1f' % f1.Velocity)\r\n",
    "print('Max v.:   %.1f' % f1.MaxV)\r\n",
    "\r\n",
    "del f1\r\n",
    "# f1.beschleunigen(4) --> Fehler führen\r\n",
    "\r\n",
    "f1 = Fahrzeug(2500, 90, m2)"
   ],
   "outputs": [
    {
     "output_type": "stream",
     "name": "stdout",
     "text": [
      "Masse f1: 1500\n",
      "v f1:     190.0\n",
      "Max v.:   220.0\n"
     ]
    }
   ],
   "metadata": {}
  },
  {
   "cell_type": "code",
   "execution_count": 3,
   "source": [
    "print('Max v.:   %.1f' % f1.MaxV1)"
   ],
   "outputs": [
    {
     "output_type": "error",
     "ename": "AttributeError",
     "evalue": "unreadable attribute",
     "traceback": [
      "\u001b[1;31m---------------------------------------------------------------------------\u001b[0m",
      "\u001b[1;31mAttributeError\u001b[0m                            Traceback (most recent call last)",
      "\u001b[1;32mC:\\Users\\ROYMOR~1\\AppData\\Local\\Temp/ipykernel_13064/1971160423.py\u001b[0m in \u001b[0;36m<module>\u001b[1;34m\u001b[0m\n\u001b[1;32m----> 1\u001b[1;33m \u001b[0mprint\u001b[0m\u001b[1;33m(\u001b[0m\u001b[1;34m'Max v.:   %.1f'\u001b[0m \u001b[1;33m%\u001b[0m \u001b[0mf1\u001b[0m\u001b[1;33m.\u001b[0m\u001b[0mMaxV1\u001b[0m\u001b[1;33m)\u001b[0m\u001b[1;33m\u001b[0m\u001b[1;33m\u001b[0m\u001b[0m\n\u001b[0m",
      "\u001b[1;31mAttributeError\u001b[0m: unreadable attribute"
     ]
    }
   ],
   "metadata": {}
  },
  {
   "cell_type": "code",
   "execution_count": 8,
   "source": [
    "m3 = Motor(5.5, 'Wasserstoff')"
   ],
   "outputs": [
    {
     "output_type": "error",
     "ename": "TypeError",
     "evalue": "Datentyp anzahl_zylinder falsch!",
     "traceback": [
      "\u001b[1;31m---------------------------------------------------------------------------\u001b[0m",
      "\u001b[1;31mTypeError\u001b[0m                                 Traceback (most recent call last)",
      "\u001b[1;32mC:\\Users\\ROYMOR~1\\AppData\\Local\\Temp/ipykernel_13064/3786457801.py\u001b[0m in \u001b[0;36m<module>\u001b[1;34m\u001b[0m\n\u001b[1;32m----> 1\u001b[1;33m \u001b[0mm3\u001b[0m \u001b[1;33m=\u001b[0m \u001b[0mMotor\u001b[0m\u001b[1;33m(\u001b[0m\u001b[1;36m5.5\u001b[0m\u001b[1;33m,\u001b[0m \u001b[1;34m'Wasserstoff'\u001b[0m\u001b[1;33m)\u001b[0m\u001b[1;33m\u001b[0m\u001b[1;33m\u001b[0m\u001b[0m\n\u001b[0m",
      "\u001b[1;32mC:\\Users\\ROYMOR~1\\AppData\\Local\\Temp/ipykernel_13064/3261754491.py\u001b[0m in \u001b[0;36m__init__\u001b[1;34m(self, anzahl_zylinder, kraftstoff)\u001b[0m\n\u001b[0;32m      2\u001b[0m     \u001b[1;32mdef\u001b[0m \u001b[0m__init__\u001b[0m\u001b[1;33m(\u001b[0m\u001b[0mself\u001b[0m\u001b[1;33m,\u001b[0m \u001b[0manzahl_zylinder\u001b[0m\u001b[1;33m:\u001b[0m \u001b[0mint\u001b[0m\u001b[1;33m,\u001b[0m \u001b[0mkraftstoff\u001b[0m\u001b[1;33m:\u001b[0m \u001b[0mstr\u001b[0m\u001b[1;33m)\u001b[0m\u001b[1;33m:\u001b[0m\u001b[1;33m\u001b[0m\u001b[1;33m\u001b[0m\u001b[0m\n\u001b[0;32m      3\u001b[0m         \u001b[1;32mif\u001b[0m \u001b[0mtype\u001b[0m\u001b[1;33m(\u001b[0m\u001b[0manzahl_zylinder\u001b[0m\u001b[1;33m)\u001b[0m \u001b[1;32mis\u001b[0m \u001b[1;32mnot\u001b[0m \u001b[0mint\u001b[0m\u001b[1;33m:\u001b[0m\u001b[1;33m\u001b[0m\u001b[1;33m\u001b[0m\u001b[0m\n\u001b[1;32m----> 4\u001b[1;33m             \u001b[1;32mraise\u001b[0m \u001b[0mTypeError\u001b[0m\u001b[1;33m(\u001b[0m\u001b[1;34m'Datentyp anzahl_zylinder falsch!'\u001b[0m\u001b[1;33m)\u001b[0m\u001b[1;33m\u001b[0m\u001b[1;33m\u001b[0m\u001b[0m\n\u001b[0m\u001b[0;32m      5\u001b[0m         \u001b[0mself\u001b[0m\u001b[1;33m.\u001b[0m\u001b[0m_az\u001b[0m \u001b[1;33m=\u001b[0m \u001b[0manzahl_zylinder\u001b[0m\u001b[1;33m\u001b[0m\u001b[1;33m\u001b[0m\u001b[0m\n\u001b[0;32m      6\u001b[0m \u001b[1;33m\u001b[0m\u001b[0m\n",
      "\u001b[1;31mTypeError\u001b[0m: Datentyp anzahl_zylinder falsch!"
     ]
    }
   ],
   "metadata": {}
  },
  {
   "cell_type": "code",
   "execution_count": 9,
   "source": [
    "class Auto(Fahrzeug):\r\n",
    "    def __init__(self, m, maxv, motor, anzahl_tueren):\r\n",
    "        Fahrzeug.__init__(self, m, maxv, motor) # aufruf des basisklassenkonstruktors\r\n",
    "        self._at = anzahl_tueren\r\n",
    "\r\n",
    "a1 = Auto(1200, 210, m1, 5)\r\n",
    "a1.beschleunigen()\r\n",
    "a1.bremsen(2)"
   ],
   "outputs": [],
   "metadata": {}
  },
  {
   "cell_type": "code",
   "execution_count": 10,
   "source": [
    "fahrzeuge = [f1, a1]\r\n",
    "for f in fahrzeuge:\r\n",
    "    print('Masse:  %d' % f.Mass())\r\n",
    "    print('v:      %.1f' % f.Velocity)\r\n",
    "    print('Max v.: %.1f' % f.MaxV)\r\n",
    "    print()"
   ],
   "outputs": [
    {
     "output_type": "stream",
     "name": "stdout",
     "text": [
      "Masse:  2500\n",
      "v:      0.0\n",
      "Max v.: 90.0\n",
      "\n",
      "Masse:  1200\n",
      "v:      3.0\n",
      "Max v.: 210.0\n",
      "\n"
     ]
    }
   ],
   "metadata": {}
  },
  {
   "cell_type": "code",
   "execution_count": 12,
   "source": [
    "import pickle\r\n",
    "\r\n",
    "with open('auto1.bin', 'wb') as fid:\r\n",
    "    pickle.dump(a1, fid)\r\n",
    "\r\n",
    "# fid = open('auto1.bin', 'wb')\r\n",
    "# pickle.dump(a1, fid)\r\n",
    "# fid.close()"
   ],
   "outputs": [],
   "metadata": {}
  },
  {
   "cell_type": "code",
   "execution_count": 13,
   "source": [
    "with open('auto1.bin', 'rb') as fid:\r\n",
    "    a2 = pickle.load(fid)\r\n",
    "\r\n",
    "print('Masse:  %d' % a2.Mass())\r\n",
    "print('v:      %.1f' % a2.Velocity)\r\n",
    "print('Max v.: %.1f' % a2.MaxV)"
   ],
   "outputs": [
    {
     "output_type": "stream",
     "name": "stdout",
     "text": [
      "Masse:  1200\n",
      "v:      3.0\n",
      "Max v.: 210.0\n"
     ]
    }
   ],
   "metadata": {}
  },
  {
   "cell_type": "code",
   "execution_count": 17,
   "source": [
    "print(int)\r\n",
    "print(Motor)"
   ],
   "outputs": [
    {
     "output_type": "stream",
     "name": "stdout",
     "text": [
      "<class 'int'>\n",
      "<class '__main__.Motor'>\n"
     ]
    }
   ],
   "metadata": {}
  },
  {
   "cell_type": "code",
   "execution_count": 19,
   "source": [
    "import numpy as np\r\n",
    "print(np)"
   ],
   "outputs": [
    {
     "output_type": "stream",
     "name": "stdout",
     "text": [
      "<module 'numpy' from 'C:\\\\Users\\\\Roy Morgenstern\\\\Anaconda3\\\\lib\\\\site-packages\\\\numpy\\\\__init__.py'>\n"
     ]
    }
   ],
   "metadata": {}
  },
  {
   "cell_type": "code",
   "execution_count": 20,
   "source": [
    "def test(a, b):\r\n",
    "    return a+b\r\n",
    "print(test)"
   ],
   "outputs": [
    {
     "output_type": "stream",
     "name": "stdout",
     "text": [
      "<function test at 0x000001F39D273828>\n"
     ]
    }
   ],
   "metadata": {}
  },
  {
   "cell_type": "code",
   "execution_count": 21,
   "source": [
    "dir(test)"
   ],
   "outputs": [
    {
     "output_type": "execute_result",
     "data": {
      "text/plain": [
       "['__annotations__',\n",
       " '__call__',\n",
       " '__class__',\n",
       " '__closure__',\n",
       " '__code__',\n",
       " '__defaults__',\n",
       " '__delattr__',\n",
       " '__dict__',\n",
       " '__dir__',\n",
       " '__doc__',\n",
       " '__eq__',\n",
       " '__format__',\n",
       " '__ge__',\n",
       " '__get__',\n",
       " '__getattribute__',\n",
       " '__globals__',\n",
       " '__gt__',\n",
       " '__hash__',\n",
       " '__init__',\n",
       " '__init_subclass__',\n",
       " '__kwdefaults__',\n",
       " '__le__',\n",
       " '__lt__',\n",
       " '__module__',\n",
       " '__name__',\n",
       " '__ne__',\n",
       " '__new__',\n",
       " '__qualname__',\n",
       " '__reduce__',\n",
       " '__reduce_ex__',\n",
       " '__repr__',\n",
       " '__setattr__',\n",
       " '__sizeof__',\n",
       " '__str__',\n",
       " '__subclasshook__']"
      ]
     },
     "metadata": {},
     "execution_count": 21
    }
   ],
   "metadata": {}
  },
  {
   "cell_type": "code",
   "execution_count": 22,
   "source": [
    "dir(int)"
   ],
   "outputs": [
    {
     "output_type": "execute_result",
     "data": {
      "text/plain": [
       "['__abs__',\n",
       " '__add__',\n",
       " '__and__',\n",
       " '__bool__',\n",
       " '__ceil__',\n",
       " '__class__',\n",
       " '__delattr__',\n",
       " '__dir__',\n",
       " '__divmod__',\n",
       " '__doc__',\n",
       " '__eq__',\n",
       " '__float__',\n",
       " '__floor__',\n",
       " '__floordiv__',\n",
       " '__format__',\n",
       " '__ge__',\n",
       " '__getattribute__',\n",
       " '__getnewargs__',\n",
       " '__gt__',\n",
       " '__hash__',\n",
       " '__index__',\n",
       " '__init__',\n",
       " '__init_subclass__',\n",
       " '__int__',\n",
       " '__invert__',\n",
       " '__le__',\n",
       " '__lshift__',\n",
       " '__lt__',\n",
       " '__mod__',\n",
       " '__mul__',\n",
       " '__ne__',\n",
       " '__neg__',\n",
       " '__new__',\n",
       " '__or__',\n",
       " '__pos__',\n",
       " '__pow__',\n",
       " '__radd__',\n",
       " '__rand__',\n",
       " '__rdivmod__',\n",
       " '__reduce__',\n",
       " '__reduce_ex__',\n",
       " '__repr__',\n",
       " '__rfloordiv__',\n",
       " '__rlshift__',\n",
       " '__rmod__',\n",
       " '__rmul__',\n",
       " '__ror__',\n",
       " '__round__',\n",
       " '__rpow__',\n",
       " '__rrshift__',\n",
       " '__rshift__',\n",
       " '__rsub__',\n",
       " '__rtruediv__',\n",
       " '__rxor__',\n",
       " '__setattr__',\n",
       " '__sizeof__',\n",
       " '__str__',\n",
       " '__sub__',\n",
       " '__subclasshook__',\n",
       " '__truediv__',\n",
       " '__trunc__',\n",
       " '__xor__',\n",
       " 'bit_length',\n",
       " 'conjugate',\n",
       " 'denominator',\n",
       " 'from_bytes',\n",
       " 'imag',\n",
       " 'numerator',\n",
       " 'real',\n",
       " 'to_bytes']"
      ]
     },
     "metadata": {},
     "execution_count": 22
    }
   ],
   "metadata": {}
  },
  {
   "cell_type": "code",
   "execution_count": 24,
   "source": [
    "a = 13\r\n",
    "a.__add__(14)\r\n",
    "a + 14"
   ],
   "outputs": [
    {
     "output_type": "execute_result",
     "data": {
      "text/plain": [
       "27"
      ]
     },
     "metadata": {},
     "execution_count": 24
    }
   ],
   "metadata": {}
  },
  {
   "cell_type": "code",
   "execution_count": null,
   "source": [],
   "outputs": [],
   "metadata": {}
  }
 ],
 "metadata": {
  "orig_nbformat": 4,
  "language_info": {
   "name": "python",
   "version": "3.7.11",
   "mimetype": "text/x-python",
   "codemirror_mode": {
    "name": "ipython",
    "version": 3
   },
   "pygments_lexer": "ipython3",
   "nbconvert_exporter": "python",
   "file_extension": ".py"
  },
  "kernelspec": {
   "name": "python3",
   "display_name": "Python 3.7.11 64-bit ('base': conda)"
  },
  "interpreter": {
   "hash": "13ce8e434be931d17959cd1d6762ecfa54fd2fa635480273bf1a429d72b7fc63"
  }
 },
 "nbformat": 4,
 "nbformat_minor": 2
}