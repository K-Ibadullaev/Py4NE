{
 "cells": [
  {
   "cell_type": "markdown",
   "metadata": {
    "slideshow": {
     "slide_type": "slide"
    }
   },
   "source": [
    "# Objektorientierung mit Python\n",
    "\n",
    "M. Sc. Roy Morgenstern\n",
    "\n",
    "Institut für Geotechnik\n",
    "\n",
    "TU Bergakademie Freiberg\n",
    "\n",
    "<!-- ![logo_feme](logo_feme.png) -->\n",
    "<img src=\"../../Tag02/img/logo_feme.png\" alt=\"Logo FEME\" width=\"200\">"
   ]
  },
  {
   "cell_type": "markdown",
   "metadata": {
    "slideshow": {
     "slide_type": "slide"
    }
   },
   "source": [
    "## Überblick über die Programmierparadigmen\n",
    "\n",
    "**Wozu das Ganze?**\n",
    "\n",
    "* Objektorientierung hilft, Code „sauber“ zu programmieren (Wartbarkeit, Lesbarkeit, Wiederverwendbarkeit, ...)\n",
    "* Programmierparadigmen sind ein Satz von Grundregeln, die ein Programmierer beachten muss, um eine Lösung nach dem gewählten Programmierparadigma zu erhalten\n",
    "\n",
    "**In Python sind mehrere Programmierparadigmen möglich**\n",
    "\n",
    "* Prozedural → Prozeduren (Funktionen) lösen Teilaufgaben\n",
    "* Modular → Spezialisierte Module lösen Teilaufgaben\n",
    "* Funktional → „Alles sind Funktionen“: Variablen sind Funktionen, die Wert zurückliefern\n",
    "* Objektorientiert → „Kapselung“ von Code & Daten in spezielle Strukturen zur Repräsentation eines nat. Objektes"
   ]
  },
  {
   "cell_type": "markdown",
   "metadata": {
    "slideshow": {
     "slide_type": "slide"
    }
   },
   "source": [
    "## Einführung in die Objektorientierung\n",
    "\n",
    "**Objektorientierung bedeutet**\n",
    "\n",
    "* Abstraktion realer Objekte / Zusammenhänge durch ein programmiertes Objektsystem\n",
    "* Objekt → Spezielle Struktur, welche Daten und zugehörige Funktionen in einem Objekt kapselt\n",
    "* Klassen sind der (programmierte) „Bauplan“ von Objekten\n",
    "* Alle Objekte werden durch die jeweilige Klasse definiert → Alle Objekte sind Instanzen einer Klasse\n",
    "* Kapselung der Daten nach außen als Schutz gegen ungewollte Veränderung → Zugang nur über Funktionen möglich"
   ]
  },
  {
   "cell_type": "markdown",
   "metadata": {
    "slideshow": {
     "slide_type": "subslide"
    }
   },
   "source": [
    "**Konzepte der Objektorientierung**\n",
    "\n",
    "* Abstraktion (reale Objekte als Satz von Klassen repräsentieren)\n",
    "* Kapselung (Auf Daten nur über Funktionen zugreifbar; interne Implementierung verstecken)\n",
    "* Polymorphie (Verschiedene Klassen können über gemeinsame Schnittstellen verfügen → Einheitlichkeit)\n",
    "* Vererbung (Klassen können Eigenschaften / Funktionen von einer Elternklasse erben und zur Verfügung stellen → Gleiche Schnittstelle)\n",
    "* Persistenz (Objekte lassen sich leicht speichern und wiederherstellen → Serialisierung)"
   ]
  },
  {
   "cell_type": "markdown",
   "metadata": {
    "slideshow": {
     "slide_type": "slide"
    }
   },
   "source": [
    "## Umsetzung in Python\n",
    "\n",
    "* Definition einer Klasse mit `class <<Klassenname>>():`\n",
    "* Vererbung mittels `class <<Neue Klasse>>(<<Elternklasse>>):`\n",
    "* **Alles was zur Klasse gehört, muss eingerückt werden!**\n",
    "* Konstruktor (Initialisiert Instanz mit Anfangswerten) über: `def __init__(self, <<Parameter>>):`\n",
    "* Eigenschaften über `@property def <<Eigenschaftname>>(self, <<Parameter>>):`\n",
    "* Destruktor (Durchführung von Aufräumarbeiten; Schließen von Dateien, ...) über `def __del__(self):`\n",
    "* Destruktor wird beim Beenden des Programms oder beim Löschen der Instanz (über `del <<Instanzvariable>>`) aufgerufen"
   ]
  },
  {
   "cell_type": "markdown",
   "metadata": {
    "slideshow": {
     "slide_type": "slide"
    }
   },
   "source": [
    "## Tafelübung\n",
    "\n"
   ]
  },
  {
   "cell_type": "code",
   "execution_count": 2,
   "metadata": {
    "slideshow": {
     "slide_type": "fragment"
    }
   },
   "outputs": [],
   "source": [
    "class Auto:\n",
    "    def __init__(self, masse, laenge):\n",
    "        if masse > 0 and laenge > 0:\n",
    "            self.__masse = masse\n",
    "            self.__laenge = laenge\n",
    "        else:\n",
    "            raise ValueError('Die Fahrzeugdaten stimmen nicht!')\n",
    "\n",
    "    def getmass(self):\n",
    "        return self.__masse\n",
    "    \n",
    "    def setmass(self, m):\n",
    "        if (m > 0):\n",
    "            self.__masse = m\n",
    "\n",
    "    Masse = property(getmass, setmass)\n",
    "    \n",
    "    @property # decorator\n",
    "    def Laenge(self):\n",
    "        return self.__laenge\n",
    "\n",
    "    @Laenge.setter\n",
    "    def Laenge(self, value):\n",
    "        if value > 0:\n",
    "            self.__laenge = value\n",
    "            \n",
    "    def __str__(self):\n",
    "        return 'Masse: %.1fkg; Länge: %.1fm' % (self.__masse, self.__laenge)"
   ]
  },
  {
   "cell_type": "code",
   "execution_count": 8,
   "metadata": {
    "slideshow": {
     "slide_type": "subslide"
    }
   },
   "outputs": [
    {
     "name": "stdout",
     "output_type": "stream",
     "text": [
      "Masse von a1: 1200\n",
      "Geänderte Masse von a1: 1250\n",
      "1250\n",
      "1250\n",
      "3.5\n",
      "4.0\n",
      "Masse: 1250.0kg; Länge: 4.0m\n"
     ]
    }
   ],
   "source": [
    "a1 = Auto(1200, 3.5) # konstruktor __init__ wird aufgerufen\n",
    "print('Masse von a1:', a1.getmass())\n",
    "a1.setmass(1250)\n",
    "print('Geänderte Masse von a1:', a1.getmass())\n",
    "\n",
    "print(a1.Masse) # lesend\n",
    "a1.Masse = 0 # schreibend --> funktioniert nicht, da masse <=0\n",
    "print(a1.Masse)\n",
    "\n",
    "print(a1.Laenge)\n",
    "a1.Laenge = 4.0\n",
    "print(a1.Laenge)\n",
    "\n",
    "print(str(a1)) # alternativ print(a1) --> ruft die methode __str__(self) auf"
   ]
  },
  {
   "cell_type": "code",
   "execution_count": 3,
   "metadata": {
    "slideshow": {
     "slide_type": "subslide"
    }
   },
   "outputs": [],
   "source": [
    "class LKW(Auto):\n",
    "    def __init__(self, masse, laenge, zuladung):\n",
    "        Auto.__init__(self, masse, laenge) # wichtig: basisklassenkonstruktor aufrufen!!!!!!\n",
    "        \n",
    "        if zuladung > 0:\n",
    "            self.__zuladung = zuladung\n",
    "        else:\n",
    "            raise ValueError('Zuladung muss größer 0 sein!')\n",
    "            \n",
    "    @property\n",
    "    def Zuladung(self): # read-only\n",
    "        return self.__zuladung\n",
    "    \n",
    "    def __str__(self):\n",
    "        return Auto.__str__(self) + '; Zuladung: %.1fkg' % self.__zuladung"
   ]
  },
  {
   "cell_type": "code",
   "execution_count": 10,
   "metadata": {
    "slideshow": {
     "slide_type": "fragment"
    }
   },
   "outputs": [
    {
     "name": "stdout",
     "output_type": "stream",
     "text": [
      "Masse: 25000.0kg; Länge: 6.0m; Zuladung: 12000.0kg\n",
      "LKW kann nicht angelegt werden!\n",
      "Zuladung muss größer 0 sein!\n"
     ]
    }
   ],
   "source": [
    "l1 = LKW(25000, 6.0, 12000)\n",
    "print(l1)\n",
    "\n",
    "try:\n",
    "    l2 = LKW(25000, 7.0, 0) # --> ValueError von LKW.__init__\n",
    "except ValueError as err: # except Exception auf alle fehler reagieren\n",
    "    print('LKW kann nicht angelegt werden!')\n",
    "    print(err)"
   ]
  },
  {
   "cell_type": "code",
   "execution_count": null,
   "metadata": {},
   "outputs": [],
   "source": []
  }
 ],
 "metadata": {
  "kernelspec": {
   "display_name": "Python 3.10.6 ('py4NE')",
   "language": "python",
   "name": "python3"
  },
  "language_info": {
   "codemirror_mode": {
    "name": "ipython",
    "version": 3
   },
   "file_extension": ".py",
   "mimetype": "text/x-python",
   "name": "python",
   "nbconvert_exporter": "python",
   "pygments_lexer": "ipython3",
   "version": "3.10.6"
  },
  "vscode": {
   "interpreter": {
    "hash": "1b1ff0511d32430e846aaf0422e66e37dfbc6d6c97418a074aa4f56641304483"
   }
  }
 },
 "nbformat": 4,
 "nbformat_minor": 4
}
