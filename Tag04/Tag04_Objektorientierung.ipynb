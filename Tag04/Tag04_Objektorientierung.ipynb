{
 "cells": [
  {
   "cell_type": "markdown",
   "source": [
    "# Objektorientierung mit Python\n",
    "\n",
    "M. Sc. Roy Morgenstern\n",
    "\n",
    "Institut für Geotechnik\n",
    "\n",
    "TU Bergakademie Freiberg\n",
    "\n",
    "<!-- ![logo_feme](logo_feme.png) -->\n",
    "<img src=\"../../Tag02/img/logo_feme.png\" alt=\"Logo FEME\" width=\"200\">"
   ],
   "metadata": {
    "slideshow": {
     "slide_type": "slide"
    }
   }
  },
  {
   "cell_type": "markdown",
   "source": [
    "## Überblick über die Programmierparadigmen\n",
    "\n",
    "**Wozu das Ganze?**\n",
    "\n",
    "* Objektorientierung hilft, Code „sauber“ zu programmieren (Wartbarkeit, Lesbarkeit, Wiederverwendbarkeit, ...)\n",
    "* Programmierparadigmen sind ein Satz von Grundregeln, die ein Programmierer beachten muss, um eine Lösung nach dem gewählten Programmierparadigma zu erhalten\n",
    "\n",
    "**In Python sind mehrere Programmierparadigmen möglich**\n",
    "\n",
    "* Prozedural → Prozeduren (Funktionen) lösen Teilaufgaben\n",
    "* Modular → Spezialisierte Module lösen Teilaufgaben\n",
    "* Funktional → „Alles sind Funktionen“: Variablen sind Funktionen, die Wert zurückliefern\n",
    "* Objektorientiert → „Kapselung“ von Code & Daten in spezielle Strukturen zur Repräsentation eines nat. Objektes"
   ],
   "metadata": {
    "slideshow": {
     "slide_type": "slide"
    }
   }
  },
  {
   "cell_type": "markdown",
   "source": [
    "## Einführung in die Objektorientierung\n",
    "\n",
    "**Objektorientierung bedeutet**\n",
    "\n",
    "* Abstraktion realer Objekte / Zusammenhänge durch ein programmiertes Objektsystem\n",
    "* Objekt → Spezielle Struktur, welche Daten und zugehörige Funktionen in einem Objekt kapselt\n",
    "* Klassen sind der (programmierte) „Bauplan“ von Objekten\n",
    "* Alle Objekte werden durch die jeweilige Klasse definiert → Alle Objekte sind Instanzen einer Klasse\n",
    "* Kapselung der Daten nach außen als Schutz gegen ungewollte Veränderung → Zugang nur über Funktionen möglich"
   ],
   "metadata": {
    "slideshow": {
     "slide_type": "slide"
    }
   }
  },
  {
   "cell_type": "markdown",
   "source": [
    "**Konzepte der Objektorientierung**\n",
    "\n",
    "* Abstraktion (reale Objekte als Satz von Klassen repräsentieren)\n",
    "* Kapselung (Auf Daten nur über Funktionen zugreifbar; interne Implementierung verstecken)\n",
    "* Polymorphie (Verschiedene Klassen können über gemeinsame Schnittstellen verfügen → Einheitlichkeit)\n",
    "* Vererbung (Klassen können Eigenschaften / Funktionen von einer Elternklasse erben und zur Verfügung stellen → Gleiche Schnittstelle)\n",
    "* Persistenz (Objekte lassen sich leicht speichern und wiederherstellen → Serialisierung)"
   ],
   "metadata": {
    "slideshow": {
     "slide_type": "subslide"
    }
   }
  },
  {
   "cell_type": "markdown",
   "source": [
    "## Umsetzung in Python\n",
    "\n",
    "* Definition einer Klasse mit `class <<Klassenname>>():`\n",
    "* Vererbung mittels `class <<Neue Klasse>>(<<Elternklasse>>):`\n",
    "* **Alles was zur Klasse gehört, muss eingerückt werden!**\n",
    "* Konstruktor (Initialisiert Instanz mit Anfangswerten) über: `def __init__(self, <<Parameter>>):`\n",
    "* Eigenschaften über `@property def <<Eigenschaftname>>(self, <<Parameter>>):`\n",
    "* Destruktor (Durchführung von Aufräumarbeiten; Schließen von Dateien, ...) über `def __del__(self):`\n",
    "* Destruktor wird beim Beenden des Programms oder beim Löschen der Instanz (über `del <<Instanzvariable>>`) aufgerufen"
   ],
   "metadata": {
    "slideshow": {
     "slide_type": "slide"
    }
   }
  },
  {
   "cell_type": "markdown",
   "source": [
    "## Tafelübung\n",
    "\n"
   ],
   "metadata": {
    "slideshow": {
     "slide_type": "slide"
    }
   }
  },
  {
   "cell_type": "code",
   "execution_count": 2,
   "source": [
    "class Auto:\r\n",
    "    def __init__(self, masse, laenge):\r\n",
    "        if masse > 0 and laenge > 0:\r\n",
    "            self.__masse = masse\r\n",
    "            self.__laenge = laenge\r\n",
    "        else:\r\n",
    "            raise ValueError('Die Fahrzeugdaten stimmen nicht!')\r\n",
    "\r\n",
    "    def getmass(self):\r\n",
    "        return self.__masse\r\n",
    "    \r\n",
    "    def setmass(self, m):\r\n",
    "        if (m > 0):\r\n",
    "            self.__masse = m\r\n",
    "\r\n",
    "    Masse = property(getmass, setmass)\r\n",
    "    \r\n",
    "    @property # decorator\r\n",
    "    def Laenge(self):\r\n",
    "        return self.__laenge\r\n",
    "\r\n",
    "    @Laenge.setter\r\n",
    "    def Laenge(self, value):\r\n",
    "        if value > 0:\r\n",
    "            self.__laenge = value\r\n",
    "            \r\n",
    "    def __str__(self):\r\n",
    "        return 'Masse: %.1fkg; Länge: %.1fm' % (self.__masse, self.__laenge)"
   ],
   "outputs": [],
   "metadata": {
    "slideshow": {
     "slide_type": "fragment"
    }
   }
  },
  {
   "cell_type": "code",
   "execution_count": 8,
   "source": [
    "a1 = Auto(1200, 3.5) # konstruktor __init__ wird aufgerufen\r\n",
    "print('Masse von a1:', a1.getmass())\r\n",
    "a1.setmass(1250)\r\n",
    "print('Geänderte Masse von a1:', a1.getmass())\r\n",
    "\r\n",
    "print(a1.Masse) # lesend\r\n",
    "a1.Masse = 0 # schreibend --> funktioniert nicht, da masse <=0\r\n",
    "print(a1.Masse)\r\n",
    "\r\n",
    "print(a1.Laenge)\r\n",
    "a1.Laenge = 4.0\r\n",
    "print(a1.Laenge)\r\n",
    "\r\n",
    "print(str(a1)) # alternativ print(a1) --> ruft die methode __str__(self) auf"
   ],
   "outputs": [
    {
     "output_type": "stream",
     "name": "stdout",
     "text": [
      "Masse von a1: 1200\n",
      "Geänderte Masse von a1: 1250\n",
      "1250\n",
      "1250\n",
      "3.5\n",
      "4.0\n",
      "Masse: 1250.0kg; Länge: 4.0m\n"
     ]
    }
   ],
   "metadata": {
    "slideshow": {
     "slide_type": "subslide"
    }
   }
  },
  {
   "cell_type": "code",
   "execution_count": 3,
   "source": [
    "class LKW(Auto):\r\n",
    "    def __init__(self, masse, laenge, zuladung):\r\n",
    "        Auto.__init__(self, masse, laenge) # wichtig: basisklassenkonstruktor aufrufen!!!!!!\r\n",
    "        \r\n",
    "        if zuladung > 0:\r\n",
    "            self.__zuladung = zuladung\r\n",
    "        else:\r\n",
    "            raise ValueError('Zuladung muss größer 0 sein!')\r\n",
    "            \r\n",
    "    @property\r\n",
    "    def Zuladung(self): # read-only\r\n",
    "        return self.__zuladung\r\n",
    "    \r\n",
    "    def __str__(self):\r\n",
    "        return Auto.__str__(self) + '; Zuladung: %.1fkg' % self.__zuladung"
   ],
   "outputs": [],
   "metadata": {
    "slideshow": {
     "slide_type": "subslide"
    }
   }
  },
  {
   "cell_type": "code",
   "execution_count": 10,
   "source": [
    "l1 = LKW(25000, 6.0, 12000)\r\n",
    "print(l1)\r\n",
    "\r\n",
    "try:\r\n",
    "    l2 = LKW(25000, 7.0, 0) # --> ValueError von LKW.__init__\r\n",
    "except ValueError as err: # except Exception auf alle fehler reagieren\r\n",
    "    print('LKW kann nicht angelegt werden!')\r\n",
    "    print(err)"
   ],
   "outputs": [
    {
     "output_type": "stream",
     "name": "stdout",
     "text": [
      "Masse: 25000.0kg; Länge: 6.0m; Zuladung: 12000.0kg\n",
      "LKW kann nicht angelegt werden!\n",
      "Zuladung muss größer 0 sein!\n"
     ]
    }
   ],
   "metadata": {
    "slideshow": {
     "slide_type": "fragment"
    }
   }
  },
  {
   "cell_type": "code",
   "execution_count": null,
   "source": [],
   "outputs": [],
   "metadata": {}
  }
 ],
 "metadata": {
  "kernelspec": {
   "display_name": "Python 3",
   "language": "python",
   "name": "python3"
  },
  "language_info": {
   "codemirror_mode": {
    "name": "ipython",
    "version": 3
   },
   "file_extension": ".py",
   "mimetype": "text/x-python",
   "name": "python",
   "nbconvert_exporter": "python",
   "pygments_lexer": "ipython3",
   "version": "3.7.9"
  }
 },
 "nbformat": 4,
 "nbformat_minor": 4
}