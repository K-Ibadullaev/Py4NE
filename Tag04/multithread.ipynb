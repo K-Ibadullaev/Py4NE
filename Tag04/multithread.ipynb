{
 "cells": [
  {
   "cell_type": "code",
   "execution_count": 2,
   "metadata": {},
   "outputs": [],
   "source": [
    "import random\n",
    "import threading\n",
    "\n",
    "# approximate pi\n",
    "def monte_carlo_pi(N:int):\n",
    "    ctr =0\n",
    "    for i in range(N):\n",
    "        x = random.random()\n",
    "        y = random.random()\n",
    "\n",
    "\n",
    "        if x*x +y*y <=1.0:\n",
    "            ctr +=1\n",
    "    return ctr \n",
    "\n",
    "\n"
   ]
  },
  {
   "cell_type": "code",
   "execution_count": 7,
   "metadata": {},
   "outputs": [
    {
     "name": "stdout",
     "output_type": "stream",
     "text": [
      "Execution time 3.017230700002983 seconds\n",
      "Pi: 3.1420228 \n"
     ]
    }
   ],
   "source": [
    "import time\n",
    "random.seed(10000)\n",
    "N = 10000000\n",
    "t1 = time.perf_counter()\n",
    "pi = monte_carlo_pi(N)/ N *4.0\n",
    "t2 = time.perf_counter()\n",
    "print(f'Execution time {t2 - t1} seconds')\n",
    "print(f'Pi: {pi} ')"
   ]
  },
  {
   "cell_type": "code",
   "execution_count": 17,
   "metadata": {},
   "outputs": [
    {
     "name": "stdout",
     "output_type": "stream",
     "text": [
      "Execution time 3.2657290999995894 seconds\n",
      "Pi: 3.1415668 \n"
     ]
    }
   ],
   "source": [
    "N_threads = 6\n",
    "N_samp = int(N / N_threads)\n",
    "lock = threading.Lock()\n",
    "num = 0\n",
    "\n",
    "def mc_pi_thread(N:int):\n",
    "    global num, lock\n",
    "    ctr = 0\n",
    "\n",
    "    for i in range(N):\n",
    "        x = random.random()\n",
    "        y = random.random()\n",
    "\n",
    "        if x*x + y*y <= 1.0:\n",
    "            ctr+=1\n",
    "    with lock:\n",
    "        num +=ctr\n",
    "\n",
    "t1 = time.perf_counter()\n",
    "#pi_m = mc_pi_thread(n)\n",
    "\n",
    "tlist = []\n",
    "for itr in range(N_threads):\n",
    "    t = threading.Thread(target=mc_pi_thread, args=(N_samp,))\n",
    "    t.start()\n",
    "    tlist.append(t)\n",
    "\n",
    "for thr in tlist :\n",
    "    thr.join()   \n",
    "t2 = time.perf_counter()  \n",
    "\n",
    "print(f'Execution time {t2 - t1} seconds')\n",
    "print(f'Pi: {num/N * 4.0} ')"
   ]
  },
  {
   "cell_type": "code",
   "execution_count": null,
   "metadata": {},
   "outputs": [],
   "source": [
    "from concurrent.futures import ProcessPoolExecutor\n",
    "iterable = [N_samp,] * N_threads\n",
    "t1 = time.perf_counter()\n",
    "pig = 0\n",
    "with ProcessPoolExecutor(N_threads) as exc:\n",
    "    pis = exc.map(pi, iterable)\n",
    "\n",
    "    for pi in pis:\n",
    "        pig+=pi\n",
    "\n",
    "\n",
    "t2 = time.perf_counter()  \n",
    "\n",
    "print(f'Execution time {t2 - t1} seconds')\n",
    "print(f'Pi: {num/N * 4.0} ')  \n",
    "\n",
    "if __name__=='__main__':"
   ]
  }
 ],
 "metadata": {
  "kernelspec": {
   "display_name": "Python 3.10.6 ('py4NE')",
   "language": "python",
   "name": "python3"
  },
  "language_info": {
   "codemirror_mode": {
    "name": "ipython",
    "version": 3
   },
   "file_extension": ".py",
   "mimetype": "text/x-python",
   "name": "python",
   "nbconvert_exporter": "python",
   "pygments_lexer": "ipython3",
   "version": "3.10.6"
  },
  "orig_nbformat": 4,
  "vscode": {
   "interpreter": {
    "hash": "1b1ff0511d32430e846aaf0422e66e37dfbc6d6c97418a074aa4f56641304483"
   }
  }
 },
 "nbformat": 4,
 "nbformat_minor": 2
}
