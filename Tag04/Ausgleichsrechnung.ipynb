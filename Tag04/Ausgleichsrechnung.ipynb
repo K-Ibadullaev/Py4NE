{
 "cells": [
  {
   "cell_type": "markdown",
   "source": [
    "# Übungsaufgabe Ausgleichsrechnung\n",
    "\n",
    "Es ist eine Ausgleichsrechnung über Normalengleichungen vorzunehmen, um Regressionsparameter zu fitten."
   ],
   "metadata": {}
  },
  {
   "cell_type": "code",
   "execution_count": 1,
   "source": [
    "import numpy as np\r\n",
    "import matplotlib.pyplot as plt\r\n",
    "from scipy.optimize import curve_fit"
   ],
   "outputs": [],
   "metadata": {}
  },
  {
   "cell_type": "markdown",
   "source": [
    "Daten laden und darstellen"
   ],
   "metadata": {}
  },
  {
   "cell_type": "code",
   "execution_count": 2,
   "source": [
    "t, y = np.loadtxt('messung.dat', delimiter=',', skiprows=1, unpack=True)\r\n",
    "\r\n",
    "# daten anzeigen\r\n",
    "plt.figure()\r\n",
    "plt.plot(t, y, 'r--', lw=2.5, marker='.', markersize=15)\r\n",
    "plt.xlabel('t')\r\n",
    "plt.ylabel('y');"
   ],
   "outputs": [
    {
     "output_type": "display_data",
     "data": {
      "image/png": "[encoded data removed]",
      "text/plain": [
       "<Figure size 432x288 with 1 Axes>"
      ]
     },
     "metadata": {
      "needs_background": "light"
     }
    }
   ],
   "metadata": {}
  },
  {
   "cell_type": "markdown",
   "source": [
    "Es wird angenommen, dass die Daten folgener Gesetzmäßigkeit unterliegen:\n",
    "$$y = f(t) = \\alpha \\frac{1}{1 + t} + \\beta$$\n",
    "\n",
    "Zu bestimmende Parameter $\\alpha$ und $\\beta$ bilden Ergebnisvektor $x$.\n",
    "\n",
    "Größe der Koeffizientenmatrix $A$: \\[Anzahl an Daten; Anzahl an Parameter\\]"
   ],
   "metadata": {}
  },
  {
   "cell_type": "code",
   "execution_count": 3,
   "source": [
    "A = np.ones((len(t), 2))\r\n",
    "A[:, 0] = 1/(1+t)"
   ],
   "outputs": [],
   "metadata": {}
  },
  {
   "cell_type": "code",
   "execution_count": 4,
   "source": [
    "A[:, 0].shape\r\n",
    "rhs = np.dot(np.transpose(A), y)"
   ],
   "outputs": [
    {
     "output_type": "execute_result",
     "data": {
      "text/plain": [
       "(4,)"
      ]
     },
     "metadata": {},
     "execution_count": 4
    }
   ],
   "metadata": {}
  },
  {
   "cell_type": "markdown",
   "source": [
    "Normalengleichungen aufstellen:\n",
    "$$A^TAx = A^Ty$$"
   ],
   "metadata": {}
  },
  {
   "cell_type": "code",
   "execution_count": 5,
   "source": [
    "rhs = np.dot(A.T, y)\r\n",
    "lhs = np.dot(A.T, A)"
   ],
   "outputs": [],
   "metadata": {}
  },
  {
   "cell_type": "markdown",
   "source": [
    "Lösen der Gleichung mittels Inverse"
   ],
   "metadata": {}
  },
  {
   "cell_type": "code",
   "execution_count": 6,
   "source": [
    "x = np.dot(np.linalg.inv(lhs), rhs)\r\n",
    "alpha = x[0]\r\n",
    "beta = x[1]\r\n",
    "# alpha, beta = x\r\n",
    "print(alpha, beta)"
   ],
   "outputs": [
    {
     "output_type": "stream",
     "name": "stdout",
     "text": [
      "1.7083076923076916 1.2902564102564105\n"
     ]
    }
   ],
   "metadata": {}
  },
  {
   "cell_type": "code",
   "execution_count": 12,
   "source": [
    "(a11, a12), (a21, a22), (a31, a32), (a41, a42) = A\r\n",
    "a1, a2, a3, a4 = A"
   ],
   "outputs": [],
   "metadata": {}
  },
  {
   "cell_type": "markdown",
   "source": [
    "Ergebnis darstellen"
   ],
   "metadata": {}
  },
  {
   "cell_type": "code",
   "execution_count": 13,
   "source": [
    "tn = np.linspace(min(t), max(t))\r\n",
    "fm = alpha*(1/(1+tn)) + beta\r\n",
    "plt.figure()\r\n",
    "plt.plot(t, y, 'r--', lw=2.5, marker='.', markersize=15)\r\n",
    "plt.plot(tn, fm, 'b--', lw=2.5)\r\n",
    "plt.xlabel('t')\r\n",
    "plt.ylabel('y');"
   ],
   "outputs": [
    {
     "output_type": "display_data",
     "data": {
      "image/png": "[encoded data removed]",
      "text/plain": [
       "<Figure size 432x288 with 1 Axes>"
      ]
     },
     "metadata": {
      "needs_background": "light"
     }
    }
   ],
   "metadata": {}
  },
  {
   "cell_type": "markdown",
   "source": [
    "Fehler zu den beobachteten Daten berechnen"
   ],
   "metadata": {}
  },
  {
   "cell_type": "code",
   "execution_count": 14,
   "source": [
    "fe = alpha*(1/(1+t)) + beta\r\n",
    "print(fe)\r\n",
    "print(y)"
   ],
   "outputs": [
    {
     "output_type": "stream",
     "name": "stdout",
     "text": [
      "[2.9985641  2.14441026 1.85969231 1.71733333]\n",
      "[3.   2.14 1.86 1.72]\n"
     ]
    }
   ],
   "metadata": {}
  },
  {
   "cell_type": "markdown",
   "source": [
    "Scipy.Optimize curve_fit"
   ],
   "metadata": {}
  },
  {
   "cell_type": "code",
   "execution_count": 15,
   "source": [
    "def func(t, alpha, beta):\r\n",
    "    return alpha*(1/(1+t))+beta\r\n",
    "\r\n",
    "popt, pcov = curve_fit(func, t, y)\r\n",
    "alpha1 = popt[0]\r\n",
    "beta1 = popt[1]\r\n",
    "print(alpha1, beta1)"
   ],
   "outputs": [
    {
     "output_type": "stream",
     "name": "stdout",
     "text": [
      "1.7083076922566676 1.2902564102912772\n"
     ]
    }
   ],
   "metadata": {}
  },
  {
   "cell_type": "code",
   "execution_count": 16,
   "source": [
    "fe1 = alpha1*(1/(1+t)) + beta1\r\n",
    "print(fe1)\r\n",
    "print(y)"
   ],
   "outputs": [
    {
     "output_type": "stream",
     "name": "stdout",
     "text": [
      "[2.9985641  2.14441026 1.85969231 1.71733333]\n",
      "[3.   2.14 1.86 1.72]\n"
     ]
    }
   ],
   "metadata": {}
  },
  {
   "cell_type": "code",
   "execution_count": 16,
   "source": [
    "err = np.linalg.norm(fe-y)\r\n",
    "err1 = np.linalg.norm(fe1-y)\r\n",
    "print(err, err1)"
   ],
   "outputs": [
    {
     "output_type": "stream",
     "name": "stdout",
     "text": [
      "0.005358913016456568 0.005358913016456564\n"
     ]
    }
   ],
   "metadata": {}
  },
  {
   "cell_type": "code",
   "execution_count": null,
   "source": [],
   "outputs": [],
   "metadata": {}
  }
 ],
 "metadata": {
  "kernelspec": {
   "name": "python3",
   "display_name": "Python 3.7.11 64-bit ('base': conda)"
  },
  "language_info": {
   "codemirror_mode": {
    "name": "ipython",
    "version": 3
   },
   "file_extension": ".py",
   "mimetype": "text/x-python",
   "name": "python",
   "nbconvert_exporter": "python",
   "pygments_lexer": "ipython3",
   "version": "3.7.11"
  },
  "interpreter": {
   "hash": "13ce8e434be931d17959cd1d6762ecfa54fd2fa635480273bf1a429d72b7fc63"
  }
 },
 "nbformat": 4,
 "nbformat_minor": 4
}