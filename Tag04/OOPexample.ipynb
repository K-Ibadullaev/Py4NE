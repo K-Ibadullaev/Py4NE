{
 "cells": [
  {
   "cell_type": "code",
   "execution_count": 6,
   "metadata": {},
   "outputs": [
    {
     "name": "stdout",
     "output_type": "stream",
     "text": [
      "<__main__.Motor object at 0x000001AD4F71CBB0> <__main__.Motor object at 0x000001AD4F71DEA0>\n"
     ]
    },
    {
     "data": {
      "text/plain": [
       "'Diesel'"
      ]
     },
     "execution_count": 6,
     "metadata": {},
     "output_type": "execute_result"
    }
   ],
   "source": [
    "class Motor():#class Motor(object): ;class Motor:\n",
    "    def __init__(self, anzahl_der_zylinder: int, kraftstoff:str):\n",
    "        if not isinstance(anzahl_der_zylinder, int):\n",
    "            raise TypeError('Falsches Datentyp')\n",
    "        self._az = anzahl_der_zylinder\n",
    "        self._kstyp = kraftstoff\n",
    "\n",
    "    #protected \n",
    "    @property               # type annotation for return value\n",
    "    def AnzahlZylinder(self)->int:\n",
    "        return self._az\n",
    "    \n",
    "    @property\n",
    "    def Kraftstofftyp(self)->str:               \n",
    "        return self._kstyp\n",
    "\n",
    "m1 = Motor(4,'Diesel')\n",
    "m2 = Motor(4,'Gas')\n",
    "\n",
    "print(m1, m2)\n",
    "\n",
    "#check properties of motor 1\n",
    "m1.AnzahlZylinder\n",
    "m1.Kraftstofftyp"
   ]
  },
  {
   "cell_type": "code",
   "execution_count": 33,
   "metadata": {},
   "outputs": [
    {
     "name": "stdout",
     "output_type": "stream",
     "text": [
      "15000\n",
      "150\n",
      "120\n",
      "100\n",
      "Fahrzeug Object mit id1843873838368 \n",
      "Masse : 15000  \n",
      "MaxV : 100.0  \n",
      "V : 150 \n",
      "Motor hat 4 und nutzt Diesel \n"
     ]
    }
   ],
   "source": [
    "class Fahrzeug():\n",
    "    def __init__(self, m:int, maxv:float, motor:Motor):\n",
    "        self._m = m\n",
    "        self._maxv = maxv\n",
    "        self._v = 150\n",
    "        self._motor = motor\n",
    "\n",
    "    @property\n",
    "    def Masse(self)->int:\n",
    "        return self._m\n",
    "\n",
    "    #@property \n",
    "    #not protected\n",
    "    def Velocity(self)->float:\n",
    "        return self._v       \n",
    "\n",
    "   # @property\n",
    "    def get_maxv(self)->float:\n",
    "        return self._maxv   \n",
    "\n",
    "    def set_maxv(self, mvnew:float)->float:\n",
    "        self._maxv = mvnew  \n",
    "\n",
    "    MaxV = property(get_maxv, set_maxv)  \n",
    "# methods start with small letters\n",
    "    def accelerate(self, vi:float =5.0):\n",
    "        self._v += vi\n",
    "        self._v = self._v if self._v <= self.maxv else self._maxv\n",
    "\n",
    "        self._v = min(self._v, self._maxv)\n",
    "\n",
    "    def brake(self, vi: float):\n",
    "        self._v -= vi\n",
    "        self._v = max(self._v, -self._maxv / 4)\n",
    "# properties start with capital letters\n",
    "    @property\n",
    "    def Motor(self) -> Motor:\n",
    "        return self._motor\n",
    " \n",
    "    # for pretty printing\n",
    "    def __str__(self):\n",
    "        rep = 'Fahrzeug Object mit id' + str(id(self)) +' \\n'\n",
    "        rep += 'Masse : %d ' % self._m  +' \\n'\n",
    "        rep += 'MaxV : %.1f ' % self._maxv  +' \\n'\n",
    "        rep += 'V : %d ' % self._v  +'\\n'\n",
    "        rep += f'Motor hat {self._motor.AnzahlZylinder} und nutzt {self._motor.Kraftstofftyp} '\n",
    "        return rep\n",
    "\n",
    "\n",
    "# create vehicle\n",
    "f1 = Fahrzeug(15000, 120, m1)\n",
    "print(f1.Masse)\n",
    "print(f1.Velocity())\n",
    "print(f1.get_maxv())\n",
    "f1.MaxV = 100\n",
    "print(f1.get_maxv())\n",
    "print(f1)"
   ]
  },
  {
   "cell_type": "code",
   "execution_count": 44,
   "metadata": {},
   "outputs": [
    {
     "data": {
      "text/plain": [
       "3"
      ]
     },
     "execution_count": 44,
     "metadata": {},
     "output_type": "execute_result"
    }
   ],
   "source": [
    "class Auto(Fahrzeug):\n",
    "    def __init__(self, m, maxv, motor, anzahl_tueren=3):\n",
    "        Fahrzeug.__init__(self, m, maxv, motor)\n",
    "        self._at = anzahl_tueren\n",
    "\n",
    "    @property\n",
    "    def AnzahlTueren(self):\n",
    "        return self._at\\\n",
    "\n",
    "    def __str__(self):\n",
    "        rep = Fahrzeug.__str__(self)            \n",
    "        rep = rep.replace('Fahrzeug', 'Auto')\n",
    "        rep += f'\\n Auto hat {self._at} Tueren'\n",
    "        rep += f'\\n id von Auto: {str(id(self))} '\n",
    "        return rep\n",
    "\n",
    "auto1 = Auto(1200, 123, m1, 5)\n",
    "auto1.AnzahlTueren\n",
    "auto2 = Auto(1200, 123, m1, 3)\n",
    "auto2.AnzahlTueren\n"
   ]
  },
  {
   "cell_type": "code",
   "execution_count": 45,
   "metadata": {},
   "outputs": [
    {
     "name": "stdout",
     "output_type": "stream",
     "text": [
      "Auto Object mit id1843862419344 \n",
      "Masse : 1200  \n",
      "MaxV : 123.0  \n",
      "V : 150 \n",
      "Motor hat 4 und nutzt Diesel \n",
      " Auto hat 5 Tueren\n",
      " id von Auto: 1843862419344 \n"
     ]
    }
   ],
   "source": [
    "print(auto1.__str__())"
   ]
  },
  {
   "cell_type": "code",
   "execution_count": 48,
   "metadata": {},
   "outputs": [
    {
     "name": "stdout",
     "output_type": "stream",
     "text": [
      "Fahrzeug Object mit id1843862417808 \n",
      "Masse : 15000  \n",
      "MaxV : 100.0  \n",
      "V : 150 \n",
      "Motor hat 4 und nutzt Diesel \n",
      "Auto Object mit id1843862419248 \n",
      "Masse : 1200  \n",
      "MaxV : 123.0  \n",
      "V : 150 \n",
      "Motor hat 4 und nutzt Diesel \n",
      " Auto hat 5 Tueren\n",
      " id von Auto: 1843862419248 \n",
      "Auto Object mit id1843862417328 \n",
      "Masse : 1200  \n",
      "MaxV : 123.0  \n",
      "V : 150 \n",
      "Motor hat 4 und nutzt Diesel \n",
      " Auto hat 3 Tueren\n",
      " id von Auto: 1843862417328 \n"
     ]
    }
   ],
   "source": [
    "import pickle\n",
    "#for serialization\n",
    "fahrzeugliste = [f1, auto1, auto2]\n",
    "#save as binary\n",
    "with open('daten.bin', 'wb') as fid:\n",
    "    pickle.dump(fahrzeugliste, fid)\n",
    "\n",
    "# load\n",
    "with open('daten.bin', 'rb') as fid:\n",
    "    fzlist_loaded = pickle.load(fid)\n",
    "# iterate through list\n",
    "for f in fzlist_loaded:\n",
    "    print(f)\n",
    "  "
   ]
  },
  {
   "cell_type": "code",
   "execution_count": 49,
   "metadata": {},
   "outputs": [
    {
     "data": {
      "text/plain": [
       "['AnzahlTueren',\n",
       " 'Masse',\n",
       " 'MaxV',\n",
       " 'Motor',\n",
       " 'Velocity',\n",
       " '__class__',\n",
       " '__delattr__',\n",
       " '__dict__',\n",
       " '__dir__',\n",
       " '__doc__',\n",
       " '__eq__',\n",
       " '__format__',\n",
       " '__ge__',\n",
       " '__getattribute__',\n",
       " '__gt__',\n",
       " '__hash__',\n",
       " '__init__',\n",
       " '__init_subclass__',\n",
       " '__le__',\n",
       " '__lt__',\n",
       " '__module__',\n",
       " '__ne__',\n",
       " '__new__',\n",
       " '__reduce__',\n",
       " '__reduce_ex__',\n",
       " '__repr__',\n",
       " '__setattr__',\n",
       " '__sizeof__',\n",
       " '__slotnames__',\n",
       " '__str__',\n",
       " '__subclasshook__',\n",
       " '__weakref__',\n",
       " '_at',\n",
       " '_m',\n",
       " '_maxv',\n",
       " '_motor',\n",
       " '_v',\n",
       " 'accelerate',\n",
       " 'brake',\n",
       " 'get_maxv',\n",
       " 'set_maxv']"
      ]
     },
     "execution_count": 49,
     "metadata": {},
     "output_type": "execute_result"
    }
   ],
   "source": [
    "dir(auto1)"
   ]
  },
  {
   "cell_type": "code",
   "execution_count": 51,
   "metadata": {},
   "outputs": [
    {
     "ename": "NameError",
     "evalue": "name '__init__' is not defined",
     "output_type": "error",
     "traceback": [
      "\u001b[1;31m---------------------------------------------------------------------------\u001b[0m",
      "\u001b[1;31mNameError\u001b[0m                                 Traceback (most recent call last)",
      "\u001b[1;32m~\\AppData\\Local\\Temp\\ipykernel_3876\\4165938022.py\u001b[0m in \u001b[0;36m<module>\u001b[1;34m\u001b[0m\n\u001b[1;32m----> 1\u001b[1;33m \u001b[1;32mif\u001b[0m  \u001b[1;34m\"Main\"\u001b[0m\u001b[1;33m==\u001b[0m\u001b[0m__init__\u001b[0m\u001b[1;33m:\u001b[0m\u001b[1;33m\u001b[0m\u001b[1;33m\u001b[0m\u001b[0m\n\u001b[0m\u001b[0;32m      2\u001b[0m     \u001b[0ma3\u001b[0m\u001b[1;33m=\u001b[0m \u001b[0mAuto\u001b[0m\u001b[1;33m(\u001b[0m\u001b[1;36m1200\u001b[0m\u001b[1;33m,\u001b[0m \u001b[1;36m123\u001b[0m\u001b[1;33m,\u001b[0m \u001b[0mm1\u001b[0m\u001b[1;33m,\u001b[0m \u001b[1;36m5\u001b[0m\u001b[1;33m)\u001b[0m\u001b[1;33m\u001b[0m\u001b[1;33m\u001b[0m\u001b[0m\n",
      "\u001b[1;31mNameError\u001b[0m: name '__init__' is not defined"
     ]
    }
   ],
   "source": []
  }
 ],
 "metadata": {
  "kernelspec": {
   "display_name": "Python 3.10.6 ('py4NE')",
   "language": "python",
   "name": "python3"
  },
  "language_info": {
   "codemirror_mode": {
    "name": "ipython",
    "version": 3
   },
   "file_extension": ".py",
   "mimetype": "text/x-python",
   "name": "python",
   "nbconvert_exporter": "python",
   "pygments_lexer": "ipython3",
   "version": "3.10.6"
  },
  "orig_nbformat": 4,
  "vscode": {
   "interpreter": {
    "hash": "1b1ff0511d32430e846aaf0422e66e37dfbc6d6c97418a074aa4f56641304483"
   }
  }
 },
 "nbformat": 4,
 "nbformat_minor": 2
}
