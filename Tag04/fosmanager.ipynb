{
 "cells": [
  {
   "cell_type": "code",
   "execution_count": 1,
   "source": [
    "class FOSManagerLR:\r\n",
    "    def __init__(self, over_dens, depth, a, bk, grav=9.81):\r\n",
    "        self._over_dens = over_dens\r\n",
    "        self._depth = depth\r\n",
    "        self._a = a\r\n",
    "        self._bk = bk\r\n",
    "        self._grav = grav\r\n",
    "\r\n",
    "        self._p = over_dens * depth * grav\r\n",
    "        self._L = 1 + bk/(2*a)\r\n",
    "    \r\n",
    "    @property\r\n",
    "    def SigmaL(self):\r\n",
    "        return self._p * self._L\r\n",
    "    \r\n",
    "    @property\r\n",
    "    def P(self):\r\n",
    "        return self._p\r\n",
    "    \r\n",
    "    @property\r\n",
    "    def L(self):\r\n",
    "        return self._L\r\n",
    "    \r\n",
    "    @property\r\n",
    "    def V(self):\r\n",
    "        return 1/self._L * 100\r\n",
    "    \r\n",
    "    def estimate_failure(self, sigmag):\r\n",
    "        return sigmag / (self._L * self._p)\r\n",
    "\r\n",
    "class FOSManagerQuad(FOSManagerLR):\r\n",
    "    def __init__(self, over_dens, depth, a, bk, grav=9.81):\r\n",
    "        FOSManagerLR.__init__(self, over_dens, depth, a, bk, grav)\r\n",
    "\r\n",
    "        self._L = ((2*a + bk) / (2*a))**2\r\n",
    "\r\n",
    "class FOSManagerRect(FOSManagerLR):\r\n",
    "    def __init__(self, over_dens, depth, a, bk, b, bd, grav=9.81):\r\n",
    "        FOSManagerLR.__init__(self, over_dens, depth, a, bk, grav)\r\n",
    "\r\n",
    "        self._b = b\r\n",
    "        self._bd = bd\r\n",
    "        self._L = ((2*a + bk)*(2*b+bd))/(4*a*b)"
   ],
   "outputs": [],
   "metadata": {}
  },
  {
   "cell_type": "code",
   "execution_count": 2,
   "source": [
    "bieniawiski = lambda UCS, Wp, Hp: UCS * (0.64 + 0.36*(Wp/Hp))\r\n",
    "obert_duvall = lambda UCS, Wp, Hp: UCS * (0.778 + 0.22*(Wp/Hp))\r\n",
    "\r\n",
    "def bieniawiski(UCS, Wp, Hp):\r\n",
    "    return UCS * (0.64 + 0.36*(Wp/Hp))\r\n",
    "\r\n",
    "approaches = {'Bienawski (1983)': bieniawiski,\r\n",
    "              'Obert & Duvall (1967)': obert_duvall}\r\n",
    "\r\n",
    "UCS = 80e6  # Pa\r\n",
    "H = 500.0  # m\r\n",
    "rho = 2700.0  # kg/m³\r\n",
    "\r\n",
    "a = Wp = 4.0\r\n",
    "bk = Hp = 3.0\r\n",
    "\r\n",
    "fom = FOSManagerQuad(rho, H, a, bk)\r\n",
    "\r\n",
    "for app, fun in approaches.items():\r\n",
    "    sg = fun(UCS, Wp, Hp)\r\n",
    "    print('%s: %.3f' % (app, fom.estimate_failure(sg)))"
   ],
   "outputs": [
    {
     "output_type": "stream",
     "name": "stdout",
     "text": [
      "Bienawski (1983): 3.578\n",
      "Obert & Duvall (1967): 3.423\n"
     ]
    }
   ],
   "metadata": {}
  },
  {
   "cell_type": "code",
   "execution_count": null,
   "source": [],
   "outputs": [],
   "metadata": {}
  }
 ],
 "metadata": {
  "orig_nbformat": 4,
  "language_info": {
   "name": "python",
   "version": "3.7.11",
   "mimetype": "text/x-python",
   "codemirror_mode": {
    "name": "ipython",
    "version": 3
   },
   "pygments_lexer": "ipython3",
   "nbconvert_exporter": "python",
   "file_extension": ".py"
  },
  "kernelspec": {
   "name": "python3",
   "display_name": "Python 3.7.11 64-bit ('base': conda)"
  },
  "interpreter": {
   "hash": "13ce8e434be931d17959cd1d6762ecfa54fd2fa635480273bf1a429d72b7fc63"
  }
 },
 "nbformat": 4,
 "nbformat_minor": 2
}