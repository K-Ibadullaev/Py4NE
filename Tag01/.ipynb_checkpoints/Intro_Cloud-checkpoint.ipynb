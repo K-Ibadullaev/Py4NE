{
 "cells": [
  {
   "cell_type": "markdown",
   "metadata": {
    "slideshow": {
     "slide_type": "slide"
    }
   },
   "source": [
    "# Introduction into Cloud-Computing with Python\n",
    "\n",
    "***Outline for today***\n",
    "\n",
    "1. Jupyter - An interactive Python Experience for Data Analysis\n",
    "2. Working with Git\n",
    "\n",
    "*State of the Art Data Analysis with Python*"
   ]
  },
  {
   "cell_type": "markdown",
   "metadata": {
    "slideshow": {
     "slide_type": "subslide"
    }
   },
   "source": [
    "## Jupyter - An interactive Python Experience for Data Analysis\n",
    "\n",
    "### Why Jupyter?\n",
    "\n",
    "* Writing Python-Code is very easy\n",
    "* Tools for writing Python-Code:\n",
    "    * simple editor, without (Notepad) or with (KWrite, Kate, Notepad++, Geany, ...) syntax highlighting\n",
    "    * IDE's (VS Code, Spyder, PyCharm, Visual Studio, ...) with advanced functionality:\n",
    "        * code style analysis\n",
    "        * linting\n",
    "        * support for version control (SVN, Git)\n",
    "        * integrated help"
   ]
  },
  {
   "cell_type": "markdown",
   "metadata": {
    "slideshow": {
     "slide_type": "subslide"
    }
   },
   "source": [
    "* Jupyter\n",
    "    * developed for data analysis with Python\n",
    "    * supports other languages (available Kernels for: R, MATLAB/Octave, .NET Core (C#, F#), ...)\n",
    "    * web-based IDE (Jupyter-Notebook, Jupyterlab)\n",
    "    * Cell-Based layouts (Code-Cells, Document (Markdown)-Cells)\n",
    "    * Can be converted into Python-Code, printed as PDF, converted into Slides, LaTeX, HTML, ...\n",
    "\n",
    "***Documentation + Code + Results = Jupyter***"
   ]
  },
  {
   "cell_type": "markdown",
   "metadata": {
    "slideshow": {
     "slide_type": "subslide"
    }
   },
   "source": [
    "### Where I can get Jupyter?\n",
    "\n",
    "* Pre-installed with Anaconda (Jupyter + Jupyterlab)\n",
    "* On Debian-like systems: `sudo apt install jupyter`"
   ]
  },
  {
   "cell_type": "markdown",
   "metadata": {
    "slideshow": {
     "slide_type": "fragment"
    }
   },
   "source": [
    "### And where I can get help?\n",
    "\n",
    "* Jupyter-integrated Help-System with\n",
    "    * example Notebooks\n",
    "    * Links to documentation"
   ]
  },
  {
   "cell_type": "markdown",
   "metadata": {
    "slideshow": {
     "slide_type": "subslide"
    }
   },
   "source": [
    "### Anatomy of Jupyter\n",
    "\n",
    "1. Starting Jupyter\n",
    "    * cd to desired directory\n",
    "    * type `jupyter notebook` or `jupyterlab`\n",
    "2. Default browser will open automatically with Jupyter Dashboard\n",
    "\n",
    "<img src=\"images/JupyterDashboard.jpg\" width=600px />"
   ]
  },
  {
   "cell_type": "markdown",
   "metadata": {
    "slideshow": {
     "slide_type": "subslide"
    }
   },
   "source": [
    "### Anatomy of a Jupyter Notebook\n",
    "\n",
    "Behind each Notebook there is a Kernel running: **IPython**\n",
    "\n",
    "<img src=\"images/JupyterAnatomy.png\" width=600px/>"
   ]
  },
  {
   "cell_type": "markdown",
   "metadata": {
    "slideshow": {
     "slide_type": "subslide"
    }
   },
   "source": [
    "### Writing documentation\n",
    "\n",
    "Until now:\n",
    "\n",
    "* writing code\n",
    "* visualizating the results\n",
    "\n",
    "Now:\n",
    "\n",
    "* Writing documentation in Markdown\n"
   ]
  },
  {
   "cell_type": "markdown",
   "metadata": {
    "slideshow": {
     "slide_type": "subslide"
    }
   },
   "source": [
    "### Markdown Syntax\n",
    "\n",
    "Headings:\n",
    "\n",
    "* HTML: `<h1>Title</h1>`, Markdown: `# Title`\n",
    "* HTML: `<h2>Sub-Title</h2>`, Markdown: `## Sub-Title`\n",
    "\n",
    "Lists:\n",
    "\n",
    "```markdown\n",
    "* Item 1\n",
    "* Item 2\n",
    "    * Subitem 1\n",
    "    * Subitem 2\n",
    "* Item 3\n",
    "```\n",
    "* Item 1\n",
    "* Item 2\n",
    "    * Subitem 1\n",
    "    * Subitem 2\n",
    "* Item 3"
   ]
  },
  {
   "cell_type": "markdown",
   "metadata": {
    "slideshow": {
     "slide_type": "subslide"
    }
   },
   "source": [
    "Enumerations:\n",
    "```markdown\n",
    "1. Item 1\n",
    "2. Item 2\n",
    "    1. Item 1\n",
    "    5. Item 2\n",
    "6. Item 3\n",
    "```\n",
    "1. Item 1\n",
    "2. Item 2\n",
    "    1. Item 1\n",
    "    5. Item 2\n",
    "6. Item 3"
   ]
  },
  {
   "cell_type": "markdown",
   "metadata": {
    "slideshow": {
     "slide_type": "subslide"
    }
   },
   "source": [
    "Textstyles:\n",
    "\n",
    "* italic `*word*` *word*\n",
    "* bold `**word**` **word**\n",
    "* italc-bold `***word***` ***word***\n",
    "\n",
    "Images and Links:\n",
    "\n",
    "* Markdown: `![label](path_to_image.png)`\n",
    "* HTML: `<img src=\"path_to_image.png\" width=200px />`\n",
    "* Markdown-Links: `[label](url)` `[www.python.org](www.python.org)`: [www.python.org](www.python.org)"
   ]
  },
  {
   "cell_type": "markdown",
   "metadata": {
    "slideshow": {
     "slide_type": "subslide"
    }
   },
   "source": [
    "Code-Tags:\n",
    "\n",
    "* Multiline-Code: \\`\\`\\` Code \\`\\`\\`\n",
    "* Singleline-Code: \\` Code \\`\n",
    "\n",
    "Math with LaTeX-Formula:\n",
    "\n",
    "* Inline-Math: \\$ \\frac{\\partial T}{\\partial t} \\$: $\\frac{\\partial T}{\\partial t}$\n",
    "* Math-Block: \\$\\$ ax^2 + bx + c = 0 \\$\\$\n",
    "$$ ax^2 + bx + c = 0 $$"
   ]
  },
  {
   "cell_type": "markdown",
   "metadata": {
    "slideshow": {
     "slide_type": "subslide"
    }
   },
   "source": [
    "### Excercise: Jupyter-Notebook with FFT-Analysis\n",
    "\n",
    "We will discuss a very simple task: Signal analysis with FFT and visualization with Matplotlib."
   ]
  },
  {
   "cell_type": "markdown",
   "metadata": {
    "slideshow": {
     "slide_type": "slide"
    }
   },
   "source": [
    "## Working with Git\n",
    "\n",
    "### What is Git\n",
    "\n",
    "* a version control-system\n",
    "* originally developed for the Linux Kernel as replacement of SVN\n",
    "* automatically track files in a local **repository** and sync it with an online repository\n",
    "* can ignore several files via `.gitignore`-file\n",
    "* can track several **branches** of files\n",
    "* can (automatically) **merge** changes made in several branches into one branch"
   ]
  },
  {
   "cell_type": "markdown",
   "metadata": {
    "slideshow": {
     "slide_type": "subslide"
    }
   },
   "source": [
    "### Where I get it?\n",
    "\n",
    "* Debian-like systems: `sudo apt install git`\n",
    "* Windows-systems: Installer available at: [https://git-scm.com/](https://git-scm.com/)"
   ]
  },
  {
   "cell_type": "markdown",
   "metadata": {
    "slideshow": {
     "slide_type": "fragment"
    }
   },
   "source": [
    "### Can I work completely local?\n",
    "\n",
    "* Yes, simply `cd` into the project directory and type `git init`\n",
    "* then `git add <file>` to track `file` for changes\n",
    "* if you're done: `git commit -m <message>` to commit changes made to the file(s)\n",
    "* (works better with an IDE with Git-Support; Visual Studio, VS Code, PyCharm, ...)"
   ]
  },
  {
   "cell_type": "markdown",
   "metadata": {
    "slideshow": {
     "slide_type": "subslide"
    }
   },
   "source": [
    "### Better option: Sync with remote repository\n",
    "\n",
    "* Have a up-to-date repository available worldwide\n",
    "* usual available features:\n",
    "    * track changes online\n",
    "    * merge branches\n",
    "    * Wiki\n",
    "    * Documentation\n",
    "    * Project site\n",
    "    * working in groups\n",
    "    * comments and issue-tracker\n",
    "* several Git-Instances available (free)\n",
    "    * Github (Microsoft)\n",
    "    * gitlab.com (Gitlab)\n",
    "    * [Gitlab-Instances of our University](https://gitlab.hrz.tu-chemnitz.de)"
   ]
  },
  {
   "cell_type": "markdown",
   "metadata": {
    "slideshow": {
     "slide_type": "subslide"
    }
   },
   "source": [
    "### Hand-on to Git: Syncing the example with own git repository\n",
    "\n",
    "See practical example ..."
   ]
  },
  {
   "cell_type": "code",
   "execution_count": null,
   "metadata": {},
   "outputs": [],
   "source": []
  }
 ],
 "metadata": {
  "celltoolbar": "Slideshow",
  "kernelspec": {
   "display_name": "Python 3 (ipykernel)",
   "language": "python",
   "name": "python3"
  },
  "language_info": {
   "codemirror_mode": {
    "name": "ipython",
    "version": 3
   },
   "file_extension": ".py",
   "mimetype": "text/x-python",
   "name": "python",
   "nbconvert_exporter": "python",
   "pygments_lexer": "ipython3",
   "version": "3.7.4"
  }
 },
 "nbformat": 4,
 "nbformat_minor": 4
}
