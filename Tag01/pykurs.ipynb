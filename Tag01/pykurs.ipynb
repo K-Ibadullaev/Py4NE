{
 "cells": [
  {
   "cell_type": "markdown",
   "source": [
    "# Python-Kurs für Ingenieure und Naturwissenschaftler\r\n",
    "\r\n",
    "## Inhalt\r\n",
    "\r\n",
    "Der Python-Kurs ist in folgende Inhalte gegliedert:\r\n",
    "\r\n",
    "1. Einführung in Git (Mo)\r\n",
    "1. Was sind Jupyter Notebooks? (Mo)\r\n",
    "1. Einführung in Python (Mo)\r\n",
    "1. Die Sprache Python (Die)\r\n",
    "1. Symbolisches Rechnen mit Python (Die)\r\n",
    "1. Numerisches Rechnen mit Python (Mi)\r\n",
    "1. 2D und 3D Visualisierung mit Python (Mi)\r\n",
    "1. Objektorientierte Programmierung (Do)\r\n",
    "1. Fortschrittliche Technologien (Fr)\r\n"
   ],
   "metadata": {}
  },
  {
   "cell_type": "markdown",
   "source": [
    "## Einführung in Git\r\n",
    "\r\n",
    "### Das Versionskontrollsystem Git\r\n",
    "\r\n",
    "Ein Versionskontrollsystem verwaltet Änderungen an Dateien:\r\n",
    "Es wird immer gesichert\r\n",
    "\r\n",
    "* wer\r\n",
    "* wann\r\n",
    "* welche\r\n",
    "\r\n",
    "Änderungen an einer Datei gemacht hat. Somit lassen sich die gemachten Änderungen verfolgen und auch **rückgängig** machen. Dabei lassen die Systeme zu, dass mehrere Benutzer gleichzeitig an einer Codebasis (*Repository*) arbeiten.\r\n",
    "\r\n",
    "Es existieren viele konkurrierende Systeme am Markt, die derzeit noch gebräuchlichsten sind:\r\n",
    "\r\n",
    "* **Git**\r\n",
    "* Subversion\r\n",
    "* Mercurial\r\n"
   ],
   "metadata": {}
  },
  {
   "cell_type": "markdown",
   "source": [
    "### Git\r\n",
    "\r\n",
    "Git ist ein Versionskontrollsystem, welches ursprünglich von Linus Torvalds für den Linux-Kernel entwickelt wurde. Es arbeitet mit dem verteilten Ansatz, d.h. jeder Nutzer besitzt eine lokale Kopie des kompletten Repositories. Arbeiten mehrere Entwickler gleichzeitig an einer Datei, so werden die gemachten Änderungen entweder automatisch oder müssen manuell zusammengeführt werden (*merge*).\r\n",
    "\r\n",
    "[Git Befehlsreferenz von Github](https://education.github.com/git-cheat-sheet-education.pdf)\r\n",
    "\r\n",
    "#### Typischer Arbeitsablauf\r\n",
    "\r\n",
    "1. Repository erstellen (`git init`) oder lokale Kopie holen (`git clone`)\r\n",
    "1. Änderungen an Datei(en) durchführen\r\n",
    "1. Änderungen im lokalen Repository bereitstellen (`git commit`)\r\n",
    "1. Mit entfernten Repository synchronisieren (`git push`)\r\n",
    "\r\n",
    "Alternativ kann Schritt 1 bei einem schon vorhandenen Repository darin bestehen, die im Online-Repository bisher gemachten Änderungen zu synchronsieren (`git pull`)."
   ],
   "metadata": {}
  },
  {
   "cell_type": "markdown",
   "source": [
    "### Github, Gitlab und Co.\r\n",
    "\r\n",
    "Github und Gitlab sind Internetdienste, die Git-Repositories hosten.\r\n",
    "\r\n",
    "Die Funktionalität von Git wird erweitert durch:\r\n",
    "\r\n",
    "* webbasierte Oberfläche zum Ansehen und Verwalten von Git-Repositories\r\n",
    "* CI/CD\r\n",
    "* Tools zur Entwicklung im Team (Chat, Milestones, Issue-Tracker, Wiki)\r\n",
    "* Dienste zur Analyse von Programmfehlern, Code-Coverage, ...\r\n",
    "\r\n",
    "Beide Dienste sind in der Basisvariante kostenlos.\r\n",
    "\r\n",
    "Unter https://gitlab.hrz.tu-chemnitz.de stellt die TU Chemnitz allen Mitarbeitern und Studenten der sächs. Hochschulen einen Gitlab-Dienst für Forschung und Lehre bereit."
   ],
   "metadata": {}
  },
  {
   "cell_type": "markdown",
   "source": [
    "## Was sind Jupyter-Notebooks\r\n",
    "\r\n",
    "### Warum Jupyter?\r\n",
    "\r\n",
    "* (Python-) Code schreiben ist sehr einfach\r\n",
    "* es gibt verschiedenste Werkzeuge, um Python-Code zu entwickeln:\r\n",
    "    * einfache Editoren ohne (Notepad) oder mit (KWrite, Notepad++, Geany, IDLE) Syntax-Highlightning\r\n",
    "    * IDEs (Integrierte Entwicklungsumgebung): VS Code, Spyder, PyCharm, Visual Studio, ...\r\n",
    "        * erweiterte Funktionalität\r\n",
    "        * Code Style Analysis (pylint, pycodestyle, rope)\r\n",
    "        * Linting\r\n",
    "        * Unterstützung für Versionskontrollsysteme\r\n",
    "        * Integrierte Hilfe zu Python-Modulen\r\n",
    "* Jupyter\r\n",
    "    * entwicklet für Datenanalyse in Pythonn\r\n",
    "    * basiert auf IPython\r\n",
    "    * unterstützt andere Programmiersprachen über andere Kernel (R, Matlab/Octave, .NET Core - C#, F#, ...)\r\n",
    "    * web-basierte IDE (Jupyter Notebook, Jupyter Lab)\r\n",
    "    * Zellen-basiertes Layout (Code-Zellen, Markdown-Zellen)\r\n",
    "    * verschiedene Exportmöglichkeit der Jupyter-Notebooks (Python-Code, PDF, Präsentatiosnfolien, LaTeX, HTML, ...)\r\n",
    "\r\n",
    "**Jupyter Notebooks = Dokumentation (Markdown) + Code (Python) + Ergebnisse (Bilder, Konsolenausgaben)**"
   ],
   "metadata": {}
  },
  {
   "cell_type": "markdown",
   "source": [
    "### Anatomie eines Jupyter-Notebooks\r\n",
    "\r\n",
    "![jupy_anatomy](./images/JupyterAnatomy.png)"
   ],
   "metadata": {}
  },
  {
   "cell_type": "markdown",
   "source": [
    "### Bezugsquellen von Jupyter\r\n",
    "\r\n",
    "* Vorinstalliert in der Anaconda-Distribution (Jupyter Notebook, Jupyter Lab)\r\n",
    "* Debian-Linux: `sudo apt install jupyter`\r\n",
    "* Fedora: `sudo dnf install jupyter`\r\n",
    "* PIP: `pip install jupyter`\r\n",
    "\r\n",
    "### Hilfe und Support\r\n",
    "\r\n",
    "* Integriertes Hilfe-System in Jupyter (Beispiel-Notebooks, Dokumentations-Links)\r\n",
    "* Dokumentation des Jupyter-Projektes https://jupyter.org/documentation"
   ],
   "metadata": {}
  },
  {
   "cell_type": "markdown",
   "source": [
    "### Jupyter Notebooks\r\n",
    "\r\n",
    "Starten am Beispiel der Anaconda PowerShell:\r\n",
    "\r\n",
    "```PowerShell\r\n",
    "<#\r\n",
    "Schritt 1: In das Verzechnis wechseln, wo Jupyter gestartet werden soll\r\n",
    "#>\r\n",
    "cd Pfad/Zum/Verzeichnis/Wo/Jupter/Gestartet/Werden/Soll\r\n",
    "\r\n",
    "<#\r\n",
    "Schritt 2: Jupyter Notebook mit dem Befehl jupyter notebook\r\n",
    "#>\r\n",
    "jupyter notebook\r\n",
    "\r\n",
    "<#\r\n",
    "Alternativ: Jupyter Lab starten\r\n",
    "#>\r\n",
    "jupyter lab\r\n",
    "```\r\n",
    "\r\n",
    "Es öffnet sich daraufhin der im System eingerichtete Standardbrowser mit dem gewählten Jupyter-Web-Interface (Internet Explorer funktioniert nicht)."
   ],
   "metadata": {}
  },
  {
   "cell_type": "markdown",
   "source": [
    "![jupy_notebook](./images/JupyterDashboard.jpg)"
   ],
   "metadata": {}
  },
  {
   "cell_type": "markdown",
   "source": [
    "### Schreiben von Dokumentation in Jupyter\r\n",
    "\r\n",
    "Für das Dokumentieren von Zellen und Ergebnissen werden Markdown-Zellen genutzt.\r\n",
    "\r\n",
    "Markdown:\r\n",
    "\r\n",
    "* entwickelt 2004 von John Gruber und Aaron Swartz\r\n",
    "* vereinfachte Auszeichnungssprache\r\n",
    "* überwiegend genutzt zur Dokumentation von Code in Form von README-Dateien (unter Windows üblicherweise mit der Dateiendung *.md oder *.txt)\r\n",
    "* Implementiert in Jupyter\r\n",
    "\r\n",
    "Dokumentation zu Markdown:\r\n",
    "\r\n",
    "* von den Originalautoren: https://daringfireball.net/projects/markdown/\r\n",
    "* Github: https://github.com/adam-p/markdown-here/wiki/Markdown-Cheatsheet"
   ],
   "metadata": {}
  },
  {
   "cell_type": "markdown",
   "source": [
    "#### Markdown-Syntax\r\n",
    "\r\n",
    "Überschriften:\r\n",
    "\r\n",
    "* HTML: `<h1>Title</h1>`, Markdown: `# Title`\r\n",
    "* HTML: `<h2>Sub-Title</h2>`, Markdown: `## Sub-Title`\r\n",
    "\r\n",
    "Listen:\r\n",
    "\r\n",
    "```markdown\r\n",
    "* Item 1\r\n",
    "* Item 2\r\n",
    "    * Subitem 1\r\n",
    "    * Subitem 2\r\n",
    "* Item 3\r\n",
    "```\r\n",
    "* Item 1\r\n",
    "* Item 2\r\n",
    "    * Subitem 1\r\n",
    "    * Subitem 2\r\n",
    "* Item 3"
   ],
   "metadata": {}
  },
  {
   "cell_type": "markdown",
   "source": [
    "Aufzählungen:\r\n",
    "\r\n",
    "```markdown\r\n",
    "1. Item 1\r\n",
    "2. Item 2\r\n",
    "    1. Item 1\r\n",
    "    5. Item 2\r\n",
    "6. Item 3\r\n",
    "```\r\n",
    "1. Item 1\r\n",
    "2. Item 2\r\n",
    "    1. Item 1\r\n",
    "    5. Item 2\r\n",
    "6. Item 3"
   ],
   "metadata": {}
  },
  {
   "cell_type": "markdown",
   "source": [
    "Text-Stile:\r\n",
    "\r\n",
    "* italic `*word*` *word*\r\n",
    "* bold `**word**` **word**\r\n",
    "* italc-bold `***word***` ***word***\r\n",
    "\r\n",
    "Bilder und Links:\r\n",
    "\r\n",
    "* Markdown: `![label](path_to_image.png)`\r\n",
    "* HTML: `<img src=\"path_to_image.png\" width=200px />`\r\n",
    "* Markdown-Links: `[label](url)` `[www.python.org](www.python.org)`: [www.python.org](www.python.org)"
   ],
   "metadata": {}
  },
  {
   "cell_type": "markdown",
   "source": [
    "Gerenderte Code-Abschnitte in Markdown:\r\n",
    "\r\n",
    "* Mehrzeiliger Code: \\`\\`\\` Code \\`\\`\\`\r\n",
    "* Einzeiliger Code: \\` Code \\`\r\n",
    "\r\n",
    "LaTeX-Formeln:\r\n",
    "\r\n",
    "* Inline-Math: \\$ \\frac{\\partial T}{\\partial t} \\$: $\\frac{\\partial T}{\\partial t}$\r\n",
    "* Math-Block: \\$\\$ ax^2 + bx + c = 0 \\$\\$\r\n",
    "$$ ax^2 + bx + c = 0 $$"
   ],
   "metadata": {}
  },
  {
   "cell_type": "markdown",
   "source": [
    "## Einführung in Python\r\n",
    "\r\n",
    "### A brief history of Python\r\n",
    "\r\n",
    "Die Anfänge:\r\n",
    "\r\n",
    "* ursprünglich entwickelt von Guido van Rossum\r\n",
    "* erschienen 1991\r\n",
    "* Python 2.x ab Ende 2000\r\n",
    "* **Python 3.x seit Ende 2008**\r\n",
    "* aktuelle Version: Python 3.9.5 vom 03.05.2021\r\n",
    "\r\n",
    "Ein Wort zu Python 2:\r\n",
    "\r\n",
    "***Python 2.7.x wird nur noch bis Ende 2019 unterstützt → alle großen/wichtige Bibliotheken sind aber mittlerweile bereits portiert! [Weitere Informationen](https://legacy.python.org/dev/peps/pep-0373/)***\r\n",
    "\r\n",
    "### Python Versionen\r\n",
    "\r\n",
    "Zwei Hauptversionen verfügbar:\r\n",
    "\r\n",
    "* Python 2.7.x ***!!! nicht länger unterstützt !!!***\r\n",
    "* Python 3.6/7/8.x\r\n",
    "\r\n",
    "Die beiden Hauptversionen sind nicht voll kompatibel zueinander und implementieren eine unterschiedlche Standardbibliothek.\r\n",
    "\r\n",
    "Alle unterstützen Versioen einsehbar unter: [https://devguide.python.org/devcycle/](https://devguide.python.org/devcycle/)"
   ],
   "metadata": {}
  },
  {
   "cell_type": "markdown",
   "source": [
    "### Python Implementierungen\r\n",
    "\r\n",
    "Die Sprache Python ist eine interpretierte Sprache (im Gegensatz zu kompilierten Sprachen wie C, C++, Fortran, ...).\r\n",
    "\r\n",
    "Referenz-Implementierung:\r\n",
    "\r\n",
    "***CPython***\r\n",
    "\r\n",
    "Andere:\r\n",
    "\r\n",
    "* Jython\r\n",
    "* IronPython\r\n",
    "* PyPy\r\n",
    "\r\n",
    "Außerdem existieren Implementierungen für die gängisten Architekturen (x86, AMD64, ARM, armhf, ARM64) und Systeme (bspw. MicroPython für Mikrocontroller mit ARM Cortex M0 oder Espressif-Chipsatz)"
   ],
   "metadata": {}
  },
  {
   "cell_type": "markdown",
   "source": [
    "### Beliebtheit von Python am Beispiel des TIOBE-Index\r\n",
    "\r\n",
    "![tiobe](./images/tiobe_index_06_2021.jpg)"
   ],
   "metadata": {}
  },
  {
   "cell_type": "markdown",
   "source": [],
   "metadata": {}
  }
 ],
 "metadata": {
  "kernelspec": {
   "display_name": "Python 3.7.9 64-bit (conda)",
   "name": "python379jvsc74a57bd013ce8e434be931d17959cd1d6762ecfa54fd2fa635480273bf1a429d72b7fc63"
  },
  "language_info": {
   "name": "python",
   "version": ""
  },
  "orig_nbformat": 2
 },
 "nbformat": 4,
 "nbformat_minor": 2
}