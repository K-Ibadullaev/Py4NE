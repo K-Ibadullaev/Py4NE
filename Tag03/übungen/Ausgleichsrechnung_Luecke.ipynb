{
 "cells": [
  {
   "cell_type": "markdown",
   "metadata": {},
   "source": [
    "# Übungsaufgabe Ausgleichsrechnung\n",
    "\n",
    "Es ist eine Ausgleichsrechnung über Normalengleichungen vorzunehmen, um Regressionsparameter zu fitten."
   ]
  },
  {
   "cell_type": "code",
   "execution_count": 1,
   "metadata": {},
   "outputs": [],
   "source": [
    "import numpy as np\n",
    "import matplotlib.pyplot as plt\n",
    "from scipy.optimize import curve_fit"
   ]
  },
  {
   "cell_type": "markdown",
   "metadata": {},
   "source": [
    "Daten laden und darstellen"
   ]
  },
  {
   "cell_type": "code",
   "execution_count": 2,
   "metadata": {},
   "outputs": [
    {
     "data": {
      "image/png": "[encoded data removed]",
      "text/plain": [
       "<Figure size 432x288 with 1 Axes>"
      ]
     },
     "metadata": {
      "needs_background": "light"
     },
     "output_type": "display_data"
    }
   ],
   "source": [
    "t, y = np.loadtxt('messung.dat', delimiter=',', skiprows=1, unpack=True)\n",
    "\n",
    "# daten anzeigen\n",
    "plt.figure()\n",
    "plt.plot(t, y, 'r--', lw=2.5, marker='.', markersize=15)\n",
    "plt.xlabel('t')\n",
    "plt.ylabel('y');"
   ]
  },
  {
   "cell_type": "markdown",
   "metadata": {},
   "source": [
    "Es wird angenommen, dass die Daten folgener Gesetzmäßigkeit unterliegen:\n",
    "$$y = f(t) = \\alpha \\frac{1}{1 + t} + \\beta$$\n",
    "\n",
    "Zu bestimmende Parameter $\\alpha$ und $\\beta$ bilden Ergebnisvektor $x$.\n",
    "\n",
    "Größe der Koeffizientenmatrix $A$: \\[Anzahl an Daten; Anzahl an Parameter\\]"
   ]
  },
  {
   "cell_type": "code",
   "execution_count": 4,
   "metadata": {},
   "outputs": [],
   "source": [
    "A = \n",
    "A"
   ]
  },
  {
   "cell_type": "markdown",
   "metadata": {},
   "source": [
    "Normalengleichungen aufstellen:\n",
    "$$A^TAx = A^Ty$$"
   ]
  },
  {
   "cell_type": "code",
   "execution_count": 5,
   "metadata": {},
   "outputs": [],
   "source": [
    "rhs = \n",
    "lhs = "
   ]
  },
  {
   "cell_type": "markdown",
   "metadata": {},
   "source": [
    "Lösen der Gleichung mittels Inverse"
   ]
  },
  {
   "cell_type": "code",
   "execution_count": 14,
   "metadata": {},
   "outputs": [
    {
     "name": "stdout",
     "output_type": "stream",
     "text": [
      "1.7083076923076916 1.2902564102564105\n"
     ]
    }
   ],
   "source": [
    "x = \n",
    "alpha = x[0]\n",
    "beta = x[1]\n",
    "print(alpha, beta)"
   ]
  },
  {
   "cell_type": "markdown",
   "metadata": {},
   "source": [
    "Ergebnis darstellen"
   ]
  },
  {
   "cell_type": "code",
   "execution_count": 7,
   "metadata": {},
   "outputs": [
    {
     "data": {
      "image/png": "[encoded data removed]",
      "text/plain": [
       "<Figure size 432x288 with 1 Axes>"
      ]
     },
     "metadata": {
      "needs_background": "light"
     },
     "output_type": "display_data"
    }
   ],
   "source": [
    "tn = \n",
    "fm = \n",
    "plt.figure()\n",
    "plt.plot(t, y, 'r--', lw=2.5, marker='.', markersize=15)\n",
    "plt.plot(tn, fm, 'b--', lw=2.5)\n",
    "plt.xlabel('t')\n",
    "plt.ylabel('y');"
   ]
  },
  {
   "cell_type": "markdown",
   "metadata": {},
   "source": [
    "Fehler zu den beobachteten Daten berechnen"
   ]
  },
  {
   "cell_type": "code",
   "execution_count": 11,
   "metadata": {},
   "outputs": [
    {
     "name": "stdout",
     "output_type": "stream",
     "text": [
      "[2.9985641  2.14441026 1.85969231 1.71733333]\n",
      "[3.   2.14 1.86 1.72]\n"
     ]
    }
   ],
   "source": [
    "fe = alpha*(1/(1+t)) + beta\n",
    "print(fe)\n",
    "print(y)"
   ]
  },
  {
   "cell_type": "markdown",
   "metadata": {},
   "source": [
    "Scipy.Optimize curve_fit"
   ]
  },
  {
   "cell_type": "code",
   "execution_count": 15,
   "metadata": {},
   "outputs": [
    {
     "name": "stdout",
     "output_type": "stream",
     "text": [
      "1.7083076922566676 1.2902564102912772\n"
     ]
    }
   ],
   "source": [
    "def func(t, alpha, beta):\n",
    "    return alpha*(1/(1+t))+beta\n",
    "\n",
    "popt, pcov = curve_fit(func, t, y)\n",
    "alpha1 = popt[0]\n",
    "beta1 = popt[1]\n",
    "print(alpha1, beta1)"
   ]
  },
  {
   "cell_type": "code",
   "execution_count": 13,
   "metadata": {},
   "outputs": [
    {
     "name": "stdout",
     "output_type": "stream",
     "text": [
      "[2.9985641  2.14441026 1.85969231 1.71733333]\n",
      "[3.   2.14 1.86 1.72]\n"
     ]
    }
   ],
   "source": [
    "fe1 = alpha1*(1/(1+t)) + beta1\n",
    "print(fe1)\n",
    "print(y)"
   ]
  },
  {
   "cell_type": "code",
   "execution_count": 16,
   "metadata": {},
   "outputs": [
    {
     "name": "stdout",
     "output_type": "stream",
     "text": [
      "0.005358913016456568 0.005358913016456564\n"
     ]
    }
   ],
   "source": [
    "err = np.linalg.norm(fe-y)\n",
    "err1 = np.linalg.norm(fe1-y)\n",
    "print(err, err1)"
   ]
  },
  {
   "cell_type": "code",
   "execution_count": null,
   "metadata": {},
   "outputs": [],
   "source": []
  }
 ],
 "metadata": {
  "kernelspec": {
   "display_name": "Python 3.7.7 64-bit ('base': conda)",
   "language": "python",
   "name": "python37764bitbaseconda5ce691490c1c40bca3c10ee20351a728"
  },
  "language_info": {
   "codemirror_mode": {
    "name": "ipython",
    "version": 3
   },
   "file_extension": ".py",
   "mimetype": "text/x-python",
   "name": "python",
   "nbconvert_exporter": "python",
   "pygments_lexer": "ipython3",
   "version": "3.7.9"
  }
 },
 "nbformat": 4,
 "nbformat_minor": 4
}
