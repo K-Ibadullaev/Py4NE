{
 "cells": [
  {
   "cell_type": "code",
   "execution_count": 2,
   "metadata": {},
   "outputs": [
    {
     "name": "stdout",
     "output_type": "stream",
     "text": [
      "function equation \n",
      "\n"
     ]
    },
    {
     "data": {
      "text/latex": [
       "$\\displaystyle - \\frac{a}{x^{3}} + 4 x^{2} + 1$"
      ],
      "text/plain": [
       "-a/x**3 + 4*x**2 + 1"
      ]
     },
     "execution_count": 2,
     "metadata": {},
     "output_type": "execute_result"
    }
   ],
   "source": [
    "import sympy as sp\n",
    "\n",
    "# symbols\n",
    "a, x = sp.symbols('a, x')\n",
    "\n",
    "# functions\n",
    "fx = 1 -a/x**3 +4*x**2\n",
    "\n",
    "dfx = sp.diff(fx, x)\n",
    "print('function equation \\n')\n",
    "fx\n"
   ]
  },
  {
   "cell_type": "code",
   "execution_count": 3,
   "metadata": {},
   "outputs": [
    {
     "name": "stdout",
     "output_type": "stream",
     "text": [
      "derivative equation \n",
      "\n"
     ]
    },
    {
     "data": {
      "text/latex": [
       "$\\displaystyle \\frac{3 a}{x^{4}} + 8 x$"
      ],
      "text/plain": [
       "3*a/x**4 + 8*x"
      ]
     },
     "execution_count": 3,
     "metadata": {},
     "output_type": "execute_result"
    }
   ],
   "source": [
    "print('derivative equation \\n')\n",
    "dfx"
   ]
  },
  {
   "cell_type": "code",
   "execution_count": 4,
   "metadata": {},
   "outputs": [
    {
     "name": "stdout",
     "output_type": "stream",
     "text": [
      "Function equation\n"
     ]
    },
    {
     "data": {
      "text/latex": [
       "$\\displaystyle 4 x^{2} + 1 - \\frac{4}{x^{3}}$"
      ],
      "text/plain": [
       "4*x**2 + 1 - 4/x**3"
      ]
     },
     "execution_count": 4,
     "metadata": {},
     "output_type": "execute_result"
    }
   ],
   "source": [
    "a_val = 4\n",
    "param_dict =  {a: a_val}\n",
    "\n",
    "fx_a = fx.subs(param_dict)\n",
    "dfx_a = dfx.subs(param_dict)\n",
    "\n",
    "print('Function equation')\n",
    "fx_a"
   ]
  },
  {
   "cell_type": "code",
   "execution_count": 5,
   "metadata": {},
   "outputs": [
    {
     "name": "stdout",
     "output_type": "stream",
     "text": [
      "Derivative equation\n"
     ]
    },
    {
     "data": {
      "text/latex": [
       "$\\displaystyle 8 x + \\frac{12}{x^{4}}$"
      ],
      "text/plain": [
       "8*x + 12/x**4"
      ]
     },
     "execution_count": 5,
     "metadata": {},
     "output_type": "execute_result"
    }
   ],
   "source": [
    "print('Derivative equation')\n",
    "dfx_a"
   ]
  },
  {
   "cell_type": "code",
   "execution_count": 6,
   "metadata": {},
   "outputs": [],
   "source": [
    "fxfnc = sp.lambdify(x, fx_a, modules='numpy')\n",
    "dfxfnc = sp.lambdify(x, dfx_a, modules ='numpy')\n",
    "\n",
    "def newton(fx, dfx, x0, err =1e-6 ):\n",
    "    # fx, dfx, local variables \n",
    "    x1 = x0\n",
    "    x2 = x1 -fx(x1)/dfx(x1)\n",
    "\n",
    "    conv =[]\n",
    "    conv.append([it, abs(x2-x1)])\n",
    "\n",
    "    while (abs(x2-x1)>=err)   :\n",
    "        x1 =x2\n",
    "        x2 =  x1 -fx(x1)/dfx(x1)\n",
    "        it+=1\n",
    "        conv.append([ it, abs(x2-x1)])\n",
    "    return (x2, it, abs(x2-x1),conv)  \n",
    "\n"
   ]
  },
  {
   "cell_type": "code",
   "execution_count": 10,
   "metadata": {},
   "outputs": [
    {
     "data": {
      "text/plain": [
       "(0.9524882426082691, 5, 5.300704319921579e-10)"
      ]
     },
     "execution_count": 10,
     "metadata": {},
     "output_type": "execute_result"
    }
   ],
   "source": [
    "import calc_newton as cn\n",
    "x1, it1, err1 = cn.sym_newton(fxfnc, dfxfnc, a_val/2, err =1e-6)\n",
    "(x1, it1, err1)"
   ]
  },
  {
   "cell_type": "code",
   "execution_count": 12,
   "metadata": {},
   "outputs": [
    {
     "name": "stdout",
     "output_type": "stream",
     "text": [
      "Sympy  [CRootOf(4*x**5 + x**3 - 4, 0), CRootOf(4*x**5 + x**3 - 4, 1), CRootOf(4*x**5 + x**3 - 4, 2), CRootOf(4*x**5 + x**3 - 4, 3), CRootOf(4*x**5 + x**3 - 4, 4)]\n"
     ]
    }
   ],
   "source": [
    "from sympy.solvers import solve\n",
    "print('Sympy ', solve(fx_a))"
   ]
  }
 ],
 "metadata": {
  "kernelspec": {
   "display_name": "Python 3.10.6 ('py4NE')",
   "language": "python",
   "name": "python3"
  },
  "language_info": {
   "codemirror_mode": {
    "name": "ipython",
    "version": 3
   },
   "file_extension": ".py",
   "mimetype": "text/x-python",
   "name": "python",
   "nbconvert_exporter": "python",
   "pygments_lexer": "ipython3",
   "version": "3.10.6"
  },
  "orig_nbformat": 4,
  "vscode": {
   "interpreter": {
    "hash": "1b1ff0511d32430e846aaf0422e66e37dfbc6d6c97418a074aa4f56641304483"
   }
  }
 },
 "nbformat": 4,
 "nbformat_minor": 2
}
