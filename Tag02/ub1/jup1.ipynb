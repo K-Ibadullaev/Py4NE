{
 "cells": [
  {
   "cell_type": "markdown",
   "metadata": {},
   "source": []
  },
  {
   "cell_type": "markdown",
   "metadata": {},
   "source": [
    "# Uebung 1\n",
    "Input/output\n"
   ]
  },
  {
   "cell_type": "code",
   "execution_count": 1,
   "metadata": {},
   "outputs": [
    {
     "name": "stdout",
     "output_type": "stream",
     "text": [
      "age?\n"
     ]
    }
   ],
   "source": [
    "print('age?')"
   ]
  },
  {
   "cell_type": "code",
   "execution_count": 2,
   "metadata": {},
   "outputs": [],
   "source": [
    "a = input('ddd')"
   ]
  },
  {
   "cell_type": "code",
   "execution_count": 3,
   "metadata": {},
   "outputs": [
    {
     "data": {
      "text/plain": [
       "'5'"
      ]
     },
     "execution_count": 3,
     "metadata": {},
     "output_type": "execute_result"
    }
   ],
   "source": [
    "a"
   ]
  },
  {
   "cell_type": "code",
   "execution_count": 4,
   "metadata": {},
   "outputs": [
    {
     "name": "stdout",
     "output_type": "stream",
     "text": [
      "var type  <class 'float'>\n"
     ]
    }
   ],
   "source": [
    "z1 =12.3\n",
    "print('var type ',type(z1))"
   ]
  },
  {
   "cell_type": "code",
   "execution_count": 5,
   "metadata": {},
   "outputs": [
    {
     "name": "stdout",
     "output_type": "stream",
     "text": [
      "var type  <class 'float'>   4.1000000000000005\n"
     ]
    }
   ],
   "source": [
    "z2 = 3\n",
    "z3 = z1/z2\n",
    "print('var type ',type(z3),' ', z3)"
   ]
  },
  {
   "cell_type": "code",
   "execution_count": 6,
   "metadata": {},
   "outputs": [
    {
     "data": {
      "text/plain": [
       "4.0"
      ]
     },
     "execution_count": 6,
     "metadata": {},
     "output_type": "execute_result"
    }
   ],
   "source": [
    "z4 = z1//z2\n",
    "z4"
   ]
  },
  {
   "cell_type": "code",
   "execution_count": 7,
   "metadata": {},
   "outputs": [
    {
     "data": {
      "text/plain": [
       "0.3000000000000007"
      ]
     },
     "execution_count": 7,
     "metadata": {},
     "output_type": "execute_result"
    }
   ],
   "source": [
    "z5 = z1 %z2\n",
    "z5"
   ]
  },
  {
   "cell_type": "code",
   "execution_count": 8,
   "metadata": {},
   "outputs": [
    {
     "name": "stdout",
     "output_type": "stream",
     "text": [
      "🤢\n"
     ]
    }
   ],
   "source": [
    "x = False\n",
    "y = True\n",
    "z = True\n",
    "if x and y or ((y and z) or not x):\n",
    "    print('🤢')"
   ]
  },
  {
   "cell_type": "code",
   "execution_count": 9,
   "metadata": {},
   "outputs": [
    {
     "name": "stdout",
     "output_type": "stream",
     "text": [
      "1\n",
      "7\n",
      "-6\n",
      "16\n",
      "4\n"
     ]
    }
   ],
   "source": [
    "print(5 & 3)\n",
    "print(5 | 3)\n",
    "print(~5)\n",
    "print(2 << 3)\n",
    "\n",
    "print(16 >> 2)"
   ]
  },
  {
   "cell_type": "code",
   "execution_count": 10,
   "metadata": {},
   "outputs": [
    {
     "data": {
      "text/plain": [
       "(6+4j)"
      ]
     },
     "execution_count": 10,
     "metadata": {},
     "output_type": "execute_result"
    }
   ],
   "source": [
    "6+4j"
   ]
  },
  {
   "cell_type": "code",
   "execution_count": 11,
   "metadata": {},
   "outputs": [
    {
     "name": "stdout",
     "output_type": "stream",
     "text": [
      "4\n",
      "[1, 2, 3, 5, 6, 7, 8, 9, 10]\n",
      "[1, 2, 3, 5, 6, 7, 7, 8, 9, 10]\n",
      "[1, 2]\n",
      "boo\n",
      "[3, 5, 6]\n",
      "9\n"
     ]
    }
   ],
   "source": [
    "liste1 = [1,2,3,4,5,6,7,8,9,10]\n",
    "print(liste1.pop(3))\n",
    "print(liste1)\n",
    "liste1.insert(6,7)\n",
    "print(liste1)\n",
    "\n",
    "ab = [i for i in range(1,3)]\n",
    "print(ab)\n",
    "\n",
    "m = \"foo\" if len(liste1) <5 else \"boo\"\n",
    "print(m)\n",
    "print(liste1[2:5])\n",
    "print(liste1[-2])"
   ]
  },
  {
   "cell_type": "code",
   "execution_count": 12,
   "metadata": {},
   "outputs": [],
   "source": [
    "l = [x for x in range(1,10,2)]"
   ]
  },
  {
   "cell_type": "code",
   "execution_count": 13,
   "metadata": {},
   "outputs": [
    {
     "ename": "SyntaxError",
     "evalue": "invalid syntax (954470527.py, line 1)",
     "output_type": "error",
     "traceback": [
      "\u001b[1;36m  File \u001b[1;32m\"C:\\Users\\Anaconda\\AppData\\Local\\Temp\\ipykernel_20564\\954470527.py\"\u001b[1;36m, line \u001b[1;32m1\u001b[0m\n\u001b[1;33m    l[-]\u001b[0m\n\u001b[1;37m       ^\u001b[0m\n\u001b[1;31mSyntaxError\u001b[0m\u001b[1;31m:\u001b[0m invalid syntax\n"
     ]
    }
   ],
   "source": [
    "l[-]"
   ]
  },
  {
   "cell_type": "code",
   "execution_count": null,
   "metadata": {},
   "outputs": [
    {
     "name": "stdout",
     "output_type": "stream",
     "text": [
      "[ 1.          1.47368421  1.94736842  2.42105263  2.89473684  3.36842105\n",
      "  3.84210526  4.31578947  4.78947368  5.26315789  5.73684211  6.21052632\n",
      "  6.68421053  7.15789474  7.63157895  8.10526316  8.57894737  9.05263158\n",
      "  9.52631579 10.        ]\n",
      "1.0\n",
      "1.4736842105263157\n",
      "1.9473684210526314\n",
      "2.4210526315789473\n",
      "2.894736842105263\n",
      "3.3684210526315788\n",
      "3.8421052631578947\n",
      "4.315789473684211\n",
      "4.789473684210526\n",
      "5.263157894736842\n",
      "5.7368421052631575\n",
      "6.2105263157894735\n",
      "6.684210526315789\n",
      "7.157894736842105\n",
      "7.63157894736842\n",
      "8.105263157894736\n",
      "8.578947368421051\n",
      "9.052631578947368\n",
      "9.526315789473683\n",
      "10.0\n"
     ]
    },
    {
     "data": {
      "text/plain": [
       "20"
      ]
     },
     "execution_count": 69,
     "metadata": {},
     "output_type": "execute_result"
    }
   ],
   "source": [
    "import numpy as np\n",
    "l = np.linspace(1,10, 20)\n",
    "print(l)\n",
    "for  i in range(len(l)):\n",
    "    print(l[i])\n",
    "np.size(l)"
   ]
  },
  {
   "cell_type": "code",
   "execution_count": null,
   "metadata": {},
   "outputs": [
    {
     "name": "stdout",
     "output_type": "stream",
     "text": [
      "i 0 : 1\n",
      "i 1 : 2\n",
      "i 2 : 3\n",
      "i 3 : 5\n",
      "i 4 : 6\n",
      "i 5 : 7\n",
      "i 6 : 7\n",
      "i 7 : 8\n",
      "i 8 : 9\n",
      "i 9 : 10\n"
     ]
    }
   ],
   "source": [
    "for i, elem in zip(range(len(liste1)), liste1):\n",
    "    print ('i',i,':',elem)"
   ]
  },
  {
   "cell_type": "code",
   "execution_count": null,
   "metadata": {},
   "outputs": [],
   "source": [
    "c =range(1,5,3)"
   ]
  },
  {
   "cell_type": "code",
   "execution_count": null,
   "metadata": {},
   "outputs": [
    {
     "name": "stdout",
     "output_type": "stream",
     "text": [
      "Help on class range in module builtins:\n",
      "\n",
      "class range(object)\n",
      " |  range(stop) -> range object\n",
      " |  range(start, stop[, step]) -> range object\n",
      " |  \n",
      " |  Return an object that produces a sequence of integers from start (inclusive)\n",
      " |  to stop (exclusive) by step.  range(i, j) produces i, i+1, i+2, ..., j-1.\n",
      " |  start defaults to 0, and stop is omitted!  range(4) produces 0, 1, 2, 3.\n",
      " |  These are exactly the valid indices for a list of 4 elements.\n",
      " |  When step is given, it specifies the increment (or decrement).\n",
      " |  \n",
      " |  Methods defined here:\n",
      " |  \n",
      " |  __bool__(self, /)\n",
      " |      True if self else False\n",
      " |  \n",
      " |  __contains__(self, key, /)\n",
      " |      Return key in self.\n",
      " |  \n",
      " |  __eq__(self, value, /)\n",
      " |      Return self==value.\n",
      " |  \n",
      " |  __ge__(self, value, /)\n",
      " |      Return self>=value.\n",
      " |  \n",
      " |  __getattribute__(self, name, /)\n",
      " |      Return getattr(self, name).\n",
      " |  \n",
      " |  __getitem__(self, key, /)\n",
      " |      Return self[key].\n",
      " |  \n",
      " |  __gt__(self, value, /)\n",
      " |      Return self>value.\n",
      " |  \n",
      " |  __hash__(self, /)\n",
      " |      Return hash(self).\n",
      " |  \n",
      " |  __iter__(self, /)\n",
      " |      Implement iter(self).\n",
      " |  \n",
      " |  __le__(self, value, /)\n",
      " |      Return self<=value.\n",
      " |  \n",
      " |  __len__(self, /)\n",
      " |      Return len(self).\n",
      " |  \n",
      " |  __lt__(self, value, /)\n",
      " |      Return self<value.\n",
      " |  \n",
      " |  __ne__(self, value, /)\n",
      " |      Return self!=value.\n",
      " |  \n",
      " |  __reduce__(...)\n",
      " |      Helper for pickle.\n",
      " |  \n",
      " |  __repr__(self, /)\n",
      " |      Return repr(self).\n",
      " |  \n",
      " |  __reversed__(...)\n",
      " |      Return a reverse iterator.\n",
      " |  \n",
      " |  count(...)\n",
      " |      rangeobject.count(value) -> integer -- return number of occurrences of value\n",
      " |  \n",
      " |  index(...)\n",
      " |      rangeobject.index(value) -> integer -- return index of value.\n",
      " |      Raise ValueError if the value is not present.\n",
      " |  \n",
      " |  ----------------------------------------------------------------------\n",
      " |  Static methods defined here:\n",
      " |  \n",
      " |  __new__(*args, **kwargs) from builtins.type\n",
      " |      Create and return a new object.  See help(type) for accurate signature.\n",
      " |  \n",
      " |  ----------------------------------------------------------------------\n",
      " |  Data descriptors defined here:\n",
      " |  \n",
      " |  start\n",
      " |  \n",
      " |  step\n",
      " |  \n",
      " |  stop\n",
      "\n"
     ]
    }
   ],
   "source": [
    "help(range)"
   ]
  },
  {
   "cell_type": "code",
   "execution_count": null,
   "metadata": {},
   "outputs": [
    {
     "data": {
      "text/plain": [
       "range"
      ]
     },
     "execution_count": 89,
     "metadata": {},
     "output_type": "execute_result"
    }
   ],
   "source": [
    "a= range(1,10,2)\n",
    "type(a)\n"
   ]
  },
  {
   "cell_type": "code",
   "execution_count": null,
   "metadata": {},
   "outputs": [
    {
     "name": "stdout",
     "output_type": "stream",
     "text": [
      "0 : 1\n",
      "1 : 2\n",
      "2 : 3\n",
      "3 : 5\n",
      "4 : 6\n",
      "5 : 7\n",
      "6 : 7\n",
      "7 : 8\n",
      "8 : 9\n",
      "9 : 10\n"
     ]
    }
   ],
   "source": [
    "for i, el in enumerate(liste1):\n",
    "    print(i,':', el)"
   ]
  },
  {
   "cell_type": "code",
   "execution_count": 15,
   "metadata": {},
   "outputs": [
    {
     "name": "stdout",
     "output_type": "stream",
     "text": [
      "2\n",
      "3\n",
      "5\n",
      "6\n",
      "7\n",
      "7\n",
      "8\n",
      "9\n",
      "10\n"
     ]
    }
   ],
   "source": [
    "i =1\n",
    "while i <len(liste1):\n",
    "    print(liste1[i])\n",
    "    i+=1"
   ]
  },
  {
   "cell_type": "code",
   "execution_count": 25,
   "metadata": {},
   "outputs": [
    {
     "name": "stdout",
     "output_type": "stream",
     "text": [
      "It: 1\n",
      "1.364183671188335 error: 0.39381330081796473  It: 2\n",
      "1.792401322724114 error: 0.42821765153577895  It: 3\n",
      "2.1127567627289907 error: 0.3203554400048767  It: 4\n",
      "2.226055216358805 error: 0.1132984536298145  It: 5\n",
      "2.2360008245258745 error: 0.009945608167069242  It: 6\n",
      "2.2360679744747407 error: 6.714994886625192e-05  It: 7\n"
     ]
    }
   ],
   "source": [
    "def newton(a, err):\n",
    "    x1 = (1+a)/9.0\n",
    "    x2 = x1 -(1-a/x1**2)/(2*a/x1**3)\n",
    "    it =1\n",
    "    print('It:',it)\n",
    "    \n",
    "    while (abs(x2-x1)>=err):\n",
    "        x1 = x2\n",
    "        x2 = x1 - (1-a/x1**2)/(2*a/x1**3)\n",
    "        it +=1\n",
    "        print(x2,'error:',abs(x2-x1),' It:', it)\n",
    "\n",
    "newton(5,1e-3)"
   ]
  },
  {
   "cell_type": "code",
   "execution_count": 39,
   "metadata": {},
   "outputs": [],
   "source": [
    "def newton2(a, err):\n",
    "    x1 = (1+a)/9.0\n",
    "    x2 = x1 -(1-a/x1**2)/(2*a/x1**3)\n",
    "    it =1\n",
    "     \n",
    "    while (abs(x2-x1)>=err):\n",
    "        x1 = x2\n",
    "        x2 = x1 - (1-a/x1**2)/(2*a/x1**3)\n",
    "        it +=1\n",
    "    return x2    \n",
    "xroot = newton2(5, 1e-3)    "
   ]
  },
  {
   "cell_type": "code",
   "execution_count": 49,
   "metadata": {},
   "outputs": [],
   "source": [
    "def newton3(a, err):\n",
    "\n",
    "    \"\"\"  x_min = x_n - f(x_n)/f'(x_n)\n",
    "       f(x) = 1 - a/(x^2) -> instance function\n",
    "       f'(x) = 2a/(x^3) ->\n",
    "       \"\"\"\n",
    " \n",
    "    x1 = (1+a)/9.0\n",
    "    x2 = x1 -(1-a/x1**2)/(2*a/x1**3)\n",
    "    it =1\n",
    "       \n",
    "    while (abs(x2-x1)>=err):\n",
    "        x1 = x2\n",
    "        x2 = x1 - (1-a/x1**2)/(2*a/x1**3)\n",
    "        it +=1\n",
    "    return x2, it, abs(x2-x1)        \n",
    "x_r,it,errr= newton3(5,1e-3)\n",
    "x_r1,_,_= newton3(4,1e-5)"
   ]
  },
  {
   "cell_type": "code",
   "execution_count": 3,
   "metadata": {},
   "outputs": [
    {
     "data": {
      "text/plain": [
       "(3.31662472344439, 6, 0.00038457776672240485)"
      ]
     },
     "execution_count": 3,
     "metadata": {},
     "output_type": "execute_result"
    }
   ],
   "source": [
    "import calc_newton as nw\n",
    "\n",
    "err = 1e-3\n",
    "a =11\n",
    "nw.calc_newton(a)\n",
    "nw.calc_newton(a,err)"
   ]
  },
  {
   "cell_type": "code",
   "execution_count": 5,
   "metadata": {},
   "outputs": [
    {
     "name": "stdout",
     "output_type": "stream",
     "text": [
      "a*sin(b*x)\n",
      "a*b*cos(b*x)\n"
     ]
    }
   ],
   "source": [
    "import sympy as sp\n",
    "# Symbole anlegen\n",
    "a, b, x = sp.symbols('a, b, x')\n",
    "f = a*sp.sin(b*x)  # Funktion f anlegen\n",
    "df_xa = f.diff(x)  # Funktion f nach x einmal differenzieren\n",
    "print(f)\n",
    "print(df_xa)"
   ]
  },
  {
   "cell_type": "code",
   "execution_count": 6,
   "metadata": {},
   "outputs": [
    {
     "name": "stdout",
     "output_type": "stream",
     "text": [
      "f(1.57)  = -1.93\n",
      "f'(1.57) = -32.81\n"
     ]
    }
   ],
   "source": [
    "import math # wichtige Mathe-Funktionen --> PI\n",
    "\n",
    "f_xa_fnc = sp.lambdify((a, b, x), f, modules='numpy')\n",
    "df_xa_fnc = sp.lambdify((a, b, x), df_xa, modules='numpy')\n",
    "\n",
    "A = 2.0\n",
    "F = 10.0 # Hz\n",
    "B = 2*math.pi*F\n",
    "X = 0.5*math.pi\n",
    "\n",
    "print(\"f(%.2f)  = %.2f\" % (X, f_xa_fnc(A, B, X)))\n",
    "print(\"f'(%.2f) = %.2f\" % (X, df_xa_fnc(A, B, X)))"
   ]
  },
  {
   "cell_type": "code",
   "execution_count": 9,
   "metadata": {},
   "outputs": [
    {
     "name": "stdout",
     "output_type": "stream",
     "text": [
      "Funktionsgleichung\n"
     ]
    },
    {
     "data": {
      "text/latex": [
       "$\\displaystyle - \\frac{a}{x^{3}} + 4 x^{2} + 1$"
      ],
      "text/plain": [
       "-a/x**3 + 4*x**2 + 1"
      ]
     },
     "execution_count": 9,
     "metadata": {},
     "output_type": "execute_result"
    }
   ],
   "source": [
    "a, x = sp.symbols('a,x')\n",
    "\n",
    "fx = 1 - a/x**3 +4*x**2 \n",
    "fx1 = sp.diff(fx, x)\n",
    "print('Funktionsgleichung')\n",
    "fx"
   ]
  },
  {
   "cell_type": "code",
   "execution_count": 10,
   "metadata": {},
   "outputs": [
    {
     "name": "stdout",
     "output_type": "stream",
     "text": [
      "Ableitung\n"
     ]
    },
    {
     "data": {
      "text/latex": [
       "$\\displaystyle \\frac{3 a}{x^{4}} + 8 x$"
      ],
      "text/plain": [
       "3*a/x**4 + 8*x"
      ]
     },
     "execution_count": 10,
     "metadata": {},
     "output_type": "execute_result"
    }
   ],
   "source": [
    "print('Ableitung')\n",
    "fx1"
   ]
  },
  {
   "cell_type": "code",
   "execution_count": null,
   "metadata": {},
   "outputs": [],
   "source": [
    "\n"
   ]
  }
 ],
 "metadata": {
  "kernelspec": {
   "display_name": "Python 3.10.6 ('py4NE')",
   "language": "python",
   "name": "python3"
  },
  "language_info": {
   "codemirror_mode": {
    "name": "ipython",
    "version": 3
   },
   "file_extension": ".py",
   "mimetype": "text/x-python",
   "name": "python",
   "nbconvert_exporter": "python",
   "pygments_lexer": "ipython3",
   "version": "3.10.6"
  },
  "orig_nbformat": 4,
  "vscode": {
   "interpreter": {
    "hash": "1b1ff0511d32430e846aaf0422e66e37dfbc6d6c97418a074aa4f56641304483"
   }
  }
 },
 "nbformat": 4,
 "nbformat_minor": 2
}
