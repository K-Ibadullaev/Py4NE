{
 "cells": [
  {
   "cell_type": "markdown",
   "metadata": {},
   "source": [
    "# Übung Symbolisches Rechnen\n",
    "\n",
    "## Tafelübung\n",
    "\n",
    "Newton-Verfahren mit Sympy"
   ]
  },
  {
   "cell_type": "code",
   "execution_count": 1,
   "metadata": {},
   "outputs": [],
   "source": [
    "import sympy as sp  # alias-import\n",
    "sp.init_printing(use_unicode=True)"
   ]
  },
  {
   "cell_type": "markdown",
   "metadata": {},
   "source": [
    "Gleichung $f(x)$ definieren"
   ]
  },
  {
   "cell_type": "code",
   "execution_count": 14,
   "metadata": {},
   "outputs": [
    {
     "data": {
      "image/png": "[encoded data removed]",
      "text/latex": [
       "$\\displaystyle - \\frac{a}{x^{3}} + 4 x^{2} + 1$"
      ],
      "text/plain": [
       "  a       2    \n",
       "- ── + 4⋅x  + 1\n",
       "   3           \n",
       "  x            "
      ]
     },
     "execution_count": 14,
     "metadata": {},
     "output_type": "execute_result"
    }
   ],
   "source": [
    "a, x = sp.symbols('a, x', real=True)\n",
    "fx = 1-a/x**3 + 4*x**2\n",
    "fx"
   ]
  },
  {
   "cell_type": "markdown",
   "metadata": {},
   "source": [
    "Ableitung $f'(x)$ berechnen"
   ]
  },
  {
   "cell_type": "code",
   "execution_count": 15,
   "metadata": {},
   "outputs": [
    {
     "data": {
      "image/png": "[encoded data removed]",
      "text/latex": [
       "$\\displaystyle \\frac{3 a}{x^{4}} + 8 x$"
      ],
      "text/plain": [
       "3⋅a      \n",
       "─── + 8⋅x\n",
       "  4      \n",
       " x       "
      ]
     },
     "execution_count": 15,
     "metadata": {},
     "output_type": "execute_result"
    }
   ],
   "source": [
    "fx1 = sp.diff(fx, x)\n",
    "fx1"
   ]
  },
  {
   "cell_type": "markdown",
   "metadata": {},
   "source": [
    "Wert für $a = 3$ substitieren"
   ]
  },
  {
   "cell_type": "code",
   "execution_count": 16,
   "metadata": {},
   "outputs": [],
   "source": [
    "a_val = 3.0\n",
    "\n",
    "# schlüssel-wert-paar als ersetzungs-'liste'\n",
    "params_dict = {a: a_val} # dict key: value\n",
    "# zugriff auf value über key und nicht wie bei liste über index\n",
    "fx_a = fx.subs(params_dict)\n",
    "fx1_a = fx1.subs(params_dict)"
   ]
  },
  {
   "cell_type": "code",
   "execution_count": 17,
   "metadata": {},
   "outputs": [
    {
     "data": {
      "image/png": "[encoded data removed]",
      "text/latex": [
       "$\\displaystyle 4 x^{2} + 1 - \\frac{3.0}{x^{3}}$"
      ],
      "text/plain": [
       "   2       3.0\n",
       "4⋅x  + 1 - ───\n",
       "             3\n",
       "            x "
      ]
     },
     "execution_count": 17,
     "metadata": {},
     "output_type": "execute_result"
    }
   ],
   "source": [
    "fx_a"
   ]
  },
  {
   "cell_type": "code",
   "execution_count": 18,
   "metadata": {},
   "outputs": [
    {
     "data": {
      "image/png": "[encoded data removed]",
      "text/latex": [
       "$\\displaystyle 8 x + \\frac{9.0}{x^{4}}$"
      ],
      "text/plain": [
       "      9.0\n",
       "8⋅x + ───\n",
       "        4\n",
       "       x "
      ]
     },
     "execution_count": 18,
     "metadata": {},
     "output_type": "execute_result"
    }
   ],
   "source": [
    "fx1_a"
   ]
  },
  {
   "cell_type": "markdown",
   "metadata": {},
   "source": [
    "Lambdify um aus Symbolfunktionen, aufrufbare Python-Funktionen zu machen"
   ]
  },
  {
   "cell_type": "code",
   "execution_count": 19,
   "metadata": {},
   "outputs": [],
   "source": [
    "fxfnc = sp.lambdify(x, fx_a, modules='numpy')\n",
    "fx1fnc = sp.lambdify(x, fx1_a, modules='numpy')"
   ]
  },
  {
   "cell_type": "code",
   "execution_count": 20,
   "metadata": {},
   "outputs": [],
   "source": [
    "def calcnewton(fx, fx1, x0, fehler=1e-6):\n",
    "    # hier: fx, fx1 lokale variablen der funktion calcnewton\n",
    "    # nicht die selben wie oben!\n",
    "    x1 = x0\n",
    "    x2 = x1 - fx(x1)/fx1(x1) # erste iteration\n",
    "    it = 1\n",
    "\n",
    "    while (abs(x2-x1)>=fehler):\n",
    "        x1 = x2\n",
    "        x2 = x1 - fx(x1)/fx1(x1) \n",
    "        it += 1\n",
    "    return (x2, it, abs(x2-x1))  # tupel"
   ]
  },
  {
   "cell_type": "code",
   "execution_count": 21,
   "metadata": {},
   "outputs": [
    {
     "name": "stdout",
     "output_type": "stream",
     "text": [
      "0.8940798793848858 5 7.632842136118256e-10\n"
     ]
    }
   ],
   "source": [
    "x, it, err = calcnewton(fxfnc, fx1fnc, a_val/2, 1e-8)\n",
    "print(x, it, err)"
   ]
  },
  {
   "cell_type": "code",
   "execution_count": 22,
   "metadata": {},
   "outputs": [
    {
     "name": "stdout",
     "output_type": "stream",
     "text": [
      "0.8940798793848858 6 1.4160888017755724e-09\n"
     ]
    }
   ],
   "source": [
    "x, it, err = calcnewton(fxfnc, fx1fnc, a_val, 1e-8)\n",
    "print(x, it, err)"
   ]
  },
  {
   "cell_type": "markdown",
   "metadata": {},
   "source": [
    "Vergleich mit sympy.solve"
   ]
  },
  {
   "cell_type": "code",
   "execution_count": 23,
   "metadata": {},
   "outputs": [
    {
     "name": "stdout",
     "output_type": "stream",
     "text": [
      "[0.894079879384886]\n"
     ]
    }
   ],
   "source": [
    "from sympy.solvers import solve\n",
    "print(solve(fx_a))"
   ]
  },
  {
   "cell_type": "code",
   "execution_count": null,
   "metadata": {},
   "outputs": [],
   "source": []
  }
 ],
 "metadata": {
  "kernelspec": {
   "display_name": "Python 3.7.7 64-bit ('base': conda)",
   "language": "python",
   "name": "python37764bitbaseconda5ce691490c1c40bca3c10ee20351a728"
  },
  "language_info": {
   "codemirror_mode": {
    "name": "ipython",
    "version": 3
   },
   "file_extension": ".py",
   "mimetype": "text/x-python",
   "name": "python",
   "nbconvert_exporter": "python",
   "pygments_lexer": "ipython3",
   "version": "3.7.9"
  }
 },
 "nbformat": 4,
 "nbformat_minor": 4
}
