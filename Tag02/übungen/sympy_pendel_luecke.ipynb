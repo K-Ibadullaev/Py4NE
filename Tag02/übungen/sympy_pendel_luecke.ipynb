{
 "cells": [
  {
   "cell_type": "markdown",
   "metadata": {},
   "source": [
    "# Übungsaufgabe math. Pendel\n",
    "\n",
    "## Grundlagen\n",
    "\n",
    "Erhaltungssatz für math. Pendel\n",
    "\n",
    "$$E_{pot} + E_{kin} = const.$$\n",
    "$$E_{pot} = m\\cdot g\\cdot l \\left( 1 - \\cos \\phi(t) \\right)$$\n",
    "$$E_{kin} = \\frac{1}{2} \\cdot m \\left(l \\cdot \\phi'(t)\\right)^2$$\n",
    "$$\\frac{d}{dt}E = 0$$\n",
    "\n",
    "## Implementierung"
   ]
  },
  {
   "cell_type": "code",
   "execution_count": 1,
   "metadata": {},
   "outputs": [],
   "source": [
    "import sympy as sp\n",
    "import numpy as np\n",
    "import matplotlib.pyplot as plt\n",
    "sp.init_printing(use_unicode=True)"
   ]
  },
  {
   "cell_type": "markdown",
   "metadata": {},
   "source": [
    "Symbole für $m$, $g$ und $l$ erstellen:"
   ]
  },
  {
   "cell_type": "code",
   "execution_count": 2,
   "metadata": {},
   "outputs": [],
   "source": [
    "m, g, le = "
   ]
  },
  {
   "cell_type": "markdown",
   "metadata": {},
   "source": [
    "Symbole für initiale Auslenkung $A$, Zeit $t$ erstellen:"
   ]
  },
  {
   "cell_type": "code",
   "execution_count": 3,
   "metadata": {},
   "outputs": [],
   "source": [
    "A = sp.Symbol('A', real=True)\n",
    "t = sp.Symbol('t', real=True, nonnegative=True)"
   ]
  },
  {
   "cell_type": "markdown",
   "metadata": {},
   "source": [
    "Funktion $\\phi(t)$ und Ableitung $\\phi'(t)$ erstellen:"
   ]
  },
  {
   "cell_type": "code",
   "execution_count": 4,
   "metadata": {},
   "outputs": [],
   "source": [
    "phi = \n",
    "phidt = "
   ]
  },
  {
   "cell_type": "markdown",
   "metadata": {},
   "source": [
    "Gleichungen für potentielle und kinetische Energien aufschreiben"
   ]
  },
  {
   "cell_type": "code",
   "execution_count": 10,
   "metadata": {},
   "outputs": [],
   "source": [
    "Ep =\n",
    "Ek = "
   ]
  },
  {
   "cell_type": "markdown",
   "metadata": {},
   "source": [
    "Lagrange-Funktion $L$ aufstellen\n",
    "$$L = E_{kin} - E_{pot}$$"
   ]
  },
  {
   "cell_type": "code",
   "execution_count": 11,
   "metadata": {},
   "outputs": [
    {
     "data": {
      "image/png": "[encoded data removed]",
      "text/latex": [
       "$\\displaystyle - g l m \\left(1 - \\cos{\\left(\\phi{\\left(t \\right)} \\right)}\\right) + 0.5 l^{2} m \\left(\\frac{d}{d t} \\phi{\\left(t \\right)}\\right)^{2}$"
      ],
      "text/plain": [
       "                                            2\n",
       "                              2   ⎛d       ⎞ \n",
       "-g⋅l⋅m⋅(1 - cos(φ(t))) + 0.5⋅l ⋅m⋅⎜──(φ(t))⎟ \n",
       "                                  ⎝dt      ⎠ "
      ]
     },
     "execution_count": 11,
     "metadata": {},
     "output_type": "execute_result"
    }
   ],
   "source": [
    "L = \n",
    "L"
   ]
  },
  {
   "cell_type": "markdown",
   "metadata": {},
   "source": [
    "Euler-Lagrange-Gleichung aufstellen\n",
    "$$\\frac{d}{dt}\\frac{\\partial L}{\\partial \\phi'(t)} - \\frac{\\partial L}{\\partial \\phi(t)} = 0$$"
   ]
  },
  {
   "cell_type": "code",
   "execution_count": 12,
   "metadata": {},
   "outputs": [
    {
     "data": {
      "image/png": "[encoded data removed]",
      "text/latex": [
       "$\\displaystyle g l m \\sin{\\left(\\phi{\\left(t \\right)} \\right)} + 1.0 l^{2} m \\frac{d^{2}}{d t^{2}} \\phi{\\left(t \\right)}$"
      ],
      "text/plain": [
       "                             2      \n",
       "                       2    d       \n",
       "g⋅l⋅m⋅sin(φ(t)) + 1.0⋅l ⋅m⋅───(φ(t))\n",
       "                             2      \n",
       "                           dt       "
      ]
     },
     "execution_count": 12,
     "metadata": {},
     "output_type": "execute_result"
    }
   ],
   "source": [
    "Eq =\n",
    "Eq"
   ]
  },
  {
   "cell_type": "markdown",
   "metadata": {},
   "source": [
    "Kleinwinkelnäherung einsetzen (substituieren) für Winkel $\\phi < 10°$\n",
    "$$\\sin\\phi(t) \\approx \\phi(t)$$"
   ]
  },
  {
   "cell_type": "code",
   "execution_count": 13,
   "metadata": {},
   "outputs": [
    {
     "data": {
      "image/png": "[encoded data removed]",
      "text/latex": [
       "$\\displaystyle g l m \\phi{\\left(t \\right)} + 1.0 l^{2} m \\frac{d^{2}}{d t^{2}} \\phi{\\left(t \\right)}$"
      ],
      "text/plain": [
       "                        2      \n",
       "                  2    d       \n",
       "g⋅l⋅m⋅φ(t) + 1.0⋅l ⋅m⋅───(φ(t))\n",
       "                        2      \n",
       "                      dt       "
      ]
     },
     "execution_count": 13,
     "metadata": {},
     "output_type": "execute_result"
    }
   ],
   "source": [
    "rew = \n",
    "Eq1 = \n",
    "Eq1"
   ]
  },
  {
   "cell_type": "markdown",
   "metadata": {},
   "source": [
    "Differenzialgleichung lösen"
   ]
  },
  {
   "cell_type": "code",
   "execution_count": 17,
   "metadata": {},
   "outputs": [
    {
     "data": {
      "image/png": "[encoded data removed]",
      "text/latex": [
       "$\\displaystyle \\phi{\\left(t \\right)} = C_{1} \\sin{\\left(\\frac{\\sqrt{g} t}{\\sqrt{l}} \\right)} + C_{2} \\cos{\\left(\\frac{\\sqrt{g} t}{\\sqrt{l}} \\right)}$"
      ],
      "text/plain": [
       "             ⎛√g⋅t⎞         ⎛√g⋅t⎞\n",
       "φ(t) = C₁⋅sin⎜────⎟ + C₂⋅cos⎜────⎟\n",
       "             ⎝ √l ⎠         ⎝ √l ⎠"
      ]
     },
     "execution_count": 17,
     "metadata": {},
     "output_type": "execute_result"
    }
   ],
   "source": [
    "sol = sp.dsolve(Eq1, phi(t))\n",
    "sol"
   ]
  },
  {
   "cell_type": "markdown",
   "metadata": {},
   "source": [
    "Abkürzungen einführen und vereinfachen:\n",
    "\n",
    "$$\\omega = \\sqrt{\\frac{g}{l}}$$"
   ]
  },
  {
   "cell_type": "code",
   "execution_count": 15,
   "metadata": {},
   "outputs": [],
   "source": [
    "om = sp.Symbol('omega', real=True)\n",
    "rew = {sp.sqrt(g/le): om}\n",
    "allg = sol.subs(rew).simplify()"
   ]
  },
  {
   "cell_type": "markdown",
   "metadata": {},
   "source": [
    "Die allgemeine Lösung lautet:"
   ]
  },
  {
   "cell_type": "code",
   "execution_count": 16,
   "metadata": {},
   "outputs": [
    {
     "data": {
      "image/png": "[encoded data removed]",
      "text/latex": [
       "$\\displaystyle \\phi{\\left(t \\right)} = C_{1} \\sin{\\left(\\omega t \\right)} + C_{2} \\cos{\\left(\\omega t \\right)}$"
      ],
      "text/plain": [
       "φ(t) = C₁⋅sin(ω⋅t) + C₂⋅cos(ω⋅t)"
      ]
     },
     "execution_count": 16,
     "metadata": {},
     "output_type": "execute_result"
    }
   ],
   "source": [
    "allg"
   ]
  },
  {
   "cell_type": "markdown",
   "metadata": {},
   "source": [
    "Rechte Seite der Gleichung (und Ableitung) als Variable anlegen:"
   ]
  },
  {
   "cell_type": "code",
   "execution_count": 18,
   "metadata": {},
   "outputs": [],
   "source": [
    "phit =\n",
    "phidt ="
   ]
  },
  {
   "cell_type": "markdown",
   "metadata": {},
   "source": [
    "Allgmeine Gleichung:"
   ]
  },
  {
   "cell_type": "code",
   "execution_count": 19,
   "metadata": {},
   "outputs": [
    {
     "data": {
      "image/png": "[encoded data removed]",
      "text/latex": [
       "$\\displaystyle C_{1} \\sin{\\left(\\omega t \\right)} + C_{2} \\cos{\\left(\\omega t \\right)}$"
      ],
      "text/plain": [
       "C₁⋅sin(ω⋅t) + C₂⋅cos(ω⋅t)"
      ]
     },
     "execution_count": 19,
     "metadata": {},
     "output_type": "execute_result"
    }
   ],
   "source": [
    "phit"
   ]
  },
  {
   "cell_type": "markdown",
   "metadata": {},
   "source": [
    "Allgemeine Ableitung:"
   ]
  },
  {
   "cell_type": "code",
   "execution_count": 20,
   "metadata": {},
   "outputs": [
    {
     "data": {
      "image/png": "[encoded data removed]",
      "text/latex": [
       "$\\displaystyle C_{1} \\omega \\cos{\\left(\\omega t \\right)} - C_{2} \\omega \\sin{\\left(\\omega t \\right)}$"
      ],
      "text/plain": [
       "C₁⋅ω⋅cos(ω⋅t) - C₂⋅ω⋅sin(ω⋅t)"
      ]
     },
     "execution_count": 20,
     "metadata": {},
     "output_type": "execute_result"
    }
   ],
   "source": [
    "phidt"
   ]
  },
  {
   "cell_type": "markdown",
   "metadata": {},
   "source": [
    "Symbole für Konstanten $C_1$ und $C_2$ zum ersetzen erzeugen:"
   ]
  },
  {
   "cell_type": "code",
   "execution_count": 21,
   "metadata": {},
   "outputs": [],
   "source": [
    "C1, C2 = sp.symbols('C1 C2')"
   ]
  },
  {
   "cell_type": "markdown",
   "metadata": {},
   "source": [
    "Rand- und Anfangsbedingungen einsetzen:\n",
    "$$\\phi(0) = A$$\n",
    "$$\\phi'(0) = 0$$"
   ]
  },
  {
   "cell_type": "markdown",
   "metadata": {},
   "source": [
    "Auflösen nach $C_1$ und $C_2$"
   ]
  },
  {
   "cell_type": "code",
   "execution_count": 26,
   "metadata": {},
   "outputs": [
    {
     "data": {
      "image/png": "[encoded data removed]",
      "text/latex": [
       "$\\displaystyle \\left\\{ C_{1} : 0, \\  C_{2} : A\\right\\}$"
      ],
      "text/plain": [
       "{C₁: 0, C₂: A}"
      ]
     },
     "execution_count": 26,
     "metadata": {},
     "output_type": "execute_result"
    }
   ],
   "source": [
    "sc = \n",
    "sc"
   ]
  },
  {
   "cell_type": "markdown",
   "metadata": {},
   "source": [
    "Einsetzen der berechneten Werte für $C_1$ und $C_2$"
   ]
  },
  {
   "cell_type": "code",
   "execution_count": 24,
   "metadata": {},
   "outputs": [],
   "source": [
    "sol = phit.subs(sc)\n",
    "final = sp.Eq(phi(t), sol)"
   ]
  },
  {
   "cell_type": "markdown",
   "metadata": {},
   "source": [
    "Spezielle Lösung lautet"
   ]
  },
  {
   "cell_type": "code",
   "execution_count": 25,
   "metadata": {},
   "outputs": [
    {
     "data": {
      "image/png": "[encoded data removed]",
      "text/latex": [
       "$\\displaystyle \\phi{\\left(t \\right)} = A \\cos{\\left(\\omega t \\right)}$"
      ],
      "text/plain": [
       "φ(t) = A⋅cos(ω⋅t)"
      ]
     },
     "execution_count": 25,
     "metadata": {},
     "output_type": "execute_result"
    }
   ],
   "source": [
    "final"
   ]
  },
  {
   "cell_type": "markdown",
   "metadata": {},
   "source": [
    "Numerische Gleichungen zum Plotten erzeugen"
   ]
  },
  {
   "cell_type": "code",
   "execution_count": 27,
   "metadata": {},
   "outputs": [],
   "source": [
    "phit_f = \n",
    "phidt_f = \n",
    "phiddt_f = "
   ]
  },
  {
   "cell_type": "code",
   "execution_count": 44,
   "metadata": {},
   "outputs": [],
   "source": [
    "def plotsim(phitf, phidtf, phiddtf, f=1.0, A=1.0, tend=2.0):\n",
    "    fig, (ax1, ax2, ax3) = plt.subplots(1, 3, figsize=(16, 4))\n",
    "    tvec = np.linspace(0, tend, 100)\n",
    "    w = 2*np.pi*f\n",
    "\n",
    "    ax1.plot(tvec, phitf(A, w, tvec), label=r'$\\phi(t)$')\n",
    "    ax2.plot(tvec, phidtf(A, w, tvec), label=r'$\\frac{d}{dt}\\phi(t)$')\n",
    "    ax3.plot(tvec, phiddtf(A, w, tvec), label=r'$\\frac{d^2}{dt^2}\\phi(t)$')\n",
    "\n",
    "    ax1.set_xlabel('Time in $s$')\n",
    "    ax2.set_xlabel('Time in $s$')\n",
    "    ax3.set_xlabel('Time in $s$')\n",
    "    \n",
    "    ax1.set_ylabel(r'$\\phi(t)$')\n",
    "    ax2.set_ylabel(r'$\\frac{d}{dt}\\phi(t)$')\n",
    "    ax3.set_ylabel(r'$\\frac{d^2}{dt^2}\\phi(t)$')\n",
    "    fig.tight_layout()"
   ]
  },
  {
   "cell_type": "code",
   "execution_count": 45,
   "metadata": {},
   "outputs": [
    {
     "data": {
      "image/png": "[encoded data removed]",
      "text/plain": [
       "<Figure size 1152x288 with 3 Axes>"
      ]
     },
     "metadata": {
      "needs_background": "light"
     },
     "output_type": "display_data"
    }
   ],
   "source": [
    "plotsim(phit_f, phidt_f, phiddt_f, 1.0, 1.5, 1.0);"
   ]
  },
  {
   "cell_type": "code",
   "execution_count": null,
   "metadata": {},
   "outputs": [],
   "source": []
  }
 ],
 "metadata": {
  "kernelspec": {
   "display_name": "Python 3 (ipykernel)",
   "language": "python",
   "name": "python3"
  },
  "language_info": {
   "codemirror_mode": {
    "name": "ipython",
    "version": 3
   },
   "file_extension": ".py",
   "mimetype": "text/x-python",
   "name": "python",
   "nbconvert_exporter": "python",
   "pygments_lexer": "ipython3",
   "version": "3.7.11"
  }
 },
 "nbformat": 4,
 "nbformat_minor": 4
}
