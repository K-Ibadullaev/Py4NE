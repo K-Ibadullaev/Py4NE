{
 "cells": [
  {
   "cell_type": "markdown",
   "metadata": {},
   "source": [
    "# Übungen\n",
    "\n",
    "## Übung 1\n",
    "\n",
    "Einfache Ein- und Ausgabe"
   ]
  },
  {
   "cell_type": "code",
   "execution_count": 7,
   "metadata": {},
   "outputs": [
    {
     "name": "stdout",
     "output_type": "stream",
     "text": [
      "Das ist ein einfaches Skript!\n",
      "Es wird vom Compiler übersetzt\n",
      "\n",
      "Und vom Interpreter ausgeführt.\n",
      "\n"
     ]
    }
   ],
   "source": [
    "print('Das ist ein einfaches Skript!\\nEs wird vom Compiler übersetzt\\n')\n",
    "print(\"Und vom Interpreter ausgeführt.\\n\")"
   ]
  },
  {
   "cell_type": "markdown",
   "metadata": {},
   "source": [
    "Variable anlegen und Wert zuweisen"
   ]
  },
  {
   "cell_type": "code",
   "execution_count": 8,
   "metadata": {},
   "outputs": [
    {
     "name": "stdout",
     "output_type": "stream",
     "text": [
      "Typ der variaben zahl1 <class 'int'>\n"
     ]
    }
   ],
   "source": [
    "zahl1 = 10\n",
    "print('Typ der variaben zahl1', type(zahl1))"
   ]
  },
  {
   "cell_type": "markdown",
   "metadata": {},
   "source": [
    "weitere Variable anlegen"
   ]
  },
  {
   "cell_type": "code",
   "execution_count": 9,
   "metadata": {},
   "outputs": [],
   "source": [
    "zahl2 = 3"
   ]
  },
  {
   "cell_type": "markdown",
   "metadata": {},
   "source": [
    "äquivalent dazu: Listeninitialisierung"
   ]
  },
  {
   "cell_type": "code",
   "execution_count": 10,
   "metadata": {},
   "outputs": [
    {
     "name": "stdout",
     "output_type": "stream",
     "text": [
      "Typ der variaben zahl2 <class 'int'>\n"
     ]
    }
   ],
   "source": [
    "zahl1, zahl2 = 10, 3\n",
    "print('Typ der variaben zahl2', type(zahl2))"
   ]
  },
  {
   "cell_type": "markdown",
   "metadata": {},
   "source": [
    "Division in Python3 abhängig vom Datentyp:\n",
    "\n",
    "* int / int = int, wenn Rest 0\n",
    "* int / int = float, sonst\n",
    "* float / int = float\n",
    "* usw.\n",
    "\n",
    "Python2: int / int = int"
   ]
  },
  {
   "cell_type": "code",
   "execution_count": 11,
   "metadata": {},
   "outputs": [
    {
     "name": "stdout",
     "output_type": "stream",
     "text": [
      "10 / 3 = 3.3333333333333335\n"
     ]
    }
   ],
   "source": [
    "erg = zahl1 / zahl2\n",
    "print(zahl1, '/', zahl2, '=', erg)"
   ]
  },
  {
   "cell_type": "markdown",
   "metadata": {},
   "source": [
    "Erzwinge Ganzzahldivision"
   ]
  },
  {
   "cell_type": "code",
   "execution_count": 12,
   "metadata": {},
   "outputs": [
    {
     "name": "stdout",
     "output_type": "stream",
     "text": [
      "10 / 3 = 3\n"
     ]
    }
   ],
   "source": [
    "erg1 = zahl1 // zahl2\n",
    "print(zahl1, '/', zahl2, '=', erg1)"
   ]
  },
  {
   "cell_type": "markdown",
   "metadata": {},
   "source": [
    "Formatierte Ausgabe in C-Syntax\n",
    "siehe auch: [http://www.cplusplus.com/reference/cstdio/printf/](http://www.cplusplus.com/reference/cstdio/printf/)"
   ]
  },
  {
   "cell_type": "code",
   "execution_count": 14,
   "metadata": {},
   "outputs": [
    {
     "name": "stdout",
     "output_type": "stream",
     "text": [
      "10 / 3 = 3.333\n"
     ]
    }
   ],
   "source": [
    "print('%d / %d = %.3f' % (zahl1, zahl2, erg))\n",
    "# %d --> int\n",
    "# %f --> float\n",
    "# %e --> exponentenschreibweise"
   ]
  },
  {
   "cell_type": "markdown",
   "metadata": {},
   "source": [
    "Python-eigene Formatierung:"
   ]
  },
  {
   "cell_type": "code",
   "execution_count": 13,
   "metadata": {},
   "outputs": [
    {
     "name": "stdout",
     "output_type": "stream",
     "text": [
      "10 / 3 = 3.3333333333333335\n"
     ]
    }
   ],
   "source": [
    "print('{0} / {1} = {2}'.format(zahl1, zahl2, erg))"
   ]
  },
  {
   "cell_type": "markdown",
   "metadata": {},
   "source": [
    "## Übung 2\n",
    "\n",
    "Variablenzuweisung und automatische Typinferenz und Kontrollstrukturen"
   ]
  },
  {
   "cell_type": "code",
   "execution_count": 15,
   "metadata": {},
   "outputs": [],
   "source": [
    "z1, z2 = 100, 32  # z1 & z2 int\n",
    "\n",
    "z1 -= 32  # z1 int\n",
    "z2 += 54  # z2 int"
   ]
  },
  {
   "cell_type": "markdown",
   "metadata": {},
   "source": [
    "Implizite Typkonvertierung"
   ]
  },
  {
   "cell_type": "code",
   "execution_count": 18,
   "metadata": {},
   "outputs": [],
   "source": [
    "z1 /= 3.0  # z1 float\n",
    "z2 *= 0.3  # z2 float"
   ]
  },
  {
   "cell_type": "markdown",
   "metadata": {},
   "source": [
    "Kontrollstrukturen"
   ]
  },
  {
   "cell_type": "code",
   "execution_count": 19,
   "metadata": {},
   "outputs": [
    {
     "name": "stdout",
     "output_type": "stream",
     "text": [
      "7.555555555555556 <= 7.74\n"
     ]
    }
   ],
   "source": [
    "if z1 > z2:\n",
    "    print(z1, '>', z2)\n",
    "else:\n",
    "    print(z1, '<=', z2)"
   ]
  },
  {
   "cell_type": "markdown",
   "metadata": {},
   "source": [
    "Die gleiche Ausgabe mit Negation"
   ]
  },
  {
   "cell_type": "code",
   "execution_count": 20,
   "metadata": {},
   "outputs": [
    {
     "name": "stdout",
     "output_type": "stream",
     "text": [
      "7.555555555555556 <= 7.74\n"
     ]
    }
   ],
   "source": [
    "if not (z1 > z2):\n",
    "    print(z1, '<=', z2)\n",
    "else:\n",
    "    print(z1, '>', z2)"
   ]
  },
  {
   "cell_type": "markdown",
   "metadata": {},
   "source": [
    "Vergleichsoperatoren:\n",
    "\n",
    "* \\>, <, >= , <=, ==, != --> Zahlenvergleich\n",
    "* is, in --> Referenzvergleich, etc.\n",
    "* not, or, and --> boolsche Ausdrücke\n",
    "\n",
    "Nicht zu verwechseln mit:\n",
    "\n",
    "&, |, ~, <<, >> --> binäre Operatoren"
   ]
  },
  {
   "cell_type": "code",
   "execution_count": 21,
   "metadata": {},
   "outputs": [
    {
     "name": "stdout",
     "output_type": "stream",
     "text": [
      "Das war ein komplizierter Ausdruck!\n"
     ]
    }
   ],
   "source": [
    "x = False  # bool\n",
    "y = True  # bool\n",
    "z = True  # bool\n",
    "# siehe auch https://de.wikipedia.org/wiki/Boolesche_Algebra\n",
    "if x and y or ((y and z) and not x):\n",
    "    print('Das war ein komplizierter Ausdruck!')"
   ]
  },
  {
   "cell_type": "code",
   "execution_count": 27,
   "metadata": {},
   "outputs": [
    {
     "name": "stdout",
     "output_type": "stream",
     "text": [
      "1\n",
      "7\n",
      "-6\n",
      "16\n",
      "4\n"
     ]
    }
   ],
   "source": [
    "print(5 & 3)\n",
    "print(5 | 3)\n",
    "print(~5)\n",
    "print(2 << 3)\n",
    "print(16 >> 2)"
   ]
  },
  {
   "cell_type": "markdown",
   "metadata": {},
   "source": [
    "## Übung 3\n",
    "\n",
    "Komlexe Datentypen\n",
    "\n",
    "list --> integrierter Datentyp, Initialisierung mit \\[\\] oder list()"
   ]
  },
  {
   "cell_type": "code",
   "execution_count": 28,
   "metadata": {},
   "outputs": [],
   "source": [
    "liste1 = [1,2,3,4,5,6,7,8,9,10]"
   ]
  },
  {
   "cell_type": "markdown",
   "metadata": {},
   "source": [
    "Durchlaufen aller Elemente eines Iterable"
   ]
  },
  {
   "cell_type": "code",
   "execution_count": 29,
   "metadata": {},
   "outputs": [
    {
     "name": "stdout",
     "output_type": "stream",
     "text": [
      "1\n",
      "2\n",
      "3\n",
      "4\n",
      "5\n",
      "6\n",
      "7\n",
      "8\n",
      "9\n",
      "10\n"
     ]
    }
   ],
   "source": [
    "for elem in liste1:\n",
    "    print(elem)"
   ]
  },
  {
   "cell_type": "markdown",
   "metadata": {},
   "source": [
    "natürlich geht auch print"
   ]
  },
  {
   "cell_type": "code",
   "execution_count": 30,
   "metadata": {},
   "outputs": [
    {
     "name": "stdout",
     "output_type": "stream",
     "text": [
      "[1, 2, 3, 4, 5, 6, 7, 8, 9, 10]\n"
     ]
    }
   ],
   "source": [
    "print(liste1)"
   ]
  },
  {
   "cell_type": "markdown",
   "metadata": {},
   "source": [
    "Arrays slicen --> Matlab-like\n",
    "\n",
    "list\\[index_anfang:index_ende+1\\]"
   ]
  },
  {
   "cell_type": "code",
   "execution_count": 31,
   "metadata": {},
   "outputs": [
    {
     "name": "stdout",
     "output_type": "stream",
     "text": [
      "[1, 2, 3]\n"
     ]
    }
   ],
   "source": [
    "print(liste1[0:3])"
   ]
  },
  {
   "cell_type": "code",
   "execution_count": 32,
   "metadata": {},
   "outputs": [
    {
     "name": "stdout",
     "output_type": "stream",
     "text": [
      "[10, 9, 8, 7, 6, 5, 4, 3, 2, 1]\n"
     ]
    }
   ],
   "source": [
    "print(liste1[::-1])"
   ]
  },
  {
   "cell_type": "code",
   "execution_count": 33,
   "metadata": {},
   "outputs": [
    {
     "name": "stdout",
     "output_type": "stream",
     "text": [
      "10\n"
     ]
    }
   ],
   "source": [
    "print(liste1[-1])"
   ]
  },
  {
   "cell_type": "code",
   "execution_count": 34,
   "metadata": {},
   "outputs": [
    {
     "name": "stdout",
     "output_type": "stream",
     "text": [
      "[10, 9]\n"
     ]
    }
   ],
   "source": [
    "print(liste1[:-3:-1])"
   ]
  },
  {
   "cell_type": "markdown",
   "metadata": {},
   "source": [
    "Iterables durchlaufen"
   ]
  },
  {
   "cell_type": "code",
   "execution_count": 35,
   "metadata": {},
   "outputs": [
    {
     "name": "stdout",
     "output_type": "stream",
     "text": [
      "IDX 0 : 1\n",
      "IDX 1 : 2\n",
      "IDX 2 : 3\n",
      "IDX 3 : 4\n",
      "IDX 4 : 5\n",
      "IDX 5 : 6\n",
      "IDX 6 : 7\n",
      "IDX 7 : 8\n",
      "IDX 8 : 9\n",
      "IDX 9 : 10\n"
     ]
    }
   ],
   "source": [
    "for i in range(len(liste1)):\n",
    "    print('IDX', i, ':', liste1[i])"
   ]
  },
  {
   "cell_type": "code",
   "execution_count": 36,
   "metadata": {},
   "outputs": [
    {
     "name": "stdout",
     "output_type": "stream",
     "text": [
      "IDX 0 : 1\n",
      "IDX 1 : 2\n",
      "IDX 2 : 3\n",
      "IDX 3 : 4\n",
      "IDX 4 : 5\n",
      "IDX 5 : 6\n",
      "IDX 6 : 7\n",
      "IDX 7 : 8\n",
      "IDX 8 : 9\n",
      "IDX 9 : 10\n"
     ]
    }
   ],
   "source": [
    "for i, elem in zip(range(len(liste1)), liste1):\n",
    "    print('IDX', i, ':', elem)"
   ]
  },
  {
   "cell_type": "code",
   "execution_count": 37,
   "metadata": {},
   "outputs": [
    {
     "name": "stdout",
     "output_type": "stream",
     "text": [
      "IDX 0 : 1\n",
      "IDX 1 : 2\n",
      "IDX 2 : 3\n",
      "IDX 3 : 4\n",
      "IDX 4 : 5\n",
      "IDX 5 : 6\n",
      "IDX 6 : 7\n",
      "IDX 7 : 8\n",
      "IDX 8 : 9\n",
      "IDX 9 : 10\n"
     ]
    }
   ],
   "source": [
    "for i, elem in enumerate(liste1):\n",
    "    print('IDX', i, ':', elem)"
   ]
  },
  {
   "cell_type": "code",
   "execution_count": 38,
   "metadata": {},
   "outputs": [
    {
     "name": "stdout",
     "output_type": "stream",
     "text": [
      "0^2 = 0\n",
      "2^2 = 4\n",
      "4^2 = 16\n",
      "6^2 = 36\n",
      "8^2 = 64\n",
      "10^2 = 100\n",
      "12^2 = 144\n",
      "14^2 = 196\n",
      "16^2 = 256\n",
      "18^2 = 324\n",
      "20^2 = 400\n",
      "22^2 = 484\n",
      "24^2 = 576\n",
      "26^2 = 676\n",
      "28^2 = 784\n",
      "30^2 = 900\n",
      "32^2 = 1024\n",
      "34^2 = 1156\n",
      "36^2 = 1296\n",
      "38^2 = 1444\n",
      "40^2 = 1600\n",
      "42^2 = 1764\n",
      "44^2 = 1936\n",
      "46^2 = 2116\n",
      "48^2 = 2304\n",
      "50^2 = 2500\n",
      "52^2 = 2704\n",
      "54^2 = 2916\n",
      "56^2 = 3136\n",
      "58^2 = 3364\n",
      "60^2 = 3600\n",
      "62^2 = 3844\n",
      "64^2 = 4096\n",
      "66^2 = 4356\n",
      "68^2 = 4624\n",
      "70^2 = 4900\n",
      "72^2 = 5184\n",
      "74^2 = 5476\n",
      "76^2 = 5776\n",
      "78^2 = 6084\n",
      "80^2 = 6400\n",
      "82^2 = 6724\n",
      "84^2 = 7056\n",
      "86^2 = 7396\n",
      "88^2 = 7744\n",
      "90^2 = 8100\n",
      "92^2 = 8464\n",
      "94^2 = 8836\n",
      "96^2 = 9216\n",
      "98^2 = 9604\n",
      "100^2 = 10000\n"
     ]
    }
   ],
   "source": [
    "for i in range(0, 102, 2):\n",
    "    print('%d^2 = %d' % (i, i**2))"
   ]
  },
  {
   "cell_type": "markdown",
   "metadata": {},
   "source": [
    "## Übung 4\n",
    "\n",
    "Schleifen\n",
    "\n"
   ]
  },
  {
   "cell_type": "code",
   "execution_count": 40,
   "metadata": {},
   "outputs": [
    {
     "name": "stdout",
     "output_type": "stream",
     "text": [
      "for-schleife\n",
      "0\n",
      "2\n",
      "4\n",
      "6\n",
      "8\n",
      "10\n",
      "12\n",
      "14\n",
      "16\n",
      "18\n",
      "20\n",
      "22\n",
      "24\n",
      "26\n",
      "28\n",
      "30\n"
     ]
    }
   ],
   "source": [
    "print('for-schleife')\n",
    "for i in range(0, 32, 2):\n",
    "    print(i)"
   ]
  },
  {
   "cell_type": "markdown",
   "metadata": {},
   "source": [
    "äquivalent zu"
   ]
  },
  {
   "cell_type": "code",
   "execution_count": 41,
   "metadata": {},
   "outputs": [
    {
     "name": "stdout",
     "output_type": "stream",
     "text": [
      "while-schleife\n",
      "0\n",
      "2\n",
      "4\n",
      "6\n",
      "8\n",
      "10\n",
      "12\n",
      "14\n",
      "16\n",
      "18\n",
      "20\n",
      "22\n",
      "24\n",
      "26\n",
      "28\n",
      "30\n"
     ]
    }
   ],
   "source": [
    "print('while-schleife')\n",
    "val = 0 # wertinitialisierung nicht vergessen\n",
    "while (val <= 30):\n",
    "    print(val)\n",
    "    val += 2 # increment muss in der while-schleife stehen, sonst endlosschleife"
   ]
  },
  {
   "cell_type": "markdown",
   "metadata": {},
   "source": [
    "## Übung 5\n",
    "\n",
    "While-Schleife als Endlosschleife"
   ]
  },
  {
   "cell_type": "code",
   "execution_count": 42,
   "metadata": {},
   "outputs": [
    {
     "name": "stdout",
     "output_type": "stream",
     "text": [
      "Benutzermenü:\n",
      "1 - Eingabe\n",
      "0 - Beenden\n"
     ]
    },
    {
     "name": "stdin",
     "output_type": "stream",
     "text": [
      "Ihre Wahl:  1\n"
     ]
    },
    {
     "name": "stdout",
     "output_type": "stream",
     "text": [
      "Dateneingabe!!!!!!!!\n",
      "Benutzermenü:\n",
      "1 - Eingabe\n",
      "0 - Beenden\n"
     ]
    },
    {
     "name": "stdin",
     "output_type": "stream",
     "text": [
      "Ihre Wahl:  0\n"
     ]
    },
    {
     "name": "stdout",
     "output_type": "stream",
     "text": [
      "Program wird beendet\n"
     ]
    }
   ],
   "source": [
    "# while-schleife als benutzermenü\n",
    "# anders als auf der Folie geschrieben input --> gibt immer str zurück\n",
    "# konvertierung in int notwendig!\n",
    "auswahl = 10\n",
    "while (auswahl != 0):\n",
    "    print('Benutzermenü:')\n",
    "    print('1 - Eingabe')\n",
    "    print('0 - Beenden')\n",
    "    \n",
    "    auswahl = int(input('Ihre Wahl: '))  # konvertiere eingabe von string zu int\n",
    "    \n",
    "    if auswahl == 1:\n",
    "        print('Dateneingabe!!!!!!!!')\n",
    "    elif auswahl == 0:\n",
    "        print('Program wird beendet')\n",
    "        break # unnötig --> aber schleife wird hier explizit beendet\n",
    "        # würde aber auch durch die bedingung der While-schleife beendet\n",
    "    else: # eigentlich auch unnötig, nur eben noch einmal explizit hingeschrieben\n",
    "        pass  # leerer anweisungsblock"
   ]
  },
  {
   "cell_type": "markdown",
   "metadata": {},
   "source": [
    "## Übung 6\n",
    "\n",
    "Funktionen schreiben\n",
    "\n",
    "Funktion mit einem Parameter ohne Rückgabe eines Wertes\n",
    "\n",
    "implizit wird NoneType zurückgeliefert\n",
    "\n",
    "**Newton-Verfahren auf eine beliebige Funktion $f(x)$**\n",
    "\n",
    "siehe auch: [https://de.wikipedia.org/wiki/Newton-Verfahren](https://de.wikipedia.org/wiki/Newton-Verfahren)\n",
    "\n",
    "$$f(x) = 1 - \\frac{a}{x^2}$$\n",
    "\n",
    "Ableitung der Funktion:\n",
    "\n",
    "$$f'(x) = \\frac{2a}{x^3}$$\n",
    "\n",
    "sei $a > 0$, dann ist die Iterationsvorschrift definiert durch:\n",
    "\n",
    "$$x_{n+1} = x_n - \\frac{(1-a/x_n^2)}{(2a/x^3)}$$\n",
    "\n",
    "mit: $x_n$: Wert aus vorherigen Iterationsschritt\n",
    "\n",
    "$x_{n+1}$: zu berechnender Wert zum derzeitigen Interationsschritt\n",
    "\n",
    "$a$: Funktionsparameter"
   ]
  },
  {
   "cell_type": "code",
   "execution_count": 43,
   "metadata": {},
   "outputs": [],
   "source": [
    "def newton1(a):\n",
    "    fehler = 1e-6\n",
    "\n",
    "    x1 = (1+a)/9.0\n",
    "    x2 = x1 - (1-a/x1**2)/(2*a/x1**3) # erste iteration\n",
    "    it = 1\n",
    "    print('It %d - %.6f (Fehler: %.9f)' % (it, x2, abs(x2-x1)))\n",
    "    \n",
    "    while (abs(x2-x1)>=fehler):\n",
    "        x1 = x2\n",
    "        x2 = x1 - (1-a/x1**2)/(2*a/x1**3)\n",
    "        it += 1\n",
    "        print('It %d - %.6f (Fehler: %.9f)' % (it, x2, abs(x2-x1)))\n",
    "    print('+-', a**0.5)"
   ]
  },
  {
   "cell_type": "code",
   "execution_count": 44,
   "metadata": {},
   "outputs": [
    {
     "name": "stdout",
     "output_type": "stream",
     "text": [
      "It 1 - 0.811900 (Fehler: 0.256344307)\n",
      "It 2 - 1.150951 (Fehler: 0.339051272)\n",
      "It 3 - 1.535845 (Fehler: 0.384894099)\n",
      "It 4 - 1.850920 (Fehler: 0.315074699)\n",
      "It 5 - 1.983746 (Fehler: 0.132825579)\n",
      "It 6 - 1.999802 (Fehler: 0.016056870)\n",
      "It 7 - 2.000000 (Fehler: 0.000197590)\n",
      "It 8 - 2.000000 (Fehler: 0.000000029)\n",
      "+- 2.0\n"
     ]
    }
   ],
   "source": [
    "a = 4.0\n",
    "fehler = 1e-9\n",
    "newton1(a)"
   ]
  },
  {
   "cell_type": "markdown",
   "metadata": {},
   "source": [
    "Funktion mit zwei Parametern a und fehler, ebenfalls ohne Rückgabewert"
   ]
  },
  {
   "cell_type": "code",
   "execution_count": 45,
   "metadata": {},
   "outputs": [],
   "source": [
    "def newton2(a, fehler):\n",
    "    x1 = (1+a)/9.0\n",
    "    x2 = x1 - (1-a/x1**2)/(2*a/x1**3) # erste iteration\n",
    "    it = 1\n",
    "    print('It %d - %.6f (Fehler: %.9f)' % (it, x2, abs(x2-x1)))\n",
    "    \n",
    "    while (abs(x2-x1)>=fehler):\n",
    "        x1 = x2\n",
    "        x2 = x1 - (1-a/x1**2)/(2*a/x1**3)\n",
    "        it += 1\n",
    "        print('It %d - %.6f (Fehler: %.9f)' % (it, x2, abs(x2-x1)))\n",
    "    print('+-', a**0.5)"
   ]
  },
  {
   "cell_type": "code",
   "execution_count": 46,
   "metadata": {},
   "outputs": [
    {
     "name": "stdout",
     "output_type": "stream",
     "text": [
      "It 1 - 0.811900 (Fehler: 0.256344307)\n",
      "It 2 - 1.150951 (Fehler: 0.339051272)\n",
      "It 3 - 1.535845 (Fehler: 0.384894099)\n",
      "It 4 - 1.850920 (Fehler: 0.315074699)\n",
      "It 5 - 1.983746 (Fehler: 0.132825579)\n",
      "It 6 - 1.999802 (Fehler: 0.016056870)\n",
      "It 7 - 2.000000 (Fehler: 0.000197590)\n",
      "It 8 - 2.000000 (Fehler: 0.000000029)\n",
      "It 9 - 2.000000 (Fehler: 0.000000000)\n",
      "+- 2.0\n"
     ]
    }
   ],
   "source": [
    "newton2(a, fehler)"
   ]
  },
  {
   "cell_type": "markdown",
   "metadata": {},
   "source": [
    "Wie newton2, nur mit Rückgabe eines floats"
   ]
  },
  {
   "cell_type": "code",
   "execution_count": 47,
   "metadata": {},
   "outputs": [],
   "source": [
    "def newton3(a, fehler):\n",
    "    x1 = (1+a)/9.0\n",
    "    x2 = x1 - (1-a/x1**2)/(2*a/x1**3) # erste iteration\n",
    "    it = 1\n",
    "    \n",
    "    while (abs(x2-x1)>=fehler):\n",
    "        x1 = x2\n",
    "        x2 = x1 - (1-a/x1**2)/(2*a/x1**3)\n",
    "        it += 1\n",
    "    return x2"
   ]
  },
  {
   "cell_type": "code",
   "execution_count": 48,
   "metadata": {},
   "outputs": [
    {
     "name": "stdout",
     "output_type": "stream",
     "text": [
      "2.0\n"
     ]
    }
   ],
   "source": [
    "xn = newton3(a, fehler)\n",
    "print(xn)"
   ]
  },
  {
   "cell_type": "markdown",
   "metadata": {},
   "source": [
    "wie oben nur dieses Mal Rückgabe eines Tuples mit 3 Werten"
   ]
  },
  {
   "cell_type": "code",
   "execution_count": 49,
   "metadata": {},
   "outputs": [],
   "source": [
    "def newton4(a, fehler):\n",
    "    x1 = (1+a)/9.0\n",
    "    x2 = x1 - (1-a/x1**2)/(2*a/x1**3) # erste iteration\n",
    "    it = 1\n",
    "    \n",
    "    while (abs(x2-x1)>=fehler):\n",
    "        x1 = x2\n",
    "        x2 = x1 - (1-a/x1**2)/(2*a/x1**3)\n",
    "        it += 1\n",
    "    return (x2, it, abs(x2-x1))  # tupel\n",
    "    # return [x2, it, abs(x2-x1)]  # liste"
   ]
  },
  {
   "cell_type": "code",
   "execution_count": null,
   "metadata": {},
   "outputs": [],
   "source": [
    "x, i, e = newton4(a, fehler)\n",
    "x1, it, _ = newton4(a, fehler) # _ ist Platzhalter, wenn eine Variable zwar übergeben, aber nicht benötigt wird"
   ]
  },
  {
   "cell_type": "markdown",
   "metadata": {},
   "source": [
    "## Übung 7\n",
    "\n",
    "Modularisierung"
   ]
  },
  {
   "cell_type": "code",
   "execution_count": 52,
   "metadata": {},
   "outputs": [],
   "source": [
    "import newton # pure import\n",
    "from newton import calcnewton # benannter import der calcnewton-funktion aus modul newton\n",
    "import newton as nw # import über alias\n",
    "# from newton import * (bitte NIE so!) --> namespace-pollution sehr wahrscheinlich\n",
    "\n",
    "# aufruf über modulname.funktion\n",
    "x, i, _ = newton.calcnewton(5.0)\n",
    "\n",
    "# aufruf über benannten import\n",
    "x, i, _ = calcnewton(5.0)\n",
    "\n",
    "# aufruf der funktion über alias import\n",
    "x, i, _ = nw.calcnewton(5.0)"
   ]
  },
  {
   "cell_type": "code",
   "execution_count": null,
   "metadata": {},
   "outputs": [],
   "source": []
  }
 ],
 "metadata": {
  "kernelspec": {
   "display_name": "Python 3.7.7 64-bit ('base': conda)",
   "language": "python",
   "name": "python37764bitbaseconda5ce691490c1c40bca3c10ee20351a728"
  },
  "language_info": {
   "codemirror_mode": {
    "name": "ipython",
    "version": 3
   },
   "file_extension": ".py",
   "mimetype": "text/x-python",
   "name": "python",
   "nbconvert_exporter": "python",
   "pygments_lexer": "ipython3",
   "version": "3.7.9"
  }
 },
 "nbformat": 4,
 "nbformat_minor": 4
}
