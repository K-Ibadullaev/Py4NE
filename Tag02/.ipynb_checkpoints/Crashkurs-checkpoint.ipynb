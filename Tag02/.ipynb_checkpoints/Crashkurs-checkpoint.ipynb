{
 "cells": [
  {
   "cell_type": "markdown",
   "metadata": {
    "slideshow": {
     "slide_type": "slide"
    }
   },
   "source": [
    "# Crashkurs I und II\n",
    "\n",
    "M. Sc. Roy Morgenstern\n",
    "\n",
    "Institut für Geotechnik\n",
    "\n",
    "TU Bergakademie Freiberg\n",
    "\n",
    "\n",
    "<!-- ![logo_feme](logo_feme.png) -->\n",
    "<img src=\"./images/Logo_FM_neu.png\" alt=\"Logo FEME\" width=\"200\">"
   ]
  },
  {
   "cell_type": "markdown",
   "metadata": {
    "slideshow": {
     "slide_type": "slide"
    }
   },
   "source": [
    "## A brief history of Python\n",
    "\n",
    "Die Anfänge:\n",
    "\n",
    "* ursprünglich entwickelt von Guido van Rossum\n",
    "* erschienen 1991\n",
    "* Python 2.x ab Ende 2000\n",
    "* **Python 3.x seit Ende 2008**\n",
    "* aktuelle Version: Python 3.8.5 vom 20.07.2020\n",
    "\n",
    "Ein Wort zu Python 2:\n",
    "\n",
    "***Python 2.7.x wird nur noch bis Ende 2019 unterstützt → alle großen/wichtige Bibliotheken sind aber mittlerweile bereits portiert! [Weitere Informationen](https://legacy.python.org/dev/peps/pep-0373/)***"
   ]
  },
  {
   "cell_type": "markdown",
   "metadata": {
    "slideshow": {
     "slide_type": "subslide"
    }
   },
   "source": [
    "## TIOBE-Index\n",
    "\n",
    "[TIOBE - Index](https://tiobe.com/tiobe-index/) (Stand Juni 2021)\n",
    "\n",
    "<!-- ![tiobe](tiobe.png) -->\n",
    "<img src=\"./images/tiobe_index_06_2021.jpg\" alt=\"Tiobe Index 2021\" width=\"600\">"
   ]
  },
  {
   "cell_type": "markdown",
   "metadata": {
    "slideshow": {
     "slide_type": "slide"
    }
   },
   "source": [
    "## Anaconda - Was ist das?\n",
    "\n",
    "Anaconda ist:\n",
    "\n",
    "* Eine Python-Distribution\n",
    "* speziell für wissenschaftliche Aufgabenstellungen und zur Datenanalyse und Datenaufbereitung\n",
    "* Enthält alle benötigten Pakete zum wissenschaftlichen Arbeiten mit Python\n",
    "* (**Portabel**: Muss installiert werden, aber benötigt keine Administrator-Rechte für die Installation)\n",
    "\n",
    "<!-- ![anaconda_logo](AnacondaLogo.png) -->\n",
    "<img src=\"./images/cropped-Anaconda_horizontal_RGB-1-600x102.png\" alt=\"Anaconda Logo\" width=\"200\">"
   ]
  },
  {
   "cell_type": "markdown",
   "metadata": {
    "slideshow": {
     "slide_type": "subslide"
    }
   },
   "source": [
    "### Anaconda - Installation\n",
    "\n",
    "Installation von Anaconda:\n",
    "\n",
    "1. Herunterladen der 64bit-Python 3.7-Version von [https://www.anaconda.com/distribution/](https://www.anaconda.com/distribution/) (ältere Versionen jeweils verfügbar unter [https://repo.continuum.io/archive/](https://repo.continuum.io/archive/), siehe dazu auch die Release-Notes unter [https://docs.anaconda.com/anaconda/reference/release-notes/](https://docs.anaconda.com/anaconda/reference/release-notes/))\n",
    "2. Ausführen des Installers und lokale Installation auf Festplatte"
   ]
  },
  {
   "cell_type": "markdown",
   "metadata": {
    "slideshow": {
     "slide_type": "slide"
    }
   },
   "source": [
    "## Einführung in grundlegende Begriffe\n",
    "### Skript\n",
    "\n",
    "* Ausführbare Textdatei mit (Python-) Code\n",
    "* Kann mit einem einfachen Texteditor bearbeitet werden (Notepad, ...)\n",
    "* Besser: Editor mit Syntax-Highlighting (Notepad++, Geany, Gedit, Pluma, Kate, KWrite ...)\n",
    "* **Noch besser**: Python-IDE (Integrated-Development-Environment; **Spyder**, Visual Studio Code, Visual Studio, ...)"
   ]
  },
  {
   "cell_type": "markdown",
   "metadata": {
    "slideshow": {
     "slide_type": "subslide"
    }
   },
   "source": [
    "### Compiler\n",
    "\n",
    "* Übersetzt einen (Python-) Quelltext in ein maschinenlesbares (Zwischen-) Format (Kompilat)\n",
    "* Gibt ggf. einen Fehler aus, falls der programmierte Code nicht (syntaktisch) korrekt ist ... *aber auch nicht immer!*\n",
    "\n"
   ]
  },
  {
   "cell_type": "markdown",
   "metadata": {
    "slideshow": {
     "slide_type": "subslide"
    }
   },
   "source": [
    "### Spezialfall Python - **Interpreter**\n",
    "\n",
    "* Übersetzt den Zwischencode des Compilers (Endung \\*.pyc) in einem vom realen Prozessor ausführbaren Bytecode (Maschinencode)\n",
    "* Vorteil: Der Code ist auf (fast) allen Architekturen ohne große Anpassungen lauﬀähig; es muss nur ein Python-Interpreter (in der passenden Version!) installiert sein\n",
    "* Nachteil: Die Ausführungsgeschwindigkeit ist meist langsamer als maschinenkompilierte Sprachen, wie C, C++, Fortran, ...\n",
    "* vgl. auch .NET-Runtime (Visual Basic.NET, C#, F#, ...), Java, ..."
   ]
  },
  {
   "cell_type": "markdown",
   "metadata": {
    "slideshow": {
     "slide_type": "subslide"
    }
   },
   "source": [
    "### Variable\n",
    "\n",
    "* Repräsentation eines Bereichs des Arbeitsspeicher im Computer\n",
    "* Besitzt einen *Namen*, *Typ* und *Wert*\n",
    "    * Name: besteht aus Buchstaben und Zahlen des lateinischen Alphabets (ohne Sonderzeichen, Zahl darf nicht am Anfang stehen!)\n",
    "    * Typ: legt fest, welche Daten in der Variable gespeichert werden kann; Zeichenketten (`string`), Ganzzahlen (`int`), Gleitkommazahlen (`ﬂoat`), ... Eine Typangabe ist in Python meist nicht notwendig! → **dynamische Typisierung!**\n",
    "    * Wert: Zuweisung eines bestimmten Wertes auf die Variable: `x = 5` → Name, Typ, Wert?"
   ]
  },
  {
   "cell_type": "markdown",
   "metadata": {
    "slideshow": {
     "slide_type": "subslide"
    }
   },
   "source": [
    "### Verschiedene Arten der Wertzuweisung\n",
    "\n",
    "* „normale“ Zuweisung: *Wert = Ausdruck*; `x = 5`\n",
    "* erweiterte Zuweisung: *Wert += Ausdruck*; `x += 10` (außerdem noch `-=`, `*=`, `/=`, `%=`)\n",
    "* mehrfache Zuweisung: *var1 = var2 = ... = Ausdruck*; `y = z = x`\n",
    "* Zuweisung als Liste: *var1, var2, var3 = ausdruck1, ausdruck2, ausdruck3*; `a,b,c = 1,2,3`"
   ]
  },
  {
   "cell_type": "code",
   "execution_count": 1,
   "metadata": {
    "slideshow": {
     "slide_type": "subslide"
    }
   },
   "outputs": [
    {
     "name": "stdout",
     "output_type": "stream",
     "text": [
      "5 3.0  Hallo\n",
      "[600.0, 23, 'Hallo']\n",
      "(2000, -1e-05, 'Hello World!', 34, 0.3)\n"
     ]
    }
   ],
   "source": [
    "a = 5 # int\n",
    "b = 3.0 # float\n",
    "c = 'Hallo' # str\n",
    "a, b, c = 5, 3.0,' Hallo'\n",
    "liste = [6e2, 23, 'Hallo']\n",
    "tupel = (2000, -1e-5, 'Hello World!', 34, 0.3)\n",
    "x, y, z = liste\n",
    "k, l, m, n, o = tupel\n",
    "print(a, b, c)\n",
    "print(liste)\n",
    "print(tupel)"
   ]
  },
  {
   "cell_type": "markdown",
   "metadata": {
    "slideshow": {
     "slide_type": "subslide"
    }
   },
   "source": [
    "### Funktion\n",
    "\n",
    "* „komplexe“ Variable\n",
    "* Besitzt einen *Namen*, *Rückgabetyp* und *Parameter*\n",
    "    * Name: besteht aus Buchstaben und Zahlen des lateinischen Alphabets (ohne Sonderzeichen, Zahl darf nicht am Anfang stehen!)\n",
    "    * Rückgabetyp: legt fest, welche Art Daten die Funktion an den Aufrufer zurück liefert\n",
    "    * Parameter: Übergabe bestimmter Parameter an die Funktion → In der Funktion als lokale Variablen"
   ]
  },
  {
   "cell_type": "code",
   "execution_count": 2,
   "metadata": {
    "slideshow": {
     "slide_type": "subslide"
    }
   },
   "outputs": [
    {
     "name": "stdout",
     "output_type": "stream",
     "text": [
      "3.00^2.00 = 9.00\n",
      "5^3 = 125\n"
     ]
    }
   ],
   "source": [
    "def funktion(a, b):\n",
    "    # a und b sind in der Funktion lokale Variablen --> nur von innerhalb der Funktion zugreifbar\n",
    "    # Typ des Rückgabewertes hängt vom Typ der Funktionsargumente ab\n",
    "    # Achtung: Potenzoperator muss für beide Datentypen definiert sein!\n",
    "\n",
    "    return a**b\n",
    "\n",
    "x, y = 3.0, 2.0 # float\n",
    "res = funktion(x, y) # res = 9.0\n",
    "print('%.2f^%.2f = %.2f' % (x, y, res)) # meine bevorzugte Art in Python zur Bildschirmausgabe\n",
    "                                        # (vgl. str.format, http://www.cplusplus.com/reference/cstdio/printf/)\n",
    "\n",
    "k, m = 5, 3 # int\n",
    "res1 = funktion(k, m)\n",
    "print('%d^%d = %d' % (k, m, res1))"
   ]
  },
  {
   "cell_type": "markdown",
   "metadata": {
    "slideshow": {
     "slide_type": "subslide"
    }
   },
   "source": [
    "### Schlüsselwörter\n",
    "\n",
    "* Sind reservierte Wörter, die eine spezielle Bedeutung in der Sprache haben\n",
    "* Können nicht als **Bezeichner** (Name einer Variablen, Name einer Funktion) verwendet werden"
   ]
  },
  {
   "cell_type": "code",
   "execution_count": 3,
   "metadata": {
    "slideshow": {
     "slide_type": "subslide"
    }
   },
   "outputs": [
    {
     "name": "stdout",
     "output_type": "stream",
     "text": [
      "False None True and as assert break class continue def del elif else except finally for from global if import in is lambda nonlocal not or pass raise return try while with yield "
     ]
    }
   ],
   "source": [
    "import keyword\n",
    "\n",
    "for kw in keyword.kwlist:\n",
    "    print('%s ' % kw, end='')"
   ]
  },
  {
   "cell_type": "markdown",
   "metadata": {
    "slideshow": {
     "slide_type": "subslide"
    }
   },
   "source": [
    "### Kommentare\n",
    "\n",
    "* beginnen in Python mit `#`\n",
    "* Alles was nach `#` in der Zeile folgt, wird vom Compiler / Interpreter ignoriert\n",
    "* Mehrzeilige Kommentare beginnen und enden `'''` mit oder `\"\"\"`"
   ]
  },
  {
   "cell_type": "code",
   "execution_count": 4,
   "metadata": {
    "slideshow": {
     "slide_type": "subslide"
    }
   },
   "outputs": [
    {
     "name": "stdout",
     "output_type": "stream",
     "text": [
      "1968.1634327680001\n",
      "Help on function power in module __main__:\n",
      "\n",
      "power(a, b)\n",
      "    Compute the value of a^b\n",
      "    \n",
      "    :param a: the base\n",
      "    :param b: the exponent\n",
      "    :returns: the value of a^b\n",
      "\n"
     ]
    }
   ],
   "source": [
    "# Kommentare beginnen immer mit '#'\n",
    "# Nach PEP287 sollten Funktionen so kommentiert werden --> https://www.python.org/dev/peps/pep-0287/\n",
    "def power(a, b):\n",
    "    \"\"\"\n",
    "    Compute the value of a^b\n",
    "    \n",
    "    :param a: the base\n",
    "    :param b: the exponent\n",
    "    :returns: the value of a^b\n",
    "    \"\"\"\n",
    "    return a**b\n",
    "    \n",
    "basis = 12.532 # float\n",
    "expo = 3 # int\n",
    "\n",
    "print(power(basis, expo))\n",
    "help(power) # automatisch generierte Hilfeinformation"
   ]
  },
  {
   "cell_type": "markdown",
   "metadata": {
    "slideshow": {
     "slide_type": "slide"
    }
   },
   "source": [
    "## Kontrollstrukturen\n",
    "### `if`-Anweisung\n",
    "\n",
    "* *Anweisungen* **MÜSSEN** eingerückt sein\n",
    "* Nur eine `if`-Bedingung möglich; oder eine `else`-Verzweigung (optional); oder auch `elif`-Verzweigungen\n",
    "* *Anweisungen* werden dann ausgeführt, wenn *Bedingung* wahr (`True`) ist!\n",
    "\n",
    "```python\n",
    "if Bedingung:\n",
    "    Anweisungen\n",
    "\n",
    "if Bedingung:\n",
    "    Anweisungen\n",
    "else:\n",
    "    Anweisungen\n",
    "```"
   ]
  },
  {
   "cell_type": "code",
   "execution_count": 5,
   "metadata": {
    "slideshow": {
     "slide_type": "subslide"
    }
   },
   "outputs": [
    {
     "name": "stdout",
     "output_type": "stream",
     "text": [
      "Alles OK :)\n"
     ]
    }
   ],
   "source": [
    "x = 5\n",
    "if x == 5:\n",
    "    print('Alles OK :)')\n",
    "else:\n",
    "    print('Nicht OK :(')"
   ]
  },
  {
   "cell_type": "markdown",
   "metadata": {
    "slideshow": {
     "slide_type": "subslide"
    }
   },
   "source": [
    "* Können ineinander verschachtelt werden! **EINRÜCKEN** nicht vergessen!\n",
    "* `elif`–Verzweigungen möglich; Abkürzung für `else if`! Beliebig viele `elif`-Verzweigungen, aber nur **EINE** `else`-Verzweigung am Ende!\n",
    "* Die aus C und anderen Sprachen bekannte `switch`-Anweisung muss in Python mit `if`- und `elif`-Bedingungen „nachgebaut“ werden!\n",
    "\n",
    "```python\n",
    "if Bedingung1:\n",
    "    Anweisungen\n",
    "elif Bedingung2:\n",
    "    Anweisungen\n",
    "else: # hier Alternative wenn Bedingungen 1 und 2 nicht passen\n",
    "    Anweisungen\n",
    "```"
   ]
  },
  {
   "cell_type": "markdown",
   "metadata": {
    "slideshow": {
     "slide_type": "slide"
    }
   },
   "source": [
    "## Schleifen\n",
    "### `for`-Schleife\n",
    "\n",
    "* *Anweisungen* **MÜSSEN** eingerückt sein\n",
    "* Durchlaufen von allen Elementen in *Sequenz*\n",
    "* Das aktuelle Element, welches die `for`-Schleife durchläuft steht in *Variable*\n",
    "\n",
    "```python\n",
    "for Variable in Sequenz:\n",
    "    Anweisungen\n",
    "```"
   ]
  },
  {
   "cell_type": "code",
   "execution_count": 1,
   "metadata": {
    "scrolled": false,
    "slideshow": {
     "slide_type": "subslide"
    }
   },
   "outputs": [
    {
     "name": "stdout",
     "output_type": "stream",
     "text": [
      "0\n",
      "1\n",
      "4\n",
      "9\n",
      "16\n",
      "25\n",
      "36\n",
      "49\n",
      "64\n",
      "81\n",
      " \n",
      "2.0\n",
      "3.0\n",
      "2\n",
      "Hallo Welt!\n"
     ]
    }
   ],
   "source": [
    "l = 10\n",
    "for i in range(l):\n",
    "    print(i**2)\n",
    "\n",
    "print(' ')\n",
    "liste = [2.0, 3.0, 2, 'Hallo Welt!']\n",
    "for elem in liste:\n",
    "    print(elem)"
   ]
  },
  {
   "cell_type": "markdown",
   "metadata": {
    "slideshow": {
     "slide_type": "subslide"
    }
   },
   "source": [
    "### `while`-Schleife\n",
    "\n",
    "* *Anweisungen* wieder einrücken\n",
    "* Führt «Anweisungen» so lange aus, wie *Bedingung* wahr (`True`) ist!\n",
    "* Bei schlecht deﬁnierten Bedingungen kann es zu Endlosschleifen kommen! Aber manchmal sind Endlosschleifen erwünscht!\n",
    "\n",
    "```python\n",
    "while (Bedingung):\n",
    "    Anweisungen\n",
    "```\n",
    "\n",
    "Fehlerhaftes Beispiel:\n",
    "\n",
    "```python\n",
    "x = 1\n",
    "while (x <= 10):\n",
    "    print(x**2)\n",
    "x += 1\n",
    "```"
   ]
  },
  {
   "cell_type": "code",
   "execution_count": 7,
   "metadata": {
    "slideshow": {
     "slide_type": "subslide"
    }
   },
   "outputs": [
    {
     "name": "stdout",
     "output_type": "stream",
     "text": [
      "1\n",
      "4\n",
      "9\n",
      "16\n",
      "25\n",
      "36\n",
      "49\n",
      "64\n",
      "81\n",
      "100\n"
     ]
    }
   ],
   "source": [
    "x = 1\n",
    "while (x <= 10):\n",
    "    print(x**2)\n",
    "    x += 1"
   ]
  },
  {
   "cell_type": "markdown",
   "metadata": {
    "slideshow": {
     "slide_type": "slide"
    }
   },
   "source": [
    "## Funktionen\n",
    "\n",
    "* „Unterprogramme“, die **Teilaufgaben** erledigen\n",
    "* Dienen zur **Strukturierung** des Codes\n",
    "* Helfen bei der **Wartbarkeit** und **Wiederverwendung** des Codes\n",
    "* Besitzen einen **Namen** und eine **Parameterliste** (diese kann leer sein)\n",
    "* Deﬁniert durch das Schlüsselwort `def`\n",
    "* Mittels `return` kann Wert an Aufrufer zurückgegeben werden\n",
    "\n",
    "```python\n",
    "def Name(Parameter, ...):\n",
    "    Anweisungen\n",
    "   \n",
    "# Aufruf erfolgt mit\n",
    "rueck = Name(Parameter)\n",
    "```"
   ]
  },
  {
   "cell_type": "markdown",
   "metadata": {
    "slideshow": {
     "slide_type": "subslide"
    }
   },
   "source": [
    "### IO-Funktionen\n",
    "\n",
    "In Python fest integrierte Funktionen zur Aus- und Eingabe auf dem Bildschirm:\n",
    "\n",
    "* Ausgabe auf dem Bildschirm: `print(var1, var2, ...)`\n",
    "* Eingabe bietet zwei Möglichkeiten\n",
    "    * `z = input([Prompt])` Liest eingegebenen Text ein und wandelt ihn in den passenden Typ um (Gleitkommazahl → Gleitkommazahl, Ganzzahl → Ganzzahl, String → String, ...)\n",
    "    * `txt = raw_input([Prompt])` Liest eingegebenen Text ein und gibt ihn als Zeichenkette (String) zurück"
   ]
  },
  {
   "cell_type": "markdown",
   "metadata": {
    "slideshow": {
     "slide_type": "slide"
    }
   },
   "source": [
    "## Modularisierung\n",
    "### Modul\n",
    "\n",
    "* Sammlungen von Funktionen, Klassen, ...\n",
    "* Module dienen zur Steigerung der **Wiederverwendbarkeit** des Codes und steigern die **Übersichtlichkeit**\n",
    "* Module **MÜSSEN** vor der Verwendung **IMPORTIERT** werden:\n",
    "    * z. Bsp.: `from math import sin, cos, pi`\n",
    "    * Man kann auch alles aus dem jeweiligen Modul importieren: `from math import *`\n",
    "    * Oder auch einen Alias verwenden: `import matplotlib.pyplot as plt`\n",
    "* Eigene Module schreiben ist möglich, erwünscht und einfach: Funktionen, die in ein Modul zusammengefasst werden sollen, in separate Datei abspeichern → Modulname ist Dateiname ohne Endung! → Eigenes Modul importieren über `import modul`"
   ]
  },
  {
   "cell_type": "code",
   "execution_count": 2,
   "metadata": {
    "slideshow": {
     "slide_type": "subslide"
    }
   },
   "outputs": [
    {
     "data": {
      "image/png": "[encoded data removed]",
      "text/plain": [
       "<matplotlib.figure.Figure at 0x7f28142392b0>"
      ]
     },
     "metadata": {},
     "output_type": "display_data"
    }
   ],
   "source": [
    "import matplotlib.pyplot as plt # plotting modul importieren\n",
    "import numpy as np # numerische Bibliothek laden\n",
    "\n",
    "t = np.linspace(0, 2*np.pi, 500)\n",
    "y1 = np.sin(t)\n",
    "y2 = np.cos(t)\n",
    "\n",
    "# plt.figure()\n",
    "plt.plot(t, y1, label='sin(t)')\n",
    "plt.plot(t, y2, label='cos(t)')\n",
    "plt.xlabel('t')\n",
    "plt.legend()\n",
    "plt.show()"
   ]
  },
  {
   "cell_type": "markdown",
   "metadata": {
    "slideshow": {
     "slide_type": "slide"
    }
   },
   "source": [
    "## Referenzen und `id()`\n",
    "### Was ist eine Referenz?\n",
    "\n",
    "* (Referenzen sind Variablen!)\n",
    "* Referenzen verweisen auf den Wert der Variablen im Speicher\n",
    "* Dazu ein Beispiel:"
   ]
  },
  {
   "cell_type": "code",
   "execution_count": 9,
   "metadata": {
    "slideshow": {
     "slide_type": "subslide"
    }
   },
   "outputs": [
    {
     "name": "stdout",
     "output_type": "stream",
     "text": [
      "a 10968928\n",
      "b 10968928\n",
      "a 10968928\n",
      "b 10969088\n"
     ]
    }
   ],
   "source": [
    "a = 5 # int\n",
    "b = a # int = 5\n",
    "\n",
    "# Speicher:\n",
    "print('a', id(a))\n",
    "print('b', id(b))\n",
    "\n",
    "# a und b REFERENZIEREN auf die gleiche INSTANZ im Speicher\n",
    "# bei der Zuweisung b = a wird also nur eine neue Referenz b angelegt,\n",
    "# welche den gleichen Speicherbereich wie a referenziert\n",
    "\n",
    "b = 10 # int\n",
    "# Speicher:\n",
    "print('a', id(a))\n",
    "print('b', id(b))"
   ]
  },
  {
   "cell_type": "code",
   "execution_count": 10,
   "metadata": {
    "slideshow": {
     "slide_type": "subslide"
    }
   },
   "outputs": [
    {
     "name": "stdout",
     "output_type": "stream",
     "text": [
      "Liste [291, 999, 677, 709, 250, 183, 72, 294, 912, 502]\n",
      "Tupel (291, 999, 677, 709, 250, 183, 72, 294, 912, 502)\n",
      "Liste [291, 999, 677, 709, 250, 183, 72, 294, 912, 502, 3, 5, 9]\n",
      "Tupel (291, 999, 677, 709, 250, 183, 72, 294, 912, 502)\n",
      "\n",
      "Help on method randint in module random:\n",
      "\n",
      "randint(a, b) method of random.Random instance\n",
      "    Return random integer in range [a, b], including both end points.\n",
      "\n"
     ]
    }
   ],
   "source": [
    "from random import randint\n",
    "\n",
    "def fun(liste: list, tupel: tuple):\n",
    "    liste.extend((3, 5, 9))\n",
    "    tupel += (3, 5, 9)\n",
    "\n",
    "liste = []\n",
    "for i in range(10):\n",
    "    liste.append(randint(1, 1000)) # Zufallszahl im Intervall zwischen 1 und 1000\n",
    "tupel = tuple(liste) # konvertiert liste nach tupel\n",
    "\n",
    "print('Liste', liste)\n",
    "print('Tupel', tupel)\n",
    "\n",
    "fun(liste, tupel)\n",
    "\n",
    "print('Liste', liste)\n",
    "print('Tupel', tupel)\n",
    "\n",
    "print()\n",
    "help(randint)"
   ]
  },
  {
   "cell_type": "markdown",
   "metadata": {
    "slideshow": {
     "slide_type": "slide"
    }
   },
   "source": [
    "## Literatur\n",
    "\n",
    "[Python programmieren lernen für Dummies](https://ebookcentral.proquest.com/lib/swb/detail.action?docID=4044621)\n",
    "\n",
    "[A Primer in Scientific Programming with Python](http://dx.doi.org/10.1007/978-3-642-30293-0)\n",
    "\n",
    "[Python 3](http://www.degruyter.com/view/product/469893)\n",
    "\n",
    "[A Gentle Introduction to Numerical Simulations with Python](https://doi.org/10.1007/978-3-319-32428-9)"
   ]
  },
  {
   "cell_type": "code",
   "execution_count": 43,
   "metadata": {
    "scrolled": true
   },
   "outputs": [
    {
     "name": "stdout",
     "output_type": "stream",
     "text": [
      "iteration=0, list=[659]\n",
      "iteration=1, list=[659, 553]\n",
      "iteration=2, list=[659, 553, 353]\n",
      "iteration=3, list=[659, 553, 353, 454]\n",
      "iteration=4, list=[659, 553, 353, 454, 375]\n",
      "iteration=5, list=[659, 553, 353, 454, 375, 899]\n",
      "iteration=6, list=[659, 553, 353, 454, 375, 899, 178]\n",
      "iteration=7, list=[659, 553, 353, 454, 375, 899, 178, 259]\n",
      "iteration=8, list=[659, 553, 353, 454, 375, 899, 178, 259, 61]\n",
      "iteration=9, list=[659, 553, 353, 454, 375, 899, 178, 259, 61, 855]\n"
     ]
    }
   ],
   "source": [
    "from random import randint\n",
    "\n",
    "def fun(liste: list, tupel: tuple):\n",
    "    liste.extend((3, 5, 9))\n",
    "    tupel += (3, 5, 9)\n",
    "\n",
    "liste = []\n",
    "for i in range(10):\n",
    "    liste.append(randint(1, 1000))\n",
    "    print(f'iteration={i}, list={liste}')# Zufallszahl im Intervall zwischen 1 und 1000\n",
    "#tupel = tuple(liste) # konvertiert liste nach tupel"
   ]
  },
  {
   "cell_type": "code",
   "execution_count": 38,
   "metadata": {},
   "outputs": [
    {
     "name": "stderr",
     "output_type": "stream",
     "text": [
      "UsageError: Line magic function `%help` not found.\n"
     ]
    }
   ],
   "source": [
    "f'a={f(x,n):d}, b={g(x,n):d}'"
   ]
  },
  {
   "cell_type": "code",
   "execution_count": 40,
   "metadata": {},
   "outputs": [
    {
     "name": "stdout",
     "output_type": "stream",
     "text": [
      "Help on class list in module builtins:\n",
      "\n",
      "class list(object)\n",
      " |  list(iterable=(), /)\n",
      " |  \n",
      " |  Built-in mutable sequence.\n",
      " |  \n",
      " |  If no argument is given, the constructor creates a new empty list.\n",
      " |  The argument must be an iterable if specified.\n",
      " |  \n",
      " |  Methods defined here:\n",
      " |  \n",
      " |  __add__(self, value, /)\n",
      " |      Return self+value.\n",
      " |  \n",
      " |  __contains__(self, key, /)\n",
      " |      Return key in self.\n",
      " |  \n",
      " |  __delitem__(self, key, /)\n",
      " |      Delete self[key].\n",
      " |  \n",
      " |  __eq__(self, value, /)\n",
      " |      Return self==value.\n",
      " |  \n",
      " |  __ge__(self, value, /)\n",
      " |      Return self>=value.\n",
      " |  \n",
      " |  __getattribute__(self, name, /)\n",
      " |      Return getattr(self, name).\n",
      " |  \n",
      " |  __getitem__(...)\n",
      " |      x.__getitem__(y) <==> x[y]\n",
      " |  \n",
      " |  __gt__(self, value, /)\n",
      " |      Return self>value.\n",
      " |  \n",
      " |  __iadd__(self, value, /)\n",
      " |      Implement self+=value.\n",
      " |  \n",
      " |  __imul__(self, value, /)\n",
      " |      Implement self*=value.\n",
      " |  \n",
      " |  __init__(self, /, *args, **kwargs)\n",
      " |      Initialize self.  See help(type(self)) for accurate signature.\n",
      " |  \n",
      " |  __iter__(self, /)\n",
      " |      Implement iter(self).\n",
      " |  \n",
      " |  __le__(self, value, /)\n",
      " |      Return self<=value.\n",
      " |  \n",
      " |  __len__(self, /)\n",
      " |      Return len(self).\n",
      " |  \n",
      " |  __lt__(self, value, /)\n",
      " |      Return self<value.\n",
      " |  \n",
      " |  __mul__(self, value, /)\n",
      " |      Return self*value.\n",
      " |  \n",
      " |  __ne__(self, value, /)\n",
      " |      Return self!=value.\n",
      " |  \n",
      " |  __repr__(self, /)\n",
      " |      Return repr(self).\n",
      " |  \n",
      " |  __reversed__(self, /)\n",
      " |      Return a reverse iterator over the list.\n",
      " |  \n",
      " |  __rmul__(self, value, /)\n",
      " |      Return value*self.\n",
      " |  \n",
      " |  __setitem__(self, key, value, /)\n",
      " |      Set self[key] to value.\n",
      " |  \n",
      " |  __sizeof__(self, /)\n",
      " |      Return the size of the list in memory, in bytes.\n",
      " |  \n",
      " |  append(self, object, /)\n",
      " |      Append object to the end of the list.\n",
      " |  \n",
      " |  clear(self, /)\n",
      " |      Remove all items from list.\n",
      " |  \n",
      " |  copy(self, /)\n",
      " |      Return a shallow copy of the list.\n",
      " |  \n",
      " |  count(self, value, /)\n",
      " |      Return number of occurrences of value.\n",
      " |  \n",
      " |  extend(self, iterable, /)\n",
      " |      Extend list by appending elements from the iterable.\n",
      " |  \n",
      " |  index(self, value, start=0, stop=9223372036854775807, /)\n",
      " |      Return first index of value.\n",
      " |      \n",
      " |      Raises ValueError if the value is not present.\n",
      " |  \n",
      " |  insert(self, index, object, /)\n",
      " |      Insert object before index.\n",
      " |  \n",
      " |  pop(self, index=-1, /)\n",
      " |      Remove and return item at index (default last).\n",
      " |      \n",
      " |      Raises IndexError if list is empty or index is out of range.\n",
      " |  \n",
      " |  remove(self, value, /)\n",
      " |      Remove first occurrence of value.\n",
      " |      \n",
      " |      Raises ValueError if the value is not present.\n",
      " |  \n",
      " |  reverse(self, /)\n",
      " |      Reverse *IN PLACE*.\n",
      " |  \n",
      " |  sort(self, /, *, key=None, reverse=False)\n",
      " |      Sort the list in ascending order and return None.\n",
      " |      \n",
      " |      The sort is in-place (i.e. the list itself is modified) and stable (i.e. the\n",
      " |      order of two equal elements is maintained).\n",
      " |      \n",
      " |      If a key function is given, apply it once to each list item and sort them,\n",
      " |      ascending or descending, according to their function values.\n",
      " |      \n",
      " |      The reverse flag can be set to sort in descending order.\n",
      " |  \n",
      " |  ----------------------------------------------------------------------\n",
      " |  Class methods defined here:\n",
      " |  \n",
      " |  __class_getitem__(...) from builtins.type\n",
      " |      See PEP 585\n",
      " |  \n",
      " |  ----------------------------------------------------------------------\n",
      " |  Static methods defined here:\n",
      " |  \n",
      " |  __new__(*args, **kwargs) from builtins.type\n",
      " |      Create and return a new object.  See help(type) for accurate signature.\n",
      " |  \n",
      " |  ----------------------------------------------------------------------\n",
      " |  Data and other attributes defined here:\n",
      " |  \n",
      " |  __hash__ = None\n",
      "\n"
     ]
    }
   ],
   "source": [
    "help(list)"
   ]
  }
 ],
 "metadata": {
  "celltoolbar": "Slideshow",
  "kernelspec": {
   "display_name": "Python 3 (ipykernel)",
   "language": "python",
   "name": "python3"
  },
  "language_info": {
   "codemirror_mode": {
    "name": "ipython",
    "version": 3
   },
   "file_extension": ".py",
   "mimetype": "text/x-python",
   "name": "python",
   "nbconvert_exporter": "python",
   "pygments_lexer": "ipython3",
   "version": "3.10.6"
  },
  "latex_metadata": {
   "affiliation": "Technische Universität Bergakakdemie Freiberg, Institut für Geotechnik, 09599 Freiberg, Deutschland",
   "author": "M. Sc. Roy Morgenstern",
   "title": "Blockkurs Python"
  }
 },
 "nbformat": 4,
 "nbformat_minor": 4
}
