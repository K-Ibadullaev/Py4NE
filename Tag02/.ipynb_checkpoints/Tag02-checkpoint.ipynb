{
 "cells": [
  {
   "cell_type": "markdown",
   "metadata": {
    "slideshow": {
     "slide_type": "slide"
    }
   },
   "source": [
    "# Symbolisches Rechnen mit Python\n",
    "\n",
    "M. Sc. Roy Morgenstern\n",
    "\n",
    "Institut für Geotechnik\n",
    "\n",
    "TU Bergakademie Freiberg\n",
    "\n",
    "<!-- ![logo_feme](logo_feme.png) -->\n",
    "<img src=\"./images/Logo_FM_neu.png\" alt=\"Logo FEME\" width=\"200\">"
   ]
  },
  {
   "cell_type": "markdown",
   "metadata": {
    "slideshow": {
     "slide_type": "slide"
    }
   },
   "source": [
    "## Symbolisches Rechnen\n",
    "\n",
    "* Rechnen mit einem *Computer-Algebra-System (CAS)*\n",
    "* In Python über das Modul `sympy` realisiert\n",
    "\n",
    "### Umsetzung in Python\n",
    "\n",
    "* Modul importieren ```import sympy as sp```\n",
    "* *sympy* rechnet mit **Symbolen**, diese müssen erzeugt werden: `sp.Symbol` oder `sp.symbols` → Groß- und Kleinschreibung beachten!\n",
    "* eigene Funktionen anlegen: `sp.Function('f')(x)`\n",
    "* Differenzieren: `sp.Diff(<<Ausdruck>>, <<Variable>>)`\n",
    "* Ausdrücke substituieren: `sp.Subs(<<Alt>>, <<Neu>>)` → funktioniert auch mit mehreren Elementen gleichzeitig (höhere Ableitungen zuerst)!\n",
    "* Matrizen anlegen: `sp.Matrix`\n",
    "* Integration: `sp.Integrate`\n",
    "* Grenzwerte bestimmen: `sp.limit`\n",
    "* stückweise definierte Funktionen: `sp.Piecewise`\n",
    "\n",
    "* Dokumentation abrufbar unter [https://docs.sympy.org/latest/index.html](https://docs.sympy.org/latest/index.html)"
   ]
  },
  {
   "cell_type": "markdown",
   "metadata": {
    "slideshow": {
     "slide_type": "subslide"
    }
   },
   "source": [
    "**Symbolische Formeln numerisch Auswerten**\n",
    "\n",
    "`sp.lambdify` erzeugt eine Python-Funktion, die mit beliebigen Werten aufgerufen werden kann.\n",
    "\n",
    "Dazu ein Beispiel:"
   ]
  },
  {
   "cell_type": "code",
   "execution_count": 10,
   "metadata": {
    "slideshow": {
     "slide_type": "subslide"
    }
   },
   "outputs": [
    {
     "name": "stdout",
     "output_type": "stream",
     "text": [
      "a*sin(b*x)\n",
      "a*b*cos(b*x)\n"
     ]
    }
   ],
   "source": [
    "import sympy as sp # sympy-Modul importieren als Alias import\n",
    "\n",
    "# Symbole anlegen\n",
    "a, b, x = sp.symbols('a, b, x')\n",
    "\n",
    "# alternativ:\n",
    "# a, b, x = sp.symbols(['a', 'b', 'x'])\n",
    "# oder aber auch\n",
    "# a = sp.Symbol('a')\n",
    "# b = sp.Symbol('c')\n",
    "# x = sp.Symbol('x')\n",
    "\n",
    "f = a*sp.sin(b*x)  # Funktion f anlegen\n",
    "df_xa = f.diff(x)  # Funktion f nach x einmal differenzieren\n",
    "\n",
    "print(f)\n",
    "print(df_xa)"
   ]
  },
  {
   "cell_type": "code",
   "execution_count": 11,
   "metadata": {
    "slideshow": {
     "slide_type": "subslide"
    }
   },
   "outputs": [
    {
     "name": "stdout",
     "output_type": "stream",
     "text": [
      "f(1.57)  = -1.93\n",
      "f'(1.57) = -32.81\n"
     ]
    }
   ],
   "source": [
    "# aufrufbare Funktionen generieren\n",
    "import math # wichtige Mathe-Funktionen --> PI\n",
    "\n",
    "f_xa_fnc = sp.lambdify((a, b, x), f, modules='numpy')\n",
    "df_xa_fnc = sp.lambdify((a, b, x), df_xa, modules='numpy')\n",
    "\n",
    "A = 2.0\n",
    "F = 10.0 # Hz\n",
    "B = 2*math.pi*F\n",
    "X = 0.5*math.pi\n",
    "\n",
    "print(\"f(%.2f)  = %.2f\" % (X, f_xa_fnc(A, B, X)))\n",
    "print(\"f'(%.2f) = %.2f\" % (X, df_xa_fnc(A, B, X)))"
   ]
  },
  {
   "cell_type": "code",
   "execution_count": 16,
   "metadata": {
    "slideshow": {
     "slide_type": "subslide"
    }
   },
   "outputs": [
    {
     "data": {
      "text/plain": [
       "<matplotlib.legend.Legend at 0x1cd68c64808>"
      ]
     },
     "execution_count": 16,
     "metadata": {},
     "output_type": "execute_result"
    },
    {
     "data": {
      "image/png": "[encoded data removed]",
      "text/plain": [
       "<Figure size 432x288 with 1 Axes>"
      ]
     },
     "metadata": {
      "needs_background": "light"
     },
     "output_type": "display_data"
    }
   ],
   "source": [
    "# oder etwas anders mit grafischer Darstellung\n",
    "from numpy import linspace\n",
    "from pylab import *  # kein guter Stil, aber dafür reicht es!\n",
    "\n",
    "xi = linspace(0, 1, 1000)\n",
    "plot(xi, f_xa_fnc(A, B, xi), label='f')\n",
    "plot(xi, df_xa_fnc(A, B, xi), label=\"f'\")\n",
    "legend(loc='lower right')"
   ]
  },
  {
   "cell_type": "markdown",
   "metadata": {
    "slideshow": {
     "slide_type": "slide"
    }
   },
   "source": [
    "## Tafelübung `Newton-Verfahren`\n",
    "\n",
    "Das Newton-Verfahren vom Vortag soll nun auf beliebige Funktionen erweitert werden.\n",
    "\n",
    "Für das Newton-Verfahren sind folgende Dinge notwendig:\n",
    "\n",
    "* Funktionsgleichung f\n",
    "* Ableitung f'\n",
    "* Startwert x0"
   ]
  },
  {
   "cell_type": "code",
   "execution_count": 19,
   "metadata": {
    "slideshow": {
     "slide_type": "subslide"
    }
   },
   "outputs": [
    {
     "name": "stdout",
     "output_type": "stream",
     "text": [
      "Funktionsgleichung\n"
     ]
    },
    {
     "data": {
      "image/png": "[encoded data removed]",
      "text/latex": [
       "$\\displaystyle - \\frac{a}{x^{3}} + 4 x^{2} + 1$"
      ],
      "text/plain": [
       "  a       2    \n",
       "- ── + 4⋅x  + 1\n",
       "   3           \n",
       "  x            "
      ]
     },
     "execution_count": 19,
     "metadata": {},
     "output_type": "execute_result"
    }
   ],
   "source": [
    "import sympy as sp  # Sympy als Alias-Import\n",
    "sp.init_printing(use_unicode=True)\n",
    "\n",
    "# Symbole anlegen\n",
    "a, x = sp.symbols('a, x')\n",
    "\n",
    "# Funktionen\n",
    "fx = 1-a/x**3 + 4*x**2\n",
    "fx1 = sp.diff(fx, x)\n",
    "\n",
    "print('Funktionsgleichung')\n",
    "fx"
   ]
  },
  {
   "cell_type": "code",
   "execution_count": 20,
   "metadata": {
    "slideshow": {
     "slide_type": "subslide"
    }
   },
   "outputs": [
    {
     "name": "stdout",
     "output_type": "stream",
     "text": [
      "Ableitung\n"
     ]
    },
    {
     "data": {
      "image/png": "[encoded data removed]",
      "text/latex": [
       "$\\displaystyle \\frac{3 a}{x^{4}} + 8 x$"
      ],
      "text/plain": [
       "3⋅a      \n",
       "─── + 8⋅x\n",
       "  4      \n",
       " x       "
      ]
     },
     "execution_count": 20,
     "metadata": {},
     "output_type": "execute_result"
    }
   ],
   "source": [
    "print('Ableitung')\n",
    "fx1"
   ]
  },
  {
   "cell_type": "code",
   "execution_count": 21,
   "metadata": {
    "slideshow": {
     "slide_type": "subslide"
    }
   },
   "outputs": [
    {
     "name": "stdout",
     "output_type": "stream",
     "text": [
      "Funktionsgleichung\n"
     ]
    },
    {
     "data": {
      "image/png": "[encoded data removed]",
      "text/latex": [
       "$\\displaystyle 4 x^{2} + 1 - \\frac{3.0}{x^{3}}$"
      ],
      "text/plain": [
       "   2       3.0\n",
       "4⋅x  + 1 - ───\n",
       "             3\n",
       "            x "
      ]
     },
     "execution_count": 21,
     "metadata": {},
     "output_type": "execute_result"
    }
   ],
   "source": [
    "a_val = 3.0  # Wert für den Parameter a\n",
    "\n",
    "params_dict = {a: a_val}  # dem Symbol a wird der Wert a_val zugeordnet\n",
    "fx_a = fx.subs(params_dict)\n",
    "fx1_a = fx1.subs(params_dict)\n",
    "\n",
    "print('Funktionsgleichung')\n",
    "fx_a"
   ]
  },
  {
   "cell_type": "code",
   "execution_count": 22,
   "metadata": {
    "slideshow": {
     "slide_type": "subslide"
    }
   },
   "outputs": [
    {
     "name": "stdout",
     "output_type": "stream",
     "text": [
      "Ableitung\n"
     ]
    },
    {
     "data": {
      "image/png": "[encoded data removed]",
      "text/latex": [
       "$\\displaystyle 8 x + \\frac{9.0}{x^{4}}$"
      ],
      "text/plain": [
       "      9.0\n",
       "8⋅x + ───\n",
       "        4\n",
       "       x "
      ]
     },
     "execution_count": 22,
     "metadata": {},
     "output_type": "execute_result"
    }
   ],
   "source": [
    "print('Ableitung')\n",
    "fx1_a"
   ]
  },
  {
   "cell_type": "code",
   "execution_count": 44,
   "metadata": {
    "slideshow": {
     "slide_type": "subslide"
    }
   },
   "outputs": [
    {
     "name": "stdout",
     "output_type": "stream",
     "text": [
      "Test 1 0.8940798793848858 5 7.632842136118256e-10\n",
      "Test 2 0.8940798793848858 7 1.6796245505545926e-09\n",
      "Sympy [0.894079879384886, -0.720025064339369 - 0.583207774024977*I, -0.720025064339369 + 0.583207774024977*I, 0.272985124646926 - 0.950007936405106*I, 0.272985124646926 + 0.950007936405106*I]\n"
     ]
    }
   ],
   "source": [
    "# aufrufbare Funktionen erzeugen\n",
    "fxfnc = sp.lambdify(x, fx_a, modules='numpy')\n",
    "fx1fnc = sp.lambdify(x, fx1_a, modules='numpy')\n",
    "\n",
    "def newton(fx, fx1, x0, fehler=1e-6):\n",
    "    # fx, fx1 lokale variablen der Funktion newton\n",
    "    x1 = x0\n",
    "    x2 = x1 - fx(x1)/fx1(x1) # erste Iteration\n",
    "    it = 1\n",
    "    \n",
    "    conv = []\n",
    "    conv.append([it, abs(x2-x1)])\n",
    "    \n",
    "    while (abs(x2-x1)>=fehler):\n",
    "        x1 = x2\n",
    "        x2 = x1 - fx(x1)/fx1(x1) # folgende Iteration\n",
    "        it += 1\n",
    "        conv.append([it, abs(x2-x1)])\n",
    "    return (x2, it, abs(x2-x1), conv)\n",
    "\n",
    "x1, it1, err1, c1 = newton(fxfnc, fx1fnc, a_val/2, 1e-8)\n",
    "print('Test 1', x1, it1, err1)\n",
    "\n",
    "x2, it2, err2, c2 = newton(fxfnc, fx1fnc, a_val*2, 1e-8)\n",
    "print('Test 2', x2, it2, err2)\n",
    "\n",
    "# vergleich mit sympy solve\n",
    "from sympy.solvers import solve\n",
    "print('Sympy', solve(fx_a)) # auch mit komplexen Lösungen --> sp.Symbol('x', real=True)"
   ]
  },
  {
   "cell_type": "code",
   "execution_count": 45,
   "metadata": {
    "slideshow": {
     "slide_type": "subslide"
    }
   },
   "outputs": [
    {
     "data": {
      "text/plain": [
       "Text(0, 0.5, 'y')"
      ]
     },
     "execution_count": 45,
     "metadata": {},
     "output_type": "execute_result"
    },
    {
     "data": {
      "image/png": "[encoded data removed]",
      "text/plain": [
       "<Figure size 432x288 with 1 Axes>"
      ]
     },
     "metadata": {
      "needs_background": "light"
     },
     "output_type": "display_data"
    }
   ],
   "source": [
    "# Funktionen anzeigen\n",
    "from pylab import *\n",
    "from numpy import array, linspace\n",
    "\n",
    "xi = linspace(0.1, 10, 1000)\n",
    "fi = fxfnc(xi)\n",
    "f1i = fx1fnc(xi)\n",
    "\n",
    "semilogy(xi, fi, label='f')\n",
    "semilogy(xi, f1i, label=\"f'\")\n",
    "legend(loc='lower left')\n",
    "xlabel('x')\n",
    "ylabel('y')"
   ]
  },
  {
   "cell_type": "code",
   "execution_count": 46,
   "metadata": {
    "slideshow": {
     "slide_type": "subslide"
    }
   },
   "outputs": [
    {
     "data": {
      "text/plain": [
       "Text(0, 0.5, 'Fehler')"
      ]
     },
     "execution_count": 46,
     "metadata": {},
     "output_type": "execute_result"
    },
    {
     "data": {
      "image/png": "[encoded data removed]",
      "text/plain": [
       "<Figure size 432x288 with 1 Axes>"
      ]
     },
     "metadata": {
      "needs_background": "light"
     },
     "output_type": "display_data"
    }
   ],
   "source": [
    "# Konvergenzplots\n",
    "c1 = array(c1)\n",
    "c2 = array(c2)\n",
    "semilogy(c1[:, 0], c1[:, 1], label='Test 1')\n",
    "semilogy(c2[:, 0], c2[:, 1], label='Test 2')\n",
    "legend(loc='lower left')\n",
    "xlabel('Iteration')\n",
    "ylabel('Fehler')"
   ]
  },
  {
   "cell_type": "markdown",
   "metadata": {
    "slideshow": {
     "slide_type": "slide"
    }
   },
   "source": [
    "## Übungsaufgabe\n",
    "\n",
    "Berechne die Bewegungsgleichung eines mathematischen Pendels mittels des Lagrange-Formalismus. Dabei soll $\\Phi$ eine generalisierte Koordinate sein und das Pendel die Masse $m$ und die Länge $l$ besitzen.\n",
    "\n",
    "**Mathematisches Pendel:**\n",
    "\n",
    "* Kinetische Energie: $T = \\frac{1}{2} m \\left( l \\cdot \\dot{\\Phi} \\right)^2$\n",
    "* Potentielle Energie: $U = m g l \\left( 1 - \\cos \\Phi \\right)$\n",
    "* Lagrange-Gleichung: $L = T - U$\n",
    "* Euler-Lagrange-Gleichung: $\\frac{d}{dt}\\frac{\\partial L}{\\partial \\dot{\\Phi}} - \\frac{\\partial L}{\\partial \\Phi} = 0$\n"
   ]
  },
  {
   "cell_type": "markdown",
   "metadata": {
    "slideshow": {
     "slide_type": "subslide"
    }
   },
   "source": [
    "### Lösung\n",
    "\n",
    "1. Symbole für alle benötigten Parameter anlegen\n",
    "2. Zeitfunktion $\\Phi(t)$ anlegen\n",
    "3. Ableitung $\\Phi'(t)$ bilden\n",
    "4. $T$, $U$ und $L$ berechnen\n",
    "5. Hilfsterme für die Lagrange-Funktion erzeugen\n",
    "6. Bewegungsgleichung aufstellen\n",
    "7. Auflösen der Bewegungslgeichung nach $\\Phi(t)$\n",
    "8. Berechnete Lösung anzeigen und numerische Approximation für $A = 1$ und $\\omega = 0.5$ bestimmen\n",
    "\n",
    "### Hinweise\n",
    "\n",
    "* Kleinwinkelnäherung: $\\sin \\Phi \\approx \\Phi$ für kleine Winkel $\\Phi < 10^\\circ$\n",
    "* Anfangsbedingung und Randbedingung: $\\Phi(0) = A$ und $\\Phi'(0) = 0$"
   ]
  },
  {
   "cell_type": "code",
   "execution_count": 53,
   "metadata": {
    "slideshow": {
     "slide_type": "subslide"
    }
   },
   "outputs": [
    {
     "name": "stdout",
     "output_type": "stream",
     "text": [
      "Lagrange-Funktion\n",
      "                                            2\n",
      "                              2   ⎛d       ⎞ \n",
      "-g⋅l⋅m⋅(1 - cos(φ(t))) + 0.5⋅l ⋅m⋅⎜──(φ(t))⎟ \n",
      "                                  ⎝dt      ⎠ \n",
      "Euler-Lagrange-Gleichung\n",
      "                             2      \n",
      "                       2    d       \n",
      "g⋅l⋅m⋅sin(φ(t)) + 1.0⋅l ⋅m⋅───(φ(t))\n",
      "                             2      \n",
      "                           dt       \n",
      "Kleinwinkelnäherung\n",
      "                        2      \n",
      "                  2    d       \n",
      "g⋅l⋅m⋅φ(t) + 1.0⋅l ⋅m⋅───(φ(t))\n",
      "                        2      \n",
      "                      dt       \n",
      "Allgemeine Lösung\n",
      "C₁⋅sin(1.0⋅ω⋅t) + C₂⋅cos(1.0⋅ω⋅t)\n",
      "Allgemeine Ableitung\n",
      "1.0⋅C₁⋅ω⋅cos(1.0⋅ω⋅t) - 1.0⋅C₂⋅ω⋅sin(1.0⋅ω⋅t)\n",
      "Spezielle Lösung\n",
      "A⋅cos(1.0⋅ω⋅t)\n"
     ]
    }
   ],
   "source": [
    "# benötigte Module einbinden\n",
    "import sympy as sp\n",
    "import numpy as np\n",
    "import matplotlib.pyplot as plt\n",
    "sp.init_printing(use_unicode=True)\n",
    "\n",
    "def lagrange():\n",
    "    # Symbole anlegen\n",
    "    m, g, le = sp.symbols('m, g, l', real=True, nonnegative=True, nonzero=True)  # Assumptions\n",
    "    A = sp.Symbol('A', real=True)\n",
    "    t = sp.Symbol('t', real=True)\n",
    "    \n",
    "    # funktionen anlegen\n",
    "    phi = sp.Function('phi', real=True)  # gleiche Assumptions wie oben\n",
    "    phidt = phi(t).diff(t)\n",
    "    \n",
    "    Ep = m*g*le*(1-sp.cos(phi(t))) # potentielle Energie\n",
    "    Ek = 0.5*m*(le*phidt)**2  # kinetische Energie\n",
    "    \n",
    "    L = Ek - Ep  # Lagrange-Funktion\n",
    "    Eq = L.diff(phidt).diff(t) - L.diff(phi(t))  # Euler-Lagrange-Gleichung\n",
    "    \n",
    "    print('Lagrange-Funktion')\n",
    "    sp.pprint(L)\n",
    "    print('Euler-Lagrange-Gleichung')\n",
    "    sp.pprint(Eq)\n",
    "    \n",
    "    # Kleinwinkelnäherung (Auslenkung < 10°)\n",
    "    rew = {sp.sin(phi(t)): phi(t)}\n",
    "    Eq1 = Eq.subs(rew)\n",
    "    \n",
    "    print('Kleinwinkelnäherung')\n",
    "    sp.pprint(Eq1)\n",
    "    \n",
    "    sol = sp.dsolve(Eq1, phi(t))  # differential solve nach phi(t)\n",
    "    \n",
    "    # Abkürzungen\n",
    "    om = sp.Symbol('omega', real=True)\n",
    "    rew = {sp.sqrt(g/le): om}\n",
    "    allg = sol.subs(rew).simplify()\n",
    "    \n",
    "    # Lösung aus dem Equation-Object holen\n",
    "    phit = allg.rhs  # right-hand-side\n",
    "    phidt = phit.diff(t)\n",
    "    \n",
    "    print('Allgemeine Lösung')\n",
    "    sp.pprint(phit)\n",
    "    \n",
    "    print('Allgemeine Ableitung')\n",
    "    sp.pprint(phidt)\n",
    "    \n",
    "    # Konstanten C1 und C2\n",
    "    C1, C2 = sp.symbols('C1, C2')\n",
    "    \n",
    "    # RB und AB\n",
    "    # phi(0) = A\n",
    "    # phi'(0) = 0\n",
    "\n",
    "    # Auflösung nach C1 und C2\n",
    "    sc = sp.solve((phit.subs(t, 0) - A, phidt.subs(t, 0)), (C1, C2))\n",
    "    \n",
    "    sol = phit.subs(sc)\n",
    "    print('Spezielle Lösung')\n",
    "    sp.pprint(sol)\n",
    "    \n",
    "    # Funktionsobjekte generieren\n",
    "    phit_f = sp.lambdify((A, om, t), sol, 'numpy', dummify=False)\n",
    "    phidt_f = sp.lambdify((A, om, t), sol.diff(t), 'numpy', dummify=False)\n",
    "    phiddt_f = sp.lambdify((A, om, t), sol.diff(t, 2), 'numpy', dummify=False)\n",
    "    \n",
    "    return (phit_f, phidt_f, phiddt_f)\n",
    "\n",
    "phit_f, phidt_f, phiddt_f = lagrange()\n",
    "    "
   ]
  },
  {
   "cell_type": "code",
   "execution_count": 58,
   "metadata": {
    "slideshow": {
     "slide_type": "subslide"
    }
   },
   "outputs": [
    {
     "data": {
      "image/png": "[encoded data removed]",
      "text/plain": [
       "<Figure size 432x288 with 1 Axes>"
      ]
     },
     "metadata": {
      "needs_background": "light"
     },
     "output_type": "display_data"
    },
    {
     "data": {
      "image/png": "[encoded data removed]",
      "text/plain": [
       "<Figure size 432x288 with 1 Axes>"
      ]
     },
     "metadata": {
      "needs_background": "light"
     },
     "output_type": "display_data"
    }
   ],
   "source": [
    "# die Lösung plotten\n",
    "def plotsim(phitf, phidtf, phiddtf, omega=1.0, A=0.5, tend=2.0):\n",
    "    fig, ax = plt.subplots(1, 1)\n",
    "    tvec = np.linspace(0, tend, 1000)\n",
    "    \n",
    "    ax.plot(tvec, phitf(A, omega, tvec), label=r'$\\phi(t)$')\n",
    "    ax.plot(tvec, phidtf(A, omega, tvec), label=r\"$\\phi'(t)$\")\n",
    "    ax.plot(tvec, phiddtf(A, omega, tvec), label=r\"$\\phi''(t)$\")\n",
    "    ax.legend(loc='upper right')\n",
    "    ax.set_xlabel('t')\n",
    "\n",
    "plotsim(phit_f, phidt_f, phiddt_f, omega=0.5, A=1.0)  # omega = 2*pi*f --> f = 0.5/(2*pi) = 0.08 Hz\n",
    "plotsim(phit_f, phidt_f, phiddt_f, omega=2*np.pi*1, A=1.0)  # f = 1 Hz"
   ]
  },
  {
   "cell_type": "code",
   "execution_count": null,
   "metadata": {},
   "outputs": [],
   "source": []
  }
 ],
 "metadata": {
  "kernelspec": {
   "display_name": "Python 3 (ipykernel)",
   "language": "python",
   "name": "python3"
  },
  "language_info": {
   "codemirror_mode": {
    "name": "ipython",
    "version": 3
   },
   "file_extension": ".py",
   "mimetype": "text/x-python",
   "name": "python",
   "nbconvert_exporter": "python",
   "pygments_lexer": "ipython3",
   "version": "3.10.6"
  }
 },
 "nbformat": 4,
 "nbformat_minor": 4
}
